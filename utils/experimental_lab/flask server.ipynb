{
 "cells": [
  {
   "cell_type": "code",
   "execution_count": null,
   "metadata": {
    "collapsed": true
   },
   "outputs": [],
   "source": [
    "from flask import Flask\n",
    "import datetime as dt"
   ]
  },
  {
   "cell_type": "code",
   "execution_count": null,
   "metadata": {
    "collapsed": false
   },
   "outputs": [
    {
     "name": "stderr",
     "output_type": "stream",
     "text": [
      " * Running on http://127.0.0.1:5000/ (Press CTRL+C to quit)\n"
     ]
    }
   ],
   "source": [
    "app = Flask(__name__)\n",
    "\n",
    "ROUND = 0\n",
    "data = {0:set()}\n",
    "log = []\n",
    "\n",
    "@app.route(\"/state/<username>\")\n",
    "def change_state(username):\n",
    "    global data\n",
    "    global log\n",
    "    print('{} is ready!'.format(username))\n",
    "    data[ROUND].update([username])\n",
    "    log.append([username, dt.datetime.now()])\n",
    "    \n",
    "    # write to file\n",
    "    \n",
    "    \n",
    "    return \"\", 200\n",
    "\n",
    "@app.route(\"/step/<int:step>\")\n",
    "def change_step(step):\n",
    "    global ROUND\n",
    "    ROUND = step\n",
    "    global data\n",
    "    if not ROUND in data.keys():\n",
    "        data[ROUND] = set()\n",
    "    return str(step), 200\n",
    "\n",
    "@app.route(\"/step/get/<int:step>\")\n",
    "def get_step(step):\n",
    "    return str(data.get(ROUND, None)), 200\n",
    "\n",
    "@app.errorhandler(404)\n",
    "def page_not_found(error):\n",
    "    return str(error), 404 \n",
    "\n",
    "app.run()"
   ]
  }
 ],
 "metadata": {
  "kernelspec": {
   "display_name": "Python [conda root]",
   "language": "python",
   "name": "conda-root-py"
  },
  "language_info": {
   "codemirror_mode": {
    "name": "ipython",
    "version": 3
   },
   "file_extension": ".py",
   "mimetype": "text/x-python",
   "name": "python",
   "nbconvert_exporter": "python",
   "pygments_lexer": "ipython3",
   "version": "3.5.2"
  }
 },
 "nbformat": 4,
 "nbformat_minor": 1
}
