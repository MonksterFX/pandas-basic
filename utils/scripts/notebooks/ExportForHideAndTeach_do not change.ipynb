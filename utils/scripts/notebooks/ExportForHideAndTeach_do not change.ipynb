{
 "cells": [
  {
   "cell_type": "code",
   "execution_count": 5,
   "metadata": {
    "practice_cell": false,
    "teaching_cell": false
   },
   "outputs": [],
   "source": [
    "import nbformat\n",
    "import os\n",
    "from nbconvert.preprocessors import ExecutePreprocessor"
   ]
  },
  {
   "cell_type": "code",
   "execution_count": 6,
   "metadata": {},
   "outputs": [],
   "source": [
    "# file_name = \"/Desktop/pandas-basic/teilnehmer/loesung/01UE - Einstieg - Loesung.ipynb\"\n",
    "DIRS = ['/Desktop/pandas-basic/teilnehmer/loesung', ]\n",
    "        #'/Desktop/pandas-basic/referent/']"
   ]
  },
  {
   "cell_type": "code",
   "execution_count": 7,
   "metadata": {
    "practice_cell": false
   },
   "outputs": [],
   "source": [
    "# Options\n",
    "LAST_ROW_STANDING = True # delete all successive code cell but leave one for starting"
   ]
  },
  {
   "cell_type": "code",
   "execution_count": 8,
   "metadata": {
    "teaching_cell": false
   },
   "outputs": [],
   "source": [
    "def open_nb(filepath):\n",
    "    with open(filepath, encoding='utf-8') as f:\n",
    "        nb = nbformat.read(f, as_version=4)\n",
    "        \n",
    "    return nb\n",
    "\n",
    "def save_nb(filepath, nb):\n",
    "    # check if dir exist\n",
    "    if not os.path.isdir(os.path.dirname(filepath) + '/clean'):\n",
    "        os.mkdir(os.path.dirname(filepath) + '/clean')\n",
    "\n",
    "    with open(os.path.dirname(filepath) + '/clean/' + os.path.basename(filepath).replace(' - Loesung', ''), 'w', encoding='utf-8') as f:\n",
    "        nbformat.write(nb, f)"
   ]
  },
  {
   "cell_type": "code",
   "execution_count": 9,
   "metadata": {
    "teaching_cell": false
   },
   "outputs": [],
   "source": [
    "def process_cells(nb):\n",
    "    cells = []\n",
    "    last_cell_cleared = False\n",
    "\n",
    "    for c in nb.get('cells'):\n",
    "        if c.get('cell_type') == 'code':\n",
    "            # check metadata if cell is teaching cell\n",
    "            if c.get('metadata', False) and \\\n",
    "            c.get('metadata').get('practice_cell', False):\n",
    "\n",
    "                cells.append(c)\n",
    "                last_cell_cleared = False\n",
    "\n",
    "            else:\n",
    "                # decide if cell will be removed\n",
    "                if not last_cell_cleared:\n",
    "                    cells.append(nbformat.v4.new_code_cell())\n",
    "                    last_cell_cleared = True\n",
    "\n",
    "        else:\n",
    "            cells.append(c)\n",
    "            last_cell_cleared = False\n",
    "    nb['cells'] = cells\n",
    "    return nb"
   ]
  },
  {
   "cell_type": "code",
   "execution_count": 10,
   "metadata": {},
   "outputs": [],
   "source": [
    "for d in DIRS:\n",
    "    for entry in os.scandir(d):\n",
    "        if entry.is_file() and entry.name.endswith(\".ipynb\"):\n",
    "            nb = open_nb(entry.path)\n",
    "            nb = process_cells(nb)\n",
    "            save_nb(entry.path, nb)\n",
    "            nb = None"
   ]
  }
 ],
 "metadata": {
  "celltoolbar": "Raw Cell Format",
  "kernelspec": {
   "display_name": "Python 3",
   "language": "python",
   "name": "python3"
  },
  "language_info": {
   "codemirror_mode": {
    "name": "ipython",
    "version": 3
   },
   "file_extension": ".py",
   "mimetype": "text/x-python",
   "name": "python",
   "nbconvert_exporter": "python",
   "pygments_lexer": "ipython3",
   "version": "3.6.7"
  }
 },
 "nbformat": 4,
 "nbformat_minor": 4
}
