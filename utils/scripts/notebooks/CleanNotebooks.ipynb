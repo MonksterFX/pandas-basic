{
 "cells": [
  {
   "cell_type": "markdown",
   "metadata": {},
   "source": [
    "# Usefull Links\n",
    "https://nbconvert.readthedocs.io/en/latest/removing_cells.html"
   ]
  },
  {
   "cell_type": "markdown",
   "metadata": {},
   "source": [
    "# Main"
   ]
  },
  {
   "cell_type": "code",
   "execution_count": 81,
   "metadata": {},
   "outputs": [],
   "source": [
    "def open_nb(path, file_name):\n",
    "    with open(path_norm(path, file_name)) as f:\n",
    "        return nbf.read(f, as_version=4)\n",
    "    \n",
    "def save_nb(nb, path, file_name, post_fix='',):\n",
    "    file_name = file_name + post_fix + '.ipynb'\n",
    "    with open(path_norm(path, file_name), 'w', encoding='utf-8') as f:\n",
    "        nbf.write(nb, f)\n",
    "\n",
    "def path_norm(path, file_name):\n",
    "    return os.path.normpath(os.path.join(path, file_name)) \n",
    "\n",
    "def clear_cell(cell:dict):\n",
    "    cell['execution_count'] = None\n",
    "    cell['outputs'] = []\n",
    "    return cell\n",
    "\n",
    "def process_path(path):\n",
    "    for entry in os.scandir(path):\n",
    "        if entry.is_file() and entry.name.endswith(\".ipynb\"):\n",
    "            nb = open_nb(path, entry.name)\n",
    "            nb['cells'] = [clear_cell(cell) for cell in nb.get('cells')]\n",
    "            save_nb(nb, path, os.path.splitext(entry.name)[0])"
   ]
  }
 ],
 "metadata": {
  "kernelspec": {
   "display_name": "Python 3",
   "language": "python",
   "name": "python3"
  },
  "language_info": {
   "codemirror_mode": {
    "name": "ipython",
    "version": 3
   },
   "file_extension": ".py",
   "mimetype": "text/x-python",
   "name": "python",
   "nbconvert_exporter": "python",
   "pygments_lexer": "ipython3",
   "version": "3.6.7"
  }
 },
 "nbformat": 4,
 "nbformat_minor": 4
}
