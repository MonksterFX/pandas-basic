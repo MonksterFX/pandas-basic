{
 "cells": [
  {
   "cell_type": "code",
   "execution_count": 35,
   "metadata": {},
   "outputs": [],
   "source": [
    "# Clear all output in the files and strip to input\n",
    "\n",
    "import os\n",
    "import nbformat as nbf"
   ]
  },
  {
   "cell_type": "code",
   "execution_count": 2,
   "metadata": {},
   "outputs": [],
   "source": [
    "root_path = ''\n",
    "if root_path == '':\n",
    "    root_path = '../../'"
   ]
  },
  {
   "cell_type": "code",
   "execution_count": 33,
   "metadata": {},
   "outputs": [],
   "source": [
    "def open_nb(path, file_name):\n",
    "    with open(path_norm(path, file_name)) as f:\n",
    "        return nbf.read(f, as_version=4)\n",
    "    \n",
    "def save_nb(nb, path, file_name, post_fix='',):\n",
    "    file_name = file_name + post_fix + '.ipynb'\n",
    "    with open(path_norm(path, file_name), 'w', encoding='utf-8') as f:\n",
    "        nbf.write(nb, f)\n",
    "\n",
    "def path_norm(path, file_name):\n",
    "    return os.path.normpath(os.path.join(path, file_name)) \n",
    "\n",
    "def clear_cell(cell:dict):\n",
    "    cell['execution_count'] = None\n",
    "    cell['outputs'] = []\n",
    "    return cell\n",
    "\n",
    "def process_path(path):\n",
    "    for entry in os.scandir(path):\n",
    "        if entry.is_file() and entry.name.endswith(\".ipynb\"):\n",
    "            nb = open_nb(path, entry.name)\n",
    "            nb['cells'] = [clear_cell(cell) for cell in nb.get('cells')]\n",
    "            save_nb(nb, path, os.path.splitext(entry.name)[0])"
   ]
  },
  {
   "cell_type": "code",
   "execution_count": 37,
   "metadata": {},
   "outputs": [],
   "source": [
    "# process folder\n",
    "process_path(os.path.abspath('test'))"
   ]
  }
 ],
 "metadata": {
  "kernelspec": {
   "display_name": "Python 3",
   "language": "python",
   "name": "python3"
  },
  "language_info": {
   "codemirror_mode": {
    "name": "ipython",
    "version": 3
   },
   "file_extension": ".py",
   "mimetype": "text/x-python",
   "name": "python",
   "nbconvert_exporter": "python",
   "pygments_lexer": "ipython3",
   "version": "3.7.1"
  }
 },
 "nbformat": 4,
 "nbformat_minor": 2
}
