{
 "cells": [
  {
   "cell_type": "code",
   "execution_count": null,
   "metadata": {
    "collapsed": true
   },
   "outputs": [],
   "source": [
    "# --- new zell ---\n",
    "import pandas as pd"
   ]
  },
  {
   "cell_type": "code",
   "execution_count": null,
   "metadata": {
    "collapsed": false
   },
   "outputs": [],
   "source": [
    "# --- new zell ---\n",
    "df_pokemon = pd.read_csv('../src/pokemon.csv')\n",
    "df_pokemon.head()"
   ]
  },
  {
   "cell_type": "markdown",
   "metadata": {},
   "source": [
    "# WENN"
   ]
  },
  {
   "cell_type": "code",
   "execution_count": null,
   "metadata": {
    "collapsed": false
   },
   "outputs": [],
   "source": [
    "# --- new zell ---\n",
    "# hp > 1000\n",
    "df_pokemon[df_pokemon['HP'] > 100].head(10)"
   ]
  },
  {
   "cell_type": "code",
   "execution_count": null,
   "metadata": {
    "collapsed": false
   },
   "outputs": [],
   "source": [
    "# --- new zell ---\n",
    "import numpy as np\n",
    "df_pokemon['Description'] = np.where(df_pokemon['HP'] > 100, 'Super Strong', '')\n",
    "df_pokemon.head(10)"
   ]
  },
  {
   "cell_type": "code",
   "execution_count": null,
   "metadata": {
    "collapsed": false
   },
   "outputs": [],
   "source": [
    "# --- new zell ---\n",
    "df_pokemon['Description2'] = np.where((df_pokemon['HP'] > 100) & (df_pokemon['Attack'] > 100), 'Super Strong', '')\n",
    "df_pokemon.head(10)"
   ]
  },
  {
   "cell_type": "markdown",
   "metadata": {},
   "source": [
    "# Mathematische Funktionen (Zusammenfassend)\n",
    "\n",
    "* Anzahl\n",
    "* Summe\n",
    "* Mittelwert\n",
    "* Median\n",
    "* Min\n",
    "* Max"
   ]
  },
  {
   "cell_type": "code",
   "execution_count": null,
   "metadata": {
    "collapsed": false
   },
   "outputs": [],
   "source": [
    "# --- new zell ---\n",
    "len(df_pokemon)"
   ]
  },
  {
   "cell_type": "code",
   "execution_count": null,
   "metadata": {
    "collapsed": false
   },
   "outputs": [],
   "source": [
    "# --- new zell ---\n",
    "df_pokemon['Total'].sum()"
   ]
  },
  {
   "cell_type": "code",
   "execution_count": null,
   "metadata": {
    "collapsed": false
   },
   "outputs": [],
   "source": [
    "# --- new zell ---\n",
    "df_pokemon['Total'].sum() / len(df_pokemon)"
   ]
  },
  {
   "cell_type": "code",
   "execution_count": null,
   "metadata": {
    "collapsed": false
   },
   "outputs": [],
   "source": [
    "df_pokemon['Total'].mean()"
   ]
  },
  {
   "cell_type": "code",
   "execution_count": null,
   "metadata": {
    "collapsed": false
   },
   "outputs": [],
   "source": [
    "# --- new zell ---\n",
    "df_pokemon['Total'].median()"
   ]
  },
  {
   "cell_type": "code",
   "execution_count": null,
   "metadata": {
    "collapsed": false
   },
   "outputs": [],
   "source": [
    "# --- new zell ---\n",
    "df_pokemon['Total'].min()"
   ]
  },
  {
   "cell_type": "code",
   "execution_count": null,
   "metadata": {
    "collapsed": false
   },
   "outputs": [],
   "source": [
    "# --- new zell ---\n",
    "df_pokemon['Total'].max()"
   ]
  },
  {
   "cell_type": "markdown",
   "metadata": {},
   "source": [
    "## Zusammen aller Spalten"
   ]
  },
  {
   "cell_type": "code",
   "execution_count": null,
   "metadata": {
    "collapsed": false
   },
   "outputs": [],
   "source": [
    "# --- new zell ---\n",
    "# Zusammenfassen aller Spalten -> Ergebnis ist eine Serie\n",
    "df_pokemon.max()"
   ]
  },
  {
   "cell_type": "markdown",
   "metadata": {},
   "source": [
    "# In Kombination mit WENN"
   ]
  },
  {
   "cell_type": "code",
   "execution_count": null,
   "metadata": {
    "collapsed": false
   },
   "outputs": [],
   "source": [
    "# --- new zell ---\n",
    "# Summe vom Wert \"Total\", wenn vom Typ Grass\n",
    "df_pokemon[df_pokemon['Type 1'] == 'Grass'].head()"
   ]
  },
  {
   "cell_type": "code",
   "execution_count": null,
   "metadata": {
    "collapsed": false
   },
   "outputs": [],
   "source": [
    "df_pokemon[df_pokemon['Type 1'] == 'Grass'].sum()"
   ]
  },
  {
   "cell_type": "code",
   "execution_count": null,
   "metadata": {
    "collapsed": false
   },
   "outputs": [],
   "source": [
    "# --- new zell --\n",
    "df_pokemon[df_pokemon['Type 1'] == 'Grass']['Total'].sum()"
   ]
  },
  {
   "cell_type": "code",
   "execution_count": null,
   "metadata": {
    "collapsed": false
   },
   "outputs": [],
   "source": [
    "# --- new zell --\n",
    "df_pokemon[(df_pokemon['Type 1'] == 'Grass') & (df_pokemon['Type 2'] == 'Poison')]"
   ]
  },
  {
   "cell_type": "code",
   "execution_count": null,
   "metadata": {
    "collapsed": false
   },
   "outputs": [],
   "source": [
    "df_pokemon[(df_pokemon['Type 1'] == 'Grass') & (df_pokemon['Type 2'] == 'Poison')]['Total'].sum()"
   ]
  },
  {
   "cell_type": "markdown",
   "metadata": {},
   "source": [
    "# Kombinieren von Spaltenwerten"
   ]
  },
  {
   "cell_type": "markdown",
   "metadata": {},
   "source": [
    "## Zahlen"
   ]
  },
  {
   "cell_type": "code",
   "execution_count": null,
   "metadata": {
    "collapsed": false
   },
   "outputs": [],
   "source": [
    "# --- new zell --\n",
    "df_pokemon['HP'] + df_pokemon['Attack']"
   ]
  },
  {
   "cell_type": "code",
   "execution_count": null,
   "metadata": {
    "collapsed": false
   },
   "outputs": [],
   "source": [
    "df_pokemon['Total 2'] = df_pokemon['HP'] + df_pokemon['Attack']\n",
    "df_pokemon"
   ]
  },
  {
   "cell_type": "markdown",
   "metadata": {},
   "source": [
    "# Runden"
   ]
  },
  {
   "cell_type": "code",
   "execution_count": null,
   "metadata": {
    "collapsed": false
   },
   "outputs": [],
   "source": [
    "# --- new zell --\n",
    "(df_pokemon['Total 2']/df_pokemon['Total']).head(10)"
   ]
  },
  {
   "cell_type": "code",
   "execution_count": null,
   "metadata": {
    "collapsed": false
   },
   "outputs": [],
   "source": [
    "# --- new zell --\n",
    "df_pokemon['Anteil T2'] = df_pokemon['Total 2']/df_pokemon['Total']\n",
    "df_pokemon['Anteil T2'].head(10)"
   ]
  },
  {
   "cell_type": "code",
   "execution_count": null,
   "metadata": {
    "collapsed": false
   },
   "outputs": [],
   "source": [
    "df_pokemon['Anteil T2'] = df_pokemon['Total 2']/df_pokemon['Total']\n",
    "df_pokemon['Anteil T2'].round(2).head(10)"
   ]
  },
  {
   "cell_type": "code",
   "execution_count": null,
   "metadata": {
    "collapsed": false
   },
   "outputs": [],
   "source": [
    "df_pokemon['Anteil T2'] = df_pokemon['Total 2']/df_pokemon['Total']\n",
    "df_pokemon['Anteil T2'] = df_pokemon['Anteil T2'].round(2)\n",
    "df_pokemon.head(10)"
   ]
  }
 ],
 "metadata": {
  "anaconda-cloud": {},
  "kernelspec": {
   "display_name": "Python [conda root]",
   "language": "python",
   "name": "conda-root-py"
  },
  "language_info": {
   "codemirror_mode": {
    "name": "ipython",
    "version": 3
   },
   "file_extension": ".py",
   "mimetype": "text/x-python",
   "name": "python",
   "nbconvert_exporter": "python",
   "pygments_lexer": "ipython3",
   "version": "3.5.2"
  }
 },
 "nbformat": 4,
 "nbformat_minor": 1
}
