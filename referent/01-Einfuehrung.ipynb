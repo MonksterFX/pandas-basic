{
 "cells": [
  {
   "cell_type": "markdown",
   "metadata": {},
   "source": [
    "# Willkommen zum Kurs: Große Datenmengen Analysieren mit Pandas\n",
    "Im folgenden Abschnitt möchte ich euch zeigen, wie ihr Markdownzellen benutzen könnt, um Imformationen darzustellen die euch beim Verabeiten eurer Daten helfen. "
   ]
  },
  {
   "cell_type": "markdown",
   "metadata": {},
   "source": [
    "## Arbeiten mit Zellen - Zellen bearbeiten\n",
    "Die Farbe am linken Zellerand gibt an, in welchen **Modus** die Zelle sich befindet:\n",
    "\n",
    "\n",
    "* <font color='blue'>Blauer Rand -> Zellenmodus</font>\n",
    "* <font color='green'>Grüner Rand -> Bearbeitungmodus</font>\n",
    "\n",
    "\n",
    "Wichtige Shortcuts (Im Zellenmodus):\n",
    "\n",
    "\n",
    "* **[A]** Above - Neue Zelle überhalb einfügen\n",
    "* **[B]** Below - Neue Zelle unterhalb einfügen\n",
    "* **[M]** Markdown - Formatiere die Zelle als Markdown Zelle\n",
    "* **[Y]** Code - Formatiere die Zelle als Code Zelle\n",
    "* **[Enter]** - Wechsel in den Bearbeitungsmodus \n",
    "\n",
    "Wichtige Shortcuts (Im Bearbeitungsmodus):\n",
    "\n",
    "\n",
    "* **[STRG+ENTER]** Ausführen einer Zelle, automatischer Wechsel in den Zellenmodus\n",
    "* **[ESC]** Verlassen des Bearbeitungsmodus\n",
    "\n",
    "\n",
    "Mehr Tastenkürzel findest du unter ``HELP -> KEYBOARD SHORTCUTS``"
   ]
  },
  {
   "cell_type": "markdown",
   "metadata": {},
   "source": [
    "## Arbeiten mit Zellen - Ausführen"
   ]
  },
  {
   "cell_type": "code",
   "execution_count": null,
   "metadata": {},
   "outputs": [],
   "source": [
    "# Dies ist eine Code Zelle. Das erkennen wir an dem In[] vor der Zelle. In dieser Zelle \n",
    "# definieren wir einen String(Text) und lassen diesen ausgeben. \n",
    "\"Hallo und herzlich willkommen zum Kurs\""
   ]
  },
  {
   "cell_type": "code",
   "execution_count": null,
   "metadata": {},
   "outputs": [],
   "source": [
    "# Mann kann in Zellen auch Berechnungen ausführen, wie mit einem Taschenrechner.\n",
    "20 + 7"
   ]
  },
  {
   "cell_type": "code",
   "execution_count": null,
   "metadata": {},
   "outputs": [],
   "source": [
    "# Speichern des Werte auf der rechten Seite\n",
    "# in der Variablen auf der linken Seite.\n",
    "title = \"Hallo und herzlich willkommen zum Kurs\""
   ]
  },
  {
   "cell_type": "code",
   "execution_count": null,
   "metadata": {},
   "outputs": [],
   "source": [
    "# Ausgabe der Variablen mit dem Namen \"title\".\n",
    "title"
   ]
  },
  {
   "cell_type": "code",
   "execution_count": null,
   "metadata": {},
   "outputs": [],
   "source": [
    "# Manche Wörter wie sum dürfen wir nicht benutzen, da es ein reserviertes Wort ist!\n",
    "sum"
   ]
  },
  {
   "cell_type": "code",
   "execution_count": null,
   "metadata": {},
   "outputs": [],
   "source": [
    "# So berechne ich die Summe und speichere Sie in der Variable mit dem Namen add_sum.Anschließend \n",
    "# lass ich mir die Variable ausgeben indem ich Sie alleine in eine Zeile schreibe.\n",
    "add_sum = 20 + 7\n",
    "add_sum"
   ]
  },
  {
   "cell_type": "code",
   "execution_count": null,
   "metadata": {},
   "outputs": [],
   "source": [
    "# Ich möchte jetzt beide Variablen in diesem Block ausgeben, es wird aber \n",
    "# immer nur das letzte Ergebnis austomatisch ausgeben.\n",
    "title\n",
    "add_sum"
   ]
  },
  {
   "cell_type": "code",
   "execution_count": null,
   "metadata": {},
   "outputs": [],
   "source": [
    "# Die Lösung unseres Problems: Ich kann auch print() benutzen um den Wert einer Variablen/oder\n",
    "# das Ergebnis einer Berechnung anzuzeigen\n",
    "print(title)\n",
    "print(add_sum)"
   ]
  },
  {
   "cell_type": "code",
   "execution_count": null,
   "metadata": {},
   "outputs": [],
   "source": [
    "# Mit Print sind viele Sachen möglich, so gut wie alles hat einen Ausgabewert\n",
    "print(title)\n",
    "print(\"Mein Name ist Max und ich bin:\")\n",
    "print(20+7)\n",
    "print(sum)"
   ]
  },
  {
   "cell_type": "markdown",
   "metadata": {},
   "source": [
    "## Sicherstellen das alles funktioniert\n",
    "Ihr solltet von Zeit zu Zeit sicherstellen, dass alles funktioniert. Notebooks sollte man immer von oben bis unten durchlaufenlassen können ohne, dass Probleme auftreten. Dies Erreichst du unter: ``CELL -> RUN ALL``\n",
    "\n",
    "Variablen bleiben im Hintergrund gespeichert, bis der Kernel neu gestartet wurde. Daher kann es manchmal sinnvoll sein den Kernel Neu zu starten. Beide Methoden lassen sich kombinieren indem du unter ``KERNEL -> RESTART & RUN ALL`` auswählst."
   ]
  },
  {
   "cell_type": "markdown",
   "metadata": {},
   "source": [
    "## Speichern\n",
    "Vergesse nicht ab und zu zu speichern. Zwar gibt es eine Checkpoint funktion, die im Hintergrund öfter mal eine Zwischenspeicherung macht, dennoch solltest du nach wichtigen Verbesserungen zwischenzeitlich einmal speichern. Am einfachst geht das mit dem Tastenkürzel ``STRG + S``"
   ]
  },
  {
   "cell_type": "markdown",
   "metadata": {},
   "source": [
    "## Text mit Markdown formatieren\n",
    "Der Vorteil an Jupyter Notebooks ist, dass wir Dokumentation und Code in einem Dokument schön aufbereiten können. In der Datei <font color='orange'>01-Einfuehrung-Markdown</font> findest du weitere Informationen wie du Markdownzellen formatieren kannst."
   ]
  },
  {
   "cell_type": "markdown",
   "metadata": {},
   "source": [
    "# Tipps und Tricks\n"
   ]
  }
 ],
 "metadata": {
  "kernelspec": {
   "display_name": "Python 3",
   "language": "python",
   "name": "python3"
  },
  "language_info": {
   "codemirror_mode": {
    "name": "ipython",
    "version": 3
   },
   "file_extension": ".py",
   "mimetype": "text/x-python",
   "name": "python",
   "nbconvert_exporter": "python",
   "pygments_lexer": "ipython3",
   "version": "3.6.7"
  }
 },
 "nbformat": 4,
 "nbformat_minor": 4
}
