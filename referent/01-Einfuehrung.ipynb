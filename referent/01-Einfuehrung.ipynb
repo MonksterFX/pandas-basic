{
 "cells": [
  {
   "cell_type": "markdown",
   "metadata": {},
   "source": [
    "# Willkommen zum Kurs: Große Datenmengen Analysieren mit Pandas\n",
    "Im folgenden Abschnitt möchte ich euch zeigen, wie ihr Markdownzellen benutzen könnt, um Imformationen darzustellen die euch beim Verabeiten eurer Daten helfen. "
   ]
  },
  {
   "cell_type": "markdown",
   "metadata": {},
   "source": [
    "## Arbeiten mit Zellen - Zellen bearbeiten\n",
    "Die Farbe am linken Zellerand gibt an, in welchen **Modus** die Zelle sich befindet:\n",
    "\n",
    "\n",
    "* <font color='blue'>Blauer Rand -> Zellenmodus</font>\n",
    "* <font color='green'>Grüner Rand -> Bearbeitungmodus</font>\n",
    "\n",
    "\n",
    "Wichtige Shortcuts (Im Zellenmodus):\n",
    "\n",
    "\n",
    "* **[A]** Above - Neue Zelle überhalb einfügen\n",
    "* **[B]** Below - Neue Zelle unterhalb einfügen\n",
    "* **[M]** Markdown - Formatiere die Zelle als Markdown Zelle\n",
    "* **[Y]** Code - Formatiere die Zelle als Code Zelle\n",
    "* **[STRG+ENTER]** Ausführen einer Zelle, automatischer Wechsel in den Zellenmodus\n",
    "\n",
    "\n",
    "Mehr Tastenkürzel findest du unter ``HELP -> KEYBOARD SHORTCUTS``"
   ]
  },
  {
   "cell_type": "markdown",
   "metadata": {},
   "source": [
    "## Arbeiten mit Zellen - Ausführen"
   ]
  },
  {
   "cell_type": "code",
   "execution_count": 20,
   "metadata": {},
   "outputs": [
    {
     "data": {
      "text/plain": [
       "'Hallo und herzlich willkommen zum Kurs'"
      ]
     },
     "execution_count": 20,
     "metadata": {},
     "output_type": "execute_result"
    }
   ],
   "source": [
    "# Dies ist eine Code Zelle. Das erkennen wir an dem In[] vor der Zelle. In dieser Zelle \n",
    "# definieren wir einen String(Text) und lassen diesen ausgeben. \n",
    "\"Hallo und herzlich willkommen zum Kurs\""
   ]
  },
  {
   "cell_type": "code",
   "execution_count": 7,
   "metadata": {},
   "outputs": [
    {
     "data": {
      "text/plain": [
       "27"
      ]
     },
     "execution_count": 7,
     "metadata": {},
     "output_type": "execute_result"
    }
   ],
   "source": [
    "# Mann kann in Zellen auch Berechnungen ausführen, wie mit einem Taschenrechner.\n",
    "20 + 7"
   ]
  },
  {
   "cell_type": "code",
   "execution_count": 8,
   "metadata": {},
   "outputs": [],
   "source": [
    "# Speichern des Werte auf der rechten Seite\n",
    "# in der Variablen auf der linken Seite.\n",
    "title = \"Hallo und herzlich willkommen zum Kurs\""
   ]
  },
  {
   "cell_type": "code",
   "execution_count": 9,
   "metadata": {},
   "outputs": [
    {
     "data": {
      "text/plain": [
       "'Hallo und herzlich willkommen zum Kurs'"
      ]
     },
     "execution_count": 9,
     "metadata": {},
     "output_type": "execute_result"
    }
   ],
   "source": [
    "# Ausgabe der Variablen mit dem Namen \"title\".\n",
    "title"
   ]
  },
  {
   "cell_type": "code",
   "execution_count": 10,
   "metadata": {},
   "outputs": [
    {
     "data": {
      "text/plain": [
       "<function sum(iterable, start=0, /)>"
      ]
     },
     "execution_count": 10,
     "metadata": {},
     "output_type": "execute_result"
    }
   ],
   "source": [
    "# Manche Wörter wie sum dürfen wir nicht benutzen, da es ein reserviertes Wort ist!\n",
    "sum"
   ]
  },
  {
   "cell_type": "code",
   "execution_count": 11,
   "metadata": {},
   "outputs": [
    {
     "data": {
      "text/plain": [
       "27"
      ]
     },
     "execution_count": 11,
     "metadata": {},
     "output_type": "execute_result"
    }
   ],
   "source": [
    "# So berechne ich die Summe und speichere Sie in der Variable mit dem Namen add_sum.Anschließend \n",
    "# lass ich mir die Variable ausgeben indem ich Sie alleine in eine Zeile schreibe.\n",
    "add_sum = 20 + 7\n",
    "add_sum"
   ]
  },
  {
   "cell_type": "code",
   "execution_count": 12,
   "metadata": {},
   "outputs": [
    {
     "data": {
      "text/plain": [
       "27"
      ]
     },
     "execution_count": 12,
     "metadata": {},
     "output_type": "execute_result"
    }
   ],
   "source": [
    "# Ich möchte jetzt beide Variablen in diesem Block ausgeben, es wird aber \n",
    "# immer nur das letzte Ergebnis austomatisch ausgeben.\n",
    "title\n",
    "add_sum"
   ]
  },
  {
   "cell_type": "code",
   "execution_count": 13,
   "metadata": {},
   "outputs": [
    {
     "name": "stdout",
     "output_type": "stream",
     "text": [
      "Hallo und herzlich willkommen zum Kurs\n",
      "27\n"
     ]
    }
   ],
   "source": [
    "# Die Lösung unseres Problems: Ich kann auch print() benutzen um den Wert einer Variablen/oder\n",
    "# das Ergebnis einer Berechnung anzuzeigen\n",
    "print(title)\n",
    "print(add_sum)"
   ]
  },
  {
   "cell_type": "code",
   "execution_count": 17,
   "metadata": {},
   "outputs": [
    {
     "name": "stdout",
     "output_type": "stream",
     "text": [
      "Hallo und herzlich willkommen zum Kurs\n",
      "Mein Name ist Max und ich bin:\n",
      "27\n",
      "<built-in function sum>\n"
     ]
    }
   ],
   "source": [
    "# Mit Print sind viele Sachen möglich, so gut wie alles hat einen Ausgabewert\n",
    "print(title)\n",
    "print(\"Mein Name ist Max und ich bin:\")\n",
    "print(20+7)\n",
    "print(sum)"
   ]
  },
  {
   "cell_type": "markdown",
   "metadata": {},
   "source": [
    "## Sicherstellen das alles funktioniert\n",
    "Ihr solltet von Zeit zu Zeit sicherstellen, dass alles funktioniert. Notebooks sollte man immer von oben bis unten durchlaufenlassen können ohne, dass Probleme auftreten. Dies Erreichst du unter: ``CELL -> RUN ALL``\n",
    "\n",
    "Variablen bleiben im Hintergrund gespeichert, bis der Kernel neu gestartet wurde. Daher kann es manchmal sinnvoll sein den Kernel Neu zu starten. Beide Methoden lassen sich kombinieren indem du unter ``KERNEL -> RESTART & RUN ALL`` auswählst."
   ]
  },
  {
   "cell_type": "markdown",
   "metadata": {},
   "source": [
    "# Tipps und Tricks\n",
    "Übersicht über reservierte Wörter in Python:\n",
    "https://www.w3schools.com/python/python_ref_keywords.asp"
   ]
  }
 ],
 "metadata": {
  "kernelspec": {
   "display_name": "Python 3",
   "language": "python",
   "name": "python3"
  },
  "language_info": {
   "codemirror_mode": {
    "name": "ipython",
    "version": 3
   },
   "file_extension": ".py",
   "mimetype": "text/x-python",
   "name": "python",
   "nbconvert_exporter": "python",
   "pygments_lexer": "ipython3",
   "version": "3.6.7"
  }
 },
 "nbformat": 4,
 "nbformat_minor": 2
}
