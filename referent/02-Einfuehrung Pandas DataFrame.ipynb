{
 "cells": [
  {
   "cell_type": "markdown",
   "metadata": {},
   "source": [
    "# 02 - Einführung Pandas DataFrame\n",
    "Um die Pandas Bibliothek benutzen zu können müssen wir diese zunächst importieren. Dies erreichen wir, indem wir Python anweisen die Bibliothek mit dem Namen **pandas** als Modul zu importieren. <!-- Hinweis: Das Modul muss installiert sein -->\n",
    "\n",
    "In Modulen sind zahlreiche Funktionen gebündelt, so dass wir diese auf einfache Art und Weise benutzen können. Sie stellen daher ein zentrales Objekt in der Programmierung mit Python dar."
   ]
  },
  {
   "cell_type": "markdown",
   "metadata": {},
   "source": [
    "## Import der Pandas Bibliothek\n",
    "Die erste <font color=\"purple\">Codezelle</font> im jupyter Notebook ist traditionell die <font color=\"purple\">Codezelle</font> in der alle Bibliotheken importiert werden. Füge daher immer alle **Import Statements** für dein Notebook in der ersten <font color=\"purple\">Codezelle</font>. Vor dieser Zelle sollte niemals Code stehen.\n",
    "\n",
    "Ein Import eines Python Moduls funktioniert immer nach dem selben Prinzip:\n",
    "\n",
    "`` import pandas ``\n",
    "\n",
    "oder aber als import mit Alias\n",
    "\n",
    "`` import pandas as pd``"
   ]
  },
  {
   "cell_type": "code",
   "execution_count": null,
   "metadata": {},
   "outputs": [],
   "source": [
    "# Importieren der Pandas Bibliothek. Da wir die Bibliothek öfter benutzen und wir \n",
    "# pandas nicht immer ausschreiben wollen, geben wir der Bibliothek das Alias pd\n",
    "import pandas as pd"
   ]
  },
  {
   "cell_type": "markdown",
   "metadata": {},
   "source": [
    "## Einlesen einer CSV-Datei\n",
    "Einlesen eines CSVs mit `pd.read_csv()`\n",
    "\n",
    "\n",
    "Stellen wir uns vor, wir haben die folgende Ordnerstruktur gegeben und wir möchten in der **my_jupyter.ipynb** die Datei data.csv in einen DataFrame einlesen:\n",
    "```\n",
    "C<br>\n",
    "|-- User<br>\n",
    "    |-- Documents<br>\n",
    "        |-- my_jupyter.ipynb<br>\n",
    "        |-- data.csv\n",
    "```\n",
    "\n",
    "Wir können die benötigte CSV-Dateie auf zwei Arten referenzieren:\n",
    "\n",
    "\n",
    "* Mit einem **absoluten** Pfad: ``\"C:/User/Documents/data.csv``\n",
    "* Mit einem **relativen** Pfad: ``data.csv``\n",
    "\n",
    "\n",
    "Mit ``../`` bewegen wir uns in der Verzeichnisstruktur einen Ordner nach oben, dh. wir gehen aus dem Documents Ordern in den User Ordner. Mit ``../../`` landen wir dementsprechend auf dem Laufwerk C.\n",
    "\n",
    "**Achtung:** Beachte das wir hier ``/`` - Frontslash benutzen nicht wie in Windows üblich ``\\``-Backslashes"
   ]
  },
  {
   "cell_type": "code",
   "execution_count": null,
   "metadata": {},
   "outputs": [],
   "source": [
    "# anzeigen des ergebnisses ohne den Dataframe in einer Variable zu speichern\n",
    "pd.read_csv('../src/beispiele/02_kunden.csv')"
   ]
  },
  {
   "cell_type": "code",
   "execution_count": null,
   "metadata": {},
   "outputs": [],
   "source": [
    "# speichern in einer variablen\n",
    "df_kunden = pd.read_csv('../src/beispiele/02_kunden.csv')"
   ]
  },
  {
   "cell_type": "code",
   "execution_count": null,
   "metadata": {},
   "outputs": [],
   "source": [
    "# damit es sichtbar wird, geben lassen wir uns den wert der variable anzeigen\n",
    "df_kunden = pd.read_csv('../src/beispiele/02_kunden.csv')\n",
    "df_kunden"
   ]
  },
  {
   "cell_type": "markdown",
   "metadata": {},
   "source": [
    "## Sich eine Übersicht verschaffen\n",
    "Mit den Funktionen ``.head()``, ``.tail()`` und ``.sample()`` können wir uns exemplarisch Datensätze anzeigen lassen, ohne den gesamten DataFrame angezeigt zu bekommen.\n",
    "\n",
    "Mit den Funktionen ``len()`` und ``.info()`` erhalten wir die Länge des DataFrames und bei ``.info()`` noch zusätzliche Informationen"
   ]
  },
  {
   "cell_type": "code",
   "execution_count": null,
   "metadata": {},
   "outputs": [],
   "source": [
    "# head gibt uns die ersten 5 Zeilen des Dataframes\n",
    "df_kunden.head()"
   ]
  },
  {
   "cell_type": "code",
   "execution_count": null,
   "metadata": {},
   "outputs": [],
   "source": [
    "# tail gibt uns die letzten 5 Zeilen des Dataframes\n",
    "df_kunden.tail()"
   ]
  },
  {
   "cell_type": "code",
   "execution_count": null,
   "metadata": {},
   "outputs": [],
   "source": [
    "# .sample() gibt uns 3 beliebige Datensätze zurück. \n",
    "# Diese werden bei jeder Ausführung der Zelle zufällig ausgewählt. \n",
    "df_kunden.sample(3)"
   ]
  },
  {
   "cell_type": "code",
   "execution_count": null,
   "metadata": {},
   "outputs": [],
   "source": [
    "# Wir können auch .head() und .tail() ein Zahl übergeben\n",
    "df_kunden.head(2)"
   ]
  },
  {
   "cell_type": "code",
   "execution_count": null,
   "metadata": {},
   "outputs": [],
   "source": [
    "# Länge des DataFrames erhalten wir mit len()\n",
    "len(df_kunden)"
   ]
  },
  {
   "cell_type": "code",
   "execution_count": null,
   "metadata": {},
   "outputs": [],
   "source": [
    "df_kunden.info()"
   ]
  },
  {
   "cell_type": "markdown",
   "metadata": {},
   "source": [
    "# Spalten oder Zeilen betrachten\n",
    "Möchten wir nur Spalten oder Zeilen betrachten müssen wir diese auswählen. Betrachten wir nur eine Spalte oder eine Zeile bekommen wir als Rückgabewert keinen DataFrame sondern eine sogenannte **Series**."
   ]
  },
  {
   "cell_type": "code",
   "execution_count": null,
   "metadata": {},
   "outputs": [],
   "source": [
    "# Zur Orientierung lassen wir uns die ersten 5 Elemente des DataFrames ausgeben\n",
    "df_kunden.head()"
   ]
  },
  {
   "cell_type": "code",
   "execution_count": null,
   "metadata": {},
   "outputs": [],
   "source": [
    "# Spaltennamen erfahren\n",
    "df_kunden.columns"
   ]
  },
  {
   "cell_type": "code",
   "execution_count": null,
   "metadata": {},
   "outputs": [],
   "source": [
    "# Zeilennamen erfahren\n",
    "df_kunden.index"
   ]
  },
  {
   "cell_type": "code",
   "execution_count": null,
   "metadata": {},
   "outputs": [],
   "source": [
    "# Spalte 'first_name' auslesen\n",
    "df_kunden['first_name']"
   ]
  },
  {
   "cell_type": "code",
   "execution_count": null,
   "metadata": {},
   "outputs": [],
   "source": [
    "# Spalte 'last_name' auslesen\n",
    "df_kunden['last_name']"
   ]
  },
  {
   "cell_type": "code",
   "execution_count": null,
   "metadata": {},
   "outputs": [],
   "source": [
    "# Zeile auslesen funktioniert wie das auslesen einer Spalte\n",
    "df_kunden.loc[4]"
   ]
  },
  {
   "cell_type": "markdown",
   "metadata": {},
   "source": [
    "# Mit Spalten arbeiten\n",
    "Kommen in einer Spalte Werte öfter vor, wie in unserem Beispiel in der Spalte 'gender', dann können wir uns eine Zusammenfassung geben lassen, wie oft welcher Wert vorkommt. Dafür wählen wir die entsprechende Spalte aus und wenden auf diese die Funktion `.values_counts()`an"
   ]
  },
  {
   "cell_type": "code",
   "execution_count": null,
   "metadata": {},
   "outputs": [],
   "source": [
    "# Die Spalte Gender enthält Werte öfter\n",
    "df_kunden['gender']"
   ]
  },
  {
   "cell_type": "code",
   "execution_count": null,
   "metadata": {},
   "outputs": [],
   "source": [
    "# Mit .value_counts() können wir uns eine Zusammenfassung geben lassen\n",
    "df_kunden['gender'].value_counts()"
   ]
  },
  {
   "cell_type": "markdown",
   "metadata": {},
   "source": [
    "# Mehrer Spalten oder Zeilen über den Namen auswählen"
   ]
  },
  {
   "cell_type": "code",
   "execution_count": null,
   "metadata": {},
   "outputs": [],
   "source": [
    "df_kunden.head()"
   ]
  },
  {
   "cell_type": "code",
   "execution_count": null,
   "metadata": {},
   "outputs": [],
   "source": [
    "# Wir wählen mehrer Spalten aus und erhalten als Ergebnis diesmal einen DataFrame\n",
    "df_kunden[['first_name', 'gender']]"
   ]
  },
  {
   "cell_type": "code",
   "execution_count": null,
   "metadata": {},
   "outputs": [],
   "source": [
    "# Auch wenn wir mehrer Zeilen auswählen erhalten wir als Ergebnis einen DataFrame\n",
    "df_kunden.loc[[0,2,4]]"
   ]
  },
  {
   "cell_type": "code",
   "execution_count": null,
   "metadata": {},
   "outputs": [],
   "source": [
    "# Wir können sogar beide Methoden kombinieren\n",
    "df_kunden.loc[[0,2,4]]['gender']"
   ]
  },
  {
   "cell_type": "code",
   "execution_count": null,
   "metadata": {},
   "outputs": [],
   "source": [
    "df_kunden.loc[[0,2,4]][['first_name', 'gender']]"
   ]
  },
  {
   "cell_type": "code",
   "execution_count": null,
   "metadata": {},
   "outputs": [],
   "source": [
    "# Natürlich können wir uns auch das Ergebnis einer Selektion in einer neuen Variable speichern\n",
    "df_select = df_kunden.loc[[0,2,4]]\n",
    "df_select"
   ]
  },
  {
   "cell_type": "code",
   "execution_count": null,
   "metadata": {},
   "outputs": [],
   "source": [
    "df_select = df_kunden.loc[[0,2,4]]\n",
    "df_select[['first_name', 'gender']]"
   ]
  },
  {
   "cell_type": "markdown",
   "metadata": {},
   "source": [
    "# Tipps und Tricks\n",
    "### Datentypen\n",
    "* Übersicht aller [Datentypen](https://pandas.pydata.org/pandas-docs/stable/getting_started/basics.html#basics-dtypes)\n",
    "\n",
    "### Erweiterter Zugriff auf Spalten und Zeilen (Für Fortgeschritten)\n",
    "* Für Fortgeschritten Pandas User: [Advanced Indexing](https://pandas.pydata.org/pandas-docs/stable/user_guide/indexing.html)"
   ]
  }
 ],
 "metadata": {
  "anaconda-cloud": {},
  "kernelspec": {
   "display_name": "Python 3",
   "language": "python",
   "name": "python3"
  },
  "language_info": {
   "codemirror_mode": {
    "name": "ipython",
    "version": 3
   },
   "file_extension": ".py",
   "mimetype": "text/x-python",
   "name": "python",
   "nbconvert_exporter": "python",
   "pygments_lexer": "ipython3",
   "version": "3.6.7"
  }
 },
 "nbformat": 4,
 "nbformat_minor": 4
}
