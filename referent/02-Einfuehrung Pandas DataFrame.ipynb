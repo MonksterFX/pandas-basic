{
 "cells": [
  {
   "cell_type": "markdown",
   "metadata": {},
   "source": [
    "# 02 - Einführung Pandas DataFrame\n",
    "Um die Pandas Bibliothek benutzen zu können müssen wir diese erst importieren. Dies machen wir indem wir die Bibliothek mit dem Namen **Pandas als Modul** importieren. <!-- Hinweis: Das Modul muss installiert sein -->\n",
    "\n",
    "**Module** sind ein wichtiges Element in Python. In Modulen sind zahlreiche Funktionen gebündelt, so dass wir diese auf einfache Art und Weise benutzen können. Dafür müssen wir diese im ersten Schritt Importieren."
   ]
  },
  {
   "cell_type": "markdown",
   "metadata": {},
   "source": [
    "## Import der Pandas Bibliothek\n",
    "Codezellen mit allen Imports verwendeter Bibliotheken sind stets die ersten Codezellen im Dokument. Füge immer alle import Statements für dein Notebook in der ersten Codezelle. Vor dieser Zelle sollte kein Code stehen.\n",
    "\n",
    "Ein Import funktioniert immer nach dem selben Prinzip:\n",
    "\n",
    "`` import pandas ``\n",
    "\n",
    "oder aber als import mit Alias\n",
    "\n",
    "`` import pandas as pd``"
   ]
  },
  {
   "cell_type": "code",
   "execution_count": 2,
   "metadata": {},
   "outputs": [],
   "source": [
    "# Importieren der Pandas Bibliothek. Da wir die Bibliothek öfter benutzen und wir \n",
    "# pandas nicht immer ausschreiben wollen, geben wir der Bibliothek das Alias pd\n",
    "import pandas as pd"
   ]
  },
  {
   "cell_type": "markdown",
   "metadata": {},
   "source": [
    "## Einlesen einer CSV-Datei\n",
    "Einlesen eines CSVs mit `pd.read_csv()`\n",
    "\n",
    "\n",
    "Stellen wir uns vor, wir haben die folgende Ordnerstruktur gegeben:\n",
    "```\n",
    "C<br>\n",
    "|-- User<br>\n",
    "    |-- Documents<br>\n",
    "        |-- my_jupyter.ipynb<br>\n",
    "        |-- data.csv\n",
    "```\n",
    "\n",
    "Dann können wir die benötigete CSV-Dateie auf zwei Arten referenzieren:\n",
    "\n",
    "\n",
    "* Mit einem **absoluten** Pfad: ``\"C:/User/Documents/data.csv``\n",
    "* Mit einem **relativen** Pfad: ``data.csv``\n",
    "\n",
    "\n",
    "Mit ``../`` bewegen wir uns einen Ordner nach oben, dh. wir gehen aus dem Documents<br>\n",
    "Ordern in den User Ordner. Mit ``../../`` landen wir dementsprechend auf dem Laufwerk C."
   ]
  },
  {
   "cell_type": "code",
   "execution_count": 3,
   "metadata": {},
   "outputs": [
    {
     "data": {
      "text/html": [
       "<div>\n",
       "<style scoped>\n",
       "    .dataframe tbody tr th:only-of-type {\n",
       "        vertical-align: middle;\n",
       "    }\n",
       "\n",
       "    .dataframe tbody tr th {\n",
       "        vertical-align: top;\n",
       "    }\n",
       "\n",
       "    .dataframe thead th {\n",
       "        text-align: right;\n",
       "    }\n",
       "</style>\n",
       "<table border=\"1\" class=\"dataframe\">\n",
       "  <thead>\n",
       "    <tr style=\"text-align: right;\">\n",
       "      <th></th>\n",
       "      <th>first_name</th>\n",
       "      <th>last_name</th>\n",
       "      <th>email</th>\n",
       "      <th>gender</th>\n",
       "    </tr>\n",
       "  </thead>\n",
       "  <tbody>\n",
       "    <tr>\n",
       "      <th>0</th>\n",
       "      <td>Oliviero</td>\n",
       "      <td>Longforth</td>\n",
       "      <td>olongforth0@wikia.com</td>\n",
       "      <td>Male</td>\n",
       "    </tr>\n",
       "    <tr>\n",
       "      <th>1</th>\n",
       "      <td>Curtice</td>\n",
       "      <td>Hallgate</td>\n",
       "      <td>challgate1@gmpg.org</td>\n",
       "      <td>Male</td>\n",
       "    </tr>\n",
       "    <tr>\n",
       "      <th>2</th>\n",
       "      <td>Darb</td>\n",
       "      <td>Evreux</td>\n",
       "      <td>devreux2@hostgator.com</td>\n",
       "      <td>Male</td>\n",
       "    </tr>\n",
       "    <tr>\n",
       "      <th>3</th>\n",
       "      <td>Ely</td>\n",
       "      <td>Themann</td>\n",
       "      <td>ethemann3@hao123.com</td>\n",
       "      <td>Male</td>\n",
       "    </tr>\n",
       "    <tr>\n",
       "      <th>4</th>\n",
       "      <td>Kaylyn</td>\n",
       "      <td>Brady</td>\n",
       "      <td>kbrady4@51.la</td>\n",
       "      <td>Female</td>\n",
       "    </tr>\n",
       "    <tr>\n",
       "      <th>5</th>\n",
       "      <td>Sebastien</td>\n",
       "      <td>Rosevear</td>\n",
       "      <td>srosevear5@who.int</td>\n",
       "      <td>Male</td>\n",
       "    </tr>\n",
       "    <tr>\n",
       "      <th>6</th>\n",
       "      <td>Janela</td>\n",
       "      <td>Lanchbury</td>\n",
       "      <td>jlanchbury6@barnesandnoble.com</td>\n",
       "      <td>Female</td>\n",
       "    </tr>\n",
       "    <tr>\n",
       "      <th>7</th>\n",
       "      <td>Nicolle</td>\n",
       "      <td>Inkster</td>\n",
       "      <td>ninkster7@youtube.com</td>\n",
       "      <td>Female</td>\n",
       "    </tr>\n",
       "  </tbody>\n",
       "</table>\n",
       "</div>"
      ],
      "text/plain": [
       "  first_name  last_name                           email  gender\n",
       "0   Oliviero  Longforth           olongforth0@wikia.com    Male\n",
       "1    Curtice   Hallgate             challgate1@gmpg.org    Male\n",
       "2       Darb     Evreux          devreux2@hostgator.com    Male\n",
       "3        Ely    Themann            ethemann3@hao123.com    Male\n",
       "4     Kaylyn      Brady                   kbrady4@51.la  Female\n",
       "5  Sebastien   Rosevear              srosevear5@who.int    Male\n",
       "6     Janela  Lanchbury  jlanchbury6@barnesandnoble.com  Female\n",
       "7    Nicolle    Inkster           ninkster7@youtube.com  Female"
      ]
     },
     "execution_count": 3,
     "metadata": {},
     "output_type": "execute_result"
    }
   ],
   "source": [
    "# anzeigen des ergebnisses ohne den Dataframe in einer Variable zu speichern\n",
    "pd.read_csv('../src/beispiele/02_kunden.csv')"
   ]
  },
  {
   "cell_type": "code",
   "execution_count": 7,
   "metadata": {},
   "outputs": [],
   "source": [
    "# speichern in einer variablen\n",
    "df_kunden = pd.read_csv('../src/beispiele/02_kunden.csv')"
   ]
  },
  {
   "cell_type": "code",
   "execution_count": 8,
   "metadata": {},
   "outputs": [
    {
     "data": {
      "text/html": [
       "<div>\n",
       "<style scoped>\n",
       "    .dataframe tbody tr th:only-of-type {\n",
       "        vertical-align: middle;\n",
       "    }\n",
       "\n",
       "    .dataframe tbody tr th {\n",
       "        vertical-align: top;\n",
       "    }\n",
       "\n",
       "    .dataframe thead th {\n",
       "        text-align: right;\n",
       "    }\n",
       "</style>\n",
       "<table border=\"1\" class=\"dataframe\">\n",
       "  <thead>\n",
       "    <tr style=\"text-align: right;\">\n",
       "      <th></th>\n",
       "      <th>first_name</th>\n",
       "      <th>last_name</th>\n",
       "      <th>email</th>\n",
       "      <th>gender</th>\n",
       "    </tr>\n",
       "  </thead>\n",
       "  <tbody>\n",
       "    <tr>\n",
       "      <th>0</th>\n",
       "      <td>Oliviero</td>\n",
       "      <td>Longforth</td>\n",
       "      <td>olongforth0@wikia.com</td>\n",
       "      <td>Male</td>\n",
       "    </tr>\n",
       "    <tr>\n",
       "      <th>1</th>\n",
       "      <td>Curtice</td>\n",
       "      <td>Hallgate</td>\n",
       "      <td>challgate1@gmpg.org</td>\n",
       "      <td>Male</td>\n",
       "    </tr>\n",
       "    <tr>\n",
       "      <th>2</th>\n",
       "      <td>Darb</td>\n",
       "      <td>Evreux</td>\n",
       "      <td>devreux2@hostgator.com</td>\n",
       "      <td>Male</td>\n",
       "    </tr>\n",
       "    <tr>\n",
       "      <th>3</th>\n",
       "      <td>Ely</td>\n",
       "      <td>Themann</td>\n",
       "      <td>ethemann3@hao123.com</td>\n",
       "      <td>Male</td>\n",
       "    </tr>\n",
       "    <tr>\n",
       "      <th>4</th>\n",
       "      <td>Kaylyn</td>\n",
       "      <td>Brady</td>\n",
       "      <td>kbrady4@51.la</td>\n",
       "      <td>Female</td>\n",
       "    </tr>\n",
       "    <tr>\n",
       "      <th>5</th>\n",
       "      <td>Sebastien</td>\n",
       "      <td>Rosevear</td>\n",
       "      <td>srosevear5@who.int</td>\n",
       "      <td>Male</td>\n",
       "    </tr>\n",
       "    <tr>\n",
       "      <th>6</th>\n",
       "      <td>Janela</td>\n",
       "      <td>Lanchbury</td>\n",
       "      <td>jlanchbury6@barnesandnoble.com</td>\n",
       "      <td>Female</td>\n",
       "    </tr>\n",
       "    <tr>\n",
       "      <th>7</th>\n",
       "      <td>Nicolle</td>\n",
       "      <td>Inkster</td>\n",
       "      <td>ninkster7@youtube.com</td>\n",
       "      <td>Female</td>\n",
       "    </tr>\n",
       "  </tbody>\n",
       "</table>\n",
       "</div>"
      ],
      "text/plain": [
       "  first_name  last_name                           email  gender\n",
       "0   Oliviero  Longforth           olongforth0@wikia.com    Male\n",
       "1    Curtice   Hallgate             challgate1@gmpg.org    Male\n",
       "2       Darb     Evreux          devreux2@hostgator.com    Male\n",
       "3        Ely    Themann            ethemann3@hao123.com    Male\n",
       "4     Kaylyn      Brady                   kbrady4@51.la  Female\n",
       "5  Sebastien   Rosevear              srosevear5@who.int    Male\n",
       "6     Janela  Lanchbury  jlanchbury6@barnesandnoble.com  Female\n",
       "7    Nicolle    Inkster           ninkster7@youtube.com  Female"
      ]
     },
     "execution_count": 8,
     "metadata": {},
     "output_type": "execute_result"
    }
   ],
   "source": [
    "# damit es sichtbar wird, geben lassen wir uns den wert der variable anzeigen\n",
    "df_kunden = pd.read_csv('../src/beispiele/02_kunden.csv')\n",
    "df_kunden"
   ]
  },
  {
   "cell_type": "markdown",
   "metadata": {},
   "source": [
    "## Sich eine Übersicht verschaffen\n",
    "Mit den Funktionen ``.head()``, ``.tail()`` und ``.sample()`` können wir uns exemplarisch Datensätze anzeigen lassen, ohne den gesamten DataFrame angezeigt zu bekommen.\n",
    "\n",
    "Mit den Funktionen ``len()`` und ``.info()`` erhalten wir die Länge des DataFrames und bei ``.info()`` noch zusätzliche Informationen"
   ]
  },
  {
   "cell_type": "code",
   "execution_count": 45,
   "metadata": {},
   "outputs": [
    {
     "data": {
      "text/html": [
       "<div>\n",
       "<style scoped>\n",
       "    .dataframe tbody tr th:only-of-type {\n",
       "        vertical-align: middle;\n",
       "    }\n",
       "\n",
       "    .dataframe tbody tr th {\n",
       "        vertical-align: top;\n",
       "    }\n",
       "\n",
       "    .dataframe thead th {\n",
       "        text-align: right;\n",
       "    }\n",
       "</style>\n",
       "<table border=\"1\" class=\"dataframe\">\n",
       "  <thead>\n",
       "    <tr style=\"text-align: right;\">\n",
       "      <th></th>\n",
       "      <th>first_name</th>\n",
       "      <th>last_name</th>\n",
       "      <th>email</th>\n",
       "      <th>gender</th>\n",
       "    </tr>\n",
       "  </thead>\n",
       "  <tbody>\n",
       "    <tr>\n",
       "      <th>0</th>\n",
       "      <td>Oliviero</td>\n",
       "      <td>Longforth</td>\n",
       "      <td>olongforth0@wikia.com</td>\n",
       "      <td>Male</td>\n",
       "    </tr>\n",
       "    <tr>\n",
       "      <th>1</th>\n",
       "      <td>Curtice</td>\n",
       "      <td>Hallgate</td>\n",
       "      <td>challgate1@gmpg.org</td>\n",
       "      <td>Male</td>\n",
       "    </tr>\n",
       "    <tr>\n",
       "      <th>2</th>\n",
       "      <td>Darb</td>\n",
       "      <td>Evreux</td>\n",
       "      <td>devreux2@hostgator.com</td>\n",
       "      <td>Male</td>\n",
       "    </tr>\n",
       "    <tr>\n",
       "      <th>3</th>\n",
       "      <td>Ely</td>\n",
       "      <td>Themann</td>\n",
       "      <td>ethemann3@hao123.com</td>\n",
       "      <td>Male</td>\n",
       "    </tr>\n",
       "    <tr>\n",
       "      <th>4</th>\n",
       "      <td>Kaylyn</td>\n",
       "      <td>Brady</td>\n",
       "      <td>kbrady4@51.la</td>\n",
       "      <td>Female</td>\n",
       "    </tr>\n",
       "  </tbody>\n",
       "</table>\n",
       "</div>"
      ],
      "text/plain": [
       "  first_name  last_name                   email  gender\n",
       "0   Oliviero  Longforth   olongforth0@wikia.com    Male\n",
       "1    Curtice   Hallgate     challgate1@gmpg.org    Male\n",
       "2       Darb     Evreux  devreux2@hostgator.com    Male\n",
       "3        Ely    Themann    ethemann3@hao123.com    Male\n",
       "4     Kaylyn      Brady           kbrady4@51.la  Female"
      ]
     },
     "execution_count": 45,
     "metadata": {},
     "output_type": "execute_result"
    }
   ],
   "source": [
    "# head gibt uns die ersten 5 Zeilen des Dataframes\n",
    "df_kunden.head()"
   ]
  },
  {
   "cell_type": "code",
   "execution_count": 46,
   "metadata": {},
   "outputs": [
    {
     "data": {
      "text/html": [
       "<div>\n",
       "<style scoped>\n",
       "    .dataframe tbody tr th:only-of-type {\n",
       "        vertical-align: middle;\n",
       "    }\n",
       "\n",
       "    .dataframe tbody tr th {\n",
       "        vertical-align: top;\n",
       "    }\n",
       "\n",
       "    .dataframe thead th {\n",
       "        text-align: right;\n",
       "    }\n",
       "</style>\n",
       "<table border=\"1\" class=\"dataframe\">\n",
       "  <thead>\n",
       "    <tr style=\"text-align: right;\">\n",
       "      <th></th>\n",
       "      <th>first_name</th>\n",
       "      <th>last_name</th>\n",
       "      <th>email</th>\n",
       "      <th>gender</th>\n",
       "    </tr>\n",
       "  </thead>\n",
       "  <tbody>\n",
       "    <tr>\n",
       "      <th>3</th>\n",
       "      <td>Ely</td>\n",
       "      <td>Themann</td>\n",
       "      <td>ethemann3@hao123.com</td>\n",
       "      <td>Male</td>\n",
       "    </tr>\n",
       "    <tr>\n",
       "      <th>4</th>\n",
       "      <td>Kaylyn</td>\n",
       "      <td>Brady</td>\n",
       "      <td>kbrady4@51.la</td>\n",
       "      <td>Female</td>\n",
       "    </tr>\n",
       "    <tr>\n",
       "      <th>5</th>\n",
       "      <td>Sebastien</td>\n",
       "      <td>Rosevear</td>\n",
       "      <td>srosevear5@who.int</td>\n",
       "      <td>Male</td>\n",
       "    </tr>\n",
       "    <tr>\n",
       "      <th>6</th>\n",
       "      <td>Janela</td>\n",
       "      <td>Lanchbury</td>\n",
       "      <td>jlanchbury6@barnesandnoble.com</td>\n",
       "      <td>Female</td>\n",
       "    </tr>\n",
       "    <tr>\n",
       "      <th>7</th>\n",
       "      <td>Nicolle</td>\n",
       "      <td>Inkster</td>\n",
       "      <td>ninkster7@youtube.com</td>\n",
       "      <td>Female</td>\n",
       "    </tr>\n",
       "  </tbody>\n",
       "</table>\n",
       "</div>"
      ],
      "text/plain": [
       "  first_name  last_name                           email  gender\n",
       "3        Ely    Themann            ethemann3@hao123.com    Male\n",
       "4     Kaylyn      Brady                   kbrady4@51.la  Female\n",
       "5  Sebastien   Rosevear              srosevear5@who.int    Male\n",
       "6     Janela  Lanchbury  jlanchbury6@barnesandnoble.com  Female\n",
       "7    Nicolle    Inkster           ninkster7@youtube.com  Female"
      ]
     },
     "execution_count": 46,
     "metadata": {},
     "output_type": "execute_result"
    }
   ],
   "source": [
    "# tail gibt uns die letzten 5 Zeilen des Dataframes\n",
    "df_kunden.tail()"
   ]
  },
  {
   "cell_type": "code",
   "execution_count": 47,
   "metadata": {},
   "outputs": [
    {
     "data": {
      "text/html": [
       "<div>\n",
       "<style scoped>\n",
       "    .dataframe tbody tr th:only-of-type {\n",
       "        vertical-align: middle;\n",
       "    }\n",
       "\n",
       "    .dataframe tbody tr th {\n",
       "        vertical-align: top;\n",
       "    }\n",
       "\n",
       "    .dataframe thead th {\n",
       "        text-align: right;\n",
       "    }\n",
       "</style>\n",
       "<table border=\"1\" class=\"dataframe\">\n",
       "  <thead>\n",
       "    <tr style=\"text-align: right;\">\n",
       "      <th></th>\n",
       "      <th>first_name</th>\n",
       "      <th>last_name</th>\n",
       "      <th>email</th>\n",
       "      <th>gender</th>\n",
       "    </tr>\n",
       "  </thead>\n",
       "  <tbody>\n",
       "    <tr>\n",
       "      <th>5</th>\n",
       "      <td>Sebastien</td>\n",
       "      <td>Rosevear</td>\n",
       "      <td>srosevear5@who.int</td>\n",
       "      <td>Male</td>\n",
       "    </tr>\n",
       "    <tr>\n",
       "      <th>0</th>\n",
       "      <td>Oliviero</td>\n",
       "      <td>Longforth</td>\n",
       "      <td>olongforth0@wikia.com</td>\n",
       "      <td>Male</td>\n",
       "    </tr>\n",
       "    <tr>\n",
       "      <th>2</th>\n",
       "      <td>Darb</td>\n",
       "      <td>Evreux</td>\n",
       "      <td>devreux2@hostgator.com</td>\n",
       "      <td>Male</td>\n",
       "    </tr>\n",
       "  </tbody>\n",
       "</table>\n",
       "</div>"
      ],
      "text/plain": [
       "  first_name  last_name                   email gender\n",
       "5  Sebastien   Rosevear      srosevear5@who.int   Male\n",
       "0   Oliviero  Longforth   olongforth0@wikia.com   Male\n",
       "2       Darb     Evreux  devreux2@hostgator.com   Male"
      ]
     },
     "execution_count": 47,
     "metadata": {},
     "output_type": "execute_result"
    }
   ],
   "source": [
    "# sample gibt uns 3 beliebige Datensätze zurück. Diese werden \n",
    "# bei jeder Ausführung der Zelle zufällig ausgewählt\n",
    "df_kunden.sample(3)"
   ]
  },
  {
   "cell_type": "code",
   "execution_count": 48,
   "metadata": {},
   "outputs": [
    {
     "data": {
      "text/plain": [
       "8"
      ]
     },
     "execution_count": 48,
     "metadata": {},
     "output_type": "execute_result"
    }
   ],
   "source": [
    "# Länge des DataFrames erhalten wir mit len()\n",
    "len(df_kunden)"
   ]
  },
  {
   "cell_type": "code",
   "execution_count": 49,
   "metadata": {},
   "outputs": [
    {
     "name": "stdout",
     "output_type": "stream",
     "text": [
      "<class 'pandas.core.frame.DataFrame'>\n",
      "RangeIndex: 8 entries, 0 to 7\n",
      "Data columns (total 4 columns):\n",
      "first_name    8 non-null object\n",
      "last_name     8 non-null object\n",
      "email         8 non-null object\n",
      "gender        8 non-null object\n",
      "dtypes: object(4)\n",
      "memory usage: 336.0+ bytes\n"
     ]
    }
   ],
   "source": [
    "df_kunden.info()"
   ]
  },
  {
   "cell_type": "markdown",
   "metadata": {},
   "source": [
    "# Spalten oder Zeilen betrachten\n",
    "Möchten wir nur Spalten oder Zeilen betrachten müssen wir diese auswählen. Betrachten wir nur eine Spalte oder eine Zeile bekommen wir als Rückgabewert keinen DataFrame sondern eine sogenannte **Series**."
   ]
  },
  {
   "cell_type": "code",
   "execution_count": 50,
   "metadata": {},
   "outputs": [
    {
     "data": {
      "text/html": [
       "<div>\n",
       "<style scoped>\n",
       "    .dataframe tbody tr th:only-of-type {\n",
       "        vertical-align: middle;\n",
       "    }\n",
       "\n",
       "    .dataframe tbody tr th {\n",
       "        vertical-align: top;\n",
       "    }\n",
       "\n",
       "    .dataframe thead th {\n",
       "        text-align: right;\n",
       "    }\n",
       "</style>\n",
       "<table border=\"1\" class=\"dataframe\">\n",
       "  <thead>\n",
       "    <tr style=\"text-align: right;\">\n",
       "      <th></th>\n",
       "      <th>first_name</th>\n",
       "      <th>last_name</th>\n",
       "      <th>email</th>\n",
       "      <th>gender</th>\n",
       "    </tr>\n",
       "  </thead>\n",
       "  <tbody>\n",
       "    <tr>\n",
       "      <th>0</th>\n",
       "      <td>Oliviero</td>\n",
       "      <td>Longforth</td>\n",
       "      <td>olongforth0@wikia.com</td>\n",
       "      <td>Male</td>\n",
       "    </tr>\n",
       "    <tr>\n",
       "      <th>1</th>\n",
       "      <td>Curtice</td>\n",
       "      <td>Hallgate</td>\n",
       "      <td>challgate1@gmpg.org</td>\n",
       "      <td>Male</td>\n",
       "    </tr>\n",
       "    <tr>\n",
       "      <th>2</th>\n",
       "      <td>Darb</td>\n",
       "      <td>Evreux</td>\n",
       "      <td>devreux2@hostgator.com</td>\n",
       "      <td>Male</td>\n",
       "    </tr>\n",
       "    <tr>\n",
       "      <th>3</th>\n",
       "      <td>Ely</td>\n",
       "      <td>Themann</td>\n",
       "      <td>ethemann3@hao123.com</td>\n",
       "      <td>Male</td>\n",
       "    </tr>\n",
       "    <tr>\n",
       "      <th>4</th>\n",
       "      <td>Kaylyn</td>\n",
       "      <td>Brady</td>\n",
       "      <td>kbrady4@51.la</td>\n",
       "      <td>Female</td>\n",
       "    </tr>\n",
       "  </tbody>\n",
       "</table>\n",
       "</div>"
      ],
      "text/plain": [
       "  first_name  last_name                   email  gender\n",
       "0   Oliviero  Longforth   olongforth0@wikia.com    Male\n",
       "1    Curtice   Hallgate     challgate1@gmpg.org    Male\n",
       "2       Darb     Evreux  devreux2@hostgator.com    Male\n",
       "3        Ely    Themann    ethemann3@hao123.com    Male\n",
       "4     Kaylyn      Brady           kbrady4@51.la  Female"
      ]
     },
     "execution_count": 50,
     "metadata": {},
     "output_type": "execute_result"
    }
   ],
   "source": [
    "# Zur Orientierung lassen wir uns die ersten 5 Elemente des DataFrames ausgeben\n",
    "df_kunden.head()"
   ]
  },
  {
   "cell_type": "code",
   "execution_count": 51,
   "metadata": {},
   "outputs": [
    {
     "data": {
      "text/plain": [
       "Index(['first_name', 'last_name', 'email', 'gender'], dtype='object')"
      ]
     },
     "execution_count": 51,
     "metadata": {},
     "output_type": "execute_result"
    }
   ],
   "source": [
    "# Spaltennamen erfahren\n",
    "df_kunden.columns"
   ]
  },
  {
   "cell_type": "code",
   "execution_count": 52,
   "metadata": {},
   "outputs": [
    {
     "data": {
      "text/plain": [
       "RangeIndex(start=0, stop=8, step=1)"
      ]
     },
     "execution_count": 52,
     "metadata": {},
     "output_type": "execute_result"
    }
   ],
   "source": [
    "# Zeilennamen erfahren\n",
    "df_kunden.index"
   ]
  },
  {
   "cell_type": "code",
   "execution_count": 53,
   "metadata": {},
   "outputs": [
    {
     "data": {
      "text/plain": [
       "0     Oliviero\n",
       "1      Curtice\n",
       "2         Darb\n",
       "3          Ely\n",
       "4       Kaylyn\n",
       "5    Sebastien\n",
       "6       Janela\n",
       "7      Nicolle\n",
       "Name: first_name, dtype: object"
      ]
     },
     "execution_count": 53,
     "metadata": {},
     "output_type": "execute_result"
    }
   ],
   "source": [
    "# Spalte 'first_name' auslesen\n",
    "df_kunden['first_name']"
   ]
  },
  {
   "cell_type": "code",
   "execution_count": 54,
   "metadata": {},
   "outputs": [
    {
     "data": {
      "text/plain": [
       "0    Longforth\n",
       "1     Hallgate\n",
       "2       Evreux\n",
       "3      Themann\n",
       "4        Brady\n",
       "5     Rosevear\n",
       "6    Lanchbury\n",
       "7      Inkster\n",
       "Name: last_name, dtype: object"
      ]
     },
     "execution_count": 54,
     "metadata": {},
     "output_type": "execute_result"
    }
   ],
   "source": [
    "# Spalte 'last_name' auslesen\n",
    "df_kunden['last_name']"
   ]
  },
  {
   "cell_type": "code",
   "execution_count": 55,
   "metadata": {},
   "outputs": [
    {
     "data": {
      "text/plain": [
       "first_name           Kaylyn\n",
       "last_name             Brady\n",
       "email         kbrady4@51.la\n",
       "gender               Female\n",
       "Name: 4, dtype: object"
      ]
     },
     "execution_count": 55,
     "metadata": {},
     "output_type": "execute_result"
    }
   ],
   "source": [
    "# Zeile auslesen funktioniert wie das auslesen einer Spalte\n",
    "df_kunden.loc[4]"
   ]
  },
  {
   "cell_type": "markdown",
   "metadata": {},
   "source": [
    "# Mit Spalten arbeiten\n",
    "Kommen in einer Spalte Werte öfter vor, wie in unserem Beispiel in der Spalte 'gender', dann können wir uns eine Zusammenfassung geben lassen, wie oft welcher Wert vorkommt. Dafür wählen wir die entsprechende Spalte aus und wenden auf diese die Funktion `.values_counts()`an"
   ]
  },
  {
   "cell_type": "code",
   "execution_count": 56,
   "metadata": {},
   "outputs": [
    {
     "data": {
      "text/plain": [
       "0      Male\n",
       "1      Male\n",
       "2      Male\n",
       "3      Male\n",
       "4    Female\n",
       "5      Male\n",
       "6    Female\n",
       "7    Female\n",
       "Name: gender, dtype: object"
      ]
     },
     "execution_count": 56,
     "metadata": {},
     "output_type": "execute_result"
    }
   ],
   "source": [
    "# Die Spalte Gender enthält Werte öfter\n",
    "df_kunden['gender']"
   ]
  },
  {
   "cell_type": "code",
   "execution_count": 57,
   "metadata": {},
   "outputs": [
    {
     "data": {
      "text/plain": [
       "Male      5\n",
       "Female    3\n",
       "Name: gender, dtype: int64"
      ]
     },
     "execution_count": 57,
     "metadata": {},
     "output_type": "execute_result"
    }
   ],
   "source": [
    "# Mit .value_counts() können wir uns eine Zusammenfassung geben lassen\n",
    "df_kunden['gender'].value_counts()"
   ]
  },
  {
   "cell_type": "markdown",
   "metadata": {},
   "source": [
    "# Mehrer Spalten oder Zeilen über den Namen auswählen"
   ]
  },
  {
   "cell_type": "code",
   "execution_count": 58,
   "metadata": {},
   "outputs": [
    {
     "data": {
      "text/html": [
       "<div>\n",
       "<style scoped>\n",
       "    .dataframe tbody tr th:only-of-type {\n",
       "        vertical-align: middle;\n",
       "    }\n",
       "\n",
       "    .dataframe tbody tr th {\n",
       "        vertical-align: top;\n",
       "    }\n",
       "\n",
       "    .dataframe thead th {\n",
       "        text-align: right;\n",
       "    }\n",
       "</style>\n",
       "<table border=\"1\" class=\"dataframe\">\n",
       "  <thead>\n",
       "    <tr style=\"text-align: right;\">\n",
       "      <th></th>\n",
       "      <th>first_name</th>\n",
       "      <th>last_name</th>\n",
       "      <th>email</th>\n",
       "      <th>gender</th>\n",
       "    </tr>\n",
       "  </thead>\n",
       "  <tbody>\n",
       "    <tr>\n",
       "      <th>0</th>\n",
       "      <td>Oliviero</td>\n",
       "      <td>Longforth</td>\n",
       "      <td>olongforth0@wikia.com</td>\n",
       "      <td>Male</td>\n",
       "    </tr>\n",
       "    <tr>\n",
       "      <th>1</th>\n",
       "      <td>Curtice</td>\n",
       "      <td>Hallgate</td>\n",
       "      <td>challgate1@gmpg.org</td>\n",
       "      <td>Male</td>\n",
       "    </tr>\n",
       "    <tr>\n",
       "      <th>2</th>\n",
       "      <td>Darb</td>\n",
       "      <td>Evreux</td>\n",
       "      <td>devreux2@hostgator.com</td>\n",
       "      <td>Male</td>\n",
       "    </tr>\n",
       "    <tr>\n",
       "      <th>3</th>\n",
       "      <td>Ely</td>\n",
       "      <td>Themann</td>\n",
       "      <td>ethemann3@hao123.com</td>\n",
       "      <td>Male</td>\n",
       "    </tr>\n",
       "    <tr>\n",
       "      <th>4</th>\n",
       "      <td>Kaylyn</td>\n",
       "      <td>Brady</td>\n",
       "      <td>kbrady4@51.la</td>\n",
       "      <td>Female</td>\n",
       "    </tr>\n",
       "  </tbody>\n",
       "</table>\n",
       "</div>"
      ],
      "text/plain": [
       "  first_name  last_name                   email  gender\n",
       "0   Oliviero  Longforth   olongforth0@wikia.com    Male\n",
       "1    Curtice   Hallgate     challgate1@gmpg.org    Male\n",
       "2       Darb     Evreux  devreux2@hostgator.com    Male\n",
       "3        Ely    Themann    ethemann3@hao123.com    Male\n",
       "4     Kaylyn      Brady           kbrady4@51.la  Female"
      ]
     },
     "execution_count": 58,
     "metadata": {},
     "output_type": "execute_result"
    }
   ],
   "source": [
    "df_kunden.head()"
   ]
  },
  {
   "cell_type": "code",
   "execution_count": 59,
   "metadata": {},
   "outputs": [
    {
     "data": {
      "text/html": [
       "<div>\n",
       "<style scoped>\n",
       "    .dataframe tbody tr th:only-of-type {\n",
       "        vertical-align: middle;\n",
       "    }\n",
       "\n",
       "    .dataframe tbody tr th {\n",
       "        vertical-align: top;\n",
       "    }\n",
       "\n",
       "    .dataframe thead th {\n",
       "        text-align: right;\n",
       "    }\n",
       "</style>\n",
       "<table border=\"1\" class=\"dataframe\">\n",
       "  <thead>\n",
       "    <tr style=\"text-align: right;\">\n",
       "      <th></th>\n",
       "      <th>first_name</th>\n",
       "      <th>gender</th>\n",
       "    </tr>\n",
       "  </thead>\n",
       "  <tbody>\n",
       "    <tr>\n",
       "      <th>0</th>\n",
       "      <td>Oliviero</td>\n",
       "      <td>Male</td>\n",
       "    </tr>\n",
       "    <tr>\n",
       "      <th>1</th>\n",
       "      <td>Curtice</td>\n",
       "      <td>Male</td>\n",
       "    </tr>\n",
       "    <tr>\n",
       "      <th>2</th>\n",
       "      <td>Darb</td>\n",
       "      <td>Male</td>\n",
       "    </tr>\n",
       "    <tr>\n",
       "      <th>3</th>\n",
       "      <td>Ely</td>\n",
       "      <td>Male</td>\n",
       "    </tr>\n",
       "    <tr>\n",
       "      <th>4</th>\n",
       "      <td>Kaylyn</td>\n",
       "      <td>Female</td>\n",
       "    </tr>\n",
       "    <tr>\n",
       "      <th>5</th>\n",
       "      <td>Sebastien</td>\n",
       "      <td>Male</td>\n",
       "    </tr>\n",
       "    <tr>\n",
       "      <th>6</th>\n",
       "      <td>Janela</td>\n",
       "      <td>Female</td>\n",
       "    </tr>\n",
       "    <tr>\n",
       "      <th>7</th>\n",
       "      <td>Nicolle</td>\n",
       "      <td>Female</td>\n",
       "    </tr>\n",
       "  </tbody>\n",
       "</table>\n",
       "</div>"
      ],
      "text/plain": [
       "  first_name  gender\n",
       "0   Oliviero    Male\n",
       "1    Curtice    Male\n",
       "2       Darb    Male\n",
       "3        Ely    Male\n",
       "4     Kaylyn  Female\n",
       "5  Sebastien    Male\n",
       "6     Janela  Female\n",
       "7    Nicolle  Female"
      ]
     },
     "execution_count": 59,
     "metadata": {},
     "output_type": "execute_result"
    }
   ],
   "source": [
    "# Wir wählen mehrer Spalten aus und erhalten als Ergebnis diesmal einen DataFrame\n",
    "df_kunden[['first_name', 'gender']]"
   ]
  },
  {
   "cell_type": "code",
   "execution_count": 60,
   "metadata": {},
   "outputs": [
    {
     "data": {
      "text/html": [
       "<div>\n",
       "<style scoped>\n",
       "    .dataframe tbody tr th:only-of-type {\n",
       "        vertical-align: middle;\n",
       "    }\n",
       "\n",
       "    .dataframe tbody tr th {\n",
       "        vertical-align: top;\n",
       "    }\n",
       "\n",
       "    .dataframe thead th {\n",
       "        text-align: right;\n",
       "    }\n",
       "</style>\n",
       "<table border=\"1\" class=\"dataframe\">\n",
       "  <thead>\n",
       "    <tr style=\"text-align: right;\">\n",
       "      <th></th>\n",
       "      <th>first_name</th>\n",
       "      <th>last_name</th>\n",
       "      <th>email</th>\n",
       "      <th>gender</th>\n",
       "    </tr>\n",
       "  </thead>\n",
       "  <tbody>\n",
       "    <tr>\n",
       "      <th>0</th>\n",
       "      <td>Oliviero</td>\n",
       "      <td>Longforth</td>\n",
       "      <td>olongforth0@wikia.com</td>\n",
       "      <td>Male</td>\n",
       "    </tr>\n",
       "    <tr>\n",
       "      <th>2</th>\n",
       "      <td>Darb</td>\n",
       "      <td>Evreux</td>\n",
       "      <td>devreux2@hostgator.com</td>\n",
       "      <td>Male</td>\n",
       "    </tr>\n",
       "    <tr>\n",
       "      <th>4</th>\n",
       "      <td>Kaylyn</td>\n",
       "      <td>Brady</td>\n",
       "      <td>kbrady4@51.la</td>\n",
       "      <td>Female</td>\n",
       "    </tr>\n",
       "  </tbody>\n",
       "</table>\n",
       "</div>"
      ],
      "text/plain": [
       "  first_name  last_name                   email  gender\n",
       "0   Oliviero  Longforth   olongforth0@wikia.com    Male\n",
       "2       Darb     Evreux  devreux2@hostgator.com    Male\n",
       "4     Kaylyn      Brady           kbrady4@51.la  Female"
      ]
     },
     "execution_count": 60,
     "metadata": {},
     "output_type": "execute_result"
    }
   ],
   "source": [
    "# Auch wenn wir mehrer Zeilen auswählen erhalten wir als Ergebnis einen DataFrame\n",
    "df_kunden.loc[[0,2,4]]"
   ]
  },
  {
   "cell_type": "code",
   "execution_count": 61,
   "metadata": {},
   "outputs": [
    {
     "data": {
      "text/plain": [
       "0      Male\n",
       "2      Male\n",
       "4    Female\n",
       "Name: gender, dtype: object"
      ]
     },
     "execution_count": 61,
     "metadata": {},
     "output_type": "execute_result"
    }
   ],
   "source": [
    "# Wir können sogar beide Methoden kombinieren\n",
    "df_kunden.loc[[0,2,4]]['gender']"
   ]
  },
  {
   "cell_type": "code",
   "execution_count": 62,
   "metadata": {},
   "outputs": [
    {
     "data": {
      "text/html": [
       "<div>\n",
       "<style scoped>\n",
       "    .dataframe tbody tr th:only-of-type {\n",
       "        vertical-align: middle;\n",
       "    }\n",
       "\n",
       "    .dataframe tbody tr th {\n",
       "        vertical-align: top;\n",
       "    }\n",
       "\n",
       "    .dataframe thead th {\n",
       "        text-align: right;\n",
       "    }\n",
       "</style>\n",
       "<table border=\"1\" class=\"dataframe\">\n",
       "  <thead>\n",
       "    <tr style=\"text-align: right;\">\n",
       "      <th></th>\n",
       "      <th>first_name</th>\n",
       "      <th>gender</th>\n",
       "    </tr>\n",
       "  </thead>\n",
       "  <tbody>\n",
       "    <tr>\n",
       "      <th>0</th>\n",
       "      <td>Oliviero</td>\n",
       "      <td>Male</td>\n",
       "    </tr>\n",
       "    <tr>\n",
       "      <th>2</th>\n",
       "      <td>Darb</td>\n",
       "      <td>Male</td>\n",
       "    </tr>\n",
       "    <tr>\n",
       "      <th>4</th>\n",
       "      <td>Kaylyn</td>\n",
       "      <td>Female</td>\n",
       "    </tr>\n",
       "  </tbody>\n",
       "</table>\n",
       "</div>"
      ],
      "text/plain": [
       "  first_name  gender\n",
       "0   Oliviero    Male\n",
       "2       Darb    Male\n",
       "4     Kaylyn  Female"
      ]
     },
     "execution_count": 62,
     "metadata": {},
     "output_type": "execute_result"
    }
   ],
   "source": [
    "df_kunden.loc[[0,2,4]][['first_name', 'gender']]"
   ]
  },
  {
   "cell_type": "code",
   "execution_count": 63,
   "metadata": {},
   "outputs": [
    {
     "data": {
      "text/html": [
       "<div>\n",
       "<style scoped>\n",
       "    .dataframe tbody tr th:only-of-type {\n",
       "        vertical-align: middle;\n",
       "    }\n",
       "\n",
       "    .dataframe tbody tr th {\n",
       "        vertical-align: top;\n",
       "    }\n",
       "\n",
       "    .dataframe thead th {\n",
       "        text-align: right;\n",
       "    }\n",
       "</style>\n",
       "<table border=\"1\" class=\"dataframe\">\n",
       "  <thead>\n",
       "    <tr style=\"text-align: right;\">\n",
       "      <th></th>\n",
       "      <th>first_name</th>\n",
       "      <th>last_name</th>\n",
       "      <th>email</th>\n",
       "      <th>gender</th>\n",
       "    </tr>\n",
       "  </thead>\n",
       "  <tbody>\n",
       "    <tr>\n",
       "      <th>0</th>\n",
       "      <td>Oliviero</td>\n",
       "      <td>Longforth</td>\n",
       "      <td>olongforth0@wikia.com</td>\n",
       "      <td>Male</td>\n",
       "    </tr>\n",
       "    <tr>\n",
       "      <th>2</th>\n",
       "      <td>Darb</td>\n",
       "      <td>Evreux</td>\n",
       "      <td>devreux2@hostgator.com</td>\n",
       "      <td>Male</td>\n",
       "    </tr>\n",
       "    <tr>\n",
       "      <th>4</th>\n",
       "      <td>Kaylyn</td>\n",
       "      <td>Brady</td>\n",
       "      <td>kbrady4@51.la</td>\n",
       "      <td>Female</td>\n",
       "    </tr>\n",
       "  </tbody>\n",
       "</table>\n",
       "</div>"
      ],
      "text/plain": [
       "  first_name  last_name                   email  gender\n",
       "0   Oliviero  Longforth   olongforth0@wikia.com    Male\n",
       "2       Darb     Evreux  devreux2@hostgator.com    Male\n",
       "4     Kaylyn      Brady           kbrady4@51.la  Female"
      ]
     },
     "execution_count": 63,
     "metadata": {},
     "output_type": "execute_result"
    }
   ],
   "source": [
    "# Natürlich können wir uns auch das Ergebnis einer Selektion in einer neuen Variable speichern\n",
    "df_select = df_kunden.loc[[0,2,4]]\n",
    "df_select"
   ]
  },
  {
   "cell_type": "code",
   "execution_count": 64,
   "metadata": {},
   "outputs": [
    {
     "data": {
      "text/html": [
       "<div>\n",
       "<style scoped>\n",
       "    .dataframe tbody tr th:only-of-type {\n",
       "        vertical-align: middle;\n",
       "    }\n",
       "\n",
       "    .dataframe tbody tr th {\n",
       "        vertical-align: top;\n",
       "    }\n",
       "\n",
       "    .dataframe thead th {\n",
       "        text-align: right;\n",
       "    }\n",
       "</style>\n",
       "<table border=\"1\" class=\"dataframe\">\n",
       "  <thead>\n",
       "    <tr style=\"text-align: right;\">\n",
       "      <th></th>\n",
       "      <th>first_name</th>\n",
       "      <th>gender</th>\n",
       "    </tr>\n",
       "  </thead>\n",
       "  <tbody>\n",
       "    <tr>\n",
       "      <th>0</th>\n",
       "      <td>Oliviero</td>\n",
       "      <td>Male</td>\n",
       "    </tr>\n",
       "    <tr>\n",
       "      <th>2</th>\n",
       "      <td>Darb</td>\n",
       "      <td>Male</td>\n",
       "    </tr>\n",
       "    <tr>\n",
       "      <th>4</th>\n",
       "      <td>Kaylyn</td>\n",
       "      <td>Female</td>\n",
       "    </tr>\n",
       "  </tbody>\n",
       "</table>\n",
       "</div>"
      ],
      "text/plain": [
       "  first_name  gender\n",
       "0   Oliviero    Male\n",
       "2       Darb    Male\n",
       "4     Kaylyn  Female"
      ]
     },
     "execution_count": 64,
     "metadata": {},
     "output_type": "execute_result"
    }
   ],
   "source": [
    "df_select = df_kunden.loc[[0,2,4]]\n",
    "df_select[['first_name', 'gender']]"
   ]
  },
  {
   "cell_type": "markdown",
   "metadata": {},
   "source": [
    "# Tipps und Tricks\n",
    "### Erweiterter Zugriff auf Spalten und Zeilen (Für Fortgeschritten)\n",
    "* Für Fortgeschritten Pandas User: https://pandas.pydata.org/pandas-docs/stable/user_guide/indexing.html"
   ]
  }
 ],
 "metadata": {
  "anaconda-cloud": {},
  "kernelspec": {
   "display_name": "Python 3",
   "language": "python",
   "name": "python3"
  },
  "language_info": {
   "codemirror_mode": {
    "name": "ipython",
    "version": 3
   },
   "file_extension": ".py",
   "mimetype": "text/x-python",
   "name": "python",
   "nbconvert_exporter": "python",
   "pygments_lexer": "ipython3",
   "version": "3.6.7"
  }
 },
 "nbformat": 4,
 "nbformat_minor": 4
}
