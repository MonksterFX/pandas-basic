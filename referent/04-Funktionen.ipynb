{
 "cells": [
  {
   "cell_type": "markdown",
   "metadata": {},
   "source": [
    "# 04-Funktionen\n",
    "DataFrames und Serien haben mächtige Funktionen. Die wichtigsten möchten wir uns im folgenden anschauen. Manchmal allerdings fehlen **Pandas** Funktionen. An diesen Stellen hilft meist **Numpy** weiter. Pandas ist auf Basis von Numpy geschrieben, weshalb alle Funktionen von **Numpy** gut mit Pandas DataFrames und Series zusammenarbeiten."
   ]
  },
  {
   "cell_type": "code",
   "execution_count": null,
   "metadata": {},
   "outputs": [],
   "source": [
    "# Neben pandas importieren wir auch Numpy\n",
    "import pandas as pd\n",
    "import numpy as np"
   ]
  },
  {
   "cell_type": "code",
   "execution_count": null,
   "metadata": {},
   "outputs": [],
   "source": [
    "# Importieren des Datensatzes\n",
    "df_pokemon = pd.read_csv('../src/pokemon.csv')\n",
    "df_pokemon.head()"
   ]
  },
  {
   "cell_type": "markdown",
   "metadata": {},
   "source": [
    "# WENN\n",
    "Wenn ist eine beliebte Funktion in <font color='green'>**Excel**</font>. Auch mit Pandas und Numpy ist diese Funktion möglich, wir benutzen hierfür `np.where()`. Im folgenden Überprüfen wir eine Bedingung in einer Spalte und erzeugen in Abhängigkeit von dieser eine neue Spalte."
   ]
  },
  {
   "cell_type": "code",
   "execution_count": null,
   "metadata": {},
   "outputs": [],
   "source": [
    "# Wie wir besonders starke Pokemon auswählen wissen wir bereits\n",
    "df_pokemon[df_pokemon['HP'] > 100].head(10)"
   ]
  },
  {
   "cell_type": "code",
   "execution_count": null,
   "metadata": {},
   "outputs": [],
   "source": [
    "# Nun möchten wir abhänig davon, ob ein Pokemon dazuzählt, dieses in einer neuen\n",
    "# Spalte Description vermerken.\n",
    "df_pokemon['Description'] = np.where(df_pokemon['HP'] > 100, 'Super Strong', '')\n",
    "df_pokemon.sample(20)"
   ]
  },
  {
   "cell_type": "code",
   "execution_count": null,
   "metadata": {},
   "outputs": [],
   "source": [
    "# np.where funktioniert also genau gleich wie das Filtern. Wir erzeugen eine Serie mit False/True werten\n",
    "df_pokemon['Description2'] = np.where((df_pokemon['HP'] > 100) & (df_pokemon['Attack'] > 100), 'Super Strong', '')\n",
    "df_pokemon.sample(20)"
   ]
  },
  {
   "cell_type": "markdown",
   "metadata": {},
   "source": [
    "# Mathematische Funktionen (Zusammenfassend)\n",
    "Mathematische Funktionen bzw. statistische Werte sind essentiell für die Arbeit mit DataFrames. Die Folgenden Funktionen lassen sich für Series spielend leicht berechen.\n",
    "\n",
    "* Anzahl\n",
    "* Summe\n",
    "* Mittelwert\n",
    "* Median\n",
    "* Min\n",
    "* Max"
   ]
  },
  {
   "cell_type": "code",
   "execution_count": null,
   "metadata": {},
   "outputs": [],
   "source": [
    "len(df_pokemon)"
   ]
  },
  {
   "cell_type": "code",
   "execution_count": null,
   "metadata": {},
   "outputs": [],
   "source": [
    "df_pokemon['Total'].sum()"
   ]
  },
  {
   "cell_type": "code",
   "execution_count": null,
   "metadata": {},
   "outputs": [],
   "source": [
    "df_pokemon['Total'].sum() / len(df_pokemon)"
   ]
  },
  {
   "cell_type": "code",
   "execution_count": null,
   "metadata": {},
   "outputs": [],
   "source": [
    "df_pokemon['Total'].mean()"
   ]
  },
  {
   "cell_type": "code",
   "execution_count": null,
   "metadata": {},
   "outputs": [],
   "source": [
    "df_pokemon['Total'].median()"
   ]
  },
  {
   "cell_type": "code",
   "execution_count": null,
   "metadata": {},
   "outputs": [],
   "source": [
    "df_pokemon['Total'].min()"
   ]
  },
  {
   "cell_type": "code",
   "execution_count": null,
   "metadata": {},
   "outputs": [],
   "source": [
    "df_pokemon['Total'].max()"
   ]
  },
  {
   "cell_type": "markdown",
   "metadata": {},
   "source": [
    "## Zusammen aller Spalten `.describe()`"
   ]
  },
  {
   "cell_type": "code",
   "execution_count": null,
   "metadata": {},
   "outputs": [],
   "source": [
    "# Zusammenfassen aller Spalten -> Ergebnis ist eine Serie\n",
    "df_pokemon.max()"
   ]
  },
  {
   "cell_type": "code",
   "execution_count": null,
   "metadata": {},
   "outputs": [],
   "source": [
    "# Oder alle statistischen Werte für alle Spalten auf einmal\n",
    "df_pokemon.describe()"
   ]
  },
  {
   "cell_type": "markdown",
   "metadata": {},
   "source": [
    "# Mathematische Funktionen in Kombination mit Filtern"
   ]
  },
  {
   "cell_type": "code",
   "execution_count": null,
   "metadata": {},
   "outputs": [],
   "source": [
    "# Summe vom Wert \"Total\", wenn vom Typ Grass\n",
    "df_pokemon[df_pokemon['Type 1'] == 'Grass'].head()"
   ]
  },
  {
   "cell_type": "code",
   "execution_count": null,
   "metadata": {},
   "outputs": [],
   "source": [
    "df_pokemon[df_pokemon['Type 1'] == 'Grass'].sum()"
   ]
  },
  {
   "cell_type": "code",
   "execution_count": null,
   "metadata": {},
   "outputs": [],
   "source": [
    "df_pokemon[df_pokemon['Type 1'] == 'Grass']['Total'].sum()"
   ]
  },
  {
   "cell_type": "code",
   "execution_count": null,
   "metadata": {},
   "outputs": [],
   "source": [
    "df_pokemon[(df_pokemon['Type 1'] == 'Grass') & (df_pokemon['Type 2'] == 'Poison')]"
   ]
  },
  {
   "cell_type": "code",
   "execution_count": null,
   "metadata": {},
   "outputs": [],
   "source": [
    "df_pokemon[(df_pokemon['Type 1'] == 'Grass') & (df_pokemon['Type 2'] == 'Poison')]['Total'].sum()"
   ]
  },
  {
   "cell_type": "markdown",
   "metadata": {},
   "source": [
    "# Kombinieren von Spaltenwerten"
   ]
  },
  {
   "cell_type": "code",
   "execution_count": null,
   "metadata": {},
   "outputs": [],
   "source": [
    "# Wir können ganz einfach zwei Spaltenwerte addieren und erhalten eine neue Series\n",
    "df_pokemon['HP'] + df_pokemon['Attack']"
   ]
  },
  {
   "cell_type": "code",
   "execution_count": null,
   "metadata": {},
   "outputs": [],
   "source": [
    "df_pokemon['Total 2'] = df_pokemon['HP'] + df_pokemon['Attack']\n",
    "df_pokemon.sample(10)"
   ]
  },
  {
   "cell_type": "markdown",
   "metadata": {},
   "source": [
    "# Runden\n",
    "Die `.round()` Funktion entspricht der Funktion `=Runden()` in <font color='green'>**Excel**</font>. "
   ]
  },
  {
   "cell_type": "code",
   "execution_count": null,
   "metadata": {},
   "outputs": [],
   "source": [
    "(df_pokemon['Total 2']/df_pokemon['Total']).head(10)"
   ]
  },
  {
   "cell_type": "code",
   "execution_count": null,
   "metadata": {},
   "outputs": [],
   "source": [
    "# Wir schreiben das obige Beispiel um und speichern die Ergebnisse in einer neuen Spalte\n",
    "df_pokemon['Anteil T2'] = df_pokemon['Total 2']/df_pokemon['Total']\n",
    "df_pokemon['Anteil T2'].head(10)"
   ]
  },
  {
   "cell_type": "code",
   "execution_count": null,
   "metadata": {},
   "outputs": [],
   "source": [
    "# Alles in einem un mit Runden des Ergebnisses auf 2 Nachkommastellen\n",
    "df_pokemon['Anteil T2'] = df_pokemon['Total 2']/df_pokemon['Total']\n",
    "df_pokemon['Anteil T2'] = df_pokemon['Anteil T2'].round(2)\n",
    "df_pokemon.head(10)"
   ]
  },
  {
   "cell_type": "markdown",
   "metadata": {},
   "source": [
    "# Tipps und Tricks\n",
    "### Übersicht zu Serien:\n",
    "\n",
    "* ...aller möglichen einfachen Datentypen einer Serie: https://docs.scipy.org/doc/numpy/user/basics.types.html\n",
    "* ...aller Funktionen einer Serie https://pandas.pydata.org/pandas-docs/stable/reference/api/pandas.Series.html"
   ]
  }
 ],
 "metadata": {
  "anaconda-cloud": {},
  "kernelspec": {
   "display_name": "Python 3",
   "language": "python",
   "name": "python3"
  },
  "language_info": {
   "codemirror_mode": {
    "name": "ipython",
    "version": 3
   },
   "file_extension": ".py",
   "mimetype": "text/x-python",
   "name": "python",
   "nbconvert_exporter": "python",
   "pygments_lexer": "ipython3",
   "version": "3.6.7"
  }
 },
 "nbformat": 4,
 "nbformat_minor": 4
}
