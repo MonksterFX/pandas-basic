{
 "cells": [
  {
   "cell_type": "markdown",
   "metadata": {},
   "source": [
    "# 08-Visualisierungen\n",
    "In dieser Lektionen sollen grundliegende **Visualisierungsmöglichkeiten** mit Pandas aufgezeigt werden. Panda besitz einige Diagrammtypen die zur schnellen Überprüfung von Daten bestens geeignet sind. Natürlich gibt es außerdem die Möglichkeit komplexere Grafiken aus den Daten zu erstellen, wobei es hierbei weiterer Bibliotheken bedarf. \n",
    "\n",
    "--> *Mehr Informationen zu weitern Visualisierungsmöglichkeiten finden sich im Abschnitt \"Tipps and Tricks\"*"
   ]
  },
  {
   "cell_type": "code",
   "execution_count": null,
   "metadata": {},
   "outputs": [],
   "source": [
    "import pandas as pd"
   ]
  },
  {
   "cell_type": "code",
   "execution_count": null,
   "metadata": {},
   "outputs": [],
   "source": [
    "# Größeres Datenset einlesen\n",
    "df = pd.read_csv('../src/bigdata/120-years-of-olympic-history-athletes-and-results/athlete_events.csv')\n",
    "df.head()"
   ]
  },
  {
   "cell_type": "markdown",
   "metadata": {},
   "source": [
    "# BuildIn Diagramme\n",
    "## Das Linien Diagramm ``.plot()``"
   ]
  },
  {
   "cell_type": "code",
   "execution_count": null,
   "metadata": {},
   "outputs": [],
   "source": [
    "# Hier wollen wir die Anzahl der Teilnehmer pro Jahr (Sommerspiele) mit einem Linien Diagramm darstellen\n",
    "df_teilnehmer = df.drop_duplicates(['ID', 'Year'])\n",
    "df_teilnehmer = df_teilnehmer[df_teilnehmer['Season'] == 'Summer']\n",
    "\n",
    "# funktioniert auch mit einer Series\n",
    "df_teilnehmer.groupby('Year').size().plot()"
   ]
  },
  {
   "cell_type": "code",
   "execution_count": null,
   "metadata": {},
   "outputs": [],
   "source": [
    "# Schauen wir uns die Verteilung zwischen Frauen und Männern an\n",
    "df_teilnehmer_mw = df_teilnehmer.groupby(['Year', 'Sex']).size()\n",
    "df_teilnehmer_mw.head(10)"
   ]
  },
  {
   "cell_type": "code",
   "execution_count": null,
   "metadata": {},
   "outputs": [],
   "source": [
    "# Möchte das Geschlecht(Sex) als Spalte haben. Dafür benutzen wir unstack() \n",
    "df_teilnehmer_mw.unstack().head()"
   ]
  },
  {
   "cell_type": "code",
   "execution_count": null,
   "metadata": {},
   "outputs": [],
   "source": [
    "# Nun können wir die Daten dementsprechend plotten mit plot\n",
    "df_teilnehmer_mw.unstack().plot(color=['g', 'r'])"
   ]
  },
  {
   "cell_type": "markdown",
   "metadata": {},
   "source": [
    "## Das Histogramm ``.hist()``"
   ]
  },
  {
   "cell_type": "code",
   "execution_count": null,
   "metadata": {},
   "outputs": [],
   "source": [
    "# Im folgenden Abschnitt wollen wir ein Histogramm erstellen, indem dargestellt wird wie oft ein beliebiger Teilnehmer Gold gewonnen hat.\n",
    "df_gold = df[df['Medal'] == 'Gold']\n",
    "df_gold = df_gold[['ID', 'Medal', 'Name']].groupby(['ID', 'Name']).count()\n",
    "df_gold.hist(['Medal'])"
   ]
  },
  {
   "cell_type": "code",
   "execution_count": null,
   "metadata": {},
   "outputs": [],
   "source": [
    "# Feineinstellungen, Einteilung des Histogramms\n",
    "df_gold.hist(['Medal'], bins=range(3,10,1))"
   ]
  },
  {
   "cell_type": "markdown",
   "metadata": {},
   "source": [
    "# Der BoxPlot ``.boxplot()``\n",
    "Mit dem BoxPlot lassen sich sofort folgende statistische Werte ablesen:\n",
    "* Minimum und Maximum\n",
    "* Mittelwert und Median\n",
    "* oberes und unteres Quantil\n",
    "* Ausreißer"
   ]
  },
  {
   "cell_type": "code",
   "execution_count": null,
   "metadata": {},
   "outputs": [],
   "source": [
    "# Im folgenden wird die Verteilung von Gewicht, Alter und Größe der weiblichen Teilnehmerinnen betrachtet\n",
    "df_weiblich= df[df['Sex'] == 'F']\n",
    "df_weiblich.sample(5)"
   ]
  },
  {
   "cell_type": "code",
   "execution_count": null,
   "metadata": {},
   "outputs": [],
   "source": [
    "# Achtung noch können Teilnehmerinnen doppelt vorkommen\n",
    "df_weiblich = df_weiblich.drop_duplicates(subset=['ID']).sort_values('Name')\n",
    "df_weiblich.boxplot(['Age', 'Height', 'Weight'])"
   ]
  },
  {
   "cell_type": "code",
   "execution_count": null,
   "metadata": {},
   "outputs": [],
   "source": [
    "# ohne Extremwerte\n",
    "df_weiblich.boxplot(['Weight'], showfliers=False)"
   ]
  },
  {
   "cell_type": "markdown",
   "metadata": {},
   "source": [
    "## Subplots\n",
    "Subplot ermöglichen mehrere kleine Grafiken in einer Reihe oder aber detalierte Einstellungen"
   ]
  },
  {
   "cell_type": "code",
   "execution_count": null,
   "metadata": {},
   "outputs": [],
   "source": [
    "# Zunächst muss matplotlib as import hinzugefügt werden\n",
    "import matplotlib.pyplot as plt"
   ]
  },
  {
   "cell_type": "code",
   "execution_count": null,
   "metadata": {},
   "outputs": [],
   "source": [
    "# Als nächstes erstellen wir ein Layout mit subplots (RowCount, ColumnCount), entfernen das Grid und die Outliners\n",
    "fig, ax = plt.subplots(1,3, figsize=(12, 6))\n",
    "\n",
    "# Verwenden des jeweiligen slots über ax[1-3] \n",
    "df_weiblich.boxplot(['Age'], ax=ax[0], showfliers=False, grid=False)\n",
    "df_weiblich.boxplot(['Height'], ax=ax[1], showfliers=False, grid=False)\n",
    "df_weiblich.boxplot(['Weight'], ax=ax[2], showfliers=False, grid=False)"
   ]
  },
  {
   "cell_type": "markdown",
   "metadata": {},
   "source": [
    "### Zusatz: Build from Scratch"
   ]
  },
  {
   "cell_type": "code",
   "execution_count": null,
   "metadata": {},
   "outputs": [],
   "source": [
    "# Vorgehen findet sich auch in der Dokumentation wieder\n",
    "df_athlets = df.drop_duplicates(subset=['ID']).sort_values('Name')\n",
    "\n",
    "w = df_athlets[df_athlets['Sex'] == 'F']['Weight'].dropna()\n",
    "m = df_athlets[df_athlets['Sex'] == 'M']['Weight'].dropna()\n",
    "data=[w, m]\n",
    "\n",
    "fig, ax = plt.subplots(figsize=(5, 10))\n",
    "ax.boxplot(x=data)\n",
    "plt.show()"
   ]
  },
  {
   "cell_type": "markdown",
   "metadata": {},
   "source": [
    "### Zusatzinformation - Mehr Einstellungen\n",
    "Es gibt viele Einstellungen die vorgenommen werden können. Exemplarisch wurde dies am BoxPlot gezeigt. Hinter der boxplot, so wie hinter allen Grafiken die mit Pandas erstellt werden können, verbirgt sich die Bibliothek Matplotlib. Daher können wir alle Paramter dieser Bibliothek nutzen. \n",
    "\n",
    "*Beispiel:*\n",
    "```python\n",
    "df_weiblich.boxplot(['Weight'], ax=ax[2], showfliers=False, grid=False)\n",
    "```\n",
    "\n",
    "Der Parameter **ax** und **grid** ist aus der Dokumentation der Pandabibliothek zu entnehmen und der Parameter **showfliers** aus Matplot selber.\n",
    "\n",
    "---\n",
    "\n",
    "*Beispiele findest du unter anderem hier:*\n",
    "* Pandas - boxplot: https://pandas.pydata.org/pandas-docs/stable/reference/api/pandas.DataFrame.boxplot.html#pandas.DataFrame.boxplot\n",
    "* Matplot - boxplot: https://matplotlib.org/api/_as_gen/matplotlib.pyplot.boxplot.html#matplotlib.pyplot.boxplot\n"
   ]
  },
  {
   "cell_type": "markdown",
   "metadata": {},
   "source": [
    "# Tipps und Tricks"
   ]
  },
  {
   "cell_type": "markdown",
   "metadata": {},
   "source": [
    "### Guide durch die Visualisierungsmöglichkeiten mit Pandas\n",
    "* https://pandas.pydata.org/pandas-docs/stable/user_guide/visualization.html\n",
    "\n",
    "### Weiter Bibliotheken für Visualisierungen\n",
    "* Bokeh -   https://bokeh.pydata.org/en/latest/index.html\n",
    "* PyPlot -  https://matplotlib.org/3.1.0/tutorials/introductory/pyplot.html\n",
    "* Seaborn - https://seaborn.pydata.org/\n",
    "* ipyleaflet - https://github.com/jupyter-widgets/ipyleaflet\n",
    "\n"
   ]
  }
 ],
 "metadata": {
  "kernelspec": {
   "display_name": "Python 3",
   "language": "python",
   "name": "python3"
  },
  "language_info": {
   "codemirror_mode": {
    "name": "ipython",
    "version": 3
   },
   "file_extension": ".py",
   "mimetype": "text/x-python",
   "name": "python",
   "nbconvert_exporter": "python",
   "pygments_lexer": "ipython3",
   "version": "3.6.7"
  }
 },
 "nbformat": 4,
 "nbformat_minor": 4
}
