{
 "cells": [
  {
   "cell_type": "markdown",
   "metadata": {},
   "source": [
    "# 05-Arbeiten mit Text\n",
    "Arbeiten mit Text stellt für Datenanalyse immer eine besondere Herausforderung dar. Deshalb bietet Pandas eine ganzes Set an Funktionen um Texte in DataFrames zu bearbeiten oder zu analysieren. "
   ]
  },
  {
   "cell_type": "markdown",
   "metadata": {},
   "source": [
    "## Importieren der Daten"
   ]
  },
  {
   "cell_type": "code",
   "execution_count": null,
   "metadata": {},
   "outputs": [],
   "source": [
    "import pandas as pd"
   ]
  },
  {
   "cell_type": "code",
   "execution_count": null,
   "metadata": {},
   "outputs": [],
   "source": [
    "df_namen = pd.read_csv('../src/vorname_nachname.csv', sep=';')\n",
    "df_namen.head()"
   ]
  },
  {
   "cell_type": "markdown",
   "metadata": {},
   "source": [
    "## Auffüllen fehlender Daten\n",
    "Wollen wir herausfinden, welche Datensätze von fehlenden Werte betroffen sind so können wir mit ``df.info()`` uns eine Übersicht über die Lage verschaffen. "
   ]
  },
  {
   "cell_type": "code",
   "execution_count": null,
   "metadata": {},
   "outputs": [],
   "source": [
    "df_namen.info()"
   ]
  },
  {
   "cell_type": "markdown",
   "metadata": {},
   "source": [
    "Möchten wir diese Daten nun aus dem DataFrame herausfiltern benutzen wir ``.isna()`` als Filter."
   ]
  },
  {
   "cell_type": "code",
   "execution_count": null,
   "metadata": {},
   "outputs": [],
   "source": [
    "df_namen[df_namen['title'].isna()]"
   ]
  },
  {
   "cell_type": "markdown",
   "metadata": {},
   "source": [
    "Zum Ausfüllen fehlender Daten (durch NaN gekennzeichnet) können wir die Funktion `.fillna()` einer Series benutzen. "
   ]
  },
  {
   "cell_type": "code",
   "execution_count": null,
   "metadata": {},
   "outputs": [],
   "source": [
    "# Ausfüllen fehlender Titel mit einem leeren String\n",
    "df_namen['title'] = df_namen['title'].fillna('')\n",
    "df_namen"
   ]
  },
  {
   "cell_type": "markdown",
   "metadata": {},
   "source": [
    "## Text formatieren\n",
    "* Leerzeichen entfernen mit - `.str.strip()`\n",
    "* Nur Großbuchstaben (Upper Case) - `.str.upper()`\n",
    "* Nur Kleinbuchstaben (Lower Case) - `.str.lower()`\n",
    "* Nur den Ersten Buchstaben groß schreiben (Capital) - `.str.capitalize()`\n",
    "* Texte immer Pascal Case schreiben (Title) - `.str.title()`"
   ]
  },
  {
   "cell_type": "code",
   "execution_count": null,
   "metadata": {},
   "outputs": [],
   "source": [
    "# Problem: Führende und Nachfolgende Leerzeichen\n",
    "df_namen['vorname']"
   ]
  },
  {
   "cell_type": "code",
   "execution_count": null,
   "metadata": {},
   "outputs": [],
   "source": [
    "df_namen['vorname'] = df_namen['vorname'].str.strip()\n",
    "df_namen['vorname']"
   ]
  },
  {
   "cell_type": "code",
   "execution_count": null,
   "metadata": {},
   "outputs": [],
   "source": [
    "df_namen['vorname'].str.upper()"
   ]
  },
  {
   "cell_type": "code",
   "execution_count": null,
   "metadata": {},
   "outputs": [],
   "source": [
    "df_namen['vorname'].str.lower()"
   ]
  },
  {
   "cell_type": "code",
   "execution_count": null,
   "metadata": {},
   "outputs": [],
   "source": [
    "df_namen['nachname'] = df_namen['nachname'].str.capitalize()\n",
    "df_namen['nachname']"
   ]
  },
  {
   "cell_type": "code",
   "execution_count": null,
   "metadata": {},
   "outputs": [],
   "source": [
    "df_namen['title'] = df_namen['title'].str.title()\n",
    "df_namen['title']"
   ]
  },
  {
   "cell_type": "markdown",
   "metadata": {},
   "source": [
    "## Trennen und Verbinden"
   ]
  },
  {
   "cell_type": "markdown",
   "metadata": {},
   "source": [
    "### Verbinden\n",
    "Mit `+` oder `.str.cat()`"
   ]
  },
  {
   "cell_type": "code",
   "execution_count": null,
   "metadata": {},
   "outputs": [],
   "source": [
    "df_namen['vorname'] + df_namen['nachname']"
   ]
  },
  {
   "cell_type": "code",
   "execution_count": null,
   "metadata": {},
   "outputs": [],
   "source": [
    "df_namen['vorname'] + ' ' + df_namen['nachname']"
   ]
  },
  {
   "cell_type": "code",
   "execution_count": null,
   "metadata": {},
   "outputs": [],
   "source": [
    "df_namen['vorname'].str.cat(df_namen['nachname'], sep=' ')"
   ]
  },
  {
   "cell_type": "code",
   "execution_count": null,
   "metadata": {},
   "outputs": [],
   "source": [
    "# Für die weitere Arbeit im Dataframe speichern wir uns die Kombination aus Vorname und Nachname in einer neuen Spalte/Series\n",
    "df_namen['name'] = df_namen['vorname'].str.cat(df_namen['nachname'], sep=' ')\n",
    "df_namen.head()"
   ]
  },
  {
   "cell_type": "markdown",
   "metadata": {},
   "source": [
    "### Trennen\n",
    "Mit `.str.split()`"
   ]
  },
  {
   "cell_type": "code",
   "execution_count": null,
   "metadata": {},
   "outputs": [],
   "source": [
    "df_namen['name'].str.split(' ', expand=True)"
   ]
  },
  {
   "cell_type": "code",
   "execution_count": null,
   "metadata": {},
   "outputs": [],
   "source": [
    "# Zugriff erfolgt einzelnd\n",
    "df_namen['vorname_split'] = df_namen['name'].str.split(' ', expand=True)[0]\n",
    "df_namen['nachname_split'] = df_namen['name'].str.split(' ', expand=True)[1]\n",
    "df_namen.head()"
   ]
  },
  {
   "cell_type": "code",
   "execution_count": null,
   "metadata": {},
   "outputs": [],
   "source": [
    "df_namen['name'].str.split(' ', expand=True)"
   ]
  },
  {
   "cell_type": "code",
   "execution_count": null,
   "metadata": {},
   "outputs": [],
   "source": [
    "# Alternativ, schöner und schneller.\n",
    "df_namen[['vorname_split', 'nachname_split']] = df_namen['name'].str.split(' ', expand=True)\n",
    "df_namen"
   ]
  },
  {
   "cell_type": "markdown",
   "metadata": {},
   "source": [
    "## Suchen und Ersetzen"
   ]
  },
  {
   "cell_type": "markdown",
   "metadata": {},
   "source": [
    "### Suchen\n",
    "Mit `.str.contains()` und `.str.startswith()`"
   ]
  },
  {
   "cell_type": "code",
   "execution_count": null,
   "metadata": {},
   "outputs": [],
   "source": [
    "df_namen['title'].str.contains('Dr.')"
   ]
  },
  {
   "cell_type": "code",
   "execution_count": null,
   "metadata": {},
   "outputs": [],
   "source": [
    "df_namen[df_namen['title'].str.contains('Dr.')]"
   ]
  },
  {
   "cell_type": "code",
   "execution_count": null,
   "metadata": {},
   "outputs": [],
   "source": [
    "df_namen['nachname'].str.startswith('S')"
   ]
  },
  {
   "cell_type": "code",
   "execution_count": null,
   "metadata": {},
   "outputs": [],
   "source": [
    "df_namen[df_namen['nachname'].str.startswith('Sa')]"
   ]
  },
  {
   "cell_type": "markdown",
   "metadata": {},
   "source": [
    "### Ersetzen\n",
    "Mit `.str.replace()`"
   ]
  },
  {
   "cell_type": "code",
   "execution_count": null,
   "metadata": {},
   "outputs": [],
   "source": [
    "df_namen['title'] = df_namen['title'].str.replace('Med.', '')\n",
    "df_namen"
   ]
  },
  {
   "cell_type": "markdown",
   "metadata": {},
   "source": [
    "# Tipps und Tricks\n",
    "* User Guide zum Arbeiten mit Text: https://pandas.pydata.org/pandas-docs/stable/user_guide/text.html\n",
    "* User Guide zur Behandlung fehlender Daten :https://pandas.pydata.org/pandas-docs/stable/user_guide/missing_data.html#missing-data"
   ]
  }
 ],
 "metadata": {
  "kernelspec": {
   "display_name": "Python 3",
   "language": "python",
   "name": "python3"
  },
  "language_info": {
   "codemirror_mode": {
    "name": "ipython",
    "version": 3
   },
   "file_extension": ".py",
   "mimetype": "text/x-python",
   "name": "python",
   "nbconvert_exporter": "python",
   "pygments_lexer": "ipython3",
   "version": "3.7.1"
  }
 },
 "nbformat": 4,
 "nbformat_minor": 4
}
