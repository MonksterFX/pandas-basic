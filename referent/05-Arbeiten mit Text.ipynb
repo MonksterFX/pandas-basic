{
 "cells": [
  {
   "cell_type": "markdown",
   "metadata": {},
   "source": [
    "# 05-Arbeiten mit Text\n",
    "Arbeiten mit Text stellt für Datenanalyse immer eine besondere Herausforderung dar. Deshalb bietet Pandas eine ganzes Set an Funktionen um Texte in DataFrames zu bearbeiten oder zu analysieren. "
   ]
  },
  {
   "cell_type": "markdown",
   "metadata": {},
   "source": [
    "## Importieren der Daten"
   ]
  },
  {
   "cell_type": "code",
   "execution_count": 29,
   "metadata": {},
   "outputs": [],
   "source": [
    "import pandas as pd"
   ]
  },
  {
   "cell_type": "code",
   "execution_count": 30,
   "metadata": {},
   "outputs": [
    {
     "data": {
      "text/html": [
       "<div>\n",
       "<style scoped>\n",
       "    .dataframe tbody tr th:only-of-type {\n",
       "        vertical-align: middle;\n",
       "    }\n",
       "\n",
       "    .dataframe tbody tr th {\n",
       "        vertical-align: top;\n",
       "    }\n",
       "\n",
       "    .dataframe thead th {\n",
       "        text-align: right;\n",
       "    }\n",
       "</style>\n",
       "<table border=\"1\" class=\"dataframe\">\n",
       "  <thead>\n",
       "    <tr style=\"text-align: right;\">\n",
       "      <th></th>\n",
       "      <th>Unnamed: 0</th>\n",
       "      <th>title</th>\n",
       "      <th>vorname</th>\n",
       "      <th>nachname</th>\n",
       "    </tr>\n",
       "  </thead>\n",
       "  <tbody>\n",
       "    <tr>\n",
       "      <th>0</th>\n",
       "      <td>0</td>\n",
       "      <td>dr.</td>\n",
       "      <td>Mozelle</td>\n",
       "      <td>hellier</td>\n",
       "    </tr>\n",
       "    <tr>\n",
       "      <th>1</th>\n",
       "      <td>1</td>\n",
       "      <td>prof. dr.</td>\n",
       "      <td>Quentin</td>\n",
       "      <td>shreenan</td>\n",
       "    </tr>\n",
       "    <tr>\n",
       "      <th>2</th>\n",
       "      <td>2</td>\n",
       "      <td>dr.</td>\n",
       "      <td>Emory</td>\n",
       "      <td>stienham</td>\n",
       "    </tr>\n",
       "    <tr>\n",
       "      <th>3</th>\n",
       "      <td>3</td>\n",
       "      <td>NaN</td>\n",
       "      <td>Nils</td>\n",
       "      <td>ricks</td>\n",
       "    </tr>\n",
       "    <tr>\n",
       "      <th>4</th>\n",
       "      <td>4</td>\n",
       "      <td>NaN</td>\n",
       "      <td>Jean</td>\n",
       "      <td>ayscough</td>\n",
       "    </tr>\n",
       "  </tbody>\n",
       "</table>\n",
       "</div>"
      ],
      "text/plain": [
       "   Unnamed: 0      title  vorname  nachname\n",
       "0           0        dr.  Mozelle   hellier\n",
       "1           1  prof. dr.  Quentin  shreenan\n",
       "2           2        dr.    Emory  stienham\n",
       "3           3        NaN     Nils     ricks\n",
       "4           4        NaN     Jean  ayscough"
      ]
     },
     "execution_count": 30,
     "metadata": {},
     "output_type": "execute_result"
    }
   ],
   "source": [
    "df_namen = pd.read_csv('../src/vorname_nachname_clean.csv', sep=';')\n",
    "df_namen.head()"
   ]
  },
  {
   "cell_type": "markdown",
   "metadata": {},
   "source": [
    "## Auffüllen fehlender Daten\n",
    "Zum Ausfüllen fehlender Daten (durch NaN) gekennzeichnet können wir die Funktion `.fillna()` einer Series benutzen."
   ]
  },
  {
   "cell_type": "code",
   "execution_count": 31,
   "metadata": {},
   "outputs": [
    {
     "data": {
      "text/html": [
       "<div>\n",
       "<style scoped>\n",
       "    .dataframe tbody tr th:only-of-type {\n",
       "        vertical-align: middle;\n",
       "    }\n",
       "\n",
       "    .dataframe tbody tr th {\n",
       "        vertical-align: top;\n",
       "    }\n",
       "\n",
       "    .dataframe thead th {\n",
       "        text-align: right;\n",
       "    }\n",
       "</style>\n",
       "<table border=\"1\" class=\"dataframe\">\n",
       "  <thead>\n",
       "    <tr style=\"text-align: right;\">\n",
       "      <th></th>\n",
       "      <th>Unnamed: 0</th>\n",
       "      <th>title</th>\n",
       "      <th>vorname</th>\n",
       "      <th>nachname</th>\n",
       "    </tr>\n",
       "  </thead>\n",
       "  <tbody>\n",
       "    <tr>\n",
       "      <th>0</th>\n",
       "      <td>0</td>\n",
       "      <td>dr.</td>\n",
       "      <td>Mozelle</td>\n",
       "      <td>hellier</td>\n",
       "    </tr>\n",
       "    <tr>\n",
       "      <th>1</th>\n",
       "      <td>1</td>\n",
       "      <td>prof. dr.</td>\n",
       "      <td>Quentin</td>\n",
       "      <td>shreenan</td>\n",
       "    </tr>\n",
       "    <tr>\n",
       "      <th>2</th>\n",
       "      <td>2</td>\n",
       "      <td>dr.</td>\n",
       "      <td>Emory</td>\n",
       "      <td>stienham</td>\n",
       "    </tr>\n",
       "    <tr>\n",
       "      <th>3</th>\n",
       "      <td>3</td>\n",
       "      <td></td>\n",
       "      <td>Nils</td>\n",
       "      <td>ricks</td>\n",
       "    </tr>\n",
       "    <tr>\n",
       "      <th>4</th>\n",
       "      <td>4</td>\n",
       "      <td></td>\n",
       "      <td>Jean</td>\n",
       "      <td>ayscough</td>\n",
       "    </tr>\n",
       "  </tbody>\n",
       "</table>\n",
       "</div>"
      ],
      "text/plain": [
       "   Unnamed: 0      title  vorname  nachname\n",
       "0           0        dr.  Mozelle   hellier\n",
       "1           1  prof. dr.  Quentin  shreenan\n",
       "2           2        dr.    Emory  stienham\n",
       "3           3                Nils     ricks\n",
       "4           4                Jean  ayscough"
      ]
     },
     "execution_count": 31,
     "metadata": {},
     "output_type": "execute_result"
    }
   ],
   "source": [
    "# Ausfüllen fehlender Titel mit einem leeren String\n",
    "df_namen = df_namen.fillna('')\n",
    "df_namen.head()"
   ]
  },
  {
   "cell_type": "markdown",
   "metadata": {},
   "source": [
    "## Text formatieren\n",
    "* Leerzeichen entfernen mit - `.str.strip()`\n",
    "* Nur Großbuchstaben (Upper Case) - `.str.upper()`\n",
    "* Nur Kleinbuchstaben (Lower Case) - `.str.lower()`\n",
    "* Nur den Ersten Buchstaben groß schreiben (Capital) - `.str.capitalize()`\n",
    "* Texte immer Pascal Case schreiben (Title) - `.str.title()`"
   ]
  },
  {
   "cell_type": "code",
   "execution_count": 32,
   "metadata": {},
   "outputs": [
    {
     "data": {
      "text/plain": [
       "0      Mozelle\n",
       "1      Quentin\n",
       "2        Emory\n",
       "3         Nils\n",
       "4         Jean\n",
       "5      Brander\n",
       "6        Debee\n",
       "7    Doloritas\n",
       "8         Nils\n",
       "9     Joscelin\n",
       "Name: vorname, dtype: object"
      ]
     },
     "execution_count": 32,
     "metadata": {},
     "output_type": "execute_result"
    }
   ],
   "source": [
    "df_namen['vorname'].str.strip()"
   ]
  },
  {
   "cell_type": "code",
   "execution_count": 33,
   "metadata": {},
   "outputs": [
    {
     "data": {
      "text/plain": [
       "0      MOZELLE\n",
       "1      QUENTIN\n",
       "2        EMORY\n",
       "3         NILS\n",
       "4         JEAN\n",
       "5      BRANDER\n",
       "6        DEBEE\n",
       "7    DOLORITAS\n",
       "8         NILS\n",
       "9     JOSCELIN\n",
       "Name: vorname, dtype: object"
      ]
     },
     "execution_count": 33,
     "metadata": {},
     "output_type": "execute_result"
    }
   ],
   "source": [
    "df_namen['vorname'].str.upper()"
   ]
  },
  {
   "cell_type": "code",
   "execution_count": 34,
   "metadata": {},
   "outputs": [
    {
     "data": {
      "text/plain": [
       "0      mozelle\n",
       "1      quentin\n",
       "2        emory\n",
       "3         nils\n",
       "4         jean\n",
       "5      brander\n",
       "6        debee\n",
       "7    doloritas\n",
       "8         nils\n",
       "9     joscelin\n",
       "Name: vorname, dtype: object"
      ]
     },
     "execution_count": 34,
     "metadata": {},
     "output_type": "execute_result"
    }
   ],
   "source": [
    "df_namen['vorname'].str.lower()"
   ]
  },
  {
   "cell_type": "code",
   "execution_count": 35,
   "metadata": {},
   "outputs": [
    {
     "data": {
      "text/plain": [
       "0        Hellier\n",
       "1       Shreenan\n",
       "2       Stienham\n",
       "3          Ricks\n",
       "4       Ayscough\n",
       "5      Santorini\n",
       "6    Vasilischev\n",
       "7          Moden\n",
       "8       Macourek\n",
       "9         Savege\n",
       "Name: nachname, dtype: object"
      ]
     },
     "execution_count": 35,
     "metadata": {},
     "output_type": "execute_result"
    }
   ],
   "source": [
    "df_namen['nachname'].str.capitalize()"
   ]
  },
  {
   "cell_type": "code",
   "execution_count": 36,
   "metadata": {},
   "outputs": [
    {
     "data": {
      "text/plain": [
       "0          Dr.\n",
       "1    Prof. Dr.\n",
       "2          Dr.\n",
       "3             \n",
       "4             \n",
       "5             \n",
       "6         Med.\n",
       "7             \n",
       "8     Dr. Med.\n",
       "9             \n",
       "Name: title, dtype: object"
      ]
     },
     "execution_count": 36,
     "metadata": {},
     "output_type": "execute_result"
    }
   ],
   "source": [
    "df_namen['title'].str.title()"
   ]
  },
  {
   "cell_type": "markdown",
   "metadata": {},
   "source": [
    "## Trennen und Verbinden"
   ]
  },
  {
   "cell_type": "markdown",
   "metadata": {},
   "source": [
    "### Verbinden\n",
    "Mit `+` oder `.str.cat()`"
   ]
  },
  {
   "cell_type": "code",
   "execution_count": 37,
   "metadata": {},
   "outputs": [
    {
     "data": {
      "text/plain": [
       "0      Mozellehellier\n",
       "1     Quentinshreenan\n",
       "2       Emorystienham\n",
       "3           Nilsricks\n",
       "4        Jeanayscough\n",
       "5    Brandersantorini\n",
       "6    Debeevasilischev\n",
       "7      Doloritasmoden\n",
       "8        Nilsmacourek\n",
       "9      Joscelinsavege\n",
       "dtype: object"
      ]
     },
     "execution_count": 37,
     "metadata": {},
     "output_type": "execute_result"
    }
   ],
   "source": [
    "df_namen['vorname'] + df_namen['nachname']"
   ]
  },
  {
   "cell_type": "code",
   "execution_count": 38,
   "metadata": {},
   "outputs": [
    {
     "data": {
      "text/plain": [
       "0      Mozelle hellier\n",
       "1     Quentin shreenan\n",
       "2       Emory stienham\n",
       "3           Nils ricks\n",
       "4        Jean ayscough\n",
       "5    Brander santorini\n",
       "6    Debee vasilischev\n",
       "7      Doloritas moden\n",
       "8        Nils macourek\n",
       "9      Joscelin savege\n",
       "dtype: object"
      ]
     },
     "execution_count": 38,
     "metadata": {},
     "output_type": "execute_result"
    }
   ],
   "source": [
    "df_namen['vorname'] + ' ' + df_namen['nachname']"
   ]
  },
  {
   "cell_type": "code",
   "execution_count": 39,
   "metadata": {},
   "outputs": [
    {
     "data": {
      "text/plain": [
       "0      Mozelle hellier\n",
       "1     Quentin shreenan\n",
       "2       Emory stienham\n",
       "3           Nils ricks\n",
       "4        Jean ayscough\n",
       "5    Brander santorini\n",
       "6    Debee vasilischev\n",
       "7      Doloritas moden\n",
       "8        Nils macourek\n",
       "9      Joscelin savege\n",
       "Name: vorname, dtype: object"
      ]
     },
     "execution_count": 39,
     "metadata": {},
     "output_type": "execute_result"
    }
   ],
   "source": [
    "df_namen['vorname'].str.cat(df_namen['nachname'], sep=' ')"
   ]
  },
  {
   "cell_type": "code",
   "execution_count": 40,
   "metadata": {},
   "outputs": [
    {
     "data": {
      "text/html": [
       "<div>\n",
       "<style scoped>\n",
       "    .dataframe tbody tr th:only-of-type {\n",
       "        vertical-align: middle;\n",
       "    }\n",
       "\n",
       "    .dataframe tbody tr th {\n",
       "        vertical-align: top;\n",
       "    }\n",
       "\n",
       "    .dataframe thead th {\n",
       "        text-align: right;\n",
       "    }\n",
       "</style>\n",
       "<table border=\"1\" class=\"dataframe\">\n",
       "  <thead>\n",
       "    <tr style=\"text-align: right;\">\n",
       "      <th></th>\n",
       "      <th>Unnamed: 0</th>\n",
       "      <th>title</th>\n",
       "      <th>vorname</th>\n",
       "      <th>nachname</th>\n",
       "      <th>name</th>\n",
       "    </tr>\n",
       "  </thead>\n",
       "  <tbody>\n",
       "    <tr>\n",
       "      <th>0</th>\n",
       "      <td>0</td>\n",
       "      <td>dr.</td>\n",
       "      <td>Mozelle</td>\n",
       "      <td>hellier</td>\n",
       "      <td>Mozelle hellier</td>\n",
       "    </tr>\n",
       "    <tr>\n",
       "      <th>1</th>\n",
       "      <td>1</td>\n",
       "      <td>prof. dr.</td>\n",
       "      <td>Quentin</td>\n",
       "      <td>shreenan</td>\n",
       "      <td>Quentin shreenan</td>\n",
       "    </tr>\n",
       "    <tr>\n",
       "      <th>2</th>\n",
       "      <td>2</td>\n",
       "      <td>dr.</td>\n",
       "      <td>Emory</td>\n",
       "      <td>stienham</td>\n",
       "      <td>Emory stienham</td>\n",
       "    </tr>\n",
       "    <tr>\n",
       "      <th>3</th>\n",
       "      <td>3</td>\n",
       "      <td></td>\n",
       "      <td>Nils</td>\n",
       "      <td>ricks</td>\n",
       "      <td>Nils ricks</td>\n",
       "    </tr>\n",
       "    <tr>\n",
       "      <th>4</th>\n",
       "      <td>4</td>\n",
       "      <td></td>\n",
       "      <td>Jean</td>\n",
       "      <td>ayscough</td>\n",
       "      <td>Jean ayscough</td>\n",
       "    </tr>\n",
       "  </tbody>\n",
       "</table>\n",
       "</div>"
      ],
      "text/plain": [
       "   Unnamed: 0      title  vorname  nachname              name\n",
       "0           0        dr.  Mozelle   hellier   Mozelle hellier\n",
       "1           1  prof. dr.  Quentin  shreenan  Quentin shreenan\n",
       "2           2        dr.    Emory  stienham    Emory stienham\n",
       "3           3                Nils     ricks        Nils ricks\n",
       "4           4                Jean  ayscough     Jean ayscough"
      ]
     },
     "execution_count": 40,
     "metadata": {},
     "output_type": "execute_result"
    }
   ],
   "source": [
    "# Für die weitere Arbeit im Dataframe speichern wir uns die Kombination aus Vorname und Nachname in einer neuen Spalte/Series\n",
    "df_namen['name'] = df_namen['vorname'].str.cat(df_namen['nachname'], sep=' ')\n",
    "df_namen.head()"
   ]
  },
  {
   "cell_type": "markdown",
   "metadata": {},
   "source": [
    "### Trennen\n",
    "Mit `.str.split()`"
   ]
  },
  {
   "cell_type": "code",
   "execution_count": 41,
   "metadata": {},
   "outputs": [
    {
     "data": {
      "text/html": [
       "<div>\n",
       "<style scoped>\n",
       "    .dataframe tbody tr th:only-of-type {\n",
       "        vertical-align: middle;\n",
       "    }\n",
       "\n",
       "    .dataframe tbody tr th {\n",
       "        vertical-align: top;\n",
       "    }\n",
       "\n",
       "    .dataframe thead th {\n",
       "        text-align: right;\n",
       "    }\n",
       "</style>\n",
       "<table border=\"1\" class=\"dataframe\">\n",
       "  <thead>\n",
       "    <tr style=\"text-align: right;\">\n",
       "      <th></th>\n",
       "      <th>0</th>\n",
       "      <th>1</th>\n",
       "    </tr>\n",
       "  </thead>\n",
       "  <tbody>\n",
       "    <tr>\n",
       "      <th>0</th>\n",
       "      <td>Mozelle</td>\n",
       "      <td>hellier</td>\n",
       "    </tr>\n",
       "    <tr>\n",
       "      <th>1</th>\n",
       "      <td>Quentin</td>\n",
       "      <td>shreenan</td>\n",
       "    </tr>\n",
       "    <tr>\n",
       "      <th>2</th>\n",
       "      <td>Emory</td>\n",
       "      <td>stienham</td>\n",
       "    </tr>\n",
       "    <tr>\n",
       "      <th>3</th>\n",
       "      <td>Nils</td>\n",
       "      <td>ricks</td>\n",
       "    </tr>\n",
       "    <tr>\n",
       "      <th>4</th>\n",
       "      <td>Jean</td>\n",
       "      <td>ayscough</td>\n",
       "    </tr>\n",
       "    <tr>\n",
       "      <th>5</th>\n",
       "      <td>Brander</td>\n",
       "      <td>santorini</td>\n",
       "    </tr>\n",
       "    <tr>\n",
       "      <th>6</th>\n",
       "      <td>Debee</td>\n",
       "      <td>vasilischev</td>\n",
       "    </tr>\n",
       "    <tr>\n",
       "      <th>7</th>\n",
       "      <td>Doloritas</td>\n",
       "      <td>moden</td>\n",
       "    </tr>\n",
       "    <tr>\n",
       "      <th>8</th>\n",
       "      <td>Nils</td>\n",
       "      <td>macourek</td>\n",
       "    </tr>\n",
       "    <tr>\n",
       "      <th>9</th>\n",
       "      <td>Joscelin</td>\n",
       "      <td>savege</td>\n",
       "    </tr>\n",
       "  </tbody>\n",
       "</table>\n",
       "</div>"
      ],
      "text/plain": [
       "           0            1\n",
       "0    Mozelle      hellier\n",
       "1    Quentin     shreenan\n",
       "2      Emory     stienham\n",
       "3       Nils        ricks\n",
       "4       Jean     ayscough\n",
       "5    Brander    santorini\n",
       "6      Debee  vasilischev\n",
       "7  Doloritas        moden\n",
       "8       Nils     macourek\n",
       "9   Joscelin       savege"
      ]
     },
     "execution_count": 41,
     "metadata": {},
     "output_type": "execute_result"
    }
   ],
   "source": [
    "df_namen['name'].str.split(' ', expand=True)"
   ]
  },
  {
   "cell_type": "code",
   "execution_count": 42,
   "metadata": {},
   "outputs": [
    {
     "data": {
      "text/html": [
       "<div>\n",
       "<style scoped>\n",
       "    .dataframe tbody tr th:only-of-type {\n",
       "        vertical-align: middle;\n",
       "    }\n",
       "\n",
       "    .dataframe tbody tr th {\n",
       "        vertical-align: top;\n",
       "    }\n",
       "\n",
       "    .dataframe thead th {\n",
       "        text-align: right;\n",
       "    }\n",
       "</style>\n",
       "<table border=\"1\" class=\"dataframe\">\n",
       "  <thead>\n",
       "    <tr style=\"text-align: right;\">\n",
       "      <th></th>\n",
       "      <th>Unnamed: 0</th>\n",
       "      <th>title</th>\n",
       "      <th>vorname</th>\n",
       "      <th>nachname</th>\n",
       "      <th>name</th>\n",
       "      <th>vorname_split</th>\n",
       "      <th>nachname_split</th>\n",
       "    </tr>\n",
       "  </thead>\n",
       "  <tbody>\n",
       "    <tr>\n",
       "      <th>0</th>\n",
       "      <td>0</td>\n",
       "      <td>dr.</td>\n",
       "      <td>Mozelle</td>\n",
       "      <td>hellier</td>\n",
       "      <td>Mozelle hellier</td>\n",
       "      <td>Mozelle</td>\n",
       "      <td>hellier</td>\n",
       "    </tr>\n",
       "    <tr>\n",
       "      <th>1</th>\n",
       "      <td>1</td>\n",
       "      <td>prof. dr.</td>\n",
       "      <td>Quentin</td>\n",
       "      <td>shreenan</td>\n",
       "      <td>Quentin shreenan</td>\n",
       "      <td>Quentin</td>\n",
       "      <td>shreenan</td>\n",
       "    </tr>\n",
       "    <tr>\n",
       "      <th>2</th>\n",
       "      <td>2</td>\n",
       "      <td>dr.</td>\n",
       "      <td>Emory</td>\n",
       "      <td>stienham</td>\n",
       "      <td>Emory stienham</td>\n",
       "      <td>Emory</td>\n",
       "      <td>stienham</td>\n",
       "    </tr>\n",
       "    <tr>\n",
       "      <th>3</th>\n",
       "      <td>3</td>\n",
       "      <td></td>\n",
       "      <td>Nils</td>\n",
       "      <td>ricks</td>\n",
       "      <td>Nils ricks</td>\n",
       "      <td>Nils</td>\n",
       "      <td>ricks</td>\n",
       "    </tr>\n",
       "    <tr>\n",
       "      <th>4</th>\n",
       "      <td>4</td>\n",
       "      <td></td>\n",
       "      <td>Jean</td>\n",
       "      <td>ayscough</td>\n",
       "      <td>Jean ayscough</td>\n",
       "      <td>Jean</td>\n",
       "      <td>ayscough</td>\n",
       "    </tr>\n",
       "  </tbody>\n",
       "</table>\n",
       "</div>"
      ],
      "text/plain": [
       "   Unnamed: 0      title  vorname  nachname              name vorname_split  \\\n",
       "0           0        dr.  Mozelle   hellier   Mozelle hellier       Mozelle   \n",
       "1           1  prof. dr.  Quentin  shreenan  Quentin shreenan       Quentin   \n",
       "2           2        dr.    Emory  stienham    Emory stienham         Emory   \n",
       "3           3                Nils     ricks        Nils ricks          Nils   \n",
       "4           4                Jean  ayscough     Jean ayscough          Jean   \n",
       "\n",
       "  nachname_split  \n",
       "0        hellier  \n",
       "1       shreenan  \n",
       "2       stienham  \n",
       "3          ricks  \n",
       "4       ayscough  "
      ]
     },
     "execution_count": 42,
     "metadata": {},
     "output_type": "execute_result"
    }
   ],
   "source": [
    "# Zugriff erfolgt einzelnd\n",
    "df_namen['vorname_split'] = df_namen['name'].str.split(' ', expand=True)[0]\n",
    "df_namen['nachname_split'] = df_namen['name'].str.split(' ', expand=True)[1]\n",
    "df_namen.head()"
   ]
  },
  {
   "cell_type": "code",
   "execution_count": 43,
   "metadata": {},
   "outputs": [
    {
     "data": {
      "text/html": [
       "<div>\n",
       "<style scoped>\n",
       "    .dataframe tbody tr th:only-of-type {\n",
       "        vertical-align: middle;\n",
       "    }\n",
       "\n",
       "    .dataframe tbody tr th {\n",
       "        vertical-align: top;\n",
       "    }\n",
       "\n",
       "    .dataframe thead th {\n",
       "        text-align: right;\n",
       "    }\n",
       "</style>\n",
       "<table border=\"1\" class=\"dataframe\">\n",
       "  <thead>\n",
       "    <tr style=\"text-align: right;\">\n",
       "      <th></th>\n",
       "      <th>0</th>\n",
       "      <th>1</th>\n",
       "    </tr>\n",
       "  </thead>\n",
       "  <tbody>\n",
       "    <tr>\n",
       "      <th>0</th>\n",
       "      <td>Mozelle</td>\n",
       "      <td>hellier</td>\n",
       "    </tr>\n",
       "    <tr>\n",
       "      <th>1</th>\n",
       "      <td>Quentin</td>\n",
       "      <td>shreenan</td>\n",
       "    </tr>\n",
       "    <tr>\n",
       "      <th>2</th>\n",
       "      <td>Emory</td>\n",
       "      <td>stienham</td>\n",
       "    </tr>\n",
       "    <tr>\n",
       "      <th>3</th>\n",
       "      <td>Nils</td>\n",
       "      <td>ricks</td>\n",
       "    </tr>\n",
       "    <tr>\n",
       "      <th>4</th>\n",
       "      <td>Jean</td>\n",
       "      <td>ayscough</td>\n",
       "    </tr>\n",
       "    <tr>\n",
       "      <th>5</th>\n",
       "      <td>Brander</td>\n",
       "      <td>santorini</td>\n",
       "    </tr>\n",
       "    <tr>\n",
       "      <th>6</th>\n",
       "      <td>Debee</td>\n",
       "      <td>vasilischev</td>\n",
       "    </tr>\n",
       "    <tr>\n",
       "      <th>7</th>\n",
       "      <td>Doloritas</td>\n",
       "      <td>moden</td>\n",
       "    </tr>\n",
       "    <tr>\n",
       "      <th>8</th>\n",
       "      <td>Nils</td>\n",
       "      <td>macourek</td>\n",
       "    </tr>\n",
       "    <tr>\n",
       "      <th>9</th>\n",
       "      <td>Joscelin</td>\n",
       "      <td>savege</td>\n",
       "    </tr>\n",
       "  </tbody>\n",
       "</table>\n",
       "</div>"
      ],
      "text/plain": [
       "           0            1\n",
       "0    Mozelle      hellier\n",
       "1    Quentin     shreenan\n",
       "2      Emory     stienham\n",
       "3       Nils        ricks\n",
       "4       Jean     ayscough\n",
       "5    Brander    santorini\n",
       "6      Debee  vasilischev\n",
       "7  Doloritas        moden\n",
       "8       Nils     macourek\n",
       "9   Joscelin       savege"
      ]
     },
     "execution_count": 43,
     "metadata": {},
     "output_type": "execute_result"
    }
   ],
   "source": [
    "df_namen['name'].str.split(' ', expand=True)"
   ]
  },
  {
   "cell_type": "code",
   "execution_count": 44,
   "metadata": {},
   "outputs": [
    {
     "data": {
      "text/html": [
       "<div>\n",
       "<style scoped>\n",
       "    .dataframe tbody tr th:only-of-type {\n",
       "        vertical-align: middle;\n",
       "    }\n",
       "\n",
       "    .dataframe tbody tr th {\n",
       "        vertical-align: top;\n",
       "    }\n",
       "\n",
       "    .dataframe thead th {\n",
       "        text-align: right;\n",
       "    }\n",
       "</style>\n",
       "<table border=\"1\" class=\"dataframe\">\n",
       "  <thead>\n",
       "    <tr style=\"text-align: right;\">\n",
       "      <th></th>\n",
       "      <th>Unnamed: 0</th>\n",
       "      <th>title</th>\n",
       "      <th>vorname</th>\n",
       "      <th>nachname</th>\n",
       "      <th>name</th>\n",
       "      <th>vorname_split</th>\n",
       "      <th>nachname_split</th>\n",
       "    </tr>\n",
       "  </thead>\n",
       "  <tbody>\n",
       "    <tr>\n",
       "      <th>0</th>\n",
       "      <td>0</td>\n",
       "      <td>dr.</td>\n",
       "      <td>Mozelle</td>\n",
       "      <td>hellier</td>\n",
       "      <td>Mozelle hellier</td>\n",
       "      <td>Mozelle</td>\n",
       "      <td>hellier</td>\n",
       "    </tr>\n",
       "    <tr>\n",
       "      <th>1</th>\n",
       "      <td>1</td>\n",
       "      <td>prof. dr.</td>\n",
       "      <td>Quentin</td>\n",
       "      <td>shreenan</td>\n",
       "      <td>Quentin shreenan</td>\n",
       "      <td>Quentin</td>\n",
       "      <td>shreenan</td>\n",
       "    </tr>\n",
       "    <tr>\n",
       "      <th>2</th>\n",
       "      <td>2</td>\n",
       "      <td>dr.</td>\n",
       "      <td>Emory</td>\n",
       "      <td>stienham</td>\n",
       "      <td>Emory stienham</td>\n",
       "      <td>Emory</td>\n",
       "      <td>stienham</td>\n",
       "    </tr>\n",
       "    <tr>\n",
       "      <th>3</th>\n",
       "      <td>3</td>\n",
       "      <td></td>\n",
       "      <td>Nils</td>\n",
       "      <td>ricks</td>\n",
       "      <td>Nils ricks</td>\n",
       "      <td>Nils</td>\n",
       "      <td>ricks</td>\n",
       "    </tr>\n",
       "    <tr>\n",
       "      <th>4</th>\n",
       "      <td>4</td>\n",
       "      <td></td>\n",
       "      <td>Jean</td>\n",
       "      <td>ayscough</td>\n",
       "      <td>Jean ayscough</td>\n",
       "      <td>Jean</td>\n",
       "      <td>ayscough</td>\n",
       "    </tr>\n",
       "    <tr>\n",
       "      <th>5</th>\n",
       "      <td>5</td>\n",
       "      <td></td>\n",
       "      <td>Brander</td>\n",
       "      <td>santorini</td>\n",
       "      <td>Brander santorini</td>\n",
       "      <td>Brander</td>\n",
       "      <td>santorini</td>\n",
       "    </tr>\n",
       "    <tr>\n",
       "      <th>6</th>\n",
       "      <td>6</td>\n",
       "      <td>med.</td>\n",
       "      <td>Debee</td>\n",
       "      <td>vasilischev</td>\n",
       "      <td>Debee vasilischev</td>\n",
       "      <td>Debee</td>\n",
       "      <td>vasilischev</td>\n",
       "    </tr>\n",
       "    <tr>\n",
       "      <th>7</th>\n",
       "      <td>7</td>\n",
       "      <td></td>\n",
       "      <td>Doloritas</td>\n",
       "      <td>moden</td>\n",
       "      <td>Doloritas moden</td>\n",
       "      <td>Doloritas</td>\n",
       "      <td>moden</td>\n",
       "    </tr>\n",
       "    <tr>\n",
       "      <th>8</th>\n",
       "      <td>8</td>\n",
       "      <td>dr. med.</td>\n",
       "      <td>Nils</td>\n",
       "      <td>macourek</td>\n",
       "      <td>Nils macourek</td>\n",
       "      <td>Nils</td>\n",
       "      <td>macourek</td>\n",
       "    </tr>\n",
       "    <tr>\n",
       "      <th>9</th>\n",
       "      <td>9</td>\n",
       "      <td></td>\n",
       "      <td>Joscelin</td>\n",
       "      <td>savege</td>\n",
       "      <td>Joscelin savege</td>\n",
       "      <td>Joscelin</td>\n",
       "      <td>savege</td>\n",
       "    </tr>\n",
       "  </tbody>\n",
       "</table>\n",
       "</div>"
      ],
      "text/plain": [
       "   Unnamed: 0      title    vorname     nachname               name  \\\n",
       "0           0        dr.    Mozelle      hellier    Mozelle hellier   \n",
       "1           1  prof. dr.    Quentin     shreenan   Quentin shreenan   \n",
       "2           2        dr.      Emory     stienham     Emory stienham   \n",
       "3           3                  Nils        ricks         Nils ricks   \n",
       "4           4                  Jean     ayscough      Jean ayscough   \n",
       "5           5               Brander    santorini  Brander santorini   \n",
       "6           6       med.      Debee  vasilischev  Debee vasilischev   \n",
       "7           7             Doloritas        moden    Doloritas moden   \n",
       "8           8   dr. med.       Nils     macourek      Nils macourek   \n",
       "9           9              Joscelin       savege    Joscelin savege   \n",
       "\n",
       "  vorname_split nachname_split  \n",
       "0       Mozelle        hellier  \n",
       "1       Quentin       shreenan  \n",
       "2         Emory       stienham  \n",
       "3          Nils          ricks  \n",
       "4          Jean       ayscough  \n",
       "5       Brander      santorini  \n",
       "6         Debee    vasilischev  \n",
       "7     Doloritas          moden  \n",
       "8          Nils       macourek  \n",
       "9      Joscelin         savege  "
      ]
     },
     "execution_count": 44,
     "metadata": {},
     "output_type": "execute_result"
    }
   ],
   "source": [
    "# Alternativ, schöner und schneller.\n",
    "df_namen[['vorname_split', 'nachname_split']] = df_namen['name'].str.split(' ', expand=True)\n",
    "df_namen"
   ]
  },
  {
   "cell_type": "markdown",
   "metadata": {},
   "source": [
    "## Suchen und Ersetzen"
   ]
  },
  {
   "cell_type": "markdown",
   "metadata": {},
   "source": [
    "### Suchen\n",
    "Mit `.str.contains()` und `.str.startswith()`"
   ]
  },
  {
   "cell_type": "code",
   "execution_count": 45,
   "metadata": {},
   "outputs": [
    {
     "data": {
      "text/plain": [
       "0    False\n",
       "1    False\n",
       "2    False\n",
       "3    False\n",
       "4    False\n",
       "5    False\n",
       "6    False\n",
       "7    False\n",
       "8    False\n",
       "9    False\n",
       "Name: title, dtype: bool"
      ]
     },
     "execution_count": 45,
     "metadata": {},
     "output_type": "execute_result"
    }
   ],
   "source": [
    "df_namen['title'].str.contains('Dr.')"
   ]
  },
  {
   "cell_type": "code",
   "execution_count": 46,
   "metadata": {},
   "outputs": [
    {
     "data": {
      "text/html": [
       "<div>\n",
       "<style scoped>\n",
       "    .dataframe tbody tr th:only-of-type {\n",
       "        vertical-align: middle;\n",
       "    }\n",
       "\n",
       "    .dataframe tbody tr th {\n",
       "        vertical-align: top;\n",
       "    }\n",
       "\n",
       "    .dataframe thead th {\n",
       "        text-align: right;\n",
       "    }\n",
       "</style>\n",
       "<table border=\"1\" class=\"dataframe\">\n",
       "  <thead>\n",
       "    <tr style=\"text-align: right;\">\n",
       "      <th></th>\n",
       "      <th>Unnamed: 0</th>\n",
       "      <th>title</th>\n",
       "      <th>vorname</th>\n",
       "      <th>nachname</th>\n",
       "      <th>name</th>\n",
       "      <th>vorname_split</th>\n",
       "      <th>nachname_split</th>\n",
       "    </tr>\n",
       "  </thead>\n",
       "  <tbody>\n",
       "  </tbody>\n",
       "</table>\n",
       "</div>"
      ],
      "text/plain": [
       "Empty DataFrame\n",
       "Columns: [Unnamed: 0, title, vorname, nachname, name, vorname_split, nachname_split]\n",
       "Index: []"
      ]
     },
     "execution_count": 46,
     "metadata": {},
     "output_type": "execute_result"
    }
   ],
   "source": [
    "df_namen[df_namen['title'].str.contains('Dr.')]"
   ]
  },
  {
   "cell_type": "code",
   "execution_count": 47,
   "metadata": {},
   "outputs": [
    {
     "data": {
      "text/plain": [
       "0    False\n",
       "1    False\n",
       "2    False\n",
       "3    False\n",
       "4    False\n",
       "5    False\n",
       "6    False\n",
       "7    False\n",
       "8    False\n",
       "9    False\n",
       "Name: nachname, dtype: bool"
      ]
     },
     "execution_count": 47,
     "metadata": {},
     "output_type": "execute_result"
    }
   ],
   "source": [
    "df_namen['nachname'].str.startswith('S')"
   ]
  },
  {
   "cell_type": "code",
   "execution_count": 48,
   "metadata": {},
   "outputs": [
    {
     "data": {
      "text/html": [
       "<div>\n",
       "<style scoped>\n",
       "    .dataframe tbody tr th:only-of-type {\n",
       "        vertical-align: middle;\n",
       "    }\n",
       "\n",
       "    .dataframe tbody tr th {\n",
       "        vertical-align: top;\n",
       "    }\n",
       "\n",
       "    .dataframe thead th {\n",
       "        text-align: right;\n",
       "    }\n",
       "</style>\n",
       "<table border=\"1\" class=\"dataframe\">\n",
       "  <thead>\n",
       "    <tr style=\"text-align: right;\">\n",
       "      <th></th>\n",
       "      <th>Unnamed: 0</th>\n",
       "      <th>title</th>\n",
       "      <th>vorname</th>\n",
       "      <th>nachname</th>\n",
       "      <th>name</th>\n",
       "      <th>vorname_split</th>\n",
       "      <th>nachname_split</th>\n",
       "    </tr>\n",
       "  </thead>\n",
       "  <tbody>\n",
       "  </tbody>\n",
       "</table>\n",
       "</div>"
      ],
      "text/plain": [
       "Empty DataFrame\n",
       "Columns: [Unnamed: 0, title, vorname, nachname, name, vorname_split, nachname_split]\n",
       "Index: []"
      ]
     },
     "execution_count": 48,
     "metadata": {},
     "output_type": "execute_result"
    }
   ],
   "source": [
    "df_namen[df_namen['nachname'].str.startswith('Sa')]"
   ]
  },
  {
   "cell_type": "markdown",
   "metadata": {},
   "source": [
    "### Ersetzen\n",
    "Mit `.str.replace()`"
   ]
  },
  {
   "cell_type": "code",
   "execution_count": 49,
   "metadata": {},
   "outputs": [
    {
     "data": {
      "text/html": [
       "<div>\n",
       "<style scoped>\n",
       "    .dataframe tbody tr th:only-of-type {\n",
       "        vertical-align: middle;\n",
       "    }\n",
       "\n",
       "    .dataframe tbody tr th {\n",
       "        vertical-align: top;\n",
       "    }\n",
       "\n",
       "    .dataframe thead th {\n",
       "        text-align: right;\n",
       "    }\n",
       "</style>\n",
       "<table border=\"1\" class=\"dataframe\">\n",
       "  <thead>\n",
       "    <tr style=\"text-align: right;\">\n",
       "      <th></th>\n",
       "      <th>Unnamed: 0</th>\n",
       "      <th>title</th>\n",
       "      <th>vorname</th>\n",
       "      <th>nachname</th>\n",
       "      <th>name</th>\n",
       "      <th>vorname_split</th>\n",
       "      <th>nachname_split</th>\n",
       "    </tr>\n",
       "  </thead>\n",
       "  <tbody>\n",
       "    <tr>\n",
       "      <th>0</th>\n",
       "      <td>0</td>\n",
       "      <td>dr.</td>\n",
       "      <td>Mozelle</td>\n",
       "      <td>hellier</td>\n",
       "      <td>Mozelle hellier</td>\n",
       "      <td>Mozelle</td>\n",
       "      <td>hellier</td>\n",
       "    </tr>\n",
       "    <tr>\n",
       "      <th>1</th>\n",
       "      <td>1</td>\n",
       "      <td>prof. dr.</td>\n",
       "      <td>Quentin</td>\n",
       "      <td>shreenan</td>\n",
       "      <td>Quentin shreenan</td>\n",
       "      <td>Quentin</td>\n",
       "      <td>shreenan</td>\n",
       "    </tr>\n",
       "    <tr>\n",
       "      <th>2</th>\n",
       "      <td>2</td>\n",
       "      <td>dr.</td>\n",
       "      <td>Emory</td>\n",
       "      <td>stienham</td>\n",
       "      <td>Emory stienham</td>\n",
       "      <td>Emory</td>\n",
       "      <td>stienham</td>\n",
       "    </tr>\n",
       "    <tr>\n",
       "      <th>3</th>\n",
       "      <td>3</td>\n",
       "      <td></td>\n",
       "      <td>Nils</td>\n",
       "      <td>ricks</td>\n",
       "      <td>Nils ricks</td>\n",
       "      <td>Nils</td>\n",
       "      <td>ricks</td>\n",
       "    </tr>\n",
       "    <tr>\n",
       "      <th>4</th>\n",
       "      <td>4</td>\n",
       "      <td></td>\n",
       "      <td>Jean</td>\n",
       "      <td>ayscough</td>\n",
       "      <td>Jean ayscough</td>\n",
       "      <td>Jean</td>\n",
       "      <td>ayscough</td>\n",
       "    </tr>\n",
       "    <tr>\n",
       "      <th>5</th>\n",
       "      <td>5</td>\n",
       "      <td></td>\n",
       "      <td>Brander</td>\n",
       "      <td>santorini</td>\n",
       "      <td>Brander santorini</td>\n",
       "      <td>Brander</td>\n",
       "      <td>santorini</td>\n",
       "    </tr>\n",
       "    <tr>\n",
       "      <th>6</th>\n",
       "      <td>6</td>\n",
       "      <td>med.</td>\n",
       "      <td>Debee</td>\n",
       "      <td>vasilischev</td>\n",
       "      <td>Debee vasilischev</td>\n",
       "      <td>Debee</td>\n",
       "      <td>vasilischev</td>\n",
       "    </tr>\n",
       "    <tr>\n",
       "      <th>7</th>\n",
       "      <td>7</td>\n",
       "      <td></td>\n",
       "      <td>Doloritas</td>\n",
       "      <td>moden</td>\n",
       "      <td>Doloritas moden</td>\n",
       "      <td>Doloritas</td>\n",
       "      <td>moden</td>\n",
       "    </tr>\n",
       "    <tr>\n",
       "      <th>8</th>\n",
       "      <td>8</td>\n",
       "      <td>dr. med.</td>\n",
       "      <td>Nils</td>\n",
       "      <td>macourek</td>\n",
       "      <td>Nils macourek</td>\n",
       "      <td>Nils</td>\n",
       "      <td>macourek</td>\n",
       "    </tr>\n",
       "    <tr>\n",
       "      <th>9</th>\n",
       "      <td>9</td>\n",
       "      <td></td>\n",
       "      <td>Joscelin</td>\n",
       "      <td>savege</td>\n",
       "      <td>Joscelin savege</td>\n",
       "      <td>Joscelin</td>\n",
       "      <td>savege</td>\n",
       "    </tr>\n",
       "  </tbody>\n",
       "</table>\n",
       "</div>"
      ],
      "text/plain": [
       "   Unnamed: 0      title    vorname     nachname               name  \\\n",
       "0           0        dr.    Mozelle      hellier    Mozelle hellier   \n",
       "1           1  prof. dr.    Quentin     shreenan   Quentin shreenan   \n",
       "2           2        dr.      Emory     stienham     Emory stienham   \n",
       "3           3                  Nils        ricks         Nils ricks   \n",
       "4           4                  Jean     ayscough      Jean ayscough   \n",
       "5           5               Brander    santorini  Brander santorini   \n",
       "6           6       med.      Debee  vasilischev  Debee vasilischev   \n",
       "7           7             Doloritas        moden    Doloritas moden   \n",
       "8           8   dr. med.       Nils     macourek      Nils macourek   \n",
       "9           9              Joscelin       savege    Joscelin savege   \n",
       "\n",
       "  vorname_split nachname_split  \n",
       "0       Mozelle        hellier  \n",
       "1       Quentin       shreenan  \n",
       "2         Emory       stienham  \n",
       "3          Nils          ricks  \n",
       "4          Jean       ayscough  \n",
       "5       Brander      santorini  \n",
       "6         Debee    vasilischev  \n",
       "7     Doloritas          moden  \n",
       "8          Nils       macourek  \n",
       "9      Joscelin         savege  "
      ]
     },
     "execution_count": 49,
     "metadata": {},
     "output_type": "execute_result"
    }
   ],
   "source": [
    "df_namen['title'] = df_namen['title'].str.replace('Med.', '')\n",
    "df_namen"
   ]
  },
  {
   "cell_type": "markdown",
   "metadata": {},
   "source": [
    "# Tipps und Tricks\n",
    "* User Guide zum Arbeiten mit Text: https://pandas.pydata.org/pandas-docs/stable/user_guide/text.html\n",
    "* User Guide zur Behandlung fehlender Daten :https://pandas.pydata.org/pandas-docs/stable/user_guide/missing_data.html#missing-data"
   ]
  }
 ],
 "metadata": {
  "kernelspec": {
   "display_name": "Python 3",
   "language": "python",
   "name": "python3"
  },
  "language_info": {
   "codemirror_mode": {
    "name": "ipython",
    "version": 3
   },
   "file_extension": ".py",
   "mimetype": "text/x-python",
   "name": "python",
   "nbconvert_exporter": "python",
   "pygments_lexer": "ipython3",
   "version": "3.6.7"
  }
 },
 "nbformat": 4,
 "nbformat_minor": 4
}
