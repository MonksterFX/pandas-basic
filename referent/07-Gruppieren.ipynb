{
 "cells": [
  {
   "cell_type": "markdown",
   "metadata": {},
   "source": [
    "# 07-Das Grundprinzip von Gruppieren\n",
    "Der Prozess des Gruppieren (\"group by\") bezieht sich auf ein oder mehrere Handlung:\n",
    "* **Splitting** Also das Zerlegen des Datensatzes in bestimmte Gruppen\n",
    "* **Applying** Anwenden einer Funktion auf jede dieser Gruppen\n",
    "* **Combining** Zusammenfassen der Daten in eine neue Datenstruktur\n",
    "\n",
    "Das **Splitting** ist der zentrale Schritt und wird oft als erstes ausgeführt. Meisten sollen die Datensätze in den Gruppen aber noch weiterverarbeitet werden. Daher stehenim Schritt **Applying** unterem anderem die folgenden Funktionen zur Verfügung:\n",
    "\n",
    "* **Aggregation:** Kummulieren der Daten mit Statistischen Methoden, wie zum Beispiel:\n",
    "    * Summen und Mittelwerte\n",
    "    * Zählen der Werte\n",
    "    \n",
    "    \n",
    "* **Transformation:**\n",
    "    * Standardisierung der Daten innerhalb einer Gruppe\n",
    "    * Aufüllen von fehlenden Daten innerhalb einrer Gruppe mit aus der Gruppe abgeleitetend Werte\n",
    "\n",
    "* **Filtration:**\n",
    "    * Gruppenbezogenes Filtern, z.B. das Aussortieren von Ausreißern innerhalb einer Gruppe\n",
    "    \n",
    "\n",
    "* Oder aber die Kombination verschiedener Schritte\n",
    "\n",
    "\n",
    "---\n",
    "*Übersetz aus folgender Quelle: https://pandas.pydata.org/pandas-docs/stable/user_guide/groupby.html*\n",
    "\n"
   ]
  },
  {
   "cell_type": "markdown",
   "metadata": {},
   "source": [
    "# Arbeiten mit ``.groupby()``\n",
    "## Datageneration"
   ]
  },
  {
   "cell_type": "code",
   "execution_count": null,
   "metadata": {},
   "outputs": [],
   "source": [
    "import pandas as pd\n",
    "import numpy as np"
   ]
  },
  {
   "cell_type": "code",
   "execution_count": null,
   "metadata": {},
   "outputs": [],
   "source": [
    "# Generieren von Übungsdaten\n",
    "df_students = pd.DataFrame({'student_id':list(range(100,107)), \n",
    "                            'subject_id':[1,2,3,1,2,3,1],\n",
    "                            'subject': ['Math', 'Geo', 'Business', 'Math', 'Geo', 'Business' ,'Math'],\n",
    "                            'age':[18,22,31,22,26,21,20],\n",
    "                            'left_hand':[False,True,False,True,False,False,True]})\n",
    "df_students"
   ]
  },
  {
   "cell_type": "markdown",
   "metadata": {},
   "source": [
    "## Zählen von Datensätzen ``.groupby().count(<column>)``"
   ]
  },
  {
   "cell_type": "code",
   "execution_count": null,
   "metadata": {},
   "outputs": [],
   "source": [
    "# Mit groupby.count() können wir uns anzeigen lassen, wie viel Datensätze jede Gruppe besitzt \n",
    "df_students.groupby('subject').count()"
   ]
  },
  {
   "cell_type": "code",
   "execution_count": null,
   "metadata": {},
   "outputs": [],
   "source": [
    "# Alternativ können wir auch nach der Größe fragen\n",
    "df_students.groupby('subject').size()"
   ]
  },
  {
   "cell_type": "markdown",
   "metadata": {},
   "source": [
    "**Unterschied zwischen ``.count()`` und ``.size()``**"
   ]
  },
  {
   "cell_type": "code",
   "execution_count": null,
   "metadata": {},
   "outputs": [],
   "source": [
    "# Unterschied zwischen .count() und .size()\n",
    "df_students_nan = pd.DataFrame({'student_id':list(range(100,107)), \n",
    "                            'subject_id':[1,2,3,1,2,np.NaN,1],\n",
    "                            'subject': ['Math', 'Geo', 'Business', 'Math', 'Geo', 'Business' ,'Math'],\n",
    "                            'age':[np.NaN,22,31,22,26,21,20],\n",
    "                           'left_hand':[False,True,False,True,False,False,True]})\n",
    "df_students_nan"
   ]
  },
  {
   "cell_type": "code",
   "execution_count": null,
   "metadata": {},
   "outputs": [],
   "source": [
    "# count wird durch NaN Werte beeinflusst\n",
    "df_students_nan.groupby('subject').count()"
   ]
  },
  {
   "cell_type": "code",
   "execution_count": null,
   "metadata": {},
   "outputs": [],
   "source": [
    "# Size verhindert diesen Effekt\n",
    "df_students_nan.groupby('subject').size()"
   ]
  },
  {
   "cell_type": "markdown",
   "metadata": {},
   "source": [
    "## Schlüssel/Index des Groupby-Objekt"
   ]
  },
  {
   "cell_type": "code",
   "execution_count": null,
   "metadata": {},
   "outputs": [],
   "source": [
    "# Da wir nach Subject gruppieren, werden die einzigeartigen Werte der Spalte \"subject\" der neue Index. \n",
    "# Den enstehenden Index können wir auch generieren wenn wir uns die einzigartigen Werte der Spalte \"subject\" anschauen\n",
    "df_students['subject'].unique()"
   ]
  },
  {
   "cell_type": "markdown",
   "metadata": {},
   "source": [
    "## Aggregation von Daten\n",
    "\n",
    "Wichtigste Funktionen für die Aggregation:\n",
    "* ``.sum()`` - *Summe*\n",
    "* ``.mean()`` - *Mittelwert*\n",
    "* ``.min()`` - *Minimalwert*\n",
    "* ``.max()`` - *Maximalwert*"
   ]
  },
  {
   "cell_type": "code",
   "execution_count": null,
   "metadata": {},
   "outputs": [],
   "source": [
    "# Bilden der Summe nach der \"subject_id\", text wird ignoriert\n",
    "df_students.groupby('subject_id').sum()"
   ]
  },
  {
   "cell_type": "code",
   "execution_count": null,
   "metadata": {},
   "outputs": [],
   "source": [
    "# Durchschnittsalter berechnen\n",
    "df_students[['subject','age']].groupby('subject').mean()"
   ]
  },
  {
   "cell_type": "markdown",
   "metadata": {},
   "source": [
    "## Auszug aus dem Dataframe betrachten\n",
    "Mit ``.first()`` und ``.last()`` bekommen wir die einen neuen Dataframe zurück in dem nur der erste oder der letzte Datensatz einer jeden Gruppe enthalten ist. Dies kann besonders nützlich sein, wenn die Datensätze in einer bestimmen Reihenfolge im Datensatz auftauchen."
   ]
  },
  {
   "cell_type": "code",
   "execution_count": null,
   "metadata": {},
   "outputs": [],
   "source": [
    "df_students.groupby('subject').first()"
   ]
  },
  {
   "cell_type": "code",
   "execution_count": null,
   "metadata": {},
   "outputs": [],
   "source": [
    "df_students.groupby('subject').first()"
   ]
  },
  {
   "cell_type": "markdown",
   "metadata": {},
   "source": [
    "**Auch ``.head()`` und ``.tail()`` lassen sich hier wie gewohnt verwenden**"
   ]
  },
  {
   "cell_type": "code",
   "execution_count": null,
   "metadata": {},
   "outputs": [],
   "source": [
    "df_students.groupby('subject').head(2)"
   ]
  },
  {
   "cell_type": "markdown",
   "metadata": {},
   "source": [
    "## Mehrere Gruppierungsebenen\n",
    "Oft bleibt es nicht bei einer Gruppierungsebene. Wie können beliebig viele Gruppierungsebenen hinzufügen. Die Reihenfolge hat zunächst keinen Erkennbaren Einfluss auf das Endergebnis, außer, dass sich die Sortierung der Daten ändert."
   ]
  },
  {
   "cell_type": "code",
   "execution_count": null,
   "metadata": {},
   "outputs": [],
   "source": [
    "# Größeres Datenset einlesen\n",
    "df = pd.read_csv('../src/bigdata/120-years-of-olympic-history-athletes-and-results/athlete_events.csv')"
   ]
  },
  {
   "cell_type": "code",
   "execution_count": null,
   "metadata": {},
   "outputs": [],
   "source": [
    "# Auswählen von ein paar wahren Champions\n",
    "df = df[df['ID'].isin([69210, 107383, 127501])]\n",
    "df"
   ]
  },
  {
   "cell_type": "code",
   "execution_count": null,
   "metadata": {},
   "outputs": [],
   "source": [
    "# Uns interessieren die Medallien und zwar nur die Gewinne\n",
    "df['Medal'].unique()"
   ]
  },
  {
   "cell_type": "markdown",
   "metadata": {},
   "source": [
    "**Umgang mit fehlenden oder fehlerhaften Werten, mit ``.dropna()`` und ``.fillna()``**"
   ]
  },
  {
   "cell_type": "code",
   "execution_count": null,
   "metadata": {},
   "outputs": [],
   "source": [
    "# Eine Möglichkeit ist die Daten zu verwerfen\n",
    "df_drop = df.dropna(subset=['Medal'])\n",
    "print(len(df))\n",
    "print(len(df_drop))"
   ]
  },
  {
   "cell_type": "code",
   "execution_count": null,
   "metadata": {},
   "outputs": [],
   "source": [
    "# Bessser jedoch ist, wenn wir den fehlenden Daten eine Bedeutung und einen Wert zukommen lassen\n",
    "df['Medal'] = df['Medal'].fillna('Teilnahme')\n",
    "df.sample(10)"
   ]
  },
  {
   "cell_type": "code",
   "execution_count": null,
   "metadata": {},
   "outputs": [],
   "source": [
    "# Teilnehmer ist einzigartig zugeordnet über die ID. Sie bildet das oberste Level.\n",
    "df.groupby(['ID', 'Name', 'Team', 'Medal']).size()"
   ]
  },
  {
   "cell_type": "code",
   "execution_count": null,
   "metadata": {},
   "outputs": [],
   "source": [
    "df.groupby(['Medal', 'ID', 'Name', 'Team']).size()"
   ]
  },
  {
   "cell_type": "markdown",
   "metadata": {},
   "source": [
    "**Gruppierung zurücksetzen und in \"normalen\" DataFrame zurückverwandeln mit ``.reset_index()`` und umbennen von Spalten mit ``.rename()``**  "
   ]
  },
  {
   "cell_type": "code",
   "execution_count": null,
   "metadata": {},
   "outputs": [],
   "source": [
    "# Zurück wandeln eines \"grouped\" DataFrames mit .reset_index() \n",
    "df_norm = df.groupby(['ID', 'Name', 'Team', 'Medal']).size().reset_index()\n",
    "df_norm = df_norm.rename(columns={0:'Anzahl'})\n",
    "df_norm.sort_values(['Name', 'Anzahl'], ascending=[True, False])"
   ]
  },
  {
   "cell_type": "markdown",
   "metadata": {},
   "source": [
    "# Tipps and Tricks\n",
    "\n",
    "###  Referenz aller Funktionen des groupby-Objekt\n",
    "* https://pandas.pydata.org/pandas-docs/stable/reference/groupby.html#computations-descriptive-stats\n",
    "\n",
    "### Vollständige Tutorial zu Gruppieren aus der offiziellen Pandas Dokumentation\n",
    "* https://pandas.pydata.org/pandas-docs/stable/user_guide/groupby.html\n",
    "* https://pandas.pydata.org/pandas-docs/stable/user_guide/cookbook.html#cookbook-grouping\n",
    "    \n"
   ]
  }
 ],
 "metadata": {
  "kernelspec": {
   "display_name": "Python 3",
   "language": "python",
   "name": "python3"
  },
  "language_info": {
   "codemirror_mode": {
    "name": "ipython",
    "version": 3
   },
   "file_extension": ".py",
   "mimetype": "text/x-python",
   "name": "python",
   "nbconvert_exporter": "python",
   "pygments_lexer": "ipython3",
   "version": "3.6.7"
  }
 },
 "nbformat": 4,
 "nbformat_minor": 4
}
