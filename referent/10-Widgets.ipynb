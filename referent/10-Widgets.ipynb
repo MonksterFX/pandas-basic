{
 "cells": [
  {
   "cell_type": "code",
   "execution_count": 34,
   "metadata": {},
   "outputs": [],
   "source": [
    "import pandas as pd\n",
    "import numpy as np\n",
    "from faker import Faker\n",
    "import ipywidgets as widgets\n",
    "from ipywidgets import interact, interact_manual"
   ]
  },
  {
   "cell_type": "markdown",
   "metadata": {},
   "source": [
    "# Wie funktioniert ein Widget\n",
    "Wir können Widgets dafür nutzen um Berichte interaktiver zu gestalten. Dies kann sinnvoll sein, wenn eine explorative Datenanalyse durchgeführt werden soll."
   ]
  },
  {
   "cell_type": "code",
   "execution_count": 43,
   "metadata": {
    "scrolled": true
   },
   "outputs": [],
   "source": [
    "# Generieren eines zufälligen Dataframes\n",
    "df = pd.DataFrame(index=pd.date_range('2019-01-01', periods=365, freq='D'), \n",
    "                  data=np.random.randint(0, 100, size=(365,3)), \n",
    "                  columns=['A', 'B', 'C'])\n",
    "\n",
    "fk = Faker()\n",
    "df['Names'] = [fk.name() for _ in range(0, 365)]\n",
    "df = df[['Names', 'A', 'B', 'C']]"
   ]
  },
  {
   "cell_type": "code",
   "execution_count": 44,
   "metadata": {},
   "outputs": [
    {
     "data": {
      "application/vnd.jupyter.widget-view+json": {
       "model_id": "cc447caf067c49df88063e1db6a55848",
       "version_major": 2,
       "version_minor": 0
      },
      "text/plain": [
       "interactive(children=(IntSlider(value=10, description='x', max=20), Output()), _dom_classes=('widget-interact'…"
      ]
     },
     "metadata": {},
     "output_type": "display_data"
    }
   ],
   "source": [
    "# Vorschau, was wollen wir erreichen\n",
    "@interact\n",
    "def head_dynamic(x=(0, 20, 1)):\n",
    "    return df.head(x)"
   ]
  },
  {
   "cell_type": "markdown",
   "metadata": {},
   "source": [
    "## Grundlagen aus der Programmiersprache Python\n",
    "Um mit Widgets arbeiten zu können benötigen wir ein paar Grundlagen aus der Programmiersprache Python.\n",
    "\n",
    "### Funktionen"
   ]
  },
  {
   "cell_type": "code",
   "execution_count": 7,
   "metadata": {},
   "outputs": [
    {
     "data": {
      "text/plain": [
       "2"
      ]
     },
     "execution_count": 7,
     "metadata": {},
     "output_type": "execute_result"
    }
   ],
   "source": [
    "# Prinzip einer Funktion\n",
    "x = 1\n",
    "x + 1"
   ]
  },
  {
   "cell_type": "code",
   "execution_count": 8,
   "metadata": {},
   "outputs": [
    {
     "data": {
      "text/plain": [
       "2"
      ]
     },
     "execution_count": 8,
     "metadata": {},
     "output_type": "execute_result"
    }
   ],
   "source": [
    "# Wir nehmen die Logik aus der Zelle oben und formulieren Sie als Funktion\n",
    "def inc(x):\n",
    "    return x + 1\n",
    "\n",
    "inc(x=1)"
   ]
  },
  {
   "cell_type": "code",
   "execution_count": 9,
   "metadata": {},
   "outputs": [
    {
     "data": {
      "text/plain": [
       "2"
      ]
     },
     "execution_count": 9,
     "metadata": {},
     "output_type": "execute_result"
    }
   ],
   "source": [
    "# Alternativ können wir die Funktion auch so aufrufen\n",
    "inc(1)"
   ]
  },
  {
   "cell_type": "code",
   "execution_count": 10,
   "metadata": {},
   "outputs": [
    {
     "data": {
      "text/plain": [
       "7"
      ]
     },
     "execution_count": 10,
     "metadata": {},
     "output_type": "execute_result"
    }
   ],
   "source": [
    "# Jetzt möchten wir zwei Werte addieren\n",
    "x = 1\n",
    "y = 3\n",
    "x + y *2"
   ]
  },
  {
   "cell_type": "code",
   "execution_count": 11,
   "metadata": {},
   "outputs": [
    {
     "name": "stdout",
     "output_type": "stream",
     "text": [
      "7\n",
      "14\n",
      "14\n"
     ]
    }
   ],
   "source": [
    "# Wir schreiben das ganze als allgemeine Funktion add()\n",
    "def add(x, y):\n",
    "    return x + y * 2\n",
    "\n",
    "print(add(1,3))\n",
    "print(add(4,5))\n",
    "\n",
    "''' wenn wir die parameter übergeben wollen ohne die Reihenfolge \n",
    "beachten zu müssen, dann können wir einfach angeben welche \n",
    "Paramter wir setzen wollen '''\n",
    "print(add(y=5, x=4))"
   ]
  },
  {
   "cell_type": "code",
   "execution_count": 12,
   "metadata": {},
   "outputs": [
    {
     "data": {
      "text/plain": [
       "3"
      ]
     },
     "execution_count": 12,
     "metadata": {},
     "output_type": "execute_result"
    }
   ],
   "source": [
    "# Default-Werte in Funktionen\n",
    "def add(x, y=1):\n",
    "    return x + y * 2\n",
    "\n",
    "add(1)"
   ]
  },
  {
   "cell_type": "markdown",
   "metadata": {},
   "source": [
    "### Listen"
   ]
  },
  {
   "cell_type": "code",
   "execution_count": 13,
   "metadata": {},
   "outputs": [],
   "source": [
    "# Liste von Teilnehmern\n",
    "t1 = 'Andrea'\n",
    "t2 = 'Jonas'\n",
    "t3 = 'Eddie'"
   ]
  },
  {
   "cell_type": "code",
   "execution_count": 14,
   "metadata": {},
   "outputs": [
    {
     "data": {
      "text/plain": [
       "'Eddie'"
      ]
     },
     "execution_count": 14,
     "metadata": {},
     "output_type": "execute_result"
    }
   ],
   "source": [
    "# Eine Liste kann mehrer Objekte zusammen in einer Variable speichern\n",
    "t = ['Andrea', 'Jonas', 'Eddie']\n",
    "t[2]"
   ]
  },
  {
   "cell_type": "code",
   "execution_count": 31,
   "metadata": {},
   "outputs": [
    {
     "data": {
      "text/html": [
       "<div>\n",
       "<style scoped>\n",
       "    .dataframe tbody tr th:only-of-type {\n",
       "        vertical-align: middle;\n",
       "    }\n",
       "\n",
       "    .dataframe tbody tr th {\n",
       "        vertical-align: top;\n",
       "    }\n",
       "\n",
       "    .dataframe thead th {\n",
       "        text-align: right;\n",
       "    }\n",
       "</style>\n",
       "<table border=\"1\" class=\"dataframe\">\n",
       "  <thead>\n",
       "    <tr style=\"text-align: right;\">\n",
       "      <th></th>\n",
       "      <th>A</th>\n",
       "      <th>B</th>\n",
       "      <th>C</th>\n",
       "    </tr>\n",
       "  </thead>\n",
       "  <tbody>\n",
       "    <tr>\n",
       "      <th>2019-01-01</th>\n",
       "      <td>46</td>\n",
       "      <td>7</td>\n",
       "      <td>75</td>\n",
       "    </tr>\n",
       "    <tr>\n",
       "      <th>2019-01-02</th>\n",
       "      <td>0</td>\n",
       "      <td>99</td>\n",
       "      <td>96</td>\n",
       "    </tr>\n",
       "    <tr>\n",
       "      <th>2019-01-03</th>\n",
       "      <td>66</td>\n",
       "      <td>28</td>\n",
       "      <td>18</td>\n",
       "    </tr>\n",
       "    <tr>\n",
       "      <th>2019-01-04</th>\n",
       "      <td>63</td>\n",
       "      <td>86</td>\n",
       "      <td>54</td>\n",
       "    </tr>\n",
       "    <tr>\n",
       "      <th>2019-01-05</th>\n",
       "      <td>44</td>\n",
       "      <td>51</td>\n",
       "      <td>96</td>\n",
       "    </tr>\n",
       "  </tbody>\n",
       "</table>\n",
       "</div>"
      ],
      "text/plain": [
       "             A   B   C\n",
       "2019-01-01  46   7  75\n",
       "2019-01-02   0  99  96\n",
       "2019-01-03  66  28  18\n",
       "2019-01-04  63  86  54\n",
       "2019-01-05  44  51  96"
      ]
     },
     "execution_count": 31,
     "metadata": {},
     "output_type": "execute_result"
    }
   ],
   "source": [
    "# Das Konzept der Liste haben wir bereits verwendet um Spalten in \n",
    "df.head()"
   ]
  },
  {
   "cell_type": "code",
   "execution_count": 32,
   "metadata": {},
   "outputs": [
    {
     "data": {
      "text/html": [
       "<div>\n",
       "<style scoped>\n",
       "    .dataframe tbody tr th:only-of-type {\n",
       "        vertical-align: middle;\n",
       "    }\n",
       "\n",
       "    .dataframe tbody tr th {\n",
       "        vertical-align: top;\n",
       "    }\n",
       "\n",
       "    .dataframe thead th {\n",
       "        text-align: right;\n",
       "    }\n",
       "</style>\n",
       "<table border=\"1\" class=\"dataframe\">\n",
       "  <thead>\n",
       "    <tr style=\"text-align: right;\">\n",
       "      <th></th>\n",
       "      <th>A</th>\n",
       "      <th>C</th>\n",
       "    </tr>\n",
       "  </thead>\n",
       "  <tbody>\n",
       "    <tr>\n",
       "      <th>2019-01-01</th>\n",
       "      <td>46</td>\n",
       "      <td>75</td>\n",
       "    </tr>\n",
       "    <tr>\n",
       "      <th>2019-01-02</th>\n",
       "      <td>0</td>\n",
       "      <td>96</td>\n",
       "    </tr>\n",
       "    <tr>\n",
       "      <th>2019-01-03</th>\n",
       "      <td>66</td>\n",
       "      <td>18</td>\n",
       "    </tr>\n",
       "    <tr>\n",
       "      <th>2019-01-04</th>\n",
       "      <td>63</td>\n",
       "      <td>54</td>\n",
       "    </tr>\n",
       "    <tr>\n",
       "      <th>2019-01-05</th>\n",
       "      <td>44</td>\n",
       "      <td>96</td>\n",
       "    </tr>\n",
       "  </tbody>\n",
       "</table>\n",
       "</div>"
      ],
      "text/plain": [
       "             A   C\n",
       "2019-01-01  46  75\n",
       "2019-01-02   0  96\n",
       "2019-01-03  66  18\n",
       "2019-01-04  63  54\n",
       "2019-01-05  44  96"
      ]
     },
     "execution_count": 32,
     "metadata": {},
     "output_type": "execute_result"
    }
   ],
   "source": [
    "df[['A', 'C']].head()"
   ]
  },
  {
   "cell_type": "markdown",
   "metadata": {},
   "source": [
    "## Wigets erstellen mit **@interact**"
   ]
  },
  {
   "cell_type": "markdown",
   "metadata": {},
   "source": [
    "### Der Slider"
   ]
  },
  {
   "cell_type": "code",
   "execution_count": 17,
   "metadata": {},
   "outputs": [
    {
     "data": {
      "application/vnd.jupyter.widget-view+json": {
       "model_id": "c64a4bc85609479bb413503a80b59913",
       "version_major": 2,
       "version_minor": 0
      },
      "text/plain": [
       "interactive(children=(IntSlider(value=100, description='x', max=300, min=-100), Output()), _dom_classes=('widg…"
      ]
     },
     "metadata": {},
     "output_type": "display_data"
    }
   ],
   "source": [
    "# Erstellen eines einfach widgets\n",
    "@interact\n",
    "def show_count(x=100):\n",
    "    return x # Der Rückgabewert wird automatisch angezeigt"
   ]
  },
  {
   "cell_type": "markdown",
   "metadata": {},
   "source": [
    "### Mehr Steuermöglichkeiten über die Range der auswählbaren Werte im Slider\n",
    "Dafür müssen wir **@interact** mitteilen, welchen\n",
    "* Minimalwert\n",
    "* Maxmialwert\n",
    "* Schrittweite\n",
    "\n",
    "unser Slider haben soll. Dies können wir indem wir den Standart-Wert für x nicht wie vorher mit einer festen Zahl ausdrücken sonder mit einem Bereich. Die Schreibweise dafür ist die folgende: *(Minimalwert, Maximalwert, Schrittweite)* \n",
    "\n",
    "**Beispiel** für Min=0, Max=20, Schritt=1:"
   ]
  },
  {
   "cell_type": "code",
   "execution_count": 18,
   "metadata": {},
   "outputs": [
    {
     "data": {
      "application/vnd.jupyter.widget-view+json": {
       "model_id": "4e911d7789e94cdfa573da27b88ec244",
       "version_major": 2,
       "version_minor": 0
      },
      "text/plain": [
       "interactive(children=(IntSlider(value=10, description='x', max=20), Output()), _dom_classes=('widget-interact'…"
      ]
     },
     "metadata": {},
     "output_type": "display_data"
    }
   ],
   "source": [
    "@interact\n",
    "def show_count(x=(0, 20, 1)):\n",
    "    return df.head(x)"
   ]
  },
  {
   "cell_type": "markdown",
   "metadata": {},
   "source": [
    "### Dropdown"
   ]
  },
  {
   "cell_type": "code",
   "execution_count": 55,
   "metadata": {},
   "outputs": [
    {
     "data": {
      "application/vnd.jupyter.widget-view+json": {
       "model_id": "63ae0a52f3d6445380474664a93a4e2d",
       "version_major": 2,
       "version_minor": 0
      },
      "text/plain": [
       "interactive(children=(Dropdown(description='column', options=('A', 'B', 'C'), value='A'), Output()), _dom_clas…"
      ]
     },
     "metadata": {},
     "output_type": "display_data"
    }
   ],
   "source": [
    "# \n",
    "@interact\n",
    "def show_columns(column=['A', 'B', 'C']):\n",
    "    df_filtered = df[['Names', column]]\n",
    "    return df_filtered.head()"
   ]
  },
  {
   "cell_type": "markdown",
   "metadata": {},
   "source": [
    "### Textfeld"
   ]
  },
  {
   "cell_type": "code",
   "execution_count": 54,
   "metadata": {},
   "outputs": [
    {
     "data": {
      "application/vnd.jupyter.widget-view+json": {
       "model_id": "0276815d0dd44d1892754f4cb6796eda",
       "version_major": 2,
       "version_minor": 0
      },
      "text/plain": [
       "interactive(children=(Text(value='Annette', description='name'), Output()), _dom_classes=('widget-interact',))"
      ]
     },
     "metadata": {},
     "output_type": "display_data"
    }
   ],
   "source": [
    "@interact\n",
    "def search(name='Annette'):\n",
    "    df_filtered = df[df['Names'].str.contains(name)]\n",
    "    return df_filtered.sort_values('Names')"
   ]
  },
  {
   "cell_type": "markdown",
   "metadata": {},
   "source": [
    "### Datum\n",
    "Um das **DatePicker**-Widget benutzen zu können, müssen wir dieses explizit angeben. @interact versteht sonst nicht, dass hinter einer Variable ein bestimmter Datentyp liegt. Wir können das Widget schon bereits vor Funktionsaufruf initialisieren und geben beim Funktionsaufruf nur noch das entsprechenden Widget-Objekt als Default Wert an.   "
   ]
  },
  {
   "cell_type": "code",
   "execution_count": 67,
   "metadata": {},
   "outputs": [
    {
     "data": {
      "application/vnd.jupyter.widget-view+json": {
       "model_id": "b6217fa2d9d5450aa408c9091a753e2c",
       "version_major": 2,
       "version_minor": 0
      },
      "text/plain": [
       "interactive(children=(DatePicker(value=Timestamp('2019-01-01 00:00:00'), description='start_date'), Output()),…"
      ]
     },
     "metadata": {},
     "output_type": "display_data"
    }
   ],
   "source": [
    "dp = widgets.DatePicker(value=pd.to_datetime('2019-01-01'))\n",
    "\n",
    "@interact\n",
    "def show_date(start_date=dp):\n",
    "    # start_date muss hier explizit in Datetime konvertiert werden.\n",
    "    df_filtered = df[df.index >= pd.to_datetime(start_date)] \n",
    "    return df_filtered.head()"
   ]
  },
  {
   "cell_type": "markdown",
   "metadata": {},
   "source": [
    "## Kombination"
   ]
  },
  {
   "cell_type": "code",
   "execution_count": 64,
   "metadata": {},
   "outputs": [
    {
     "data": {
      "application/vnd.jupyter.widget-view+json": {
       "model_id": "b4c179936ff24c88b7af465b96f75b3f",
       "version_major": 2,
       "version_minor": 0
      },
      "text/plain": [
       "interactive(children=(IntSlider(value=50, description='min_value'), Dropdown(description='column', options=('A…"
      ]
     },
     "metadata": {},
     "output_type": "display_data"
    }
   ],
   "source": [
    "# Im nächsten schritt kombinieren wir einen Slider und eine Checkbox\n",
    "@interact\n",
    "def show_columns(min_value=(0, 100, 1), column=['A', 'B', 'C']):\n",
    "    df_filtered = df[df[column] >= min_value]\n",
    "    return df_filtered.sort_values(by=[column, 'Names']).head()"
   ]
  },
  {
   "cell_type": "markdown",
   "metadata": {},
   "source": [
    "## Aktualisierung Manuell anfordern mit **@interact_manual**\n",
    "Nicht immer möchte man, dass der DataFrame nach jeder Änderung erneut berechnet wird. Grade bei aufwendigen berechnungen kann es daher sinnvoll sein, die Berechnung manuell anzustoßen."
   ]
  },
  {
   "cell_type": "code",
   "execution_count": 65,
   "metadata": {},
   "outputs": [
    {
     "data": {
      "application/vnd.jupyter.widget-view+json": {
       "model_id": "9a9720b3c23d46069f1aa86c93dea44c",
       "version_major": 2,
       "version_minor": 0
      },
      "text/plain": [
       "interactive(children=(Text(value='Annette', description='name'), Button(description='Run Interact', style=Butt…"
      ]
     },
     "metadata": {},
     "output_type": "display_data"
    }
   ],
   "source": [
    "@interact_manual\n",
    "def search(name='Annette'):\n",
    "    df_filtered = df[df['Names'].str.contains(name)]\n",
    "    return df_filtered.sort_values('Names')"
   ]
  },
  {
   "cell_type": "markdown",
   "metadata": {},
   "source": [
    "# Tipps und Tricks\n",
    "### Offizielle Dokumentation zu Widgets\n",
    "* @interact: https://ipywidgets.readthedocs.io/en/stable/examples/Using%20Interact.html\n",
    "* Widgets selber bauen: https://ipywidgets.readthedocs.io/en/stable/examples/Widget%20Basics.html\n",
    "* Übersicht aller Widgets: https://ipywidgets.readthedocs.io/en/latest/examples/Widget%20List.html\n",
    "\n",
    "### Gute Tutorials\n",
    "* @interact: https://towardsdatascience.com/interactive-controls-for-jupyter-notebooks-f5c94829aee6\n",
    "* Widgets selber bauen: https://towardsdatascience.com/bring-your-jupyter-notebook-to-life-with-interactive-widgets-bc12e03f0916\n"
   ]
  },
  {
   "cell_type": "code",
   "execution_count": null,
   "metadata": {},
   "outputs": [],
   "source": []
  }
 ],
 "metadata": {
  "kernelspec": {
   "display_name": "Python 3",
   "language": "python",
   "name": "python3"
  },
  "language_info": {
   "codemirror_mode": {
    "name": "ipython",
    "version": 3
   },
   "file_extension": ".py",
   "mimetype": "text/x-python",
   "name": "python",
   "nbconvert_exporter": "python",
   "pygments_lexer": "ipython3",
   "version": "3.6.7"
  }
 },
 "nbformat": 4,
 "nbformat_minor": 4
}
