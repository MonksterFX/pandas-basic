{
 "cells": [
  {
   "attachments": {},
   "cell_type": "markdown",
   "metadata": {},
   "source": [
    "# Cheat Sheet\n",
    "Hier finden Sie alle Befehle und wie wir Sie in den Übungen benutzt haben\n",
    "\n",
    "## U01 - Einführung\n",
    "\n",
    "\n",
    "## U02 - Einführung\n",
    "\n",
    "\n",
    "## U03 - Einführung\n",
    "\n",
    "\n",
    "## U04 - Einführung\n",
    "\n",
    "\n",
    "## U05 - Einführung\n",
    "\n",
    "\n",
    "## Nach dem Kurs\n",
    "\n",
    "\n",
    "* Installieren Sie sich die benötigte Software. Die Anleitung finden Sie im **doc** Ordner\n",
    "* Schließen Sie alle Zusatzübungen ab\n",
    "* Die Abschlussübung dient als gute Wiederholung und als kleiner Ausblick\n",
    "* Vertiefen Sie ihr Wissen zum Beispiel durch Seiten wie [www.kaggle.com](https://www.kaggle.com/learn/overview)\n",
    "* bung, Übung, Übung…\n"
   ]
  }
 ],
 "metadata": {
  "kernelspec": {
   "display_name": "Python 3",
   "language": "python",
   "name": "python3"
  },
  "language_info": {
   "codemirror_mode": {
    "name": "ipython",
    "version": 3
   },
   "file_extension": ".py",
   "mimetype": "text/x-python",
   "name": "python",
   "nbconvert_exporter": "python",
   "pygments_lexer": "ipython3",
   "version": "3.6.7"
  }
 },
 "nbformat": 4,
 "nbformat_minor": 2
}
