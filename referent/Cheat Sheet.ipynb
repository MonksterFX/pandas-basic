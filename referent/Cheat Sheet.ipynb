{
 "cells": [
  {
   "cell_type": "markdown",
   "metadata": {},
   "source": [
    "# Cheat Sheet\n",
    "Hier finden Sie alle Befehle und wie wir Sie in den Übungen benutzt haben\n",
    "\n",
    "## U01 - Einführung"
   ]
  },
  {
   "cell_type": "markdown",
   "metadata": {},
   "source": [
    "## U02 - Einführung in die Pandas Bibliothek\n",
    "### Importieren einer Bibliothek\n",
    "in python mit oder ohne alias:\n",
    "\n",
    "``import pandas`` oder mit Alias ``import pandas as pd``\n",
    "\n",
    "### Informationen über den DataFrame sammeln\n",
    "\n",
    "| Befehl | Beschreibung |\n",
    "|:----------------- |:------------------------------------|\n",
    "|**pd.read_csv()** | Einlesen einer CSV Datei|\n",
    "|**df.head()**| Ersten 5 Zeilen |\n",
    "|**df.tail(<font color='orange'>3</font>)** | Letzten 3 Zeilen |\n",
    "|**df.sample(<font color='orange'>5</font>)** | 5 zufällige Datensätze | \n",
    "|**df.info()**| Informationen über den DataFrame |\n",
    "\n",
    "### Auswählen von Daten\n",
    "\n",
    "| Befehl | Beschreibung |\n",
    "|----------------- |:------------------------------------|\n",
    "|**df [ <font color='orange'>'Spaltename'</font> ]** | Eine Spalte als Series auswählen|\n",
    "|**df [ <font color='orange'>['Spalte1', 'Spalte2' ]</font> ]** | Mehrere Spalten auswählen|\n",
    "|**df.loc [ <font color='orange'>'Zeilenname'</font> ]** | Eine Zeile als Series auswählen|\n",
    "|**df.loc [ <font color='orange'>['Zeile1', 'Zeile2' ]</font> ]** | Mehrere Zeilen auswählen|"
   ]
  },
  {
   "cell_type": "markdown",
   "metadata": {},
   "source": [
    "## U03 - Suchen, Filtern und Sortieren\n"
   ]
  },
  {
   "cell_type": "markdown",
   "metadata": {},
   "source": [
    "## U04 - Basic Funktionen\n",
    "| Befehl | Beschreibung |\n",
    "|----------------- |:------------------------------------|\n",
    "|**np.where( <font color='orange'>Bedingung, Wenn-True, Wenn-False </font>)**| WENN-Funktion von Numpy |\n",
    "|**s.min()\\* \\\\ df.min()\\*** | Minimalwert von einer Serie/DataFrame |\n",
    "|**df.describe()** | Statistische Beschreibung des DataFrames |\n",
    "|**s.round( <font color='orange'>Anzahl der Stellen</font> )** | Mehrere Zeilen auswählen |\n",
    "\n",
    "**\\*** geht auch für .min(), .max(), .mean(), .std(), .median(), .sum()"
   ]
  },
  {
   "cell_type": "markdown",
   "metadata": {},
   "source": [
    "## U05 - Einführung"
   ]
  },
  {
   "cell_type": "markdown",
   "metadata": {},
   "source": [
    "## Nach dem Kurs\n",
    "\n",
    "* Installieren Sie sich die benötigte Software. Die Anleitung finden Sie im **doc** Ordner\n",
    "* Schließen Sie alle Zusatzübungen ab\n",
    "* Die Abschlussübung dient als gute Wiederholung und als kleiner Ausblick\n",
    "* Vertiefen Sie ihr Wissen zum Beispiel durch Seiten wie [www.kaggle.com](https://www.kaggle.com/learn/overview)\n",
    "* bung, Übung, Übung…"
   ]
  }
 ],
 "metadata": {
  "kernelspec": {
   "display_name": "Python 3",
   "language": "python",
   "name": "python3"
  },
  "language_info": {
   "codemirror_mode": {
    "name": "ipython",
    "version": 3
   },
   "file_extension": ".py",
   "mimetype": "text/x-python",
   "name": "python",
   "nbconvert_exporter": "python",
   "pygments_lexer": "ipython3",
   "version": "3.6.7"
  }
 },
 "nbformat": 4,
 "nbformat_minor": 2
}
