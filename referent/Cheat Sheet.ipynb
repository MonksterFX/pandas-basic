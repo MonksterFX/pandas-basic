{
 "cells": [
  {
   "cell_type": "markdown",
   "metadata": {},
   "source": [
    "# Cheat Sheet\n",
    "Hier finden Sie alle Befehle und wie wir Sie in den Übungen benutzt haben\n",
    "\n",
    "## U01 - Einführung\n",
    "\n",
    "### Die 2 Modi einer Zelle\n",
    "* <font color='blue'>Blauer Rand -> Zellenmodus</font>\n",
    "* <font color='green'>Grüner Rand -> Bearbeitungmodus</font>\n",
    "\n",
    "### Wichtige Shortcuts (Im Zellenmodus):\n",
    "\n",
    "* **[A]** Above - Neue Zelle überhalb einfügen\n",
    "* **[B]** Below - Neue Zelle unterhalb einfügen\n",
    "* **[M]** Markdown - Formatiere die Zelle als Markdown Zelle\n",
    "* **[Y]** Code - Formatiere die Zelle als Code Zelle\n",
    "* **[Enter]** - Wechsel in den Bearbeitungsmodus \n",
    "\n",
    "### Wichtige Shortcuts (Im Bearbeitungsmodus):\n",
    "\n",
    "\n",
    "* **[STRG+ENTER]** Ausführen einer Zelle, automatischer Wechsel in den Zellenmodus\n",
    "* **[ESC]** Verlassen des Bearbeitungsmodus\n",
    "\n",
    "\n",
    "Mehr Tastenkürzel findest du unter ``HELP -> KEYBOARD SHORTCUTS``\n"
   ]
  },
  {
   "cell_type": "markdown",
   "metadata": {},
   "source": [
    "## U02 - Einführung in die Pandas Bibliothek\n",
    "### Importieren einer Bibliothek\n",
    "in python mit oder ohne alias:\n",
    "\n",
    "``import pandas`` oder mit Alias ``import pandas as pd``\n",
    "\n",
    "### Informationen über den DataFrame sammeln\n",
    "\n",
    "| Befehl | Beschreibung |\n",
    "|:----------------- |:------------------------------------|\n",
    "|**pd.read_csv()** | Einlesen einer CSV Datei|\n",
    "|**df.head()**| Ersten 5 Zeilen |\n",
    "|**df.tail(<font color='purple'>3</font>)** | Letzten 3 Zeilen |\n",
    "|**df.sample(<font color='purple'>5</font>)** | 5 zufällige Datensätze | \n",
    "|**df.info()**| Informationen über den DataFrame |\n",
    "\n",
    "### Auswählen von Daten\n",
    "\n",
    "| Befehl | Beschreibung |\n",
    "|----------------- |:------------------------------------|\n",
    "|**df [ <font color='purple'>'Spaltename'</font> ]** | Eine Spalte als Series auswählen|\n",
    "|**df [ <font color='purple'>['Spalte1', 'Spalte2' ]</font> ]** | Mehrere Spalten auswählen|\n",
    "|**df.loc [ <font color='purple'>'Zeilenname'</font> ]** | Eine Zeile als Series auswählen|\n",
    "|**df.loc [ <font color='purple'>['Zeile1', 'Zeile2' ]</font> ]** | Mehrere Zeilen auswählen|"
   ]
  },
  {
   "cell_type": "markdown",
   "metadata": {},
   "source": [
    "## U03 - Suchen, Filtern und Sortieren\n",
    "\n",
    "\n",
    "### Filter mit einem Kriterium:  df [ <font color='purple'>( FILTER )</font> ]\n",
    "\n",
    "> df[<font color='purple'> ( df[ ‘Spalte‘ ] == Kriterium )</font> ]\n",
    "\n",
    "\n",
    "### Filter mit mehreren Kriterien:  df [ <font color='purple'>( FILTER )</font> <font color='orange'>&</font> <font color='green'>( FILTER )</font> ]\n",
    "\n",
    "> df [ <font color='purple'>( df[ ‘Spalte1‘ ] == Kriterium )</font> <font color='orange'>&</font> <font color='green'>( df[ ‘Spalte2‘ ] == Kriterium )</font> ]\n",
    "\n",
    "## Vergleichs Operatoren\n",
    "Möchte ich eine Serie mit einem Wert vergleich kann ich folgende Operatoren nutzen:\n",
    "\n",
    "| Operator | Funktion      |\n",
    "|----------|---------------|\n",
    "|    ==    | gleich        |\n",
    "|    !=    | ungleich      |\n",
    "|    >     | größer        |\n",
    "|    >=    | größer/gleich |\n",
    "|    <     | kleiner       |\n",
    "|    <=    | kleiner/gleich|\n",
    "\n",
    "## Logische Operatoren (Verknüpfung)\n",
    "| Operator | Funktion      |\n",
    "|----------|---------------|\n",
    "|    &     | und           |\n",
    "|  &#124;  | oder          |\n",
    "|    ~     | invertieren   |\n"
   ]
  },
  {
   "cell_type": "markdown",
   "metadata": {},
   "source": [
    "## U04 - Basic Funktionen\n",
    "| Befehl | Beschreibung |\n",
    "|----------------- |:------------------------------------|\n",
    "|**np.where( <font color='purple'>Bedingung, Wenn-True, Wenn-False </font>)**| WENN-Funktion von Numpy |\n",
    "|**s.min()\\* \\\\ df.min()\\*** | Minimalwert von einer Serie/DataFrame |\n",
    "|**df.describe()** | Statistische Beschreibung des DataFrames |\n",
    "|**s.round( <font color='purple'>Anzahl der Stellen</font> )** | Mehrere Zeilen auswählen |\n",
    "\n",
    "**\\*** geht auch für .min(), .max(), .mean(), .std(), .median(), .sum()"
   ]
  },
  {
   "cell_type": "markdown",
   "metadata": {},
   "source": [
    "## U05 - Arbeiten mit Text\n",
    "\n",
    "| Befehl | Beschreibung |\n",
    "|----------------- |:------------------------------------|\n",
    "|**df.fillna( <font color='purple'> Füllwert </font> )**| Fülle alle ungültigen Werte im DataFrame oder in der **Series mit s.fillna()** |\n",
    "|**s.str.strip()** | Führende und Folgende Leerzeichen entfernen in einer Series | \n",
    "|**s1.str.cat( <font color='purple'>s2, sep=' '</font> )**| Verbinden zweier Textspalten mit Trennzeichen |\n",
    "|**s.str.split( <font color='purple'>' ', expand=True</font> )**| Trennnen des Textes entlang des Trennzeichens |\n",
    "\n",
    "\n",
    "### Weitere Methoden des ``.str`` Accesors:\n",
    "| Befehl | Beschreibung |\n",
    "|---|---|\n",
    "|**.str.upper()**| Nur Großbuchstaben (Upper Case)|\n",
    "|**.str.lower()**| Nur Kleinbuchstaben (Lower Case)|\n",
    "|**.str.capitalize()**| Nur den Ersten Buchstaben groß schreiben (Capital)|\n",
    "|**.str.title()**| - Texte immer Pascal Case schreiben (Title)|\n",
    "\n",
    "...\n"
   ]
  },
  {
   "cell_type": "markdown",
   "metadata": {},
   "source": [
    "## U06 - Nachschlagen und Verweisen\n",
    "\n",
    "Befehl zum Nachlagen und Verweisen: ``pd.merge()``\n",
    "\n",
    "### Argumente\n",
    "\n",
    "* Verknüpungsart - how\n",
    "    * **outer** - Alle Elemente\n",
    "    * **inner** - Alle Datensätze für die eine Verknüpfung existiert\n",
    "    * **left** - Alle Elemente des linken DataFrames mit Daten aus dem rechten falls vorhanden\n",
    "    * **right** - Alle Elemente des rechten DataFrames mit Daten aus dem linken falls vorhanden\n",
    "    \n",
    "* linker/rechter Bezug\n",
    "    * Spalten: **left_on=[<font color=\"red\">'S1', 'S2'</font>]**\n",
    "    * Index: **left_index=<font color=\"green\">True</font>**\n",
    "\n",
    "* Suffixes ändern mit **suffixes=('_left', '_right')**\n",
    "* Anzeigen der Verknüpfungsart mit **indicator=True**\n",
    "\n",
    "\n",
    "Beispiel:\n",
    "``pd.merge(df_A, df_B, how='inner', left_index=True, right_index=True, suffixes=('_left', '_right'), indicator=True)``\n",
    "\n",
    "### Weiter Befehle\n",
    "\n",
    "| Befehl | Beschreibung |\n",
    "|----------------- |:------------------------------------|\n",
    "| **df.reset_index()**| Index zur Spalte machen |\n",
    "| **df.rename( <font color=\"purple\">columns={'A':'A_New'} </font> )** | Spalte 'A' umbennen in Spalte 'A_New' |"
   ]
  },
  {
   "cell_type": "markdown",
   "metadata": {},
   "source": [
    "## U07 - Gruppieren\n",
    "1.Schritt Gruppieren:\n",
    "``df.groupby(['Ebene 1', 'Ebene 2'])``\n",
    "\n",
    "2.Schritt Verarbeiten der Gruppen\n",
    "\n",
    "| Befehl | Beschreibung |\n",
    "|-----------------|:------------------------------------|\n",
    "| **.count()**| Zählen der Einträge |\n",
    "| **.size()** | Anzahl der Datensätze pro Gruppe |\n",
    "| **.sum()** | Summe, aber auch alle anderen Grundfunktionen wie .mean usw. anwendbar|\n",
    "| **.first() <br>.last()** | Erster/Letzter Datensatz in jeder Gruppe |\n",
    "| **.head() <br>.tail()** | Ersten/Letzten X Datensätze in jeder Gruppe |"
   ]
  },
  {
   "cell_type": "markdown",
   "metadata": {},
   "source": [
    "## U08 - Visualisierungen\n",
    "Schritte für Grafiken\n",
    "\n",
    "--> Daten Darstellung **auswählen** (Liniendiagram, BoxPlot, Histogram...)<br>\n",
    "--> Daten **selektieren** (Welche Spalten brauch ich?)<br>\n",
    "--> Daten **auswerten** (z.B. durch ``.value_counts()`` oder durch ``.groupby()``<br>\n",
    "--> Daten **darstellen** (Wie möchte ich die Daten Darstellen?) <br>\n",
    "--> Daten **transformieren** (z.B. mit ``.unstack()`` den letzten Index zu Spalten machen)<br>\n",
    "--> **Darstellung anpassen** (Farben etc.)\n",
    "\n",
    "Arbeiten mit der Bibliothek **matplotlib** oder mit **Pandas** (Links siehe Einheit 8)\n",
    "\n",
    "**Beispiele**:\n",
    "``df.boxplot()``\n",
    "``df.plot()``\n",
    "``df.hist()`` \n",
    "\n",
    "Graphen findest in den Packages matplotlib und seaborn"
   ]
  },
  {
   "cell_type": "markdown",
   "metadata": {},
   "source": [
    "## U09 - Zeitreihen bearbeiten"
   ]
  },
  {
   "cell_type": "markdown",
   "metadata": {},
   "source": [
    "## U10 - Widgets"
   ]
  },
  {
   "cell_type": "markdown",
   "metadata": {},
   "source": [
    "## Sammlung Bereinigen von Daten\n",
    "\n",
    "\n",
    "| Befehl | Beschreibung |\n",
    "|-----------------|:------------------------------------|\n",
    "| **s.isna()**| Series mit True/False Werten. Ist True, wenn in der Zeile ein NaN Eintrag steht. |\n",
    "| **df.drop(<font color=\"purple\"> columns=['Spalte']</font> )**| Entferenen von Spalten |\n",
    "| **df.dropna( <font color=\"purple\">subset=['Spalte'] </font> )**| Löschen aller Einträge mit NaN Einträgen in der entsprechenden Spalte |\n",
    "|**df.fillna( <font color='purple'> Füllwert </font> )**| Fülle alle ungültigen Werte im DataFrame  |\n",
    "|**s.fillna( <font color='purple'> Füllwert </font> )** | Fülle alle ungültigen Werte in der Series |\n",
    "\n"
   ]
  },
  {
   "cell_type": "markdown",
   "metadata": {},
   "source": [
    "## Nach dem Kurs\n",
    "\n",
    "* Installieren Sie sich die benötigte Software. Die Anleitung finden Sie im **doc** Ordner\n",
    "* Schließen Sie alle Zusatzübungen ab\n",
    "* Die Abschlussübung dient als gute Wiederholung und als kleiner Ausblick\n",
    "* Vertiefen Sie ihr Wissen zum Beispiel durch Seiten wie [www.kaggle.com](https://www.kaggle.com/learn/overview)\n",
    "* bung, Übung, Übung…"
   ]
  }
 ],
 "metadata": {
  "kernelspec": {
   "display_name": "Python 3",
   "language": "python",
   "name": "python3"
  },
  "language_info": {
   "codemirror_mode": {
    "name": "ipython",
    "version": 3
   },
   "file_extension": ".py",
   "mimetype": "text/x-python",
   "name": "python",
   "nbconvert_exporter": "python",
   "pygments_lexer": "ipython3",
   "version": "3.6.7"
  }
 },
 "nbformat": 4,
 "nbformat_minor": 4
}
