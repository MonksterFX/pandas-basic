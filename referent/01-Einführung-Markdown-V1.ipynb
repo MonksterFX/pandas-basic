{
 "cells": [
  {
   "cell_type": "markdown",
   "metadata": {},
   "source": [
    "# Willkommen zum Kurs: Große Datenmengen Analysieren mit Pandas\n",
    "Im folgenden Abschnitt möchte ich euch zeigen, wie ihr Markdownzellen benutzen könnt, um Imformationen darzustellen die euch beim Verabeiten eurer Daten helfen. Mit Hilfe der sogenannten Markdown Sprache können verschiedene Elemente darstellt werden. \n",
    "\n",
    "Hier einige Beispiele:\n",
    "\n",
    "## Text\n",
    "***\n",
    "Du hast sowohl die Möglichkeit normalen Text anzuzeigen, als auch\n",
    "- *kursiv geschriebener Text*,\n",
    "- **fett geschriebener Text**,\n",
    "- ~~durchgestrichener Text~~\n",
    "\n",
    "## Formeln\n",
    "***\n",
    "Du kannst komplizierte mathematische Formeln in schöner Form dokumentieren:\n",
    "\n",
    "$$e^x=\\sum_{i=0}^\\infty \\frac{1}{i!}x^i$$\n",
    "\n",
    "\n",
    "## Tabellen\n",
    "***\n",
    "\n",
    "| Tables        | Are            | Cool  |\n",
    "| ------------- |:-------------: | -----:|\n",
    "| Spalte 3 ist  | rechtsbündig   | 1600  |\n",
    "| Spalte 2 ist  | zentriert      | 12    |\n",
    "| Zebra Streifen| sind ordentlich| 1     |\n",
    "\n",
    "## Code\n",
    "***\n",
    "Wir können auch Text als Code formatieren\n",
    "```python\n",
    "my_name = \"Max Mönch\" \n",
    "my_age = 20+7\n",
    "```\n",
    "\n",
    "## Bilder und Grafiken\n",
    "***\n",
    "![Kitten](https://hamburg.mitvergnuegen.com/wp-content/uploads/sites/2/2016/09/cat-memes-680x439.jpg)\n",
    "\n",
    "\n",
    "## Weitere Elemente findest du unter z.B. unter:\n",
    "***\n",
    "> [Offizielle Juypter Seite](https://jupyter-notebook.readthedocs.io/en/stable/examples/Notebook/Working%20With%20Markdown%20Cells.html)\n",
    ">\n",
    "> [Medium.com](https://medium.com/ibm-data-science-experience/markdown-for-jupyter-notebooks-cheatsheet-386c05aeebed)\n"
   ]
  }
 ],
 "metadata": {
  "kernelspec": {
   "display_name": "Python 3",
   "language": "python",
   "name": "python3"
  },
  "language_info": {
   "codemirror_mode": {
    "name": "ipython",
    "version": 3
   },
   "file_extension": ".py",
   "mimetype": "text/x-python",
   "name": "python",
   "nbconvert_exporter": "python",
   "pygments_lexer": "ipython3",
   "version": "3.6.5"
  }
 },
 "nbformat": 4,
 "nbformat_minor": 2
}
