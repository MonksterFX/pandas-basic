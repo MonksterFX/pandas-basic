{
 "cells": [
  {
   "cell_type": "markdown",
   "metadata": {},
   "source": [
    "# 06-Was ist Merging?\n",
    "Unter Merging versteht man das Zusammenführen von zwei Datensätzen. Als Referenz dienen hierbei entweder die Indices der zu vereinenden DataFrames oder aber eine Kombination von ein oder mehrerer Spalten. Diese Technik wird häufig gebraucht, da Daten aus unterschiedlichen Datenquellen oder zum Beispiel aus einer tabellarischen Datenbank kommen."
   ]
  },
  {
   "cell_type": "markdown",
   "metadata": {},
   "source": [
    "# Erzeugen der beiden zu vereinenden Dataframes\n",
    "Im folgenden Kapitel wollen wir uns anschauen, wie wir Daten aus zwei verschiedenen Datensätzen zusammenführen können. Dies gehört zu einer der wichtigsten Tasks, wenn man mit tabellarischen Daten arbeitet."
   ]
  },
  {
   "cell_type": "code",
   "execution_count": null,
   "metadata": {},
   "outputs": [],
   "source": [
    "import pandas as pd\n",
    "import numpy as np"
   ]
  },
  {
   "cell_type": "code",
   "execution_count": null,
   "metadata": {},
   "outputs": [],
   "source": [
    "# Erzeugen eines ersten Dataframes \n",
    "df_A = pd.DataFrame(list(range(0,5)), columns=['A'])\n",
    "df_A = df_A.set_index('A')\n",
    "df_A['Data'] = ['Apfel', 'Birne', 'Blaubeere', 'Orange', 'Banane']\n",
    "df_A"
   ]
  },
  {
   "cell_type": "code",
   "execution_count": null,
   "metadata": {},
   "outputs": [],
   "source": [
    "# Erzeugen eines zweiten Dataframes \n",
    "df_B = pd.DataFrame(list(range(3,8)), columns=['B'])\n",
    "df_B = df_B.set_index('B')\n",
    "df_B['Data'] = ['Orange', 'Gelb', 'Schwarz', 'Weiß', 'Lila']\n",
    "df_B"
   ]
  },
  {
   "cell_type": "markdown",
   "metadata": {},
   "source": [
    "# Verweisen auf Grundlage der Indize\n",
    "Wir wollen uns dazu die 4 verschiedenen Verknüpfungsarten anschauen:\n",
    "* inner\n",
    "* outer\n",
    "* left\n",
    "* right"
   ]
  },
  {
   "cell_type": "markdown",
   "metadata": {},
   "source": [
    "## Der Inner-Join\n",
    "Inner Join bedeutet das Ergebnis beinhaltet nur Daten, die verknüpft werden können und deren Bezug in beiden Dataframes vorkommt."
   ]
  },
  {
   "cell_type": "code",
   "execution_count": null,
   "metadata": {},
   "outputs": [],
   "source": [
    "# Joinen/Mergen die Dataframes aufgrund ihrer Indize, das Ergebnis enthält nur die Schnittmenge der beiden Dataframes\n",
    "pd.merge(df_A, df_B, how='inner', left_index=True, right_index=True)"
   ]
  },
  {
   "cell_type": "markdown",
   "metadata": {},
   "source": [
    "## Der Outer-Join\n",
    "Outer Join bedeutet das Ergebnis beinhaltet alle Daten unabhängig davon ob diese verknüpft werden können oder nicht. Fehlende Daten werden mit NaN aufgefüllt."
   ]
  },
  {
   "cell_type": "code",
   "execution_count": null,
   "metadata": {},
   "outputs": [],
   "source": [
    "pd.merge(df_A, df_B, how='outer', left_index=True, right_index=True)"
   ]
  },
  {
   "cell_type": "markdown",
   "metadata": {},
   "source": [
    "WIr können uns außerdem anzeigen lassen, auf welche Art die Datensätze verknüpft wurden. Dafür setzen wir den Parameter <font color='green'>indicator=True</font>"
   ]
  },
  {
   "cell_type": "code",
   "execution_count": null,
   "metadata": {},
   "outputs": [],
   "source": [
    "pd.merge(df_A, df_B, how='outer', left_index=True, right_index=True, indicator=True)"
   ]
  },
  {
   "cell_type": "markdown",
   "metadata": {},
   "source": [
    "## Left und Right Join\n",
    "Enthält alle Elemente des linken(left-join) oder rechten (right-join) Dataframe, unabhänig ob Daten verknüpft worden sind oder nicht."
   ]
  },
  {
   "cell_type": "code",
   "execution_count": null,
   "metadata": {},
   "outputs": [],
   "source": [
    "pd.merge(df_A, df_B, how='left', left_index=True, right_index=True)"
   ]
  },
  {
   "cell_type": "code",
   "execution_count": null,
   "metadata": {},
   "outputs": [],
   "source": [
    "pd.merge(df_A, df_B, how='right', left_index=True, right_index=True)"
   ]
  },
  {
   "cell_type": "markdown",
   "metadata": {},
   "source": [
    "## Anpassungsmöglichkeiten\n",
    "Enthalten beide Dataframes Spalten mit dem gleichen Namen, so kennzeichnet diese Pandas mit den Suffixen '_x' und '_y'. Da da meisten wenig aussagekräftig ist, können wir auch dieses Verhalten ändern. "
   ]
  },
  {
   "cell_type": "code",
   "execution_count": null,
   "metadata": {},
   "outputs": [],
   "source": [
    "pd.merge(df_A, df_B, how='outer', left_index=True, \n",
    "         right_index=True, suffixes=('_Fruit', '_Color'))"
   ]
  },
  {
   "cell_type": "markdown",
   "metadata": {},
   "source": [
    "# Verweisen auf Grundlage von einer oder mehrerer Spalte(n)\n",
    "Wir können Daten nicht nur auf der Grundlage der Indizes verknüpfen sondern auch über die eine oder mehrere Spalten."
   ]
  },
  {
   "cell_type": "code",
   "execution_count": null,
   "metadata": {},
   "outputs": [],
   "source": [
    "# DataFrame Generierung\n",
    "df_A = df_A.reset_index().rename(columns={'A':'Link'})\n",
    "df_A"
   ]
  },
  {
   "cell_type": "code",
   "execution_count": null,
   "metadata": {},
   "outputs": [],
   "source": [
    "# DataFrame Generierung\n",
    "df_B = df_B.reset_index().rename(columns={'B':'Link'})\n",
    "df_B"
   ]
  },
  {
   "cell_type": "code",
   "execution_count": null,
   "metadata": {},
   "outputs": [],
   "source": [
    "# Eine Spalte als Referenz, die in beiden DataFrames existiert\n",
    "pd.merge(df_A, df_B, how='left', on=['Link'])"
   ]
  },
  {
   "cell_type": "code",
   "execution_count": null,
   "metadata": {},
   "outputs": [],
   "source": [
    "# Erzeugen eines ersten Dataframes \n",
    "df_A = pd.DataFrame()\n",
    "df_A['City1'] = ['Nürnberg', 'Fürth', 'Erlangen']*2\n",
    "df_A['Year1'] = (['2017']*3+['2018']*3)\n",
    "df_A['Data'] = pd.Series(list(range(0,6))).astype('str') + 'A'\n",
    "df_A"
   ]
  },
  {
   "cell_type": "code",
   "execution_count": null,
   "metadata": {},
   "outputs": [],
   "source": [
    "# Erzeugen eines zweiten Dataframes \n",
    "df_B = pd.DataFrame()\n",
    "df_B['City2'] = ['Nürnberg', 'Fürth', 'Erlangen']*2\n",
    "df_B['Year2'] = (['2018']*3+['2017']*3)\n",
    "df_B['Data'] = pd.Series(list(range(0,6))).astype('str') + 'B'\n",
    "df_B"
   ]
  },
  {
   "cell_type": "code",
   "execution_count": null,
   "metadata": {},
   "outputs": [],
   "source": [
    "''' ir möchten die Daten in DataFrame A ergänzen mit den Daten aus DataFrame B \n",
    "soweit dort Daten zugeordnet werden können.'''\n",
    "\n",
    "pd.merge(df_A, df_B, how='left', \n",
    "         left_on=['City1', 'Year1'], \n",
    "         right_on=['City2', 'Year2'])"
   ]
  },
  {
   "cell_type": "markdown",
   "metadata": {},
   "source": [
    "# Achtung: Doppelte Keys beim Verknüpfen!\n",
    "Werte Paare/oder einzelne Werte über die wir verknüpfen sollten immer einzigartig sein, es seiden es ist explizit gewollt. Hierzu zwei Beispiele:"
   ]
  },
  {
   "cell_type": "code",
   "execution_count": null,
   "metadata": {},
   "outputs": [],
   "source": [
    "# Erzeugen eines ersten Dataframes \n",
    "df_A = pd.DataFrame()\n",
    "df_A['Color'] = ['Gelb', 'Orange', 'Grün']\n",
    "df_A"
   ]
  },
  {
   "cell_type": "code",
   "execution_count": null,
   "metadata": {},
   "outputs": [],
   "source": [
    "# Erzeugen eines zweiten Dataframes \n",
    "df_B = pd.DataFrame()\n",
    "df_B['Color'] = list(range(0,3))*2\n",
    "df_B['Data'] = ['Bananne', 'Orange', 'Apfel', 'Zitrone', 'Nektarine', 'Kiwi']\n",
    "df_B"
   ]
  },
  {
   "cell_type": "code",
   "execution_count": null,
   "metadata": {},
   "outputs": [],
   "source": [
    "# Das Ergebnis ist doppelt so lange wie der DataFrame A vor dem merge\n",
    "df_merged = pd.merge(df_A, df_B, how='left', left_index=True, right_on=['Color'])\n",
    "df_merged"
   ]
  },
  {
   "cell_type": "code",
   "execution_count": null,
   "metadata": {},
   "outputs": [],
   "source": [
    "len(df_merged)"
   ]
  },
  {
   "cell_type": "markdown",
   "metadata": {},
   "source": [
    "## In-Deep Tutorial\n",
    "Weitere Möglichkeiten der Verknüpfung von Daten mit merge und wie du das Verhalten anpassen finden sich gut erklärt in diesem Tutorial aus der offiziellen Dokumentation:\n",
    "\n",
    "https://pandas.pydata.org/pandas-docs/stable/user_guide/merging.html#database-style-dataframe-or-named-series-joining-merging\n",
    "\n",
    "## Daten Zusammenführen in Excel\n",
    "Um Daten ähnlich wie mit **pd.merge()** zusammenzuführen, schau dir doch mal PowerQuery an. Mit diesem Tool sind ähnliche Prozesse möglich."
   ]
  }
 ],
 "metadata": {
  "kernelspec": {
   "display_name": "Python 3",
   "language": "python",
   "name": "python3"
  },
  "language_info": {
   "codemirror_mode": {
    "name": "ipython",
    "version": 3
   },
   "file_extension": ".py",
   "mimetype": "text/x-python",
   "name": "python",
   "nbconvert_exporter": "python",
   "pygments_lexer": "ipython3",
   "version": "3.6.7"
  }
 },
 "nbformat": 4,
 "nbformat_minor": 4
}
