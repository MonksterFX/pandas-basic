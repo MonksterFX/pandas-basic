{
 "cells": [
  {
   "cell_type": "markdown",
   "metadata": {},
   "source": [
    "# 03 - Suchen, Sortieren und Filtern\n",
    "Wir schauen uns jetzt mal genauer an, wie wir mit den Daten arbeiten können. Dazu wollen wir zunächst betrachten, wie Suchen, Sortieren und Filtern in einem DataFrame funktioniert."
   ]
  },
  {
   "cell_type": "markdown",
   "metadata": {},
   "source": [
    "## Laden des Datensatzes\n",
    "Als ersten importieren wir wie üblich die benötigten Bibliotheken. Anschließend lasen wir mit `pd.read_csv()` die .csv-Dateien mit unseren Daten. Als Ergebnis erhalten wir ein DataFrame Objekt."
   ]
  },
  {
   "cell_type": "code",
   "execution_count": null,
   "metadata": {},
   "outputs": [],
   "source": [
    "import pandas as pd"
   ]
  },
  {
   "cell_type": "code",
   "execution_count": null,
   "metadata": {},
   "outputs": [],
   "source": [
    "# Einlesen der .csv Datei\n",
    "df_pokemon = pd.read_csv('../src/pokemon.csv')\n",
    "df_pokemon.head()"
   ]
  },
  {
   "cell_type": "markdown",
   "metadata": {},
   "source": [
    "## Suchen\n",
    "Die Grundlage für Filtern und Sortieren ist das Suchen nach Werten. Das Suchen in<br> einer Spalte erzeugt immer eine sogenannte ``pd.Series``oder auch kurz **Series**, deren Einträge entweder Wahr oder Falsch ist."
   ]
  },
  {
   "cell_type": "code",
   "execution_count": null,
   "metadata": {},
   "outputs": [],
   "source": [
    "# Erzeugen einer Serie durch Auswahl einer einzigen Spalte.\n",
    "df_pokemon['Type 1']"
   ]
  },
  {
   "cell_type": "markdown",
   "metadata": {},
   "source": [
    "## Series/Arrays\n",
    "Schauen wir uns Series mal genauer an."
   ]
  },
  {
   "cell_type": "code",
   "execution_count": null,
   "metadata": {},
   "outputs": [],
   "source": [
    "# Komprimiertere Darstellung, will nicht so viele Werte sehen\n",
    "s_type = df_pokemon['Type 1']\n",
    "s_type.sample(10)"
   ]
  },
  {
   "cell_type": "code",
   "execution_count": null,
   "metadata": {},
   "outputs": [],
   "source": [
    "# Einzigartige Werte in einer Serie mit .unique()\n",
    "s_type.unique()"
   ]
  },
  {
   "cell_type": "code",
   "execution_count": null,
   "metadata": {},
   "outputs": [],
   "source": [
    "# Alternativ auch mit .value_counts() dann sehen wir gleich wie viele es von welcher Spezies gibt\n",
    "s_type.value_counts()"
   ]
  },
  {
   "cell_type": "code",
   "execution_count": null,
   "metadata": {},
   "outputs": [],
   "source": [
    "# Wir suchen jetzt alle Pokemon, die von der Spezies Fairy sind.\n",
    "s_type == 'Fairy'"
   ]
  },
  {
   "cell_type": "code",
   "execution_count": null,
   "metadata": {},
   "outputs": [],
   "source": [
    "# Wir speichern das Ergebnis zwischen damit wir nicht immer erneut suchen müssen.\n",
    "s_is_fairy = (s_type == 'Fairy')\n",
    "s_is_fairy.head()"
   ]
  },
  {
   "cell_type": "code",
   "execution_count": null,
   "metadata": {},
   "outputs": [],
   "source": [
    "# Wir geben beiden Längen aus und sehen das die beiden Series identisch Lang sind. \n",
    "print(len(s_type))\n",
    "print(len(s_is_fairy))"
   ]
  },
  {
   "cell_type": "code",
   "execution_count": null,
   "metadata": {},
   "outputs": [],
   "source": [
    "# Dh. wir haben unser gewünschtes Ergebnis und wir wissen jetzt bei welchen Eintrag \n",
    "# unser Suchkriterium \"Type 1\" = Fairy zutrifft. Den Dort steht jetzt Wahr."
   ]
  },
  {
   "cell_type": "markdown",
   "metadata": {},
   "source": [
    "## Filtern\n",
    "Filtern gehört zur Grundausstattung, wenn wir mit großen Datenmengen arbeiten wollen. Es ist daher besonders wichtig zu verstehen, wie das Filtern eines DataFrames funktioniert."
   ]
  },
  {
   "cell_type": "code",
   "execution_count": null,
   "metadata": {},
   "outputs": [],
   "source": [
    "# Wir selektieren nun nur alle Einträge, bei welchen in der Spalte 'Type 1' Fairy steht\n",
    "df_pokemon[s_is_fairy]"
   ]
  },
  {
   "cell_type": "code",
   "execution_count": null,
   "metadata": {},
   "outputs": [],
   "source": [
    "# Anstatt nun drei Zeilen und zwei Variablen zu verwenden, können wir das ganze\n",
    "# auch zusammenfassen.\n",
    "\n",
    "# -----------------\n",
    "# Herleitung\n",
    "# -----------------\n",
    "s_type = df_pokemon['Type 1']\n",
    "s_is_fairy = (s_type == 'Fairy')\n",
    "df_pokemon[s_is_fairy]\n",
    "\n",
    "# Entspricht\n",
    "df_pokemon[(s_type == 'Fairy')]\n",
    "\n",
    "# Entspricht\n",
    "df_pokemon[(df_pokemon['Type 1'] == 'Fairy')]"
   ]
  },
  {
   "cell_type": "code",
   "execution_count": null,
   "metadata": {},
   "outputs": [],
   "source": [
    "# Ich möchte jetzt alle Fairys deren HP(Health Points also Leben) > 70 sind. \n",
    "# Wie ich alle Fairys filter weiß ich bereits:\n",
    "df_pokemon[(df_pokemon['Type 1'] == 'Fairy')].head()"
   ]
  },
  {
   "cell_type": "code",
   "execution_count": null,
   "metadata": {},
   "outputs": [],
   "source": [
    "# Entsprechend der oben beschriebenen Logik kann ich auch nach den Health Points filtern\n",
    "df_pokemon[(df_pokemon['HP'] >= 70)].head()"
   ]
  },
  {
   "cell_type": "code",
   "execution_count": null,
   "metadata": {},
   "outputs": [],
   "source": [
    "# Beide Filter kann ich verbinden, ich brauche nur wieder eine Series mit Wahr/Falsch Werten.\n",
    "# Diese erhalten wir indem wir die beiden Filter mit einem UND verknüpfen\n",
    "(df_pokemon['Type 1'] == 'Fairy') & (df_pokemon['HP'] >= 70)"
   ]
  },
  {
   "cell_type": "code",
   "execution_count": null,
   "metadata": {},
   "outputs": [],
   "source": [
    "# Benutz ich jetzt diese Serie als Filter hab ich mein gewünschtes Ergebnis\n",
    "df_pokemon[(df_pokemon['Type 1'] == 'Fairy') & (df_pokemon['HP'] >= 70)]"
   ]
  },
  {
   "cell_type": "markdown",
   "metadata": {},
   "source": [
    "## Vergleichs Operatoren\n",
    "Möchte ich eine Serie mit einem Wert vergleich kann ich folgende Operatoren nutzen:\n",
    "\n",
    "| Operator | Funktion      |\n",
    "|----------|---------------|\n",
    "|    ==    | gleich        |\n",
    "|    !=    | ungleich      |\n",
    "|    >     | größer        |\n",
    "|    >=    | größer/gleich |\n",
    "|    <     | kleiner       |\n",
    "|    <=    | kleiner/gleich|"
   ]
  },
  {
   "cell_type": "markdown",
   "metadata": {},
   "source": [
    "## Logische Operatoren (Verknüpfung)\n",
    "| Operator | Funktion      |\n",
    "|----------|---------------|\n",
    "|    &     | und           |\n",
    "|  &#124;  | oder          |\n",
    "|    ~     | invertieren   |"
   ]
  },
  {
   "cell_type": "code",
   "execution_count": null,
   "metadata": {},
   "outputs": [],
   "source": [
    "# Alle Pokemon die nicht vom Typ Fairy sind\n",
    "df_pokemon[~(df_pokemon['Type 1'] == 'Fairy')]['Type 1'].value_counts()"
   ]
  },
  {
   "cell_type": "markdown",
   "metadata": {},
   "source": [
    "## Sortieren"
   ]
  },
  {
   "cell_type": "code",
   "execution_count": null,
   "metadata": {},
   "outputs": [],
   "source": [
    "df_pokemon.sort_values('HP').head()"
   ]
  },
  {
   "cell_type": "code",
   "execution_count": null,
   "metadata": {},
   "outputs": [],
   "source": [
    "# Möchte jetzt mir anschauen, wie ich innerhalb einer Sotierung noch eine weiter Sotierebene Anwenden kann.\n",
    "df_pokemon.sort_values(['HP', 'Attack'], ascending=False).head(10)"
   ]
  },
  {
   "cell_type": "code",
   "execution_count": null,
   "metadata": {},
   "outputs": [],
   "source": [
    "df_pk_hp_at = df_pokemon.sort_values(['HP', 'Attack'], ascending=False).head(10)\n",
    "df_pk_hp_at[['Name', 'HP', 'Attack']]"
   ]
  },
  {
   "cell_type": "markdown",
   "metadata": {},
   "source": [
    "# Spalte Legendary: Boolean Datentyp"
   ]
  },
  {
   "cell_type": "code",
   "execution_count": null,
   "metadata": {},
   "outputs": [],
   "source": [
    "df_pokemon.info()"
   ]
  },
  {
   "cell_type": "code",
   "execution_count": null,
   "metadata": {},
   "outputs": [],
   "source": [
    "df_pokemon['Legendary'].head()"
   ]
  },
  {
   "cell_type": "code",
   "execution_count": null,
   "metadata": {},
   "outputs": [],
   "source": [
    "df_pokemon['Legendary'].astype(str).head()"
   ]
  },
  {
   "cell_type": "markdown",
   "metadata": {},
   "source": [
    "# Tipps und Tricks\n",
    "### Unterschiedliches Sortieren\n",
    "Möchte ich die Spalten nicht einheitlich sortieren sondern jede Spalte unterschiedlich, z.B. Spalte **HP aufsteigend und Attack absteigend** nutze ich eine weitere Eigenschaft des acending-Parameters.\n",
    "\n",
    "`df_pokemon.sort_values(['HP', 'Attack'], ascending=[True, False])`\n",
    "\n",
    "Wichtig hierbeit ist, das die Reihenfolge der Sortierparameter mit der Reihenfolge der zu Sortierenden Spalten übereinstimmen muss!"
   ]
  }
 ],
 "metadata": {
  "anaconda-cloud": {},
  "kernelspec": {
   "display_name": "Python 3",
   "language": "python",
   "name": "python3"
  },
  "language_info": {
   "codemirror_mode": {
    "name": "ipython",
    "version": 3
   },
   "file_extension": ".py",
   "mimetype": "text/x-python",
   "name": "python",
   "nbconvert_exporter": "python",
   "pygments_lexer": "ipython3",
   "version": "3.6.7"
  }
 },
 "nbformat": 4,
 "nbformat_minor": 4
}
