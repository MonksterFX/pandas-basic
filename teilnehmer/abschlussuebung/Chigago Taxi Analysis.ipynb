{
 "cells": [
  {
   "cell_type": "markdown",
   "metadata": {},
   "source": [
    "#ToDo: \n",
    "* Trip Total löschen\n",
    "* company names"
   ]
  },
  {
   "cell_type": "code",
   "execution_count": 2,
   "metadata": {},
   "outputs": [],
   "source": [
    "import pandas as pd\n",
    "import numpy as np\n",
    "import matplotlib.pyplot as plt\n",
    "import ipyleaflet"
   ]
  },
  {
   "cell_type": "markdown",
   "metadata": {},
   "source": [
    "# Data Project: Chigago Taxi Set"
   ]
  },
  {
   "cell_type": "markdown",
   "metadata": {},
   "source": [
    "## Erste Schritte\n",
    "Mache dich mit der Struktur des Datensets vertraut. Öffne das Datenset <font color='orange'>bigdata/chigago/chigago.csv</font> und untersuche das Datenset mit den gelernten Methoden. Eine Kurzbeschreibung findest du unter im gleichen Ordner <font color='orange'>chigago_columns.txt</font>."
   ]
  },
  {
   "cell_type": "code",
   "execution_count": 5,
   "metadata": {},
   "outputs": [
    {
     "data": {
      "text/html": [
       "<div>\n",
       "<style scoped>\n",
       "    .dataframe tbody tr th:only-of-type {\n",
       "        vertical-align: middle;\n",
       "    }\n",
       "\n",
       "    .dataframe tbody tr th {\n",
       "        vertical-align: top;\n",
       "    }\n",
       "\n",
       "    .dataframe thead th {\n",
       "        text-align: right;\n",
       "    }\n",
       "</style>\n",
       "<table border=\"1\" class=\"dataframe\">\n",
       "  <thead>\n",
       "    <tr style=\"text-align: right;\">\n",
       "      <th></th>\n",
       "      <th>taxi_id</th>\n",
       "      <th>trip_start_timestamp</th>\n",
       "      <th>trip_end_timestamp</th>\n",
       "      <th>trip_seconds</th>\n",
       "      <th>trip_miles</th>\n",
       "      <th>pickup_census_tract</th>\n",
       "      <th>dropoff_census_tract</th>\n",
       "      <th>pickup_community_area</th>\n",
       "      <th>dropoff_community_area</th>\n",
       "      <th>fare</th>\n",
       "      <th>tips</th>\n",
       "      <th>tolls</th>\n",
       "      <th>extras</th>\n",
       "      <th>trip_total</th>\n",
       "      <th>payment_type</th>\n",
       "      <th>company</th>\n",
       "      <th>pickup_latitude</th>\n",
       "      <th>pickup_longitude</th>\n",
       "      <th>dropoff_latitude</th>\n",
       "      <th>dropoff_longitude</th>\n",
       "    </tr>\n",
       "  </thead>\n",
       "  <tbody>\n",
       "    <tr>\n",
       "      <th>0</th>\n",
       "      <td>85.0</td>\n",
       "      <td>2016-1-13 06:15:00</td>\n",
       "      <td>2016-1-13 06:15:00</td>\n",
       "      <td>180.0</td>\n",
       "      <td>0.40</td>\n",
       "      <td>NaN</td>\n",
       "      <td>NaN</td>\n",
       "      <td>24.0</td>\n",
       "      <td>24.0</td>\n",
       "      <td>4.50</td>\n",
       "      <td>0.00</td>\n",
       "      <td>0.0</td>\n",
       "      <td>0.0</td>\n",
       "      <td>4.50</td>\n",
       "      <td>Cash</td>\n",
       "      <td>107.0</td>\n",
       "      <td>199.0</td>\n",
       "      <td>510.0</td>\n",
       "      <td>199.0</td>\n",
       "      <td>510.0</td>\n",
       "    </tr>\n",
       "    <tr>\n",
       "      <th>1</th>\n",
       "      <td>2776.0</td>\n",
       "      <td>2016-1-22 09:30:00</td>\n",
       "      <td>2016-1-22 09:45:00</td>\n",
       "      <td>240.0</td>\n",
       "      <td>0.70</td>\n",
       "      <td>NaN</td>\n",
       "      <td>NaN</td>\n",
       "      <td>NaN</td>\n",
       "      <td>NaN</td>\n",
       "      <td>4.45</td>\n",
       "      <td>4.45</td>\n",
       "      <td>0.0</td>\n",
       "      <td>0.0</td>\n",
       "      <td>8.90</td>\n",
       "      <td>Credit Card</td>\n",
       "      <td>NaN</td>\n",
       "      <td>NaN</td>\n",
       "      <td>NaN</td>\n",
       "      <td>NaN</td>\n",
       "      <td>NaN</td>\n",
       "    </tr>\n",
       "    <tr>\n",
       "      <th>2</th>\n",
       "      <td>3168.0</td>\n",
       "      <td>2016-1-31 21:30:00</td>\n",
       "      <td>2016-1-31 21:30:00</td>\n",
       "      <td>0.0</td>\n",
       "      <td>0.00</td>\n",
       "      <td>NaN</td>\n",
       "      <td>NaN</td>\n",
       "      <td>NaN</td>\n",
       "      <td>NaN</td>\n",
       "      <td>42.75</td>\n",
       "      <td>5.00</td>\n",
       "      <td>0.0</td>\n",
       "      <td>0.0</td>\n",
       "      <td>47.75</td>\n",
       "      <td>Credit Card</td>\n",
       "      <td>119.0</td>\n",
       "      <td>NaN</td>\n",
       "      <td>NaN</td>\n",
       "      <td>NaN</td>\n",
       "      <td>NaN</td>\n",
       "    </tr>\n",
       "    <tr>\n",
       "      <th>3</th>\n",
       "      <td>4237.0</td>\n",
       "      <td>2016-1-23 17:30:00</td>\n",
       "      <td>2016-1-23 17:30:00</td>\n",
       "      <td>480.0</td>\n",
       "      <td>1.10</td>\n",
       "      <td>NaN</td>\n",
       "      <td>NaN</td>\n",
       "      <td>6.0</td>\n",
       "      <td>6.0</td>\n",
       "      <td>7.00</td>\n",
       "      <td>0.00</td>\n",
       "      <td>0.0</td>\n",
       "      <td>0.0</td>\n",
       "      <td>7.00</td>\n",
       "      <td>Cash</td>\n",
       "      <td>NaN</td>\n",
       "      <td>686.0</td>\n",
       "      <td>500.0</td>\n",
       "      <td>686.0</td>\n",
       "      <td>500.0</td>\n",
       "    </tr>\n",
       "    <tr>\n",
       "      <th>4</th>\n",
       "      <td>5710.0</td>\n",
       "      <td>2016-1-14 05:45:00</td>\n",
       "      <td>2016-1-14 06:00:00</td>\n",
       "      <td>480.0</td>\n",
       "      <td>2.71</td>\n",
       "      <td>NaN</td>\n",
       "      <td>NaN</td>\n",
       "      <td>32.0</td>\n",
       "      <td>NaN</td>\n",
       "      <td>10.25</td>\n",
       "      <td>0.00</td>\n",
       "      <td>0.0</td>\n",
       "      <td>0.0</td>\n",
       "      <td>10.25</td>\n",
       "      <td>Cash</td>\n",
       "      <td>NaN</td>\n",
       "      <td>385.0</td>\n",
       "      <td>478.0</td>\n",
       "      <td>NaN</td>\n",
       "      <td>NaN</td>\n",
       "    </tr>\n",
       "  </tbody>\n",
       "</table>\n",
       "</div>"
      ],
      "text/plain": [
       "   taxi_id trip_start_timestamp  trip_end_timestamp  trip_seconds  trip_miles  \\\n",
       "0     85.0   2016-1-13 06:15:00  2016-1-13 06:15:00         180.0        0.40   \n",
       "1   2776.0   2016-1-22 09:30:00  2016-1-22 09:45:00         240.0        0.70   \n",
       "2   3168.0   2016-1-31 21:30:00  2016-1-31 21:30:00           0.0        0.00   \n",
       "3   4237.0   2016-1-23 17:30:00  2016-1-23 17:30:00         480.0        1.10   \n",
       "4   5710.0   2016-1-14 05:45:00  2016-1-14 06:00:00         480.0        2.71   \n",
       "\n",
       "   pickup_census_tract  dropoff_census_tract  pickup_community_area  \\\n",
       "0                  NaN                   NaN                   24.0   \n",
       "1                  NaN                   NaN                    NaN   \n",
       "2                  NaN                   NaN                    NaN   \n",
       "3                  NaN                   NaN                    6.0   \n",
       "4                  NaN                   NaN                   32.0   \n",
       "\n",
       "   dropoff_community_area   fare  tips  tolls  extras  trip_total  \\\n",
       "0                    24.0   4.50  0.00    0.0     0.0        4.50   \n",
       "1                     NaN   4.45  4.45    0.0     0.0        8.90   \n",
       "2                     NaN  42.75  5.00    0.0     0.0       47.75   \n",
       "3                     6.0   7.00  0.00    0.0     0.0        7.00   \n",
       "4                     NaN  10.25  0.00    0.0     0.0       10.25   \n",
       "\n",
       "  payment_type  company  pickup_latitude  pickup_longitude  dropoff_latitude  \\\n",
       "0         Cash    107.0            199.0             510.0             199.0   \n",
       "1  Credit Card      NaN              NaN               NaN               NaN   \n",
       "2  Credit Card    119.0              NaN               NaN               NaN   \n",
       "3         Cash      NaN            686.0             500.0             686.0   \n",
       "4         Cash      NaN            385.0             478.0               NaN   \n",
       "\n",
       "   dropoff_longitude  \n",
       "0              510.0  \n",
       "1                NaN  \n",
       "2                NaN  \n",
       "3              500.0  \n",
       "4                NaN  "
      ]
     },
     "execution_count": 5,
     "metadata": {},
     "output_type": "execute_result"
    }
   ],
   "source": [
    "df = pd.read_csv('../../src/bigdata/chicago-taxi-trips/chicago_taxi_trips_2016_01.csv')\n",
    "df.head()"
   ]
  },
  {
   "cell_type": "markdown",
   "metadata": {},
   "source": [
    "## Bereinigen des DataFrames\n",
    "IM Laufe der Bearbeitung werden Sie einige "
   ]
  },
  {
   "cell_type": "code",
   "execution_count": null,
   "metadata": {},
   "outputs": [],
   "source": []
  },
  {
   "cell_type": "markdown",
   "metadata": {},
   "source": [
    "## Allgemeine Informationen"
   ]
  },
  {
   "cell_type": "code",
   "execution_count": 10,
   "metadata": {},
   "outputs": [
    {
     "data": {
      "text/plain": [
       "5637"
      ]
     },
     "execution_count": 10,
     "metadata": {},
     "output_type": "execute_result"
    }
   ],
   "source": [
    "# Wie viele verschiedene Taxifahrer gibt es in der Stadt \n",
    "len(df['taxi_id'].unique())"
   ]
  },
  {
   "cell_type": "code",
   "execution_count": 14,
   "metadata": {},
   "outputs": [
    {
     "data": {
      "text/plain": [
       "company  taxi_id\n",
       "2.0      687.0      245\n",
       "3.0      296.0      166\n",
       "         2556.0     828\n",
       "         2603.0     102\n",
       "         4094.0     168\n",
       "         4288.0     277\n",
       "         5712.0     459\n",
       "         7271.0     622\n",
       "         7909.0     331\n",
       "         8387.0     319\n",
       "5.0      846.0      221\n",
       "6.0      1671.0     257\n",
       "8.0      6.0        483\n",
       "         37.0       588\n",
       "         50.0       555\n",
       "         53.0       717\n",
       "         55.0       466\n",
       "         98.0       572\n",
       "         157.0      144\n",
       "         264.0      569\n",
       "         279.0      821\n",
       "         414.0      215\n",
       "         496.0      598\n",
       "         548.0      550\n",
       "         602.0      159\n",
       "         613.0        1\n",
       "         619.0      473\n",
       "         625.0      387\n",
       "         665.0       40\n",
       "         684.0      337\n",
       "                   ... \n",
       "119.0    8369.0     172\n",
       "         8374.0     122\n",
       "         8379.0     244\n",
       "         8389.0     122\n",
       "         8391.0     168\n",
       "         8413.0      12\n",
       "         8417.0     154\n",
       "         8420.0     156\n",
       "         8429.0     111\n",
       "         8431.0      33\n",
       "         8472.0     217\n",
       "         8478.0     140\n",
       "         8552.0     187\n",
       "         8557.0     308\n",
       "         8575.0     184\n",
       "         8584.0     236\n",
       "         8597.0     170\n",
       "         8604.0     152\n",
       "         8608.0       1\n",
       "         8620.0     328\n",
       "         8631.0      47\n",
       "         8637.0      67\n",
       "         8643.0     165\n",
       "         8664.0     195\n",
       "         8670.0     190\n",
       "         8694.0     145\n",
       "         8722.0     122\n",
       "         8744.0      71\n",
       "         8754.0      56\n",
       "         8762.0     125\n",
       "Length: 4037, dtype: int64"
      ]
     },
     "execution_count": 14,
     "metadata": {},
     "output_type": "execute_result"
    }
   ],
   "source": [
    "# Wie viele Taxiunternehmen gibt es und wie viele Taxifahrten wurden von den verschiedenen Taxis für die Unternehmen durchgeführt haben diese \n",
    "df.groupby(['company', 'taxi_id']).size()"
   ]
  },
  {
   "cell_type": "code",
   "execution_count": 21,
   "metadata": {},
   "outputs": [
    {
     "data": {
      "text/plain": [
       "<matplotlib.axes._subplots.AxesSubplot at 0x17e2387ec18>"
      ]
     },
     "execution_count": 21,
     "metadata": {},
     "output_type": "execute_result"
    },
    {
     "data": {
      "image/png": "[encoded data removed]",
      "text/plain": [
       "<Figure size 432x288 with 1 Axes>"
      ]
     },
     "metadata": {
      "needs_background": "light"
     },
     "output_type": "display_data"
    }
   ],
   "source": [
    "# Boxplot \n",
    "df.boxplot(['trip_total'], showfliers=False)"
   ]
  },
  {
   "cell_type": "code",
   "execution_count": 24,
   "metadata": {},
   "outputs": [
    {
     "data": {
      "image/png": "[encoded data removed]",
      "text/plain": [
       "<Figure size 720x432 with 1 Axes>"
      ]
     },
     "metadata": {
      "needs_background": "light"
     },
     "output_type": "display_data"
    }
   ],
   "source": [
    "# Violinplot \n",
    "fig, ax = plt.subplots(figsize=(10, 6))\n",
    "\n",
    "# konvertieren der Serie in listen, da pyplot keine Serien unterstützt\n",
    "w = df['trip_total'].dropna().drop_duplicates().tolist()\n",
    "\n",
    "data=[w]\n",
    "\n",
    "ax.violinplot(data)\n",
    "plt.show()"
   ]
  },
  {
   "cell_type": "code",
   "execution_count": null,
   "metadata": {},
   "outputs": [],
   "source": []
  },
  {
   "cell_type": "code",
   "execution_count": null,
   "metadata": {},
   "outputs": [],
   "source": []
  },
  {
   "cell_type": "code",
   "execution_count": null,
   "metadata": {},
   "outputs": [],
   "source": []
  }
 ],
 "metadata": {
  "kernelspec": {
   "display_name": "",
   "name": ""
  },
  "language_info": {
   "codemirror_mode": {
    "name": "ipython",
    "version": 3
   },
   "file_extension": ".py",
   "mimetype": "text/x-python",
   "name": "python",
   "nbconvert_exporter": "python",
   "pygments_lexer": "ipython3",
   "version": "3.6.7"
  }
 },
 "nbformat": 4,
 "nbformat_minor": 4
}
