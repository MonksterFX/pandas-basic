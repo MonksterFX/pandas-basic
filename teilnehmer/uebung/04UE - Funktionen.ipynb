{
 "cells": [
  {
   "cell_type": "markdown",
   "metadata": {},
   "source": [
    "# Übung 04: Funktionen\n",
    "Für die folgenden Aufgaben benötigst du die Datei <font color=orange>pokemon.csv</font>. Importiere sie entsprechend."
   ]
  },
  {
   "cell_type": "code",
   "execution_count": null,
   "metadata": {},
   "outputs": [],
   "source": []
  },
  {
   "cell_type": "markdown",
   "metadata": {},
   "source": [
    "## Teilaufgabe 1\n",
    "Bestimme für alle Pokemon der der Sorte Normal, Flying folgende Werte:\n",
    "* **Anzahl** der Pokemon in dieser Kategorie\n",
    "* Die **Durschnittswerte** für die Spalten HP, Attack, Defense\n",
    "* Die **Minimal- und Maximalwerte** für die Spalten HP, Attack Defense\n",
    "* Den **Anteil** der HP an dem Gesamtscoring (Total)"
   ]
  },
  {
   "cell_type": "code",
   "execution_count": null,
   "metadata": {},
   "outputs": [],
   "source": []
  },
  {
   "cell_type": "markdown",
   "metadata": {},
   "source": [
    "**Anzahl der Pokemon in dieser Kategorie**"
   ]
  },
  {
   "cell_type": "code",
   "execution_count": null,
   "metadata": {},
   "outputs": [],
   "source": []
  },
  {
   "cell_type": "markdown",
   "metadata": {},
   "source": [
    "**Durchschnittswerte berechnen**"
   ]
  },
  {
   "cell_type": "code",
   "execution_count": null,
   "metadata": {},
   "outputs": [],
   "source": []
  },
  {
   "cell_type": "markdown",
   "metadata": {},
   "source": [
    "**Die Minimal- und Maximalwerte für die Spalten HP, Attack Defense**"
   ]
  },
  {
   "cell_type": "code",
   "execution_count": null,
   "metadata": {},
   "outputs": [],
   "source": []
  },
  {
   "cell_type": "markdown",
   "metadata": {},
   "source": [
    "**Den Anteil der HP an dem Gesamtscoring (Total)**"
   ]
  },
  {
   "cell_type": "code",
   "execution_count": null,
   "metadata": {},
   "outputs": [],
   "source": []
  },
  {
   "cell_type": "markdown",
   "metadata": {},
   "source": [
    "## Teilaufgabe 2\n",
    "Berechne einen neuen Score für jeden Pokemon und speicher diesen in einer neuen Spalte mit dem Namen **'Total Neu'**.\n",
    "\n",
    "Der Score berechnet sich folgendermaßen:\n",
    "\n",
    "$$Total Neu={\\frac{Total+(Legendary*Total)}{Total}}$$\n",
    "\n",
    "Dafür ist es notwendig die Spalte **Legendary** in zunächst in eine Zahl umzuwandeln. Für False wird eine 0 gesetzt für True 0.25. Benutze hierfür die Funktion **np.where()**"
   ]
  },
  {
   "cell_type": "code",
   "execution_count": null,
   "metadata": {},
   "outputs": [],
   "source": []
  },
  {
   "cell_type": "markdown",
   "metadata": {},
   "source": [
    "## Teilaufgabe 3\n",
    "Kennzeichne mit Hilfe von **np.where()** besonders starke Grass Pokemon, indem du eine Spalte **'Descripition'** anlegst. Pokemon die die folgenden bedingungen einhalten sollten die Beschreibung **'Grass Master'** erhalten.\n",
    "\n",
    "* Type 1 muss gleich 'Grass' sein\n",
    "* Total von mindestens 450 oder Speed von über 120\n",
    "\n",
    "Lassen Sie sich **10 zufällige Zeilen** ihres Ergebnisses ausgeben in dem nur die Spalten **Name, Type 1, Total, Speed und Description** zu sehen sind. Wiederholen Sie die Ausgabe bis Sie das erste mal einen 'Grass Master' entdecken und überprüfen Sie die oben stehenden Bedinungen."
   ]
  },
  {
   "cell_type": "code",
   "execution_count": null,
   "metadata": {},
   "outputs": [],
   "source": []
  },
  {
   "cell_type": "markdown",
   "metadata": {},
   "source": [
    "## Teilaufgabe 4\n",
    "Lassen Sie sich alle Pokemon ausgeben, die **nicht** vom Typ 'Grass' sind. Überprüfen Sie mit **.unique()** ob der Wert auch wirklich nichtmehr in der Spalte vorkommt."
   ]
  },
  {
   "cell_type": "code",
   "execution_count": null,
   "metadata": {},
   "outputs": [],
   "source": []
  },
  {
   "cell_type": "markdown",
   "metadata": {},
   "source": [
    "## Zusatzaufgabe 1\n",
    "Geben ist die unten stehende Serie. Finde und wende die entsprechende Methode von **numpy** an um die folgenden Aufgabenstellungen zu bewälitgen.\n",
    "* Runden auf 3 Nachkommastellen\n",
    "* Den nächsten ganzzahlige Wert, der kleiner ist\n",
    "* Den nächsten ganzzahlige Wert, der größer ist\n",
    "* Abschneiden der Nachkommstellen\n",
    "* Den nächsten Werte zur Null\n",
    "\n",
    "Vergleich das Ergebnis der jeweiligen Funktion. Wie verhalten sich die Funktionen bei negativen Werten?"
   ]
  },
  {
   "cell_type": "code",
   "execution_count": null,
   "metadata": {},
   "outputs": [],
   "source": []
  },
  {
   "cell_type": "markdown",
   "metadata": {},
   "source": [
    "**Runden auf 3 Nachkommastellen**"
   ]
  },
  {
   "cell_type": "code",
   "execution_count": null,
   "metadata": {},
   "outputs": [],
   "source": []
  },
  {
   "cell_type": "markdown",
   "metadata": {},
   "source": [
    "**Den nächsten ganzzahlige Wert, der kleiner ist**"
   ]
  },
  {
   "cell_type": "code",
   "execution_count": null,
   "metadata": {},
   "outputs": [],
   "source": []
  },
  {
   "cell_type": "markdown",
   "metadata": {},
   "source": [
    "**Den nächsten ganzzahlige Wert, der größer ist**"
   ]
  },
  {
   "cell_type": "code",
   "execution_count": null,
   "metadata": {},
   "outputs": [],
   "source": []
  },
  {
   "cell_type": "markdown",
   "metadata": {},
   "source": [
    "**Abschneiden der Nachkommstellen**"
   ]
  },
  {
   "cell_type": "code",
   "execution_count": null,
   "metadata": {},
   "outputs": [],
   "source": []
  },
  {
   "cell_type": "markdown",
   "metadata": {},
   "source": [
    "**Den nächsten Werte zur Null (kürzerste Distanz zur Null)**"
   ]
  },
  {
   "cell_type": "code",
   "execution_count": null,
   "metadata": {},
   "outputs": [],
   "source": []
  },
  {
   "cell_type": "markdown",
   "metadata": {},
   "source": [
    "Eine Übersicht aller Mathematischen Funktionen von Numpy findest du unter: https://docs.scipy.org/doc/numpy-1.13.0/reference/routines.math.html"
   ]
  },
  {
   "cell_type": "markdown",
   "metadata": {},
   "source": [
    "## Zusatzaufgabe 2\n",
    "Nehmen wir die Logik aus Teilaufgabe 3. Wie muss der Code angepasst werden, dass wir unter den oben stehenden Bedingungen den Typ 1 + die Master Bezeichnung erhalten unabhängig vom seinem Typen?\n",
    "\n",
    "**Beispiel:**<br>\n",
    "*Ein Fire Pokemon das die Bedingungen erfüllt bekommt die Beschreibung **'Fire Master'**, ein Pokemon vom Typ Dark die Bezeichnung **'Dark Master'** etc...*"
   ]
  },
  {
   "cell_type": "code",
   "execution_count": null,
   "metadata": {},
   "outputs": [],
   "source": []
  },
  {
   "cell_type": "markdown",
   "metadata": {},
   "source": [
    "## Zusatzaufgabe 3\n",
    "Verketten von <font color='green'>**=WENN**</font> Prüfungen ist in Excel durchaus aufwendig. Dabei hilft uns die <font color='green'>**=WENNS**</font> Funktion. Auch in NUMPY steht uns eine solche Methode zur Verfügung. Mit **np.select()** können wir eine Liste an Prüfungen durchführen.\n",
    "\n",
    "Füge eine eine neue Spalte mit einer Beschreibung hinzu, je nachdem welche der folgenden Bedinungen eintritt:\n",
    "\n",
    "* 'Very Weak', wenn Total <= 330    \n",
    "* 'Weak', wenn Total <= 435\n",
    "* 'Normal', wenn Total <= 515\n",
    "* 'Strong', wenn Total > 515\n",
    "\n",
    "**Tipp:** Um zu lernen wie **np.select()** funktioniert, lese dir die offizielle Dokumentation durch."
   ]
  },
  {
   "cell_type": "code",
   "execution_count": null,
   "metadata": {},
   "outputs": [],
   "source": []
  }
 ],
 "metadata": {
  "kernelspec": {
   "display_name": "Python 3",
   "language": "python",
   "name": "python3"
  },
  "language_info": {
   "codemirror_mode": {
    "name": "ipython",
    "version": 3
   },
   "file_extension": ".py",
   "mimetype": "text/x-python",
   "name": "python",
   "nbconvert_exporter": "python",
   "pygments_lexer": "ipython3",
   "version": "3.6.7"
  }
 },
 "nbformat": 4,
 "nbformat_minor": 2
}
