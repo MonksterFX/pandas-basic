{
 "cells": [
  {
   "cell_type": "markdown",
   "metadata": {},
   "source": [
    "# Übung 05: Arbeiten mit Text\n",
    "Für die folgenden Aufgaben benötigst du die Datei <font color=orange>pokemon_defekt.csv</font>. Importiere sie entsprechend."
   ]
  },
  {
   "cell_type": "code",
   "execution_count": null,
   "metadata": {},
   "outputs": [],
   "source": []
  },
  {
   "cell_type": "markdown",
   "metadata": {},
   "source": [
    "## Teilaufgabe 1: Aufbereiten der Daten\n",
    "Überprüfe ob in den Spalten **NaN**-Werte vorkommen und ob es **überflüssige Leerzeichen** existieren. Behebe die auftretenden Fehler dementsprechend. Fülle die NaN Werte mit dem String 'Nan' und überleg dir wie die Leerzeichen entfernt werden könnten.\n",
    "\n",
    "**Tipp:** Man sieht im DataFrame nicht sofort ob eine Spalte überflüssige Leerzeichen enthält. Schau dir die einzelnen Spalten als Serie an. "
   ]
  },
  {
   "cell_type": "markdown",
   "metadata": {},
   "source": [
    "**NaN-Werte überprüfen**"
   ]
  },
  {
   "cell_type": "code",
   "execution_count": null,
   "metadata": {},
   "outputs": [],
   "source": []
  },
  {
   "cell_type": "markdown",
   "metadata": {},
   "source": [
    "**Überflüssige Leerzeichen**"
   ]
  },
  {
   "cell_type": "code",
   "execution_count": null,
   "metadata": {},
   "outputs": [],
   "source": []
  },
  {
   "cell_type": "markdown",
   "metadata": {},
   "source": [
    "## Teilaufgabe 2:\n",
    "Erstelle eine neue Spalte mit dem Namen Type in der die Typen 1 und 2 zusammengefasst werden.\n",
    "\n",
    "**Beispiel:** Dark-Fire"
   ]
  },
  {
   "cell_type": "code",
   "execution_count": null,
   "metadata": {},
   "outputs": [],
   "source": []
  },
  {
   "cell_type": "markdown",
   "metadata": {},
   "source": [
    "## Teilaufgabe 3:\n",
    "Der Name der Pokemon wird nicht passend dargestellt. Es sollte jeweils der erste Buchstabe jedes Teil des Namens großegeschrieben werden.\n",
    "\n",
    "**Beispiel:** Manectricmega Manectric"
   ]
  },
  {
   "cell_type": "code",
   "execution_count": null,
   "metadata": {},
   "outputs": [],
   "source": []
  },
  {
   "cell_type": "markdown",
   "metadata": {},
   "source": [
    "## Zusatzaufgabe 1:\n",
    "In der Spalte Status findest du die Werte HP(Health Points) und AT(Attack) in einem String codiert. Versuche die Codierung so aufzulösen, dass anschließend zwei neue Spalten HP udn AT im DataFrame existieren."
   ]
  },
  {
   "cell_type": "code",
   "execution_count": null,
   "metadata": {},
   "outputs": [],
   "source": []
  },
  {
   "cell_type": "markdown",
   "metadata": {},
   "source": [
    "## Zusatzaufgabe 2\n",
    "Wenn man sich die Datentypen Spalten AT und HP anschaut, stellt man fest das diese als Text hinterlegt sind (Datentyp:Object). Suche im Internet nach einer möglichkeit die beiden Spalten so umzuwandeln, das der Datentyp stimmt."
   ]
  },
  {
   "cell_type": "code",
   "execution_count": null,
   "metadata": {},
   "outputs": [],
   "source": []
  }
 ],
 "metadata": {
  "kernelspec": {
   "display_name": "Python 3",
   "language": "python",
   "name": "python3"
  },
  "language_info": {
   "codemirror_mode": {
    "name": "ipython",
    "version": 3
   },
   "file_extension": ".py",
   "mimetype": "text/x-python",
   "name": "python",
   "nbconvert_exporter": "python",
   "pygments_lexer": "ipython3",
   "version": "3.7.1"
  }
 },
 "nbformat": 4,
 "nbformat_minor": 2
}
