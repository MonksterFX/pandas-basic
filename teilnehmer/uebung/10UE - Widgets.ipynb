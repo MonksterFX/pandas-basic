{
 "cells": [
  {
   "cell_type": "markdown",
   "metadata": {},
   "source": [
    "# Übung 10: Widgets\n",
    "Für die folgenden Aufgaben benötigst du die Datei <font color=orange>bigdata/120-years-of-olympic-history-athletes-and-results/athlete_events.csv</font>. Importiere sie entsprechend."
   ]
  },
  {
   "cell_type": "code",
   "execution_count": null,
   "metadata": {},
   "outputs": [],
   "source": [
    "import pandas as pd\n",
    "import ipywidgets as widgets\n",
    "from ipywidgets import interact, interact_manual"
   ]
  },
  {
   "cell_type": "code",
   "execution_count": null,
   "metadata": {},
   "outputs": [],
   "source": [
    "df = pd.read_csv('../../src/bigdata/120-years-of-olympic-history-athletes-and-results/athlete_events.csv')\n",
    "df.head()"
   ]
  },
  {
   "cell_type": "markdown",
   "metadata": {},
   "source": [
    "# Teilaufgabe 1\n",
    "Erstelle mithilfe von ``@interact`` eine Funktion, die dir nur die Daten aus einen bestimmten Jahr anzeigt. Das Jahr soll mit einem **Slider** ausgewählt werden können. Damit der DataFrame nicht so groß wird filtere vorher die Daten, sodass Sie nur die Daten deiner Liebelingssportart enthalten (z.B. 'Table Tennis' oder 'Beach Volleyball'). \n",
    "\n",
    "\n",
    "**Verbesserung des Sliders, wenn du mit der obigen Aufgabe fertig bist**:<br>\n",
    "Die olympischen Spiele finden nur alle zwei Jahre statt. Passe den **Slider** zur Auswahl des Jahres so an, das dieser in 4 Jahres Schritten (Sommerspiele) oder in 2 Jahres Schritten (Winterspiele, früher alle 2 Jahre) arbeitet. Außerdem überlege dir eine sinnvolle grobsortierung des Ergebnisses."
   ]
  },
  {
   "cell_type": "code",
   "execution_count": null,
   "metadata": {},
   "outputs": [],
   "source": []
  },
  {
   "cell_type": "markdown",
   "metadata": {},
   "source": [
    "## Teilaufgabe 2\n",
    "Es soll nun möglich sein nur eine Liste alle Athleten und die Anzahl Ihrer Medalien abhänig von einem durch zwei **DatePicker** gewählte Daten zu betrachten. \n",
    "\n",
    "*Tipp: Für die Verarbeitung der Daten kann die Lösung aus der vorangegangen Gruppierungs Übung benutzt werden.*"
   ]
  },
  {
   "cell_type": "code",
   "execution_count": null,
   "metadata": {},
   "outputs": [],
   "source": []
  },
  {
   "cell_type": "markdown",
   "metadata": {},
   "source": [
    "## Teilaufgabe 3\n",
    "Schreibe ein interative Funktion mit derer Hilfe du nach ihrem Namen suchen kannst um die ID des Athleten zu erhalten."
   ]
  },
  {
   "cell_type": "code",
   "execution_count": null,
   "metadata": {},
   "outputs": [],
   "source": []
  },
  {
   "cell_type": "markdown",
   "metadata": {},
   "source": [
    "## Teilaufgabe 4\n",
    "Filter den DataFrame nach Datensätzen einer bestimmten Sportart. Lasse dir hierfür ein Dropdown mit allen Sportarten aus der Spalte Sport generieren.\n",
    "\n",
    "> <font color=\"red\">**Warnung:** Generiere die Liste aller einzigartigen Sportarten und speichere Sie vorher in einer Liste. Solltes du versuchen die ganze Spalte als dropdown zu übergeben kann es sein, dass dein Notebook abstürzt.</font>"
   ]
  },
  {
   "cell_type": "code",
   "execution_count": null,
   "metadata": {},
   "outputs": [],
   "source": []
  },
  {
   "cell_type": "markdown",
   "metadata": {},
   "source": [
    "## Zusatzübung 1:\n",
    "In der Gruppieren Lektion wurde gezeigt, wie man "
   ]
  },
  {
   "cell_type": "code",
   "execution_count": null,
   "metadata": {},
   "outputs": [],
   "source": []
  },
  {
   "cell_type": "markdown",
   "metadata": {},
   "source": [
    "## Zusatzübung 2:\n",
    "Probiere weitere Optionen aus indem du dir die Liste der verfügbaren Widgets anschaust. Löse die folgenden Darstellungen mit einem **einzigen Widget**.\n",
    "\n",
    "Link zu den Widgets: https://ipywidgets.readthedocs.io/en/latest/examples/Widget%20List.html\n",
    "\n",
    "* Lasse dir nur Athleten anzeigen die eine bestimme Anzahl an Goldmedalien in den Jahren 2000-2016 gewonnen haben. Sorge dafür, das sowohl die Ober- als auch die Untergrenze angepasst werden kann und nur Athleten in der Auswahl erscheinen, die eine Anzahl an Goldmedallien innerhalb dieser Grenzen gewonnen haben.\n",
    "\n",
    "*Tipp: Schau dir die Funktion* **.between()** *in der offiziellen Pandas Documentation an*\n",
    "\n"
   ]
  },
  {
   "cell_type": "code",
   "execution_count": null,
   "metadata": {},
   "outputs": [],
   "source": []
  }
 ],
 "metadata": {
  "kernelspec": {
   "display_name": "Python 3",
   "language": "python",
   "name": "python3"
  },
  "language_info": {
   "codemirror_mode": {
    "name": "ipython",
    "version": 3
   },
   "file_extension": ".py",
   "mimetype": "text/x-python",
   "name": "python",
   "nbconvert_exporter": "python",
   "pygments_lexer": "ipython3",
   "version": "3.7.1"
  }
 },
 "nbformat": 4,
 "nbformat_minor": 2
}
