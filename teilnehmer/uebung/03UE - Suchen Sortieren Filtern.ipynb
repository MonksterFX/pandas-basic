{
 "cells": [
  {
   "cell_type": "markdown",
   "metadata": {},
   "source": [
    "# Übung 03: Suchen, Filtern, Sortieren\n",
    "Für die folgenden Aufgaben benötigst du die Datei <font color=orange>pokemon.csv</font>. Importiere sie entsprechend."
   ]
  },
  {
   "cell_type": "code",
   "execution_count": null,
   "metadata": {},
   "outputs": [],
   "source": []
  },
  {
   "cell_type": "markdown",
   "metadata": {},
   "source": [
    "## Teilaufgabe 1\n",
    "Untersuche die welche einzigartigen Pokemon Typen es gibt."
   ]
  },
  {
   "cell_type": "code",
   "execution_count": null,
   "metadata": {},
   "outputs": [],
   "source": []
  },
  {
   "cell_type": "markdown",
   "metadata": {},
   "source": [
    "## Teilaufgabe 2\n",
    "Finde alle **Legandary** Pokemon und sortiere sie **absteigend nach ihrem Score (Total)**"
   ]
  },
  {
   "cell_type": "code",
   "execution_count": null,
   "metadata": {},
   "outputs": [],
   "source": []
  },
  {
   "cell_type": "markdown",
   "metadata": {},
   "source": [
    "## Teilaufgabe 3\n",
    "Filter alle **Stein** und alle **Wasser** Pokemon"
   ]
  },
  {
   "cell_type": "code",
   "execution_count": null,
   "metadata": {},
   "outputs": [],
   "source": []
  },
  {
   "cell_type": "markdown",
   "metadata": {},
   "source": [
    "## Teilaufgabe 4\n",
    "Zähle wiviele Pokemon es von welcher Sorte (Type 1) gibt deren Angriffskraft größer als 80 ist"
   ]
  },
  {
   "cell_type": "code",
   "execution_count": null,
   "metadata": {},
   "outputs": [],
   "source": []
  },
  {
   "cell_type": "markdown",
   "metadata": {},
   "source": [
    "## Teilaufgabe 5 \n",
    "Zeige alle Pokemon deren Total Wert zwischen 200 und 250 liegt"
   ]
  },
  {
   "cell_type": "code",
   "execution_count": null,
   "metadata": {},
   "outputs": [],
   "source": []
  },
  {
   "cell_type": "markdown",
   "metadata": {},
   "source": [
    "## Zusatzaufgabe 1: Unterschiedliche Sotierrichtungen\n",
    "Bis jetzt haben wir nur gelernt, wie man innerhalb mehrer Ebene entweder aufsteigend oder absteigend sortiert. Schaue in der Dokumentation nach, wie wir die erst nach **HP aufsteigenden** und dann nach **Attack absteigend** sortieren können.\n",
    " \n",
    "https://pandas.pydata.org/pandas-docs/stable/reference/api/pandas.DataFrame.sort_values.html"
   ]
  },
  {
   "cell_type": "code",
   "execution_count": null,
   "metadata": {},
   "outputs": [],
   "source": []
  },
  {
   "cell_type": "markdown",
   "metadata": {},
   "source": [
    "## Zusatzaufgabe 2: Wähle alle Pokemon, die nicht vom Typ Stein sind\n",
    "Probiere zwei verschiedene Wege aus."
   ]
  },
  {
   "cell_type": "code",
   "execution_count": null,
   "metadata": {},
   "outputs": [],
   "source": []
  },
  {
   "cell_type": "markdown",
   "metadata": {},
   "source": [
    "## Zusatzaufgabe 3: Verschachtelte Logik\n",
    "Wähle alle Pokemon in einem DataFrame, die\n",
    "* vom **Typ Legendary** sind und deren **Total Wert mindestens 650** beträgt, oder\n",
    "* die **mindestens** einen **Total Wert von 700 haben**, wenn Sie **nicht vom Typ Legendary** sind\n",
    "\n",
    "Sortiere diese anschließend nach dem **Total Wert absteigend.**"
   ]
  },
  {
   "cell_type": "code",
   "execution_count": null,
   "metadata": {},
   "outputs": [],
   "source": []
  }
 ],
 "metadata": {
  "anaconda-cloud": {},
  "kernelspec": {
   "display_name": "Python 3",
   "language": "python",
   "name": "python3"
  },
  "language_info": {
   "codemirror_mode": {
    "name": "ipython",
    "version": 3
   },
   "file_extension": ".py",
   "mimetype": "text/x-python",
   "name": "python",
   "nbconvert_exporter": "python",
   "pygments_lexer": "ipython3",
   "version": "3.6.7"
  }
 },
 "nbformat": 4,
 "nbformat_minor": 2
}
