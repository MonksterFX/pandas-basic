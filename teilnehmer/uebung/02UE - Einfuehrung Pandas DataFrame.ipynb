{
 "cells": [
  {
   "cell_type": "markdown",
   "metadata": {},
   "source": [
    "# Übung 02: Einführung Pandas DataFrame\n",
    "Jetzt wollen wir uns damit beschäftigen, wie wir eine CSV-Datei <br>\n",
    "einlesen können und wie wir in dieser verschiedenen Datensätze auswählen können."
   ]
  },
  {
   "cell_type": "markdown",
   "metadata": {},
   "source": [
    "## Teilaufgabe 1\n",
    "Öffne die folgende Datei <font color=orange>kunden_klein.csv</font> und speicher sie\n",
    "in einer Variablen, <br>damit du sie später zur Verfügung hast. \n",
    "Lasse dir...\n",
    "* die ersten 5 Einträge anzeigen\n",
    "* die letzten 10 Einträge anzeigen\n",
    "* 3 Einträgen von einer Zufälligen Stelle anzeigen"
   ]
  },
  {
   "cell_type": "code",
   "execution_count": null,
   "metadata": {},
   "outputs": [],
   "source": []
  },
  {
   "cell_type": "markdown",
   "metadata": {},
   "source": [
    "# Teilaufgabe 2\n",
    "Überprüfe wie die Verteilung der Geschlechter ist. Lasse hierfür die Anzahl <br>\n",
    "der beiden Geschlechter in der Spalte **gender** zählen. Gebe zusätzlich die <br>\n",
    "Anzahl der Einträge des DataFrames aus."
   ]
  },
  {
   "cell_type": "code",
   "execution_count": null,
   "metadata": {},
   "outputs": [],
   "source": []
  },
  {
   "cell_type": "markdown",
   "metadata": {},
   "source": [
    "# Teilaufgabe 3\n",
    "Gebe nur die Emailadresse von **Curtice Hallgate** aus, indem du die entsprechenden <br>\n",
    "Zeile und die entsprechende Spalte selektierst. Schau dir dafür "
   ]
  },
  {
   "cell_type": "code",
   "execution_count": null,
   "metadata": {},
   "outputs": [],
   "source": []
  },
  {
   "cell_type": "markdown",
   "metadata": {},
   "source": [
    "# Teilaufgabe 4\n",
    "Selektiere und lasse dir jeweils folgende Datensätze anzeigen:\n",
    "* Index ist eine ungerade Zahl\n",
    "* Nur die Spalten **first_name, last_name, gender**\n",
    "* Die Kombination aus beiden"
   ]
  },
  {
   "cell_type": "code",
   "execution_count": null,
   "metadata": {},
   "outputs": [],
   "source": []
  },
  {
   "cell_type": "markdown",
   "metadata": {},
   "source": [
    "# Zusatzaufgabe 1: Verwendung eines anderen Trennzeichens\n",
    "Deutsche/Europäische CSV-Dateien verwenden meisten ein Semikolon als Trennzeichen. <br>\n",
    "Probiere die folgenden Datei <font color=orange>kunden_klein_trennzeichen.csv</font> mit dem oben gennanten Vorgehen zu öffnen.\n",
    "\n",
    "Less dir anschließend die Dokumentation zum **sep** Argument der Funktion `pd.read_csv()` <br>\n",
    "durch und öffne ein die Datei indem du das richtige Trennzeichen angibst.\n",
    "\n",
    "https://pandas.pydata.org/pandas-docs/stable/reference/api/pandas.read_csv.html#pandas.read_csv"
   ]
  },
  {
   "cell_type": "code",
   "execution_count": null,
   "metadata": {},
   "outputs": [],
   "source": []
  },
  {
   "cell_type": "markdown",
   "metadata": {},
   "source": [
    "# Zusatzaufgabe 2: Überschriften hinzufügen\n",
    "Die folgende Datei <font color=orange>kunden_klein_header.csv</font> hat keine Überschriften. Erkundige dich im Internet, wie du die Spalten bereits beim importieren dennoch bennen kannst."
   ]
  },
  {
   "cell_type": "code",
   "execution_count": null,
   "metadata": {},
   "outputs": [],
   "source": []
  },
  {
   "cell_type": "markdown",
   "metadata": {},
   "source": [
    "# Zusatzaufgabe 3: Sortierung der Spalten\n",
    "Probiere wie sich die Reihenfolge der Spalten in der Selektion auswirkt. Was passiert wenn <br>\n",
    "du die Reihenfolge änderst. Sortiere den DataFrame so um, dass die Spalten in der folgenden <br>\n",
    "Reihenfolge angezeigt werden:\n",
    "\n",
    "| Index | email                 | gender | last_name |\n",
    "|-------|-----------------------|--------|-----------|\n",
    "| 0     | olongforth0@wikia.com | Male   | Longforth |"
   ]
  },
  {
   "cell_type": "code",
   "execution_count": null,
   "metadata": {},
   "outputs": [],
   "source": []
  },
  {
   "cell_type": "markdown",
   "metadata": {},
   "source": [
    "# Zusatzaufgabe 4: Auswahl über die Position\n",
    "Wir können Zeilen auch über die Position im DataFrame anzeigen lassen. Hierfür benutzen wir **df.iloc`[<Position der Zeile als Ganzzahl>]`** oder exemplarisch mit mehreren Elementen **df.iloc`[[Position1, Position2, ...]]`**.\n",
    "\n",
    "Lass dir...\n",
    "* die Zeile erste Zeile ausgeben\n",
    "* die Zeile 4,5,6,7 ausgeben\n",
    "* gebe statt einer positiven Zahl eine negative ein. (z.B. -1, -2) und schaue was passiert\n",
    "* lass dir das vorletzte Element ausgeben ohne zu berechnen welchen Index dieses hat\n",
    "\n",
    "Schau dir das Ergebnis an. Was ist der Unterschied? Was bewirkt die negative Schreibweise."
   ]
  },
  {
   "cell_type": "markdown",
   "metadata": {},
   "source": [
    "**Erste Zeile ausgeben**"
   ]
  },
  {
   "cell_type": "code",
   "execution_count": null,
   "metadata": {},
   "outputs": [],
   "source": []
  },
  {
   "cell_type": "markdown",
   "metadata": {},
   "source": [
    "**Zeile 4,5,6,7**"
   ]
  },
  {
   "cell_type": "code",
   "execution_count": null,
   "metadata": {},
   "outputs": [],
   "source": []
  },
  {
   "cell_type": "markdown",
   "metadata": {},
   "source": [
    "**Negative Zahlen als Argument**"
   ]
  },
  {
   "cell_type": "code",
   "execution_count": null,
   "metadata": {},
   "outputs": [],
   "source": []
  },
  {
   "cell_type": "markdown",
   "metadata": {},
   "source": [
    "**Vorletzte Element**"
   ]
  },
  {
   "cell_type": "code",
   "execution_count": null,
   "metadata": {},
   "outputs": [],
   "source": []
  }
 ],
 "metadata": {
  "anaconda-cloud": {},
  "kernelspec": {
   "display_name": "Python 3",
   "language": "python",
   "name": "python3"
  },
  "language_info": {
   "codemirror_mode": {
    "name": "ipython",
    "version": 3
   },
   "file_extension": ".py",
   "mimetype": "text/x-python",
   "name": "python",
   "nbconvert_exporter": "python",
   "pygments_lexer": "ipython3",
   "version": "3.7.1"
  }
 },
 "nbformat": 4,
 "nbformat_minor": 2
}
