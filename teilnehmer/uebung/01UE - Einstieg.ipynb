{
 "cells": [
  {
   "cell_type": "markdown",
   "metadata": {},
   "source": [
    "# Übung 01: Kennenlernen des Notebooks"
   ]
  },
  {
   "cell_type": "markdown",
   "metadata": {},
   "source": [
    "## Teilaufgabe 1\n",
    "Schreibe einen Markdownzelle in der dein **Name als Überschrift** erscheint und unter deinem Namen:\n",
    "\n",
    "* Titel des Kurses als Text: **Große Datenmengen Analysieren mit Pandas und Python**\n",
    "* In der darauffolgenden Zeile: **Tag und den Ort des Kurses** als normaler Text."
   ]
  },
  {
   "cell_type": "code",
   "execution_count": null,
   "metadata": {},
   "outputs": [],
   "source": []
  },
  {
   "cell_type": "markdown",
   "metadata": {},
   "source": [
    "## Teilaufgabe 2\n",
    "Gebe den folgenden Text in der nächsten Zelle aus, ohne das du eine Variable oder print() verwendest: **Hallo Welt**"
   ]
  },
  {
   "cell_type": "code",
   "execution_count": null,
   "metadata": {},
   "outputs": [],
   "source": []
  },
  {
   "cell_type": "markdown",
   "metadata": {},
   "source": [
    "## Teilaufgabe 3\n",
    "Berechne das Ergebnis der Addition zweier Zahlen, so dass die Summe dein Alter ergibt und sorge dafür, dass diese als Output der Zelle angezeigt werden."
   ]
  },
  {
   "cell_type": "code",
   "execution_count": null,
   "metadata": {},
   "outputs": [],
   "source": []
  },
  {
   "cell_type": "markdown",
   "metadata": {},
   "source": [
    "## Teilaufgabe 4\n",
    "Speichere den Text **Hallo mein Name ist {dein name}** in einer Variablen mit dem Namen **hallo** und gebe anschließend den Wert der Variable aus."
   ]
  },
  {
   "cell_type": "code",
   "execution_count": null,
   "metadata": {},
   "outputs": [],
   "source": []
  },
  {
   "cell_type": "markdown",
   "metadata": {},
   "source": [
    "## Teilaufgabe 5\n",
    "Gebe in der nächsten Zelle die Ergebnisse der folgenden Berechnungen, der Variable und den folgenden Text aus, sodass Sie beim Ausführen der Zelle untereinander erscheinen:\n",
    "\n",
    "* Subtraktion zweier Zahlen (Berechnung)\n",
    "* Die Variabel hallo (Variable)\n",
    "* Deinen vollständigen Namen (Text)"
   ]
  },
  {
   "cell_type": "code",
   "execution_count": null,
   "metadata": {},
   "outputs": [],
   "source": []
  },
  {
   "cell_type": "markdown",
   "metadata": {},
   "source": [
    "# Zusatzaufgabe 1: Markdown Text\n",
    "Ändere die Farbe der Schrift deiner Beschreibung in einer Markdownzelle. \n",
    "Wie das funktioniert erfährst du hier: [Artikel Medium](https://medium.com/ibm-data-science-experience/markdown-for-jupyter-notebooks-cheatsheet-386c05aeebed). \n",
    "\n",
    "Benutze weitere Formatierungsmöglichkeiten um den Stil einiger Wörter auf fett oder kursiv zu setzen."
   ]
  },
  {
   "cell_type": "code",
   "execution_count": null,
   "metadata": {},
   "outputs": [],
   "source": []
  },
  {
   "cell_type": "markdown",
   "metadata": {},
   "source": [
    "# Zusatzaufgabe 2: Formeln in Markdown\n",
    "Formatiere den berühmten **Satz des Pythagoras** so, dass dieser übersichtlich als als Formel angezeigt wird. Die Informationen dafür findest du unter folgenden Links:\n",
    "\n",
    ">Wie du eine Formel in dein Markdown einbaust findest du [hier](https://jupyter-notebook.readthedocs.io/en/stable/examples/Notebook/Working%20With%20Markdown%20Cells.html#LaTeX-equations)\n",
    ">\n",
    ">Übersicht der Mathematischen Zeichen und Operatoren für eine Formel findest du [hier](https://en.wikibooks.org/wiki/LaTeX/Mathematics#Roots)."
   ]
  }
 ],
 "metadata": {
  "kernelspec": {
   "display_name": "Python 3",
   "language": "python",
   "name": "python3"
  },
  "language_info": {
   "codemirror_mode": {
    "name": "ipython",
    "version": 3
   },
   "file_extension": ".py",
   "mimetype": "text/x-python",
   "name": "python",
   "nbconvert_exporter": "python",
   "pygments_lexer": "ipython3",
   "version": "3.6.7"
  }
 },
 "nbformat": 4,
 "nbformat_minor": 2
}
