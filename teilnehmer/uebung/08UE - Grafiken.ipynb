{
 "cells": [
  {
   "cell_type": "markdown",
   "metadata": {},
   "source": [
    "# Übung 08: Grafiken"
   ]
  },
  {
   "cell_type": "code",
   "execution_count": null,
   "metadata": {},
   "outputs": [],
   "source": [
    "import pandas as pd\n",
    "import matplotlib.pyplot as plt\n",
    "import seaborn as sns"
   ]
  },
  {
   "cell_type": "code",
   "execution_count": null,
   "metadata": {},
   "outputs": [],
   "source": [
    "df = pd.read_csv('../../src/bigdata/120-years-of-olympic-history-athletes-and-results/athlete_events.csv')\n",
    "df.head()"
   ]
  },
  {
   "cell_type": "markdown",
   "metadata": {},
   "source": [
    "## Teilaufgabe 1: \n",
    "Vergleiche die Größenverteilung für Männer und Frauen in einem gemeinsamen Boxplot Diagramm"
   ]
  },
  {
   "cell_type": "code",
   "execution_count": null,
   "metadata": {},
   "outputs": [],
   "source": []
  },
  {
   "cell_type": "markdown",
   "metadata": {},
   "source": [
    "## Teilaufgabe 2:\n",
    "* Darstellung der Medalien Gewinne des Deutschen Teams bei den Winterspielen im Verlaufe der Jahre\n",
    "* Unterscheide zwischen Gold, Silber, Bronze Medaillien und plotte alle drei Verläufe in einem Graph\n",
    "* Schau dir die Daten an und finde raus warum der Graph zwischenzeitlich abbricht. Behebe den Fehler"
   ]
  },
  {
   "cell_type": "code",
   "execution_count": null,
   "metadata": {},
   "outputs": [],
   "source": []
  },
  {
   "cell_type": "markdown",
   "metadata": {},
   "source": [
    "## Teilaufgabe 3:\n",
    "Erstelle zwei nebeneinander angeordnete Plots mit der Anzahl der Teilnehmer an den Olympischen Spielen pro Jahr. Erstelle für jedes Geschlecht einen Plot. Betrachte nur die Winterspiele! Färbe die beiden Graphen in unterschiedlichen Farben ein."
   ]
  },
  {
   "cell_type": "code",
   "execution_count": null,
   "metadata": {},
   "outputs": [],
   "source": []
  },
  {
   "cell_type": "markdown",
   "metadata": {},
   "source": [
    "## Zusatzaufgabe 1:\n",
    "Erstelle ein Säulendiagramm mit horizontalen Balken. Inhalt die 20 besten Teams(Länder und ihre Medailliengewinne aufgeschlüsselt in **Gold, Silber und Bronze**.<br>\n",
    "https://pandas.pydata.org/pandas-docs/stable/user_guide/visualization.html\n",
    "\n",
    "Ändere die Farben der Balken entsprechend, der Medaillienfarbe. Hier findest du eine Map von bekannten **Farbnamen**.<br>\n",
    "https://matplotlib.org/gallery/color/named_colors.html"
   ]
  },
  {
   "cell_type": "code",
   "execution_count": null,
   "metadata": {},
   "outputs": [],
   "source": []
  },
  {
   "cell_type": "markdown",
   "metadata": {},
   "source": [
    "## Zusatzaufgabe 2:\n",
    "Schau dir den Unterschied zwischen ein BoxPlot und einem ViolinPlot an.Versuche die Daten aus Teilaufgabe 1 in einem ViolinPlot darzustellen. <br>\n",
    "https://matplotlib.org/gallery/statistics/boxplot_vs_violin.html#sphx-glr-gallery-statistics-boxplot-vs-violin-py\n",
    "\n",
    "**Tipp:** Die beiden Serien müssen bevor Sie im ViolinPlot benutzt werden könnnen in einer Liste umgewandelt werden, den pylot akzeptiert als Daten keine Serie. Google wie man eine Serie in eine Liste umwandelt."
   ]
  },
  {
   "cell_type": "code",
   "execution_count": null,
   "metadata": {},
   "outputs": [],
   "source": []
  }
 ],
 "metadata": {
  "kernelspec": {
   "display_name": "Python 3",
   "language": "python",
   "name": "python3"
  },
  "language_info": {
   "codemirror_mode": {
    "name": "ipython",
    "version": 3
   },
   "file_extension": ".py",
   "mimetype": "text/x-python",
   "name": "python",
   "nbconvert_exporter": "python",
   "pygments_lexer": "ipython3",
   "version": "3.6.7"
  }
 },
 "nbformat": 4,
 "nbformat_minor": 4
}
