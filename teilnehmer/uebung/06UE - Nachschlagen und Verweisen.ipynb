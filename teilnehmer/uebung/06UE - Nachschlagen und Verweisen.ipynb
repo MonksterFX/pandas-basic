{
 "cells": [
  {
   "cell_type": "markdown",
   "metadata": {},
   "source": [
    "# Übung 06: Nachschlagen und Verweisen"
   ]
  },
  {
   "cell_type": "markdown",
   "metadata": {},
   "source": [
    "## Generierung von Trainings Datensätzen\n",
    "Führe den folgenden Abschnitt aus, damit dir die Trainingsdatensätze zur Verfügung stehen."
   ]
  },
  {
   "cell_type": "code",
   "execution_count": 1,
   "metadata": {},
   "outputs": [],
   "source": [
    "import pandas as pd"
   ]
  },
  {
   "cell_type": "code",
   "execution_count": 2,
   "metadata": {},
   "outputs": [
    {
     "data": {
      "text/html": [
       "<div>\n",
       "<style scoped>\n",
       "    .dataframe tbody tr th:only-of-type {\n",
       "        vertical-align: middle;\n",
       "    }\n",
       "\n",
       "    .dataframe tbody tr th {\n",
       "        vertical-align: top;\n",
       "    }\n",
       "\n",
       "    .dataframe thead th {\n",
       "        text-align: right;\n",
       "    }\n",
       "</style>\n",
       "<table border=\"1\" class=\"dataframe\">\n",
       "  <thead>\n",
       "    <tr style=\"text-align: right;\">\n",
       "      <th></th>\n",
       "      <th>Column A</th>\n",
       "      <th>Data</th>\n",
       "    </tr>\n",
       "  </thead>\n",
       "  <tbody>\n",
       "    <tr>\n",
       "      <th>0</th>\n",
       "      <td>0</td>\n",
       "      <td>A1</td>\n",
       "    </tr>\n",
       "    <tr>\n",
       "      <th>1</th>\n",
       "      <td>1</td>\n",
       "      <td>A1</td>\n",
       "    </tr>\n",
       "    <tr>\n",
       "      <th>2</th>\n",
       "      <td>2</td>\n",
       "      <td>A1</td>\n",
       "    </tr>\n",
       "    <tr>\n",
       "      <th>3</th>\n",
       "      <td>3</td>\n",
       "      <td>A1</td>\n",
       "    </tr>\n",
       "    <tr>\n",
       "      <th>4</th>\n",
       "      <td>4</td>\n",
       "      <td>A1</td>\n",
       "    </tr>\n",
       "    <tr>\n",
       "      <th>5</th>\n",
       "      <td>5</td>\n",
       "      <td>A1</td>\n",
       "    </tr>\n",
       "  </tbody>\n",
       "</table>\n",
       "</div>"
      ],
      "text/plain": [
       "   Column A Data\n",
       "0         0   A1\n",
       "1         1   A1\n",
       "2         2   A1\n",
       "3         3   A1\n",
       "4         4   A1\n",
       "5         5   A1"
      ]
     },
     "execution_count": 2,
     "metadata": {},
     "output_type": "execute_result"
    }
   ],
   "source": [
    "df_A = pd.DataFrame()\n",
    "df_A['Column A'] = list(range(0,6))\n",
    "df_A['Data'] = 'A1'\n",
    "df_A"
   ]
  },
  {
   "cell_type": "code",
   "execution_count": 3,
   "metadata": {},
   "outputs": [
    {
     "data": {
      "text/html": [
       "<div>\n",
       "<style scoped>\n",
       "    .dataframe tbody tr th:only-of-type {\n",
       "        vertical-align: middle;\n",
       "    }\n",
       "\n",
       "    .dataframe tbody tr th {\n",
       "        vertical-align: top;\n",
       "    }\n",
       "\n",
       "    .dataframe thead th {\n",
       "        text-align: right;\n",
       "    }\n",
       "</style>\n",
       "<table border=\"1\" class=\"dataframe\">\n",
       "  <thead>\n",
       "    <tr style=\"text-align: right;\">\n",
       "      <th></th>\n",
       "      <th>Column C</th>\n",
       "      <th>Data</th>\n",
       "    </tr>\n",
       "  </thead>\n",
       "  <tbody>\n",
       "    <tr>\n",
       "      <th>0</th>\n",
       "      <td>2</td>\n",
       "      <td>B1</td>\n",
       "    </tr>\n",
       "    <tr>\n",
       "      <th>1</th>\n",
       "      <td>3</td>\n",
       "      <td>B1</td>\n",
       "    </tr>\n",
       "    <tr>\n",
       "      <th>2</th>\n",
       "      <td>4</td>\n",
       "      <td>B1</td>\n",
       "    </tr>\n",
       "    <tr>\n",
       "      <th>3</th>\n",
       "      <td>5</td>\n",
       "      <td>B1</td>\n",
       "    </tr>\n",
       "    <tr>\n",
       "      <th>4</th>\n",
       "      <td>6</td>\n",
       "      <td>B1</td>\n",
       "    </tr>\n",
       "    <tr>\n",
       "      <th>5</th>\n",
       "      <td>2</td>\n",
       "      <td>B2</td>\n",
       "    </tr>\n",
       "    <tr>\n",
       "      <th>6</th>\n",
       "      <td>3</td>\n",
       "      <td>B2</td>\n",
       "    </tr>\n",
       "    <tr>\n",
       "      <th>7</th>\n",
       "      <td>4</td>\n",
       "      <td>B2</td>\n",
       "    </tr>\n",
       "    <tr>\n",
       "      <th>8</th>\n",
       "      <td>5</td>\n",
       "      <td>B2</td>\n",
       "    </tr>\n",
       "    <tr>\n",
       "      <th>9</th>\n",
       "      <td>6</td>\n",
       "      <td>B2</td>\n",
       "    </tr>\n",
       "  </tbody>\n",
       "</table>\n",
       "</div>"
      ],
      "text/plain": [
       "   Column C Data\n",
       "0         2   B1\n",
       "1         3   B1\n",
       "2         4   B1\n",
       "3         5   B1\n",
       "4         6   B1\n",
       "5         2   B2\n",
       "6         3   B2\n",
       "7         4   B2\n",
       "8         5   B2\n",
       "9         6   B2"
      ]
     },
     "execution_count": 3,
     "metadata": {},
     "output_type": "execute_result"
    }
   ],
   "source": [
    "df_B = pd.DataFrame()\n",
    "df_B['Column C'] = list(range(2,7))*2\n",
    "df_B['Data'] = (['B1']*5+['B2']*5)\n",
    "df_B"
   ]
  },
  {
   "cell_type": "markdown",
   "metadata": {},
   "source": [
    "## Teilaufgabe 1:\n",
    "Verbinde die beiden Datensätze aus df_A und df_B auf folgende Weisen:\n",
    "* Als Schlüssel für den Merge soll der **Index** dienen und nur Elemente die in beiden DataFrames vorkommen.\n",
    "* Benutze die Spalte **'Column A'** aus df_A und die Spalte **'Column C'** aus df_B um eine Verbindung zwischen den Datensätzen herzustellen. Überlege dir warum jeder Übereinstimmende Wert in Spalte 'Column A' oder 'Column C' zweimal vorkommt. Es sollen wieder nur Elemente vorkommen die in beiden DataFrames exisitieren.\n",
    "* Verbinde die beiden DataFrames so, dass **alle Elemente aus df_A** erhalten bleiben auch wenn es keine zu verknüpfenden Elemente in df_B gibt.\n",
    "* Ersetze die entstehende Suffixe **'\\_x' und '\\_y'** sinnvoll durch A und B"
   ]
  },
  {
   "cell_type": "markdown",
   "metadata": {},
   "source": [
    "**Merge mit Index**"
   ]
  },
  {
   "cell_type": "code",
   "execution_count": null,
   "metadata": {},
   "outputs": [],
   "source": []
  },
  {
   "cell_type": "markdown",
   "metadata": {},
   "source": [
    "**Merge mit Spalte A und C**"
   ]
  },
  {
   "cell_type": "code",
   "execution_count": null,
   "metadata": {},
   "outputs": [],
   "source": []
  },
  {
   "cell_type": "markdown",
   "metadata": {},
   "source": [
    "**Merge mit allen Elementen aus df_A**"
   ]
  },
  {
   "cell_type": "code",
   "execution_count": null,
   "metadata": {},
   "outputs": [],
   "source": []
  },
  {
   "cell_type": "markdown",
   "metadata": {},
   "source": [
    "**Suffixe ändern**"
   ]
  },
  {
   "cell_type": "code",
   "execution_count": null,
   "metadata": {},
   "outputs": [],
   "source": []
  },
  {
   "cell_type": "markdown",
   "metadata": {},
   "source": [
    "## Teilaufgabe 2:\n",
    "Nun wollen wir uns ma mit einem echten Datensatz anschauen, wie das erweitern funktioniert. Das folgende Datenset enthält alle Teilnehmer der Olympischen Spiele seit 1980. \n",
    "\n",
    "\n",
    "### Aufgabe\n",
    "Füge die drei Tabellen so zusammen, dass du am Schluss eine einzige Tabelle erhälst in der Alle Details vorhanden sind.\n",
    "\n",
    "\n",
    "### Dateien\n",
    "Für Teilaufgabe 2 müssen wir drei Dateien aus dem folgenden Ordner importieren:\n",
    "\n",
    "**src\\bigdata\\120-years-of-olympic-history-athletes-and-results**\n",
    "\n",
    "* <font color='orange'>events.csv</font>\n",
    "* <font color='orange'>athlets.csv</font>\n",
    "* <font color='orange'>year_season_city.csv</font>\n",
    "\n",
    "<hr> "
   ]
  },
  {
   "cell_type": "code",
   "execution_count": null,
   "metadata": {},
   "outputs": [],
   "source": []
  },
  {
   "cell_type": "markdown",
   "metadata": {},
   "source": [
    "## Zusatzübung 1:\n",
    "Wir möchten das der Name der Athleten in Vorname und Nachname aufgeteilt wird."
   ]
  },
  {
   "cell_type": "code",
   "execution_count": null,
   "metadata": {},
   "outputs": [],
   "source": []
  },
  {
   "cell_type": "markdown",
   "metadata": {},
   "source": [
    "## Zusatzübung 2:\n",
    "Manachmal steht man vor dem Problem, das man gerne aufgrundlage eines Zeitstempels Daten mitteinandere verknüpfen will. Die Problematik hierbei ist, das wir meist mehrer Zeitstempel haben die einer festen Zeit zugewiesen werden könnten.\n",
    "\n",
    "**Tabelle A:**\n",
    "    \n",
    "| ValueA | TimesA |\n",
    "|--------|------- |\n",
    "| A      | 16:00  |\n",
    "\n",
    "\n",
    "**Tabelle B:**\n",
    "\n",
    "| ValueA | TimesA |\n",
    "|-------|-------|\n",
    "| W     | 15:42 | \n",
    "| X     | 15:53 |\n",
    "| Y     | 16:04 |\n",
    "| Z     | 16:12 |\n",
    "\n",
    "\n",
    "**Ergebnis:** \n",
    "\n",
    "| ValueA | TimesA | ValueB | TimesB |\n",
    "|--------|--------|--------|--------|\n",
    "| W      | 16:00  |Y       | 16:04  |\n",
    "\n",
    "<hr>\n",
    "\n",
    "### Aufgabe\n",
    "\n",
    "In der folgenden Aufgabe wollen wir die Preise einer Cryptowährung auf die Börsen Öffnungs- und Schlusszeiten der Frankfurter Börse mappen.\n",
    "\n",
    "**Auszug aus dem Ergebnis:**\n",
    "\n",
    "Date|Time|Location|timestamp|close|high|volume|open|low\n",
    "---|---|---|---|---|---|---|---|---\n",
    "2019-06-17 08:00:00|8|FRA|2019-06-17 08:05:39|241.6300048828125|241.72000122070312|240989.0|240.8000030517578|240.75\n",
    "2019-06-17 22:00:00|22|FRA|2019-06-17 22:02:05|244.05999755859372|244.2700042724609|115902.0|243.33999633789062|243.33999633789062\n",
    "\n",
    "### Dateien\n",
    "\n",
    "Hierfür müssen zunächst die folgenden drei Dateien importiert werden: \n",
    "\n",
    "* <font color='orange'>ethereum.csv</font>\n",
    "* <font color='orange'>FRA_days.csv</font>\n",
    "* <font color='orange'>FRA_opening_hours.csv</font>\n",
    "\n",
    "<hr>\n",
    "\n",
    "**Tipp**: Um das Datum und die Zeit zusammenzuführen benutze die folgende Formel\n",
    "\n",
    "``df['Date'] + df['Time'].apply(lambda x: pd.DateOffset(hours=x))``\n",
    "\n",
    "Aus einem String kannst du mit folgender Formel ein Datetime Object machen\n",
    "\n",
    "``df_stock['timestamp'] = pd.to_datetime(df_stock['timestamp'])``\n",
    "\n",
    "Wie du aufgrund von **Zeitstempeln** Datensätze zusammenführen kannst, findest du in der Dokumentation unter:<br> \n",
    "https://pandas.pydata.org/pandas-docs/stable/user_guide/merging.html#timeseries-friendly-merging\n",
    "\n",
    "<hr>"
   ]
  },
  {
   "cell_type": "code",
   "execution_count": null,
   "metadata": {},
   "outputs": [],
   "source": []
  },
  {
   "cell_type": "markdown",
   "metadata": {},
   "source": [
    "## Zusatzaufgabe 3:\n",
    "Bilden Sie eine neue Spalte die den Mittelwert aus der Open Close Zeilenweise für jeden Datensatz bestimmt.<br> Benutzen Sie hierfür die Funktion **.mean()** eines DataFrames."
   ]
  },
  {
   "cell_type": "code",
   "execution_count": null,
   "metadata": {},
   "outputs": [],
   "source": []
  }
 ],
 "metadata": {
  "kernelspec": {
   "display_name": "Python 3",
   "language": "python",
   "name": "python3"
  },
  "language_info": {
   "codemirror_mode": {
    "name": "ipython",
    "version": 3
   },
   "file_extension": ".py",
   "mimetype": "text/x-python",
   "name": "python",
   "nbconvert_exporter": "python",
   "pygments_lexer": "ipython3",
   "version": "3.6.7"
  }
 },
 "nbformat": 4,
 "nbformat_minor": 2
}
