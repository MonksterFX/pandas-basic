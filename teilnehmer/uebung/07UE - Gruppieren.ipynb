{
 "cells": [
  {
   "cell_type": "markdown",
   "metadata": {},
   "source": [
    "# Übung 07: Gruppieren\n",
    "Im folgenden Abschnitt wollen wir uns unser Olympiadatenset noch genauer anschauen. Hierfür benätigen wir die Datei \n",
    "* <font color=orange>bigdata/120-years-of-olympic-history-athletes-and-results/athlete_events.csv</font>\n",
    "\n",
    "**<font color='red'> Achtung:</font>** bis 1980 wurden die Winterspiele alle zwei Jahre ausgetragen. Dh. in manchen Jahren gibt es sowohl Winter als auch Sommerspiele!</font>"
   ]
  },
  {
   "cell_type": "code",
   "execution_count": null,
   "metadata": {},
   "outputs": [],
   "source": [
    "import numpy as np\n",
    "import pandas as pd"
   ]
  },
  {
   "cell_type": "code",
   "execution_count": null,
   "metadata": {},
   "outputs": [],
   "source": [
    "df = pd.read_csv('../../src/bigdata/120-years-of-olympic-history-athletes-and-results/athlete_events.csv')\n",
    "df.head()"
   ]
  },
  {
   "cell_type": "code",
   "execution_count": null,
   "metadata": {},
   "outputs": [],
   "source": []
  },
  {
   "cell_type": "markdown",
   "metadata": {},
   "source": [
    "## Teilaufgabe 1:\n",
    "Zunächst wollen wir erstmal ein paar grundliegende Fragen beantworten zum Datenset beantworten. Dabei hilft uns die Funktion ``.groupby``. Es stellen sich folgende Fragen:\n",
    "\n",
    "* Wie viele Frauen und Männer insgesamt schon an den Olympischen Spielen teilgenommen haben\n",
    "* Durchschnittsalter der Männer und Frauen\n",
    "* Maximalalter der Männer und der Frauen\n",
    "* Wie viele Teilnehmer haben pro Jahr an den Olympischen Sommer Spielen teilgenommen \n",
    "* Aus welchen 5 Ländern kammen die meisten Teilnehmer bei den Sommerspielen 2008\n",
    "* Wie viele Frauen und Männer in jedem Jahr an den Olympischen Spielen teilgenommen (Unterscheide zusätzlich zwischen Winter und Sommer)\n",
    "\n",
    "*Hinweis zur Vereinfachung: Jede Teilnahme an einem Wettkampf zählt, das heißt, ein Athlet kann mehrfach gezählt werden*"
   ]
  },
  {
   "cell_type": "markdown",
   "metadata": {},
   "source": [
    "**Wie viele Frauen und Männer insgesamt schon an den Olympischen Spielen teilgenommen haben**"
   ]
  },
  {
   "cell_type": "code",
   "execution_count": null,
   "metadata": {},
   "outputs": [],
   "source": []
  },
  {
   "cell_type": "markdown",
   "metadata": {},
   "source": [
    "**Durchschnittsalter der Männer und Frauen**"
   ]
  },
  {
   "cell_type": "code",
   "execution_count": null,
   "metadata": {
    "scrolled": true
   },
   "outputs": [],
   "source": []
  },
  {
   "cell_type": "markdown",
   "metadata": {},
   "source": [
    "**Maximalalter der Männer und der Frauen**"
   ]
  },
  {
   "cell_type": "code",
   "execution_count": null,
   "metadata": {
    "scrolled": false
   },
   "outputs": [],
   "source": []
  },
  {
   "cell_type": "markdown",
   "metadata": {},
   "source": [
    "**Wie viele Frauen und Männer in jedem Jahr an den Olympischen Spielen teilgenommen haben**\n",
    "\n",
    "Hinweis: Mit ``.reset_index()`` können wir den GroupBy in einen DataFrame zurückwandeln"
   ]
  },
  {
   "cell_type": "code",
   "execution_count": null,
   "metadata": {},
   "outputs": [],
   "source": []
  },
  {
   "cell_type": "markdown",
   "metadata": {},
   "source": [
    "**Wie viele Teilnehmer haben pro Jahr an den Olympischen Sommer Spielen teilgenommen**"
   ]
  },
  {
   "cell_type": "code",
   "execution_count": null,
   "metadata": {},
   "outputs": [],
   "source": []
  },
  {
   "cell_type": "markdown",
   "metadata": {},
   "source": [
    "**Aus welchen 5 Ländern kammen die meisten Teilnehmer bei den Sommerspielen 2008** "
   ]
  },
  {
   "cell_type": "code",
   "execution_count": null,
   "metadata": {},
   "outputs": [],
   "source": []
  },
  {
   "cell_type": "markdown",
   "metadata": {},
   "source": [
    "## Teilaufgabe 2:\n",
    "Wir wollen herausfinden welcher Athlet der/die erfolgreichste war. Erstelle dafür einen neune Dataframe mit dem folgenden Format:\n",
    "\n",
    "| I |ID|Name|Medal|\n",
    "|---|---|---|---|\n",
    "|1|4|Edgar Lindenau Aabye|1|\n",
    "|2|17|Paavo Johannes Aaltonen|3|\n",
    "|3|20|Kjetil Andr Aamodt|4|\n",
    "|4|21|Ragnhild Margrethe Aamodt|1|\n",
    "|5|40|Roald Edgar Aas|1|\n",
    "\n",
    "**Hinweis**: *Das I in der Tabelle oben igonieren. Die Überschrift des Index ist wie gewohnt leer.(Geht leider nicht anderes darzustellen)*\n",
    "\n",
    "Sortiere die Ergebnisse anschließend so, das die Person mit der höchsten Anzahl an goldenen Medalien ganz oben steht.\n",
    "\n",
    "\n"
   ]
  },
  {
   "cell_type": "code",
   "execution_count": null,
   "metadata": {
    "scrolled": true
   },
   "outputs": [],
   "source": []
  },
  {
   "cell_type": "markdown",
   "metadata": {},
   "source": [
    "### Teilaufgabe 3:\n",
    "Wir interessieren uns nun für den Medallienspiegel der Atleten. Fasse diesen mit Groupby zusammen und lass dir sortiert nach der Anzahl der Gold, Silber und Bronzemedallien die Athleten ausgeben.\n",
    "\n",
    "Bereinige außerdem die **NaN** Werte in der Spalte Medal indem du sie durch ein passenden Begriff ersetzt und auch diese Werte in der Auswertung vorkommen.\n",
    "\n",
    "**Tipp**: Du kannst anstatt ``.reset_index()`` auch ``.unstack()`` benutzen. Schaue dir an welchen Effekt das auf deinen DataFrame hat."
   ]
  },
  {
   "cell_type": "code",
   "execution_count": null,
   "metadata": {},
   "outputs": [],
   "source": []
  },
  {
   "cell_type": "markdown",
   "metadata": {},
   "source": [
    "### Teilaufgabe 4:\n",
    "Beim Gruppieren bleibt die urspüngliche Sortierung des DataFrames erhalten. Für manche Gruppierungen ist es daher notwendig, das der Dataframe vorher korrekt sortiert wurde.\n",
    "\n",
    "Finde für jeden Athleten raus, welches sein letztes Jahr war, indem er oder sie angetreten ist. Überprüfe die Lösung indem du zwei bekannte Olympioniken im Internet nachschlägst:\n",
    "\n",
    "* Michael Fred Phelps, II\n",
    "* Raymond Clarence \"Ray\" Ewry"
   ]
  },
  {
   "cell_type": "code",
   "execution_count": null,
   "metadata": {},
   "outputs": [],
   "source": []
  },
  {
   "cell_type": "markdown",
   "metadata": {},
   "source": [
    "## Zusatzaufgabe 1:\n",
    "Finde heraus wer die meisten Medallien (unabhänigig ob Gold, Silber oder Bronze) in der jeweiligen Sportkategorie (Spalte Sport) gewonnen hat."
   ]
  },
  {
   "cell_type": "code",
   "execution_count": null,
   "metadata": {},
   "outputs": [],
   "source": []
  },
  {
   "cell_type": "markdown",
   "metadata": {},
   "source": [
    "## Zusatzaufgabe 2:\n",
    "Ermittel jeweil den zweitbesten jede Sportkategorie. Außerdem interessieren wir uns für den zweit ältersten in jeder Kategorie.\n",
    "\n",
    "**Tipp**: In der vielleicht wirst du in der Übersicht der Funktionen für ein GroupBy fündig. <br>\n",
    "https://pandas.pydata.org/pandas-docs/stable/reference/groupby.html#computations-descriptive-stats"
   ]
  },
  {
   "cell_type": "markdown",
   "metadata": {},
   "source": [
    "**Zweitbeste Person**"
   ]
  },
  {
   "cell_type": "code",
   "execution_count": null,
   "metadata": {},
   "outputs": [],
   "source": []
  },
  {
   "cell_type": "markdown",
   "metadata": {},
   "source": [
    "**Zweitälterste Person**"
   ]
  },
  {
   "cell_type": "code",
   "execution_count": null,
   "metadata": {},
   "outputs": [],
   "source": []
  },
  {
   "cell_type": "markdown",
   "metadata": {},
   "source": [
    "# Zusatzaufgabe 3\n",
    "Nutze ``.drop_duplicates()``, so dass jeder Athlet in der Teilaufgabe 1 nur ein einziges Mal in die Statistik einfließt."
   ]
  },
  {
   "cell_type": "code",
   "execution_count": null,
   "metadata": {},
   "outputs": [],
   "source": []
  }
 ],
 "metadata": {
  "kernelspec": {
   "display_name": "Python 3",
   "language": "python",
   "name": "python3"
  },
  "language_info": {
   "codemirror_mode": {
    "name": "ipython",
    "version": 3
   },
   "file_extension": ".py",
   "mimetype": "text/x-python",
   "name": "python",
   "nbconvert_exporter": "python",
   "pygments_lexer": "ipython3",
   "version": "3.7.1"
  }
 },
 "nbformat": 4,
 "nbformat_minor": 2
}
