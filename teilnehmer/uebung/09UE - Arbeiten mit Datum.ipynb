{
 "cells": [
  {
   "cell_type": "markdown",
   "metadata": {},
   "source": [
    "# Übung 08: Arbeiten mit Datum\n",
    "Für die folgenden Aufgaben benötigst du die Datei <font color=orange>ethereum.csv</font>. Importiere sie entsprechend."
   ]
  },
  {
   "cell_type": "code",
   "execution_count": null,
   "metadata": {},
   "outputs": [],
   "source": [
    "import pandas as pd\n",
    "import numpy as np\n",
    "from datetime import *"
   ]
  },
  {
   "cell_type": "code",
   "execution_count": null,
   "metadata": {},
   "outputs": [],
   "source": [
    "df = pd.read_csv('../../src/ethereum.csv')\n",
    "df.head()"
   ]
  },
  {
   "cell_type": "markdown",
   "metadata": {},
   "source": [
    "## Teilaufgabe 1:\n",
    "Prüfe ob die Spalte 'timestamp' korrekt als Datentyp **datetime** importiert wurde. Wenn nicht konvertiere sie entsprechend."
   ]
  },
  {
   "cell_type": "code",
   "execution_count": null,
   "metadata": {},
   "outputs": [],
   "source": []
  },
  {
   "cell_type": "markdown",
   "metadata": {},
   "source": [
    "## Teilaufgabe 2:\n",
    "Wir möchten jetzt die Spalte Datum, Stunde und Minute aus dem Timestamp extrahieren und im DataFrame abspeichern."
   ]
  },
  {
   "cell_type": "code",
   "execution_count": null,
   "metadata": {},
   "outputs": [],
   "source": []
  },
  {
   "cell_type": "markdown",
   "metadata": {},
   "source": [
    "## Teilaufgabe 3:\n",
    "Wir möchten jetzt einige Graphen plotten. Bevor wir dies tun können müssen wir allerdings die Spalte timestamp als Index setzen. \n",
    "\n",
    "\n",
    "* Plotten Sie den Verlauf des Preises (Close) in einem Linien Diagramm. \n",
    "* Ermitteln Sie das Tageshoch und das Tagestief für jeden Tag und plotten Sie die beiden Kurven in ein Diagram. Erstellen sie dazu einen neuen leeren DataFrame ``pd.DataFrame()`` in dem du die Ergebnisse deiner Berechnungen speichern kannst.\n",
    "\n"
   ]
  },
  {
   "cell_type": "code",
   "execution_count": null,
   "metadata": {},
   "outputs": [],
   "source": []
  },
  {
   "cell_type": "markdown",
   "metadata": {},
   "source": [
    "**Einfacher Plot**"
   ]
  },
  {
   "cell_type": "code",
   "execution_count": null,
   "metadata": {},
   "outputs": [],
   "source": []
  },
  {
   "cell_type": "markdown",
   "metadata": {},
   "source": [
    "**High/Low Plot**"
   ]
  },
  {
   "cell_type": "code",
   "execution_count": null,
   "metadata": {},
   "outputs": [],
   "source": []
  },
  {
   "cell_type": "markdown",
   "metadata": {},
   "source": [
    "## Teilaufgabe 4:\n",
    "In der nächsten Aufgaben wollen wir uns damit beschäftigen wie wir Zeitstempel weiterverarbeiten können.\n",
    "\n",
    "\n",
    "* Die Auflösung des ersten Plots mit 15min ist uns zu genau. Fasse die Werte zu einem Wert alle 12 Stunden zusammen. Plotte anschließend wieder die Werte der Spalte close \n",
    "* Für Finanzanalysen ist der gleitende Durchschnitt wichtig. Wir wollen daher in einem neuen DataFrame die Werte der gleitenden Durschnitte mit den folgenden Parameter speichern und anschließend in einem Graphen plotten:\n",
    "\n",
    " <font color=\"blue\">\n",
    "    * 6 Stunden\n",
    "    * 24 Stunden\n",
    "    * 3 Tag\n",
    " </font>"
   ]
  },
  {
   "cell_type": "markdown",
   "metadata": {},
   "source": [
    "**12 Stunden Resampling**"
   ]
  },
  {
   "cell_type": "code",
   "execution_count": null,
   "metadata": {},
   "outputs": [],
   "source": []
  },
  {
   "cell_type": "markdown",
   "metadata": {},
   "source": [
    "**Rolling mit 6 Stunden, 24 Stunden 3 Tagen**"
   ]
  },
  {
   "cell_type": "code",
   "execution_count": null,
   "metadata": {},
   "outputs": [],
   "source": []
  },
  {
   "cell_type": "markdown",
   "metadata": {},
   "source": [
    "## Zusatzaufgabe 1:\n",
    "Finde eine Möglichkeit dir den ausgeschriebenen Namen eines Tages aus einem Timestamp zu generieren.\n",
    "Erstelle eine neue Spalte und speichere diesen für jeden Wert in deinem DataFrame."
   ]
  },
  {
   "cell_type": "code",
   "execution_count": null,
   "metadata": {},
   "outputs": [],
   "source": []
  },
  {
   "cell_type": "markdown",
   "metadata": {},
   "source": [
    "## Zusatzaufgabe 2:\n",
    "Beim Erstellen des DataFrames ist ein Fehler unterlaufen. Die timestamps sind alle um 1 Tag verschoben. Ändere den Timestamp durch Addition so, das alle Timestamps um +24H Stunden verschoben werden und speichere diesen in einer neuen Spalte mit dem Namen 'timestamp_new'"
   ]
  },
  {
   "cell_type": "code",
   "execution_count": null,
   "metadata": {},
   "outputs": [],
   "source": []
  }
 ],
 "metadata": {
  "kernelspec": {
   "display_name": "Python 3",
   "language": "python",
   "name": "python3"
  },
  "language_info": {
   "codemirror_mode": {
    "name": "ipython",
    "version": 3
   },
   "file_extension": ".py",
   "mimetype": "text/x-python",
   "name": "python",
   "nbconvert_exporter": "python",
   "pygments_lexer": "ipython3",
   "version": "3.7.1"
  }
 },
 "nbformat": 4,
 "nbformat_minor": 4
}
