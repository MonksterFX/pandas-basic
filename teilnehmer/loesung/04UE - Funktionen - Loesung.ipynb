{
 "cells": [
  {
   "cell_type": "markdown",
   "metadata": {},
   "source": [
    "# Übung 04: Funktionen\n",
    "Für die folgenden Aufgaben benötigst du die Datei <font color=orange>pokemon.csv</font>. Importiere sie entsprechend."
   ]
  },
  {
   "cell_type": "code",
   "execution_count": null,
   "metadata": {},
   "outputs": [],
   "source": [
    "import pandas as pd\n",
    "import numpy as np"
   ]
  },
  {
   "cell_type": "code",
   "execution_count": null,
   "metadata": {},
   "outputs": [],
   "source": [
    "df_pokemon = pd.read_csv('../../src/pokemon.csv')\n",
    "df_pokemon.head()"
   ]
  },
  {
   "cell_type": "markdown",
   "metadata": {},
   "source": [
    "## Teilaufgabe 1\n",
    "Bestimme für alle Pokemon der Sorte **Normal-Flying** (Normal ist Type 1 und Flying ist Type 2) folgende Werte:\n",
    "* **Größe** des gefilterten DataFrames\n",
    "* Die **Durschnittswerte** für die Spalten HP, Attack, Defense\n",
    "* Die **Minimal- und Maximalwerte** für die Spalten HP, Attack Defense\n",
    "* Den **Anteil** der HP an der Summe aller Scoringpunkte (Total)"
   ]
  },
  {
   "cell_type": "code",
   "execution_count": null,
   "metadata": {},
   "outputs": [],
   "source": [
    "# Selektion der Werte von Type Grass, Poison\n",
    "df_fly = df_pokemon[(df_pokemon['Type 1'] == 'Normal') & \n",
    "                          (df_pokemon['Type 2'] == 'Flying')]\n",
    "df_fly.head()"
   ]
  },
  {
   "cell_type": "markdown",
   "metadata": {},
   "source": [
    "**Anzahl der Pokemon in dieser Kategorie**"
   ]
  },
  {
   "cell_type": "code",
   "execution_count": null,
   "metadata": {},
   "outputs": [],
   "source": [
    "# Anzahl der Pokemon in dieser Kategorie\n",
    "len(df_fly)"
   ]
  },
  {
   "cell_type": "markdown",
   "metadata": {},
   "source": [
    "**Durchschnittswerte berechnen**"
   ]
  },
  {
   "cell_type": "code",
   "execution_count": null,
   "metadata": {},
   "outputs": [],
   "source": [
    "# Lösung 1\n",
    "df_fly[['HP', 'Attack', 'Defense']].mean()"
   ]
  },
  {
   "cell_type": "code",
   "execution_count": null,
   "metadata": {},
   "outputs": [],
   "source": [
    "# Lösung 2 - Überflüssige Spalten\n",
    "df_fly.mean()"
   ]
  },
  {
   "cell_type": "code",
   "execution_count": null,
   "metadata": {},
   "outputs": [],
   "source": [
    "# Lösung 3 - Zu viel Aufwand\n",
    "print('HP', df_fly['HP'].mean())\n",
    "print('Attack', df_fly['Attack'].mean())\n",
    "print('Defense', df_fly['Defense'].mean())"
   ]
  },
  {
   "cell_type": "markdown",
   "metadata": {},
   "source": [
    "**Die Minimal- und Maximalwerte für die Spalten HP, Attack Defense**"
   ]
  },
  {
   "cell_type": "code",
   "execution_count": null,
   "metadata": {},
   "outputs": [],
   "source": [
    "df_fly[['HP', 'Attack', 'Defense']].min()"
   ]
  },
  {
   "cell_type": "code",
   "execution_count": null,
   "metadata": {},
   "outputs": [],
   "source": [
    "df_fly[['HP', 'Attack', 'Defense']].max()"
   ]
  },
  {
   "cell_type": "markdown",
   "metadata": {},
   "source": [
    "**Den Anteil der HP an der Summe aller Scoringpunkte (Total)**"
   ]
  },
  {
   "cell_type": "code",
   "execution_count": null,
   "metadata": {},
   "outputs": [],
   "source": [
    "# Lösung 1\n",
    "df_fly['HP'].sum() / df_fly['Total'].sum()"
   ]
  },
  {
   "cell_type": "code",
   "execution_count": null,
   "metadata": {},
   "outputs": [],
   "source": [
    "#Lösung 2\n",
    "(df_fly['HP']/df_fly['Total']).mean()"
   ]
  },
  {
   "cell_type": "markdown",
   "metadata": {},
   "source": [
    "## Teilaufgabe 2\n",
    "Lassen Sie sich alle Pokemon ausgeben, die **nicht** vom Typ 'Grass' sind. Überprüfen Sie mit **.unique()** ob der Wert auch wirklich nichtmehr in der Spalte vorkommt."
   ]
  },
  {
   "cell_type": "code",
   "execution_count": null,
   "metadata": {},
   "outputs": [],
   "source": [
    "# Lösung 1\n",
    "df_pokemon[df_pokemon['Type 1'] != 'Grass']['Type 1'].unique()"
   ]
  },
  {
   "cell_type": "code",
   "execution_count": null,
   "metadata": {},
   "outputs": [],
   "source": [
    "# Lösung 2\n",
    "df_pokemon[~(df_pokemon['Type 1'] == 'Grass')]['Type 1'].unique()"
   ]
  },
  {
   "cell_type": "markdown",
   "metadata": {},
   "source": [
    "## Teilaufgabe 3\n",
    "Kennzeichne mit Hilfe von **np.where()** besonders starke Grass Pokemon, indem du eine Spalte **'Descripition'** anlegst. Pokemon die die folgenden bedingungen einhalten sollten die Beschreibung **'Grass Master'** erhalten.\n",
    "\n",
    "* Type 1 muss gleich 'Grass' sein\n",
    "* Total von mindestens 450 oder Speed von über 120\n",
    "\n",
    "Lassen Sie sich **10 zufällige Zeilen** ihres Ergebnisses ausgeben in dem nur die Spalten **Name, Type 1, Total, Speed und Description** zu sehen sind. Wiederholen Sie die Ausgabe bis Sie das erste mal einen 'Grass Master' entdecken und überprüfen Sie die oben stehenden Bedinungen."
   ]
  },
  {
   "cell_type": "code",
   "execution_count": null,
   "metadata": {},
   "outputs": [],
   "source": [
    "df_pokemon['Description'] = np.where((df_pokemon['Type 1'] == 'Grass') & \n",
    "                                     ((df_pokemon['Total']>=450)|\n",
    "                                     (df_pokemon['Speed']>120)), 'Grass Master', '')"
   ]
  },
  {
   "cell_type": "code",
   "execution_count": null,
   "metadata": {},
   "outputs": [],
   "source": [
    "df_pokemon[['Name', 'Type 1', 'Total', 'Speed', 'Description']].sample(10)"
   ]
  },
  {
   "cell_type": "markdown",
   "metadata": {},
   "source": [
    "## Zusatzaufgabe 1\n",
    "Geben ist die unten stehende Serie. Finde und wende die entsprechende Methode von **numpy** an um die folgenden Aufgabenstellungen zu bewälitgen.\n",
    "* Runden auf 3 Nachkommastellen\n",
    "* Den nächsten ganzzahlige Wert, der kleiner ist\n",
    "* Den nächsten ganzzahlige Wert, der größer ist\n",
    "* Abschneiden der Nachkommstellen\n",
    "* Den nächsten Werte zur Null\n",
    "\n",
    "Vergleich das Ergebnis der jeweiligen Funktion. Wie verhalten sich die Funktionen bei negativen Werten?"
   ]
  },
  {
   "cell_type": "code",
   "execution_count": null,
   "metadata": {
    "practice_cell": true
   },
   "outputs": [],
   "source": [
    "s = pd.Series([1.2757354, 3.25985875, -3.34329328, \n",
    "             -4.96296231, 3.67738211, 1.0, \n",
    "             3.85342949, -2.41179328, -1.60596741])\n",
    "\n",
    "s"
   ]
  },
  {
   "cell_type": "markdown",
   "metadata": {},
   "source": [
    "**Runden auf 3 Nachkommastellen**"
   ]
  },
  {
   "cell_type": "code",
   "execution_count": null,
   "metadata": {},
   "outputs": [],
   "source": [
    "np.round(s, 3)"
   ]
  },
  {
   "cell_type": "markdown",
   "metadata": {},
   "source": [
    "**Den nächsten ganzzahlige Wert, der kleiner ist**"
   ]
  },
  {
   "cell_type": "code",
   "execution_count": null,
   "metadata": {},
   "outputs": [],
   "source": [
    "np.floor(s)"
   ]
  },
  {
   "cell_type": "markdown",
   "metadata": {},
   "source": [
    "**Den nächsten ganzzahlige Wert, der größer ist**"
   ]
  },
  {
   "cell_type": "code",
   "execution_count": null,
   "metadata": {},
   "outputs": [],
   "source": [
    "np.ceil(s)"
   ]
  },
  {
   "cell_type": "markdown",
   "metadata": {},
   "source": [
    "**Abschneiden der Nachkommstellen**"
   ]
  },
  {
   "cell_type": "code",
   "execution_count": null,
   "metadata": {},
   "outputs": [],
   "source": [
    "np.trunc(s)"
   ]
  },
  {
   "cell_type": "markdown",
   "metadata": {},
   "source": [
    "**Den nächsten Werte zur Null (kürzerste Distanz zur Null)**"
   ]
  },
  {
   "cell_type": "code",
   "execution_count": null,
   "metadata": {},
   "outputs": [],
   "source": [
    "pd.Series(np.fix(s))"
   ]
  },
  {
   "cell_type": "markdown",
   "metadata": {},
   "source": [
    "Eine Übersicht aller Mathematischen Funktionen von Numpy findest du unter: https://docs.scipy.org/doc/numpy-1.13.0/reference/routines.math.html"
   ]
  },
  {
   "cell_type": "markdown",
   "metadata": {},
   "source": [
    "## Zusatzaufgabe 2\n",
    "Nehmen wir die Logik aus Teilaufgabe 3. Wie muss der Code angepasst werden, dass wir unter den oben stehenden Bedingungen den Typ 1 + die Master Bezeichnung erhalten unabhängig vom seinem Typen?\n",
    "\n",
    "**Beispiel:**<br>\n",
    "*Ein Fire Pokemon das die Bedingungen erfüllt bekommt die Beschreibung **'Fire Master'**, ein Pokemon vom Typ Dark die Bezeichnung **'Dark Master'** etc...*"
   ]
  },
  {
   "cell_type": "code",
   "execution_count": null,
   "metadata": {},
   "outputs": [],
   "source": [
    "df_pokemon['Description'] = np.where((df_pokemon['Total']>=450)| \n",
    "                                     (df_pokemon['Speed']>120), \n",
    "                                     df_pokemon['Type 1'] + ' Master', '')\n",
    "df_pokemon.sample(20)"
   ]
  },
  {
   "cell_type": "markdown",
   "metadata": {},
   "source": [
    "## Zusatzaufgabe 3\n",
    "Verketten von <font color='green'>**=WENN**</font> Prüfungen ist in Excel durchaus aufwendig. Dabei hilft uns die <font color='green'>**=WENNS**</font> Funktion. Auch in NUMPY steht uns eine solche Methode zur Verfügung. Mit **np.select()** können wir eine Liste an Prüfungen durchführen.\n",
    "\n",
    "Füge eine eine neue Spalte mit einer Beschreibung hinzu, je nachdem welche der folgenden Bedinungen eintritt:\n",
    "\n",
    "* 'Very Weak', wenn Total <= 330    \n",
    "* 'Weak', wenn Total <= 435\n",
    "* 'Normal', wenn Total <= 515\n",
    "* 'Strong', wenn Total > 515\n",
    "\n",
    "**Tipp:** Um zu lernen wie **np.select()** funktioniert, lese dir die offizielle Dokumentation durch."
   ]
  },
  {
   "cell_type": "code",
   "execution_count": null,
   "metadata": {},
   "outputs": [],
   "source": [
    "s_poke = df_pokemon['Total']\n",
    "\n",
    "cond = [s_poke<=330, s_poke<=435, s_poke<=515, s_poke>515]\n",
    "choice = ['Very Weak', 'Weak', 'Normal', 'Strong']\n",
    "\n",
    "df_pokemon['Description 2'] = np.select(cond, choice)\n",
    "df_pokemon.sample(20)"
   ]
  },
  {
   "cell_type": "markdown",
   "metadata": {},
   "source": [
    "## Zusatzaufgabe 4\n",
    "Berechne einen neuen Score für jeden Pokemon und speicher diesen in einer neuen Spalte mit dem Namen **'Total Neu'**.\n",
    "\n",
    "Der Score berechnet sich folgendermaßen:\n",
    "\n",
    "$$Total Neu={\\frac{Total+(Legendary*Total)}{Total}}$$\n",
    "\n",
    "Dafür ist es notwendig die Spalte **Legendary** in zunächst in eine Zahl umzuwandeln. Für False wird eine 0 gesetzt für True 0.25. Benutze hierfür die Funktion **np.where()**"
   ]
  },
  {
   "cell_type": "code",
   "execution_count": null,
   "metadata": {},
   "outputs": [],
   "source": [
    "df_pokemon['Legendary'] = np.where(df_pokemon['Legendary'], 0.25, 0)\n",
    "df_pokemon.sample(10)"
   ]
  },
  {
   "cell_type": "code",
   "execution_count": null,
   "metadata": {},
   "outputs": [],
   "source": [
    "df_pokemon['Total Neu'] = (df_pokemon['Total'] + \n",
    "                           (df_pokemon['Total'] * \n",
    "                            df_pokemon['Legendary']))/df_pokemon['Total']\n",
    "\n",
    "df_pokemon.sample(10)"
   ]
  }
 ],
 "metadata": {
  "kernelspec": {
   "display_name": "Python 3",
   "language": "python",
   "name": "python3"
  },
  "language_info": {
   "codemirror_mode": {
    "name": "ipython",
    "version": 3
   },
   "file_extension": ".py",
   "mimetype": "text/x-python",
   "name": "python",
   "nbconvert_exporter": "python",
   "pygments_lexer": "ipython3",
   "version": "3.6.7"
  }
 },
 "nbformat": 4,
 "nbformat_minor": 4
}
