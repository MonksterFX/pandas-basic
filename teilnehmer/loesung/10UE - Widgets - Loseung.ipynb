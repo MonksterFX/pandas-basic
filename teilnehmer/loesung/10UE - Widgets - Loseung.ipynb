{
 "cells": [
  {
   "cell_type": "markdown",
   "metadata": {},
   "source": [
    "# Übung 10: Widgets\n",
    "Für die folgenden Aufgaben benötigst du die Datei <font color=orange>bigdata/120-years-of-olympic-history-athletes-and-results/athlete_events.csv</font>. Importiere sie entsprechend."
   ]
  },
  {
   "cell_type": "code",
   "execution_count": null,
   "metadata": {
    "practice_cell": true
   },
   "outputs": [],
   "source": [
    "import pandas as pd\n",
    "import ipywidgets as widgets\n",
    "from ipywidgets import interact, interact_manual"
   ]
  },
  {
   "cell_type": "code",
   "execution_count": null,
   "metadata": {
    "practice_cell": true
   },
   "outputs": [],
   "source": [
    "df = pd.read_csv('../../src/bigdata/120-years-of-olympic-history-athletes-and-results/athlete_events.csv')\n",
    "df.head()"
   ]
  },
  {
   "cell_type": "markdown",
   "metadata": {},
   "source": [
    "# Teilaufgabe 1\n",
    "Erstelle mithilfe von ``@interact`` eine Funktion, die dir nur die Daten aus einen bestimmten Jahr anzeigt. Das Jahr soll mit einem **Slider** ausgewählt werden können. Damit der DataFrame nicht so groß wird filtere vorher die Daten, sodass Sie nur die Daten deiner Liebelingssportart enthalten (z.B. 'Table Tennis' oder 'Beach Volleyball'). \n",
    "\n",
    "\n",
    "**Verbesserung des Sliders, wenn du mit der obigen Aufgabe fertig bist**:<br>\n",
    "Die olympischen Spiele finden nur alle zwei Jahre statt. Passe den **Slider** zur Auswahl des Jahres so an, das dieser in 4 Jahres Schritten (Sommerspiele) oder in 2 Jahres Schritten (Winterspiele, früher alle 2 Jahre) arbeitet. Außerdem überlege dir eine sinnvolle grobsortierung des Ergebnisses."
   ]
  },
  {
   "cell_type": "code",
   "execution_count": null,
   "metadata": {},
   "outputs": [],
   "source": [
    "# Wähle eine Sportart aus\n",
    "df['Sport'].unique()"
   ]
  },
  {
   "cell_type": "code",
   "execution_count": null,
   "metadata": {},
   "outputs": [],
   "source": [
    "# Filtern der Sportart\n",
    "df_my_sport = df[df['Sport'] == 'Table Tennis']\n",
    "df_my_sport.head()"
   ]
  },
  {
   "cell_type": "code",
   "execution_count": null,
   "metadata": {},
   "outputs": [],
   "source": [
    "print('Obere und untere Grenze bestimmen')\n",
    "# ----- Lösung -----\n",
    "\n",
    "# Bestimmen der oberen und der unteren Grenze\n",
    "print(df_my_sport['Year'].min(), df_my_sport['Year'].max())"
   ]
  },
  {
   "cell_type": "code",
   "execution_count": null,
   "metadata": {},
   "outputs": [],
   "source": [
    "print('Automatische Grenzen mit Slider')\n",
    "# ----- Lösung -----\n",
    "\n",
    "# Die Minimal und Maximal Werte für den Slider können wir uns durch den DataFrame bestimmen lassen\n",
    "@interact\n",
    "def year_single(year=(df_my_sport['Year'].min(), df_my_sport['Year'].max())):\n",
    "    df_filtered = df_my_sport[df_my_sport['Year'] == year]\n",
    "    return df_filtered.sort_values(['Year'])"
   ]
  },
  {
   "cell_type": "code",
   "execution_count": null,
   "metadata": {},
   "outputs": [],
   "source": [
    "# Sommerspiele\n",
    "print('Sommerspiele')\n",
    "# ----- Lösung -----\n",
    "\n",
    "@interact\n",
    "def year_single(year=(df_my_sport['Year'].min(), df_my_sport['Year'].max(), 4)):\n",
    "    df_filtered = df_my_sport[df_my_sport['Year'] == year]\n",
    "    return df_filtered.sort_values(['Year'])"
   ]
  },
  {
   "cell_type": "code",
   "execution_count": null,
   "metadata": {},
   "outputs": [],
   "source": [
    "# Winterspiele\n",
    "print('Winterspiele')\n",
    "# ----- Lösung -----\n",
    "\n",
    "df_my_sport = df[df['Sport'] == 'Ski Jumping']\n",
    "@interact\n",
    "def year_single(year=(df_my_sport['Year'].min(), df_my_sport['Year'].max(), 2)):\n",
    "    df_filtered = df_my_sport[df_my_sport['Year'] == year]\n",
    "    return df_filtered.sort_values(['Year'])"
   ]
  },
  {
   "cell_type": "markdown",
   "metadata": {},
   "source": [
    "## Teilaufgabe 2\n",
    "Schreibe ein interative Funktion mit derer Hilfe du nach ihrem Namen suchen kannst um die ID des Athleten zu erhalten."
   ]
  },
  {
   "cell_type": "code",
   "execution_count": null,
   "metadata": {
    "scrolled": true
   },
   "outputs": [],
   "source": [
    "@interact\n",
    "def search_athlet(name=''):\n",
    "    df_reduced = df[['ID', 'Name']].drop_duplicates() # Wir brauchen jeden Athleten nur ein Mal\n",
    "    return df_reduced[df_reduced['Name'].str.contains(name)]"
   ]
  },
  {
   "cell_type": "markdown",
   "metadata": {},
   "source": [
    "## Teilaufgabe 3\n",
    "Filter den DataFrame nach Datensätzen einer bestimmten Sportart. Lasse dir hierfür ein Dropdown mit allen Sportarten aus der Spalte Sport generieren.\n",
    "\n",
    "<font color=\"red\">**Warnung:** Generiere die Liste aller einzigartigen Sportarten und speichere Sie vorher in einer Liste. Solltes du versuchen die ganze Spalte als dropdown zu übergeben kann es sein, dass dein Notebook abstürzt.</font>"
   ]
  },
  {
   "cell_type": "code",
   "execution_count": null,
   "metadata": {},
   "outputs": [],
   "source": [
    "# Überprüfen der Sportarten\n",
    "stypes=df['Sport'].sort_values().unique()\n",
    "stypes"
   ]
  },
  {
   "cell_type": "code",
   "execution_count": null,
   "metadata": {},
   "outputs": [],
   "source": [
    "\n",
    "# type ist ein reserviertes Wort daher können wir hier nur ein anderes Wort benutzen, z.B. stype \n",
    "@interact\n",
    "def sport_type(stype=stypes):\n",
    "    return df[df['Sport'] == stype].sort_values('Year')"
   ]
  },
  {
   "cell_type": "markdown",
   "metadata": {},
   "source": [
    "## Zusatzübung 1:\n",
    "In der Gruppieren Lektion wurde gezeigt, wie man "
   ]
  },
  {
   "cell_type": "code",
   "execution_count": null,
   "metadata": {},
   "outputs": [],
   "source": [
    "df_teilnehmer = df.drop_duplicates(['ID', 'Year'])\n",
    "df_teilnehmer = df_teilnehmer[df_teilnehmer['Season'] == 'Summer']\n",
    "df_teilnehmer_mw = df_teilnehmer.groupby(['Year', 'Sex']).size()\n",
    "df_teilnehmer_mw = df_teilnehmer_mw.unstack()\n",
    "df_teilnehmer_mw.head()"
   ]
  },
  {
   "cell_type": "code",
   "execution_count": null,
   "metadata": {},
   "outputs": [],
   "source": [
    "@interact\n",
    "def teilnehmer_mw(Geschlecht=['F', 'M']):\n",
    "    return df_teilnehmer_mw[[Geschlecht]].plot()"
   ]
  },
  {
   "cell_type": "markdown",
   "metadata": {},
   "source": [
    "## Zusatzübung 2:\n",
    "Probiere weitere Optionen aus indem du dir die Liste der verfügbaren Widgets anschaust. Löse die folgenden Darstellungen mit einem **einzigen Widget**.\n",
    "\n",
    "Link zu den Widgets: https://ipywidgets.readthedocs.io/en/latest/examples/Widget%20List.html\n",
    "\n",
    "* Lasse dir nur Athleten anzeigen die eine bestimme Anzahl an Goldmedalien in den Jahren 2000-2016 gewonnen haben. Sorge dafür, das sowohl die Ober- als auch die Untergrenze angepasst werden kann und nur Athleten in der Auswahl erscheinen, die eine Anzahl an Goldmedallien innerhalb dieser Grenzen gewonnen haben.\n",
    "\n",
    "*Tipp: Schau dir die Funktion* **.between()** *in der offiziellen Pandas Documentation an*\n",
    "\n"
   ]
  },
  {
   "cell_type": "code",
   "execution_count": null,
   "metadata": {},
   "outputs": [],
   "source": [
    "# Vorbereitung des DataFrames\n",
    "df_medals = df.dropna(subset=['Medal'])\n",
    "df_medals = df_medals[df_medals['Medal'] == 'Gold']\n",
    "df_medals = df_medals[df_medals['Year'].between(2000, 2016)]\n",
    "df_medals = df_medals.groupby(['ID', 'Name']).size().reset_index()\n",
    "df_medals = df_medals.rename(columns={0:'Count'})\n",
    "df_medals.head()"
   ]
  },
  {
   "cell_type": "code",
   "execution_count": null,
   "metadata": {},
   "outputs": [],
   "source": [
    "widgets.IntRangeSlider(min=df_medals['Count'].min(), max=df_medals['Count'].max())"
   ]
  },
  {
   "cell_type": "code",
   "execution_count": null,
   "metadata": {},
   "outputs": [],
   "source": [
    "# Grenzen lassen wir uns automatisch berechnen\n",
    "sw = widgets.IntRangeSlider(min=df_medals['Count'].min(), max=df_medals['Count'].max())\n",
    "\n",
    "# Das Ergebnis aus sw ist eine Liste mit zwei Elementen. Das erste Element enthält \n",
    "# die untere Grenze wohingegen das zweite Element die obere Grenze enthält.\n",
    "\n",
    "@interact\n",
    "def medals_count(count=sw):\n",
    "    return df_medals[df_medals['Count'].between(count[0], count[1])].sort_values('Count', ascending=False)"
   ]
  },
  {
   "cell_type": "markdown",
   "metadata": {},
   "source": [
    "## Zusatzaufgabe 3\n",
    "Es soll nun möglich sein nur eine Liste alle Athleten und die Anzahl Ihrer Medalien abhänig von einem durch zwei **DatePicker** gewählte Daten zu betrachten. \n",
    "\n",
    "*Tipp: Für die Verarbeitung der Daten kann die Lösung aus der vorangegangen Gruppierungs Übung benutzt werden.*"
   ]
  },
  {
   "cell_type": "code",
   "execution_count": null,
   "metadata": {},
   "outputs": [],
   "source": [
    "# Keine Medaillen ist noch mit NaN ausgedrückt, hier wollen wir einen schöneren Begriff haben.\n",
    "df_medals = df.fillna('Teilnahme')\n",
    "df_medals = df_medals.groupby(['ID', 'Name', 'Year', 'Medal']).size()\n",
    "df_medals = df_medals.unstack()\n",
    "df_medals = df_medals.fillna(0)\n",
    "df_medals = df_medals.reset_index()\n",
    "df_medals.head()"
   ]
  },
  {
   "cell_type": "code",
   "execution_count": null,
   "metadata": {
    "scrolled": true
   },
   "outputs": [],
   "source": [
    "# Achtung: Year ist eine Zahl und das Ergebnis von pd.to_datetime datetime.\n",
    "dp_start = widgets.DatePicker(value=pd.to_datetime('1896-01-01'))\n",
    "dp_end = widgets.DatePicker(value=pd.to_datetime('2019-01-01'))\n",
    "\n",
    "@interact\n",
    "def start_end(start_year=dp_start, end_year=dp_end):\n",
    "    return df_medals[(df_medals['Year'] >= start_year.year) & (df_medals['Year'] <= end_year.year)].sort_values('Year')"
   ]
  }
 ],
 "metadata": {
  "kernelspec": {
   "display_name": "Python 3",
   "language": "python",
   "name": "python3"
  },
  "language_info": {
   "codemirror_mode": {
    "name": "ipython",
    "version": 3
   },
   "file_extension": ".py",
   "mimetype": "text/x-python",
   "name": "python",
   "nbconvert_exporter": "python",
   "pygments_lexer": "ipython3",
   "version": "3.6.7"
  }
 },
 "nbformat": 4,
 "nbformat_minor": 4
}
