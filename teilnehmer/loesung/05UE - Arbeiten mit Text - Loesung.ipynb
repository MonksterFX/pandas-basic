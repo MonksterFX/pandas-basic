{
 "cells": [
  {
   "cell_type": "markdown",
   "metadata": {},
   "source": [
    "# Übung 05: Arbeiten mit Text\n",
    "Für die folgenden Aufgaben benötigst du die Datei <font color=orange>pokemon_defekt.csv</font>. Importiere sie entsprechend."
   ]
  },
  {
   "cell_type": "code",
   "execution_count": null,
   "metadata": {
    "practice_cell": true
   },
   "outputs": [],
   "source": [
    "import pandas as pd"
   ]
  },
  {
   "cell_type": "code",
   "execution_count": null,
   "metadata": {
    "practice_cell": true
   },
   "outputs": [],
   "source": [
    "df_pokemon = pd.read_csv('../../src/pokemon_defekt.csv')\n",
    "df_pokemon.sample(10)"
   ]
  },
  {
   "cell_type": "markdown",
   "metadata": {},
   "source": [
    "## Teilaufgabe 1: Aufbereiten der Daten\n",
    "Überprüfe ob in den Spalten **NaN**-Werte vorkommen und ob es **überflüssige Leerzeichen** existieren. Behebe die auftretenden Fehler dementsprechend. Fülle die NaN Werte mit dem String **'nan'** und überleg dir wie die Leerzeichen entfernt werden könnten.\n",
    "\n",
    "> **Hinweis:** Man sieht im DataFrame nicht sofort ob eine Spalte überflüssige Leerzeichen enthält. Schau dir die einzelnen Spalten als Serie an. "
   ]
  },
  {
   "cell_type": "markdown",
   "metadata": {},
   "source": [
    "**NaN-Werte überprüfen**"
   ]
  },
  {
   "cell_type": "code",
   "execution_count": null,
   "metadata": {},
   "outputs": [],
   "source": [
    "# Lösung 1: Das solltest du immer tuen bevor du mit einem Datensetz arbeitest\n",
    "df_pokemon.info()"
   ]
  },
  {
   "cell_type": "code",
   "execution_count": null,
   "metadata": {},
   "outputs": [],
   "source": [
    "# Lösung 2: Alle Spalten extra überprüfen - Aufwendig\n",
    "df_pokemon[df_pokemon['Name'].isna()]\n",
    "df_pokemon[df_pokemon['Type 1'].isna()]\n",
    "df_pokemon[df_pokemon['Type 2'].isna()]\n",
    "df_pokemon[df_pokemon['Stats'].isna()]"
   ]
  },
  {
   "cell_type": "code",
   "execution_count": null,
   "metadata": {},
   "outputs": [],
   "source": [
    "# Lösung 3: Falls uns nur die Anzahl der fehlenden Werte interessiert\n",
    "df_pokemon.isna().sum()"
   ]
  },
  {
   "cell_type": "code",
   "execution_count": null,
   "metadata": {},
   "outputs": [],
   "source": [
    "# Überschreiben von NaN Werten mit einem leeren String ''\n",
    "df_pokemon['Type 2'] = df_pokemon['Type 2'].fillna('nan')"
   ]
  },
  {
   "cell_type": "markdown",
   "metadata": {},
   "source": [
    "**Überflüssige Leerzeichen**"
   ]
  },
  {
   "cell_type": "code",
   "execution_count": null,
   "metadata": {},
   "outputs": [],
   "source": [
    "# Lösung: Type 1 und Type 2 sind betroffen. (sample ist nur zur Verkürzung des Outputs)\n",
    "df_pokemon['Type 1'].sample(5)"
   ]
  },
  {
   "cell_type": "code",
   "execution_count": null,
   "metadata": {},
   "outputs": [],
   "source": [
    "df_pokemon['Type 2'].sample(5)"
   ]
  },
  {
   "cell_type": "code",
   "execution_count": null,
   "metadata": {},
   "outputs": [],
   "source": [
    "# Alternative möglichkeit bei kategorischen Werten\n",
    "df_pokemon['Type 1'].unique()"
   ]
  },
  {
   "cell_type": "code",
   "execution_count": null,
   "metadata": {},
   "outputs": [],
   "source": [
    "# Entfernen der Leerzeichen\n",
    "df_pokemon['Type 1'] = df_pokemon['Type 1'].str.strip()\n",
    "df_pokemon['Type 2'] = df_pokemon['Type 2'].str.strip()"
   ]
  },
  {
   "cell_type": "markdown",
   "metadata": {},
   "source": [
    "## Teilaufgabe 2:\n",
    "Erstelle eine neue Spalte mit dem Namen Type in der die Typen 1 und 2 zusammengefasst werden.\n",
    "\n",
    "**Beispiel:** Dark-Fire"
   ]
  },
  {
   "cell_type": "code",
   "execution_count": null,
   "metadata": {},
   "outputs": [],
   "source": [
    "s = df_pokemon['Type 1'].str.capitalize()\n",
    "df_pokemon['Type'] = s.str.cat(df_pokemon['Type 2'].str.capitalize(), sep='-')\n",
    "df_pokemon.sample(10)"
   ]
  },
  {
   "cell_type": "markdown",
   "metadata": {},
   "source": [
    "## Teilaufgabe 3:\n",
    "Der Name der Pokemon wird nicht passend dargestellt. Es sollte jeweils der erste Buchstabe jedes Teil des Namens großgeschrieben werden.\n",
    "\n",
    "**Beispiel:** Manectricmega Manectric"
   ]
  },
  {
   "cell_type": "code",
   "execution_count": null,
   "metadata": {},
   "outputs": [],
   "source": [
    "df_pokemon['Name'] = df_pokemon['Name'].str.title() \n",
    "df_pokemon.sample(10)"
   ]
  },
  {
   "cell_type": "markdown",
   "metadata": {},
   "source": [
    "## Zusatzaufgabe 1:\n",
    "In der Spalte Status findest du die Werte **HP**(Health Points) und **AT**(Attack) in einem String codiert. Versuche die Codierung so aufzulösen, dass anschließend zwei neue Spalten HP udn AT im DataFrame existieren."
   ]
  },
  {
   "cell_type": "code",
   "execution_count": null,
   "metadata": {},
   "outputs": [],
   "source": [
    "# Split\n",
    "df_pokemon[['HP', 'AT']] = df_pokemon['Stats'].str.split('-', 2, expand=True)\n",
    "df_pokemon.tail(10)"
   ]
  },
  {
   "cell_type": "code",
   "execution_count": null,
   "metadata": {},
   "outputs": [],
   "source": [
    "# Replace um 'HP' und 'AT' zu löschen\n",
    "df_pokemon['AT'] = df_pokemon['AT'].str.replace('AT', '')\n",
    "df_pokemon['HP'] = df_pokemon['HP'].str.replace('HP', '')\n",
    "df_pokemon.tail(10)"
   ]
  },
  {
   "cell_type": "markdown",
   "metadata": {},
   "source": [
    "## Zusatzaufgabe 2\n",
    "Wenn man sich die Datentypen Spalten AT und HP anschaut, stellt man fest das diese als Text hinterlegt sind (Datentyp:Object). Suche im Internet nach einer möglichkeit die beiden Spalten so umzuwandeln, das der Datentyp stimmt."
   ]
  },
  {
   "cell_type": "code",
   "execution_count": null,
   "metadata": {},
   "outputs": [],
   "source": [
    "# Datentypen überprüfen\n",
    "df_pokemon.info()"
   ]
  },
  {
   "cell_type": "code",
   "execution_count": null,
   "metadata": {},
   "outputs": [],
   "source": [
    "# Konvertieren der Spalten zu einer Ganzzahl\n",
    "df_pokemon['HP'] = df_pokemon['HP'].astype('int')\n",
    "df_pokemon['AT'] = df_pokemon['AT'].astype('int')\n",
    "df_pokemon.head()"
   ]
  },
  {
   "cell_type": "code",
   "execution_count": null,
   "metadata": {},
   "outputs": [],
   "source": [
    "# Datentypen erneut überprüfen\n",
    "df_pokemon.info()"
   ]
  }
 ],
 "metadata": {
  "kernelspec": {
   "display_name": "Python 3",
   "language": "python",
   "name": "python3"
  },
  "language_info": {
   "codemirror_mode": {
    "name": "ipython",
    "version": 3
   },
   "file_extension": ".py",
   "mimetype": "text/x-python",
   "name": "python",
   "nbconvert_exporter": "python",
   "pygments_lexer": "ipython3",
   "version": "3.6.7"
  }
 },
 "nbformat": 4,
 "nbformat_minor": 4
}
