{
 "cells": [
  {
   "cell_type": "markdown",
   "metadata": {},
   "source": [
    "# Übung 06: Nachschlagen und Verweisen"
   ]
  },
  {
   "cell_type": "code",
   "execution_count": null,
   "metadata": {
    "practice_cell": true
   },
   "outputs": [],
   "source": [
    "import pandas as pd"
   ]
  },
  {
   "cell_type": "markdown",
   "metadata": {},
   "source": [
    "## Generierung von Trainings Datensätzen\n",
    "Führe die folgenden beiden Codezeilen aus, damit dir die Trainingsdatensätze zur Verfügung stehen."
   ]
  },
  {
   "cell_type": "code",
   "execution_count": null,
   "metadata": {
    "practice_cell": true
   },
   "outputs": [],
   "source": [
    "df_A = pd.DataFrame()\n",
    "df_A['Farbe'] = list(range(0,5))\n",
    "df_A['Frucht'] = ['Apfel', 'Birne', 'Blaubeere', 'Orange', 'Banane']\n",
    "df_A"
   ]
  },
  {
   "cell_type": "code",
   "execution_count": null,
   "metadata": {
    "practice_cell": true
   },
   "outputs": [],
   "source": [
    "df_B = pd.DataFrame()\n",
    "df_B['FarbIndex'] = [0, 1, 5, 3, 6, 0, 1, 2]\n",
    "df_B['Farbe'] = (['Rot', 'Grün', 'Schwarz', 'Orange', 'Gelb', 'Rostrot', 'Grün-Braun', 'Blau'])\n",
    "df_B"
   ]
  },
  {
   "cell_type": "markdown",
   "metadata": {},
   "source": [
    "## Teilaufgabe 1:\n",
    "Verbinde die beiden Datensätze aus df_A und df_B auf folgende Weisen:\n",
    "* Als Schlüssel für den Merge soll der **Index** dienen und nur Elemente die in beiden DataFrames vorkommen.\n",
    "* Ersetze die entstehende Suffixe **'\\_x' und '\\_y'** sinnvoll\n",
    "* Benutze die Spalte **'Farbe'** aus df_A und die Spalte **'FarbIndex'** aus df_B um eine Verbindung zwischen den Datensätzen herzustellen. Überlege dir warum jeder übereinstimmende Wert in Spalte **'Farbe'** oder **'FarbIndex'** zweimal vorkommt. Es sollen wieder nur Elemente vorkommen die in beiden DataFrames existieren.\n",
    "* Verbinde die beiden DataFrames so, dass **alle Elemente aus df_A** erhalten bleiben, auch wenn es keine zu verknüpfenden Elemente in df_B gibt.\n"
   ]
  },
  {
   "cell_type": "markdown",
   "metadata": {},
   "source": [
    "**Merge mit Index**"
   ]
  },
  {
   "cell_type": "code",
   "execution_count": null,
   "metadata": {},
   "outputs": [],
   "source": [
    "pd.merge(df_A, df_B, how='inner', left_index=True, right_index=True)"
   ]
  },
  {
   "cell_type": "markdown",
   "metadata": {},
   "source": [
    "**Suffixe ändern**"
   ]
  },
  {
   "cell_type": "code",
   "execution_count": null,
   "metadata": {},
   "outputs": [],
   "source": [
    "pd.merge(df_A, df_B, how='inner', left_index=True, right_index=True, suffixes=('_Frucht', '_Farben'))"
   ]
  },
  {
   "cell_type": "markdown",
   "metadata": {},
   "source": [
    "**Merge mit Spalte Farbe und FarbIndex**"
   ]
  },
  {
   "cell_type": "code",
   "execution_count": null,
   "metadata": {},
   "outputs": [],
   "source": [
    "pd.merge(df_A, df_B, how='inner', left_on=['Farbe'], right_on=['FarbIndex'], suffixes=('_Frucht', '_Farben'))"
   ]
  },
  {
   "cell_type": "markdown",
   "metadata": {},
   "source": [
    "**Merge mit allen Elementen aus df_A**"
   ]
  },
  {
   "cell_type": "code",
   "execution_count": null,
   "metadata": {},
   "outputs": [],
   "source": [
    "pd.merge(df_A, df_B, how='left', left_on=['Farbe'], right_on=['FarbIndex'], suffixes=('_Frucht', '_Farben'))"
   ]
  },
  {
   "cell_type": "markdown",
   "metadata": {},
   "source": [
    "## Teilaufgabe 2:\n",
    "Nun wollen wir uns mit einem echten Datensatz auseinandersetzen. Das folgende Datenset enthält alle Teilnehmer der Olympischen Spiele seit 1980. \n",
    "\n",
    "\n",
    "### Aufgabe\n",
    "Füge die drei Tabellen so zusammen, dass du am Schluss eine einzige Tabelle erhälst, in der alle Details vorhanden sind.\n",
    "\n",
    "\n",
    "### Dateien\n",
    "Für Teilaufgabe 2 müssen wir drei Dateien aus dem folgenden Ordner importieren:\n",
    "\n",
    "**src\\bigdata\\120-years-of-olympic-history-athletes-and-results**\n",
    "\n",
    "* <font color='orange'>events.csv</font>\n",
    "* <font color='orange'>athlets.csv</font>\n",
    "* <font color='orange'>year_season_city.csv</font>\n",
    "\n",
    "Schaue dir die Tabellen nach dem Import zunächst an und überlege dir, wie du die Tabellen miteinander verknüpfen kannst. \n",
    "\n",
    "> **Hinweis**: Möchtest du die erste Spalte als **Index** importieren kannst du dein Import wie folgt anpassen. ``pd.read_csv(path, index_col=0)``"
   ]
  },
  {
   "cell_type": "code",
   "execution_count": null,
   "metadata": {},
   "outputs": [],
   "source": [
    "# Liste der Veranstaltungsorte\n",
    "df_year_season = pd.read_csv('../../src/bigdata/120-years-of-olympic-history-athletes-and-results/year_season_city.csv', \n",
    "                             index_col=0)\n",
    "df_year_season.head()"
   ]
  },
  {
   "cell_type": "code",
   "execution_count": null,
   "metadata": {},
   "outputs": [],
   "source": [
    "# Liste der Teilnehmer\n",
    "df_athlets = pd.read_csv('../../src/bigdata/120-years-of-olympic-history-athletes-and-results/athlets.csv', \n",
    "                             index_col=0)\n",
    "\n",
    "df_athlets.head()"
   ]
  },
  {
   "cell_type": "code",
   "execution_count": null,
   "metadata": {},
   "outputs": [],
   "source": [
    "# Liste aller Medaillen\n",
    "df_events = pd.read_csv('../../src/bigdata/120-years-of-olympic-history-athletes-and-results/events.csv', \n",
    "                             index_col=0)\n",
    "\n",
    "df_events.head()"
   ]
  },
  {
   "cell_type": "code",
   "execution_count": null,
   "metadata": {},
   "outputs": [],
   "source": [
    "# Zusammenführung events <- athlets \n",
    "df_solution = pd.merge(df_events, df_athlets , how='left', left_on=['ID'], right_index=True)\n",
    "df_solution"
   ]
  },
  {
   "cell_type": "code",
   "execution_count": null,
   "metadata": {},
   "outputs": [],
   "source": [
    "# Zusammenführung df_solution <- season \n",
    "df_solution = pd.merge(df_solution, df_year_season, how='left', on=['Year', 'Season'])\n",
    "df_solution"
   ]
  },
  {
   "cell_type": "markdown",
   "metadata": {},
   "source": [
    "## Zusatzübung 1:\n",
    "Wir möchten das der Name der Athleten in Vorname und Nachname aufgeteilt wird.\n",
    "\n",
    "> **Hinweis:** Wir gehen hierbei davon aus, dass das erste Wort der Vorname ist und alle anderen Wörter zum Nachnamen gehören. \n",
    "\n",
    "Schau dir dafür die Dokumentation von ``.str.split()`` und finde eine Möglichkeit die Namen zu nach der oben genannten Logik zu trennen."
   ]
  },
  {
   "cell_type": "code",
   "execution_count": null,
   "metadata": {},
   "outputs": [],
   "source": [
    "df_athlets[['Forname', 'Last Name']] = df_athlets['Name'].str.rsplit(' ', n=1, expand=True)\n",
    "df_athlets.head()"
   ]
  },
  {
   "cell_type": "markdown",
   "metadata": {},
   "source": [
    "## Zusatzübung 2:\n",
    "Manachmal steht man vor dem Problem, das man gerne aufgrundlage eines Zeitstempels Daten mitteinandere verknüpfen will. Die Problematik hierbei ist, das wir meist mehrer Zeitstempel haben die einer festen Zeit zugewiesen werden könnten.\n",
    "\n",
    "**Tabelle A:**\n",
    "    \n",
    "| ValueA | TimesA |\n",
    "|--------|------- |\n",
    "| A      | 16:00  |\n",
    "\n",
    "\n",
    "**Tabelle B:**\n",
    "\n",
    "| ValueA | TimesA |\n",
    "|-------|-------|\n",
    "| W     | 15:42 | \n",
    "| X     | 15:53 |\n",
    "| Y     | 16:04 |\n",
    "| Z     | 16:12 |\n",
    "\n",
    "\n",
    "**Ergebnis:** \n",
    "\n",
    "| ValueA | TimesA | ValueB | TimesB |\n",
    "|--------|--------|--------|--------|\n",
    "| W      | 16:00  |Y       | 16:04  |\n",
    "\n",
    "<hr>\n",
    "\n",
    "### Aufgabe\n",
    "\n",
    "In der folgenden Aufgabe wollen wir die Preise einer Cryptowährung auf die Börsen Öffnungs- und Schlusszeiten der Frankfurter Börse mappen.\n",
    "\n",
    "**Auszug aus dem Ergebnis:**\n",
    "\n",
    "Date|Time|Location|timestamp|close|high|volume|open|low\n",
    "---|---|---|---|---|---|---|---|---\n",
    "2019-06-17 08:00:00|8|FRA|2019-06-17 08:05:39|241.6300048828125|241.72000122070312|240989.0|240.8000030517578|240.75\n",
    "2019-06-17 22:00:00|22|FRA|2019-06-17 22:02:05|244.05999755859372|244.2700042724609|115902.0|243.33999633789062|243.33999633789062\n",
    "\n",
    "### Dateien\n",
    "\n",
    "Hierfür müssen zunächst die folgenden drei Dateien importiert werden: \n",
    "\n",
    "* <font color='orange'>ethereum.csv</font>\n",
    "* <font color='orange'>FRA_days.csv</font>\n",
    "* <font color='orange'>FRA_opening_hours.csv</font>\n",
    "\n",
    "<hr>\n",
    "\n",
    "**Tipp**: Um das Datum und die Zeit zusammenzuführen benutze die folgende Formel\n",
    "\n",
    "``df['Date'] + df['Time'].apply(lambda x: pd.DateOffset(hours=x))``\n",
    "\n",
    "Aus einem String kannst du mit folgender Formel ein Datetime Object machen\n",
    "\n",
    "``df_stock['timestamp'] = pd.to_datetime(df_stock['timestamp'])``\n",
    "\n",
    "Wie du aufgrund von **Zeitstempeln** Datensätze zusammenführen kannst, findest du in der Dokumentation unter:<br> \n",
    "https://pandas.pydata.org/pandas-docs/stable/user_guide/merging.html#timeseries-friendly-merging"
   ]
  },
  {
   "cell_type": "code",
   "execution_count": null,
   "metadata": {},
   "outputs": [],
   "source": [
    "df_opening_times = pd.read_csv('../../src/FRA_opening_hours.csv')\n",
    "df_opening_times "
   ]
  },
  {
   "cell_type": "code",
   "execution_count": null,
   "metadata": {},
   "outputs": [],
   "source": [
    "df_days = pd.read_csv('../../src/FRA_days.csv')\n",
    "df_days.head()"
   ]
  },
  {
   "cell_type": "code",
   "execution_count": null,
   "metadata": {},
   "outputs": [],
   "source": [
    "df_stock = pd.read_csv('../../src/ethereum.csv') \n",
    "df_stock.head()"
   ]
  },
  {
   "cell_type": "code",
   "execution_count": null,
   "metadata": {},
   "outputs": [],
   "source": [
    "# Zwischenschritt opening hours und days zusammenführen\n",
    "df_market = pd.merge(df_days, df_opening_times, on='Key')\n",
    "df_market = df_market.drop(columns=['Key'])\n",
    "df_market.head()"
   ]
  },
  {
   "cell_type": "code",
   "execution_count": null,
   "metadata": {},
   "outputs": [],
   "source": [
    "# Verbinden der des Datums mit der Urhzeit\n",
    "df_market['Date'] = pd.to_datetime(df_market['Date'])\n",
    "df_market['Date'] = df_market['Date'] + df_market['Time'].apply(lambda x: pd.DateOffset(hours=x))\n",
    "df_market = df_market.sort_values('Date')\n",
    "df_market.head()"
   ]
  },
  {
   "cell_type": "code",
   "execution_count": null,
   "metadata": {},
   "outputs": [],
   "source": [
    "# Umwandlung von String in Datetime\n",
    "df_stock['timestamp'] = pd.to_datetime(df_stock['timestamp'])"
   ]
  },
  {
   "cell_type": "code",
   "execution_count": null,
   "metadata": {},
   "outputs": [],
   "source": [
    "# Lösung\n",
    "df_solution = pd.merge_asof(df_market, df_stock, left_on='Date', right_on='timestamp', direction='nearest')\n",
    "df_solution.head(2)"
   ]
  },
  {
   "cell_type": "markdown",
   "metadata": {},
   "source": [
    "## Zusatzaufgabe 3:\n",
    "Bilde eine neue Spalte die den Mittelwert aus den Spalten **Open und Close** enthält. Diesen muss hier **zeilenweise** für jeden Datensatz bestimmt werden.\n",
    "\n",
    "Benutze hierfür die Funktion ``.mean()`` eines DataFrames."
   ]
  },
  {
   "cell_type": "code",
   "execution_count": null,
   "metadata": {},
   "outputs": [],
   "source": [
    "# Lösung\n",
    "df_solution['mean'] = df_solution[['open', 'close']].mean(axis=1)\n",
    "df_solution.head()"
   ]
  }
 ],
 "metadata": {
  "kernelspec": {
   "display_name": "Python 3",
   "language": "python",
   "name": "python3"
  },
  "language_info": {
   "codemirror_mode": {
    "name": "ipython",
    "version": 3
   },
   "file_extension": ".py",
   "mimetype": "text/x-python",
   "name": "python",
   "nbconvert_exporter": "python",
   "pygments_lexer": "ipython3",
   "version": "3.6.7"
  }
 },
 "nbformat": 4,
 "nbformat_minor": 4
}
