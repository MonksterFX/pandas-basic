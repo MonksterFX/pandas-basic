{
 "cells": [
  {
   "cell_type": "markdown",
   "metadata": {},
   "source": [
    "# Übung 05: Arbeiten mit Text\n",
    "Für die folgenden Aufgaben benötigst du die Datei <font color=orange>pokemon_defekt.csv</font>. Importiere sie entsprechend."
   ]
  },
  {
   "cell_type": "code",
   "execution_count": 5,
   "metadata": {},
   "outputs": [],
   "source": [
    "# --- Lösung ---\n",
    "import pandas as pd"
   ]
  },
  {
   "cell_type": "code",
   "execution_count": 8,
   "metadata": {},
   "outputs": [
    {
     "data": {
      "text/html": [
       "<div>\n",
       "<style scoped>\n",
       "    .dataframe tbody tr th:only-of-type {\n",
       "        vertical-align: middle;\n",
       "    }\n",
       "\n",
       "    .dataframe tbody tr th {\n",
       "        vertical-align: top;\n",
       "    }\n",
       "\n",
       "    .dataframe thead th {\n",
       "        text-align: right;\n",
       "    }\n",
       "</style>\n",
       "<table border=\"1\" class=\"dataframe\">\n",
       "  <thead>\n",
       "    <tr style=\"text-align: right;\">\n",
       "      <th></th>\n",
       "      <th>Name</th>\n",
       "      <th>Type 1</th>\n",
       "      <th>Type 2</th>\n",
       "      <th>Stats</th>\n",
       "    </tr>\n",
       "  </thead>\n",
       "  <tbody>\n",
       "    <tr>\n",
       "      <th>120</th>\n",
       "      <td>rhydon</td>\n",
       "      <td>ground</td>\n",
       "      <td>rock</td>\n",
       "      <td>HP105-AT130</td>\n",
       "    </tr>\n",
       "    <tr>\n",
       "      <th>226</th>\n",
       "      <td>granbull</td>\n",
       "      <td>fairy</td>\n",
       "      <td>NaN</td>\n",
       "      <td>HP90-AT120</td>\n",
       "    </tr>\n",
       "    <tr>\n",
       "      <th>501</th>\n",
       "      <td>skorupi</td>\n",
       "      <td>poison</td>\n",
       "      <td>bug</td>\n",
       "      <td>HP40-AT50</td>\n",
       "    </tr>\n",
       "    <tr>\n",
       "      <th>8</th>\n",
       "      <td>charizardmega charizard y</td>\n",
       "      <td>fire</td>\n",
       "      <td>flying</td>\n",
       "      <td>HP101-AT104</td>\n",
       "    </tr>\n",
       "    <tr>\n",
       "      <th>415</th>\n",
       "      <td>regice legandary</td>\n",
       "      <td>ice</td>\n",
       "      <td>nan</td>\n",
       "      <td>HP80-AT50</td>\n",
       "    </tr>\n",
       "    <tr>\n",
       "      <th>167</th>\n",
       "      <td>bayleef</td>\n",
       "      <td>grass</td>\n",
       "      <td>NaN</td>\n",
       "      <td>HP60-AT62</td>\n",
       "    </tr>\n",
       "    <tr>\n",
       "      <th>335</th>\n",
       "      <td>medicham</td>\n",
       "      <td>fighting</td>\n",
       "      <td>psychic</td>\n",
       "      <td>HP60-AT60</td>\n",
       "    </tr>\n",
       "    <tr>\n",
       "      <th>280</th>\n",
       "      <td>mudkip</td>\n",
       "      <td>water</td>\n",
       "      <td>nan</td>\n",
       "      <td>HP50-AT70</td>\n",
       "    </tr>\n",
       "    <tr>\n",
       "      <th>59</th>\n",
       "      <td>psyduck</td>\n",
       "      <td>water</td>\n",
       "      <td>nan</td>\n",
       "      <td>HP50-AT52</td>\n",
       "    </tr>\n",
       "    <tr>\n",
       "      <th>50</th>\n",
       "      <td>vileplume</td>\n",
       "      <td>grass</td>\n",
       "      <td>poison</td>\n",
       "      <td>HP75-AT80</td>\n",
       "    </tr>\n",
       "  </tbody>\n",
       "</table>\n",
       "</div>"
      ],
      "text/plain": [
       "                          Name        Type 1      Type 2        Stats\n",
       "120                     rhydon       ground       rock    HP105-AT130\n",
       "226                   granbull       fairy           NaN   HP90-AT120\n",
       "501                    skorupi        poison       bug      HP40-AT50\n",
       "8    charizardmega charizard y         fire     flying    HP101-AT104\n",
       "415           regice legandary         ice          nan     HP80-AT50\n",
       "167                    bayleef       grass           NaN    HP60-AT62\n",
       "335                   medicham    fighting       psychic    HP60-AT60\n",
       "280                     mudkip         water       nan      HP50-AT70\n",
       "59                     psyduck         water       nan      HP50-AT52\n",
       "50                   vileplume        grass       poison    HP75-AT80"
      ]
     },
     "execution_count": 8,
     "metadata": {},
     "output_type": "execute_result"
    }
   ],
   "source": [
    "# --- Lösung ---\n",
    "df_pokemon = pd.read_csv('../../src/pokemon_defekt.csv')\n",
    "df_pokemon.sample(10)"
   ]
  },
  {
   "cell_type": "markdown",
   "metadata": {},
   "source": [
    "# Teilaufgabe 1: Aufbereiten der Daten\n",
    "Überprüfe ob in den Spalten nan Werte vorkommen und ob es überflüssige Leerzeichen existieren. Behebe die auftretenden Fehler dementsprechend."
   ]
  },
  {
   "cell_type": "code",
   "execution_count": 24,
   "metadata": {},
   "outputs": [
    {
     "data": {
      "text/html": [
       "<div>\n",
       "<style scoped>\n",
       "    .dataframe tbody tr th:only-of-type {\n",
       "        vertical-align: middle;\n",
       "    }\n",
       "\n",
       "    .dataframe tbody tr th {\n",
       "        vertical-align: top;\n",
       "    }\n",
       "\n",
       "    .dataframe thead th {\n",
       "        text-align: right;\n",
       "    }\n",
       "</style>\n",
       "<table border=\"1\" class=\"dataframe\">\n",
       "  <thead>\n",
       "    <tr style=\"text-align: right;\">\n",
       "      <th></th>\n",
       "      <th>Name</th>\n",
       "      <th>Type 1</th>\n",
       "      <th>Type 2</th>\n",
       "      <th>Stats</th>\n",
       "    </tr>\n",
       "  </thead>\n",
       "  <tbody>\n",
       "  </tbody>\n",
       "</table>\n",
       "</div>"
      ],
      "text/plain": [
       "Empty DataFrame\n",
       "Columns: [Name, Type 1, Type 2, Stats]\n",
       "Index: []"
      ]
     },
     "execution_count": 24,
     "metadata": {},
     "output_type": "execute_result"
    }
   ],
   "source": [
    "# Alle Spalten extra überprüfen\n",
    "df_pokemon[df_pokemon['Name'].isna()]\n",
    "df_pokemon[df_pokemon['Type 1'].isna()]\n",
    "df_pokemon[df_pokemon['Type 2'].isna()]\n",
    "df_pokemon[df_pokemon['Stats'].isna()]"
   ]
  },
  {
   "cell_type": "code",
   "execution_count": 25,
   "metadata": {},
   "outputs": [
    {
     "name": "stdout",
     "output_type": "stream",
     "text": [
      "<class 'pandas.core.frame.DataFrame'>\n",
      "RangeIndex: 800 entries, 0 to 799\n",
      "Data columns (total 4 columns):\n",
      "Name      800 non-null object\n",
      "Type 1    800 non-null object\n",
      "Type 2    680 non-null object\n",
      "Stats     800 non-null object\n",
      "dtypes: object(4)\n",
      "memory usage: 25.1+ KB\n"
     ]
    },
    {
     "data": {
      "text/plain": [
       "Name        0\n",
       "Type 1      0\n",
       "Type 2    120\n",
       "Stats       0\n",
       "dtype: int64"
      ]
     },
     "execution_count": 25,
     "metadata": {},
     "output_type": "execute_result"
    }
   ],
   "source": [
    "# Best Lösung\n",
    "df_pokemon.info()\n",
    "df_pokemon.isna().sum()"
   ]
  },
  {
   "cell_type": "code",
   "execution_count": null,
   "metadata": {},
   "outputs": [],
   "source": []
  },
  {
   "cell_type": "code",
   "execution_count": null,
   "metadata": {},
   "outputs": [],
   "source": [
    "Sorge dafür das die Spalte wie folgt formatiert werden:\n",
    "* Name in Pascal Case\n",
    "* Type1 Erster Buchstabe Groß geschrieben\n",
    "* "
   ]
  }
 ],
 "metadata": {
  "kernelspec": {
   "display_name": "Python 3",
   "language": "python",
   "name": "python3"
  },
  "language_info": {
   "codemirror_mode": {
    "name": "ipython",
    "version": 3
   },
   "file_extension": ".py",
   "mimetype": "text/x-python",
   "name": "python",
   "nbconvert_exporter": "python",
   "pygments_lexer": "ipython3",
   "version": "3.7.1"
  }
 },
 "nbformat": 4,
 "nbformat_minor": 2
}
