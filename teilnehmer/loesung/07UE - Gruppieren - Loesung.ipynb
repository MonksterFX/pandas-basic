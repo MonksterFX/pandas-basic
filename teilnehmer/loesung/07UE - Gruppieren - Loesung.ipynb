{
 "cells": [
  {
   "cell_type": "markdown",
   "metadata": {},
   "source": [
    "# Übung 07: Gruppieren\n",
    "Im folgenden Abschnitt wollen wir uns das Olympiadatenset noch genauer anschauen. Hierfür benötigen wir die Datei \n",
    "* <font color=orange>bigdata/120-years-of-olympic-history-athletes-and-results/athlete_events.csv</font>\n",
    "\n",
    "**<font color='red'> Achtung:</font>** bis 1980 wurden die Winterspiele alle zwei Jahre ausgetragen. Dh. in manchen Jahren gibt es sowohl Winter als auch Sommerspiele!</font>"
   ]
  },
  {
   "cell_type": "code",
   "execution_count": null,
   "metadata": {
    "practice_cell": true
   },
   "outputs": [],
   "source": [
    "import numpy as np\n",
    "import pandas as pd"
   ]
  },
  {
   "cell_type": "code",
   "execution_count": null,
   "metadata": {
    "practice_cell": true
   },
   "outputs": [],
   "source": [
    "df = pd.read_csv('../../src/bigdata/120-years-of-olympic-history-athletes-and-results/athlete_events.csv')\n",
    "df.head()"
   ]
  },
  {
   "cell_type": "code",
   "execution_count": null,
   "metadata": {},
   "outputs": [],
   "source": [
    "# Übersicht über den DataFrame erhalten\n",
    "df.info()"
   ]
  },
  {
   "cell_type": "markdown",
   "metadata": {},
   "source": [
    "## Teilaufgabe 1:\n",
    "Zunächst wollen wir erstmal ein paar grundliegende Fragen beantworten zum Datenset beantworten. Dabei hilft uns die Funktion ``.groupby``. Es stellen sich folgende Fragen:\n",
    "\n",
    "* Wie viele Frauen und Männer insgesamt schon an den Olympischen Spielen teilgenommen haben\n",
    "* Durchschnittsalter der Männer und Frauen\n",
    "* Maximalalter der Männer und der Frauen\n",
    "* Wie viele Teilnehmer haben pro Jahr an den Olympischen Sommer Spielen teilgenommen \n",
    "* Aus welchen 5 Ländern kammen die meisten Teilnehmer bei den Sommerspielen 2008\n",
    "* Wie viele Frauen und Männer in jedem Jahr an den Olympischen Spielen teilgenommen (Unterscheide zusätzlich zwischen Winter und Sommer)\n",
    "\n",
    "*Hinweis zur Vereinfachung: Jede Teilnahme an einem Wettkampf zählt, das heißt, ein Athlet kann mehrfach gezählt werden*"
   ]
  },
  {
   "cell_type": "markdown",
   "metadata": {},
   "source": [
    "**Wie viele Frauen und Männer insgesamt schon an den Olympischen Spielen teilgenommen haben**"
   ]
  },
  {
   "cell_type": "code",
   "execution_count": null,
   "metadata": {},
   "outputs": [],
   "source": [
    "df.groupby('Sex').size()"
   ]
  },
  {
   "cell_type": "markdown",
   "metadata": {},
   "source": [
    "**Durchschnittsalter der Männer und Frauen**"
   ]
  },
  {
   "cell_type": "code",
   "execution_count": null,
   "metadata": {
    "scrolled": true
   },
   "outputs": [],
   "source": [
    "df[['Sex', 'Age']].groupby('Sex').mean()"
   ]
  },
  {
   "cell_type": "markdown",
   "metadata": {},
   "source": [
    "**Maximalalter der Männer und der Frauen**"
   ]
  },
  {
   "cell_type": "code",
   "execution_count": null,
   "metadata": {},
   "outputs": [],
   "source": [
    "df[['Sex', 'Age']].groupby('Sex').max()"
   ]
  },
  {
   "cell_type": "markdown",
   "metadata": {},
   "source": [
    "**Wie viele Frauen und Männer in jedem Jahr an den Olympischen Spielen teilgenommen haben**\n",
    "\n",
    "Hinweis: Mit ``.reset_index()`` können wir den GroupBy in einen DataFrame zurückwandeln"
   ]
  },
  {
   "cell_type": "code",
   "execution_count": null,
   "metadata": {},
   "outputs": [],
   "source": [
    "df.groupby(['Year', 'Season', 'Sex']).size().reset_index().head()"
   ]
  },
  {
   "cell_type": "markdown",
   "metadata": {},
   "source": [
    "**Wie viele Teilnehmer haben pro Jahr an den Olympischen Sommer Spielen teilgenommen**"
   ]
  },
  {
   "cell_type": "code",
   "execution_count": null,
   "metadata": {},
   "outputs": [],
   "source": [
    "df_summer = df[df['Season'] == 'Summer']\n",
    "df_summer = df_summer.groupby(['Year']).size()\n",
    "df_summer = df_summer.reset_index()\n",
    "df_summer = df_summer.rename(columns={0:'Count'})\n",
    "df_summer.tail()"
   ]
  },
  {
   "cell_type": "markdown",
   "metadata": {},
   "source": [
    "**Aus welchen 5 Ländern kammen die meisten Teilnehmer bei den Sommerspielen 2008** "
   ]
  },
  {
   "cell_type": "code",
   "execution_count": null,
   "metadata": {},
   "outputs": [],
   "source": [
    "df_summer2 = df[(df['Season'] == 'Summer') & (df['Year'] == 2008)]\n",
    "df_summer2 = df_summer2.groupby(['Year', 'Team']).size().reset_index()\n",
    "df_summer2 = df_summer2.rename(columns={0:'Count'})\n",
    "df_summer2.sort_values('Count', ascending=False).head()"
   ]
  },
  {
   "cell_type": "markdown",
   "metadata": {},
   "source": [
    "## Teilaufgabe 2:\n",
    "Wir wollen herausfinden welcher Athlet der/die erfolgreichste war. Erstelle dafür einen neune Dataframe mit dem folgenden Format:\n",
    "\n",
    "| I |ID|Name|Medal|\n",
    "|---|---|---|---|\n",
    "|1|4|Edgar Lindenau Aabye|1|\n",
    "|2|17|Paavo Johannes Aaltonen|3|\n",
    "|3|20|Kjetil Andr Aamodt|4|\n",
    "|4|21|Ragnhild Margrethe Aamodt|1|\n",
    "|5|40|Roald Edgar Aas|1|\n",
    "\n",
    "**Hinweis**: *Das I in der Tabelle oben igonieren. Die Überschrift des Index ist wie gewohnt leer.(Geht leider nicht anderes darzustellen)*\n",
    "\n",
    "Sortiere die Ergebnisse anschließend so, das die Person mit der höchsten Anzahl an goldenen Medalien ganz oben steht.\n",
    "\n",
    "\n"
   ]
  },
  {
   "cell_type": "code",
   "execution_count": null,
   "metadata": {
    "scrolled": true
   },
   "outputs": [],
   "source": [
    "df_gold = df[df['Medal'] == 'Gold']\n",
    "df_gold = df_gold[['ID', 'Medal', 'Name']].groupby(['ID', 'Name']).count()\n",
    "df_gold = df_gold.reset_index()\n",
    "df_gold.sort_values(['Medal'], ascending=False).head()"
   ]
  },
  {
   "cell_type": "markdown",
   "metadata": {},
   "source": [
    "### Teilaufgabe 3:\n",
    "Wir interessieren uns nun für den Medallienspiegel der Atleten. Fasse diesen mit Groupby zusammen und lass dir sortiert nach der Anzahl der Gold, Silber und Bronzemedallien die Athleten ausgeben.\n",
    "\n",
    "Bereinige außerdem die **NaN** Werte in der Spalte Medal indem du sie durch ein passenden Begriff ersetzt und auch diese Werte in der Auswertung vorkommen.\n",
    "\n",
    "**Tipp**: Du kannst anstatt ``.reset_index()`` auch ``.unstack()`` benutzen. Schaue dir an welchen Effekt das auf deinen DataFrame hat."
   ]
  },
  {
   "cell_type": "code",
   "execution_count": null,
   "metadata": {},
   "outputs": [],
   "source": [
    "# Kopieren des Dataframes, um Warnmeldung zu vermeiden\n",
    "df_medals = df.copy()\n",
    "\n",
    "# Bereinigen\n",
    "df_medals['Medal'] = df_medals['Medal'].fillna('Teilnahme')\n",
    "df_medals = df_medals.groupby(['ID', 'Name' , 'Medal']).size().unstack()\n",
    "\n",
    "# Optionale Schönheitskorrektur\n",
    "df_medals = df_medals[['Gold', 'Silver', 'Bronze', 'Teilnahme']]\n",
    "df_medals = df_medals.fillna(0)\n",
    "\n",
    "# Auswertung sortieren\n",
    "df_medals.sort_values(['Gold', 'Bronze', 'Silver'], ascending=False).head()"
   ]
  },
  {
   "cell_type": "markdown",
   "metadata": {},
   "source": [
    "### Teilaufgabe 4:\n",
    "Beim Gruppieren bleibt die urspüngliche Sortierung des DataFrames erhalten. Für manche Auswertungen ist es daher notwendig, das der Dataframe vorher korrekt sortiert wurde.\n",
    "\n",
    "Finde für jeden Athleten raus, welches sein letztes Jahr war, in dem er oder sie angetreten ist. Überprüfe die Lösung indem du zwei bekannte Olympioniken im Internet nachschlägst:\n",
    "\n",
    "* Michael Fred Phelps, II\n",
    "* Raymond Clarence \"Ray\" Ewry"
   ]
  },
  {
   "cell_type": "code",
   "execution_count": null,
   "metadata": {},
   "outputs": [],
   "source": [
    "df_last = df.sort_values(['ID', 'Year']).groupby('ID').last()\n",
    "df_last.head()"
   ]
  },
  {
   "cell_type": "code",
   "execution_count": null,
   "metadata": {},
   "outputs": [],
   "source": [
    "df_last[df_last['Name'] == 'Michael Fred Phelps, II']"
   ]
  },
  {
   "cell_type": "code",
   "execution_count": null,
   "metadata": {},
   "outputs": [],
   "source": [
    "df_last[df_last['Name'] == 'Raymond Clarence \"Ray\" Ewry']"
   ]
  },
  {
   "cell_type": "markdown",
   "metadata": {},
   "source": [
    "## Zusatzaufgabe 1:\n",
    "Finde heraus wer die meisten Medallien (unabhänigig ob Gold, Silber oder Bronze) in der jeweiligen Sportkategorie (Spalte Sport) gewonnen hat."
   ]
  },
  {
   "cell_type": "code",
   "execution_count": null,
   "metadata": {},
   "outputs": [],
   "source": [
    "# .copy() ist neu. Wir machen das hier nur um eine Warnmeldung zu unterdrücken. \n",
    "# Was es im Detail damit auf sich hat, kannst du den Link in der Warnmeldung entnehmen.\n",
    "df_sport = df.copy()\n",
    "df_sport = df_sport.dropna(subset=['Medal'])\n",
    "df_sport = df_sport.groupby(['Sport' , 'ID', 'Name']).size().reset_index()\n",
    "df_sport = df_sport.rename(columns={0:'Count'})\n",
    "df_sport = df_sport.sort_values('Count', ascending=False)\n",
    "df_sport.groupby('Sport').first().head()"
   ]
  },
  {
   "cell_type": "markdown",
   "metadata": {},
   "source": [
    "## Zusatzaufgabe 2:\n",
    "Ermittle jeweils den zweitbesten in jeder Sportkategorie. Außerdem finde den den zweitältersten in jeder Kategorie heraus.\n",
    "\n",
    "**Tipp**: Vielleicht wirst du in der Übersicht der Funktionen für ein GroupBy fündig. <br>\n",
    "https://pandas.pydata.org/pandas-docs/stable/reference/groupby.html#computations-descriptive-stats"
   ]
  },
  {
   "cell_type": "markdown",
   "metadata": {},
   "source": [
    "**Zweitbeste Person**"
   ]
  },
  {
   "cell_type": "code",
   "execution_count": null,
   "metadata": {},
   "outputs": [],
   "source": [
    "# An dieser Stelle können wir den DataFrame aus Zusatzaufgabe 1 wiederverwenden\n",
    "df_sport.groupby('Sport').nth(2).head()"
   ]
  },
  {
   "cell_type": "markdown",
   "metadata": {},
   "source": [
    "**Zweitälterste Person**"
   ]
  },
  {
   "cell_type": "code",
   "execution_count": null,
   "metadata": {},
   "outputs": [],
   "source": [
    "# An dieser Stelle können wir den DataFrame aus Zusatzaufgabe 1 wiederverwenden\n",
    "df_oldest = df[['ID', 'Name', 'Age', 'Sport']].sort_values(['ID', 'Age'])\n",
    "df_oldest = df_oldest.dropna(subset=['Age'])\n",
    "df_oldest = df_oldest.groupby(['ID', 'Name', 'Sport']).last().reset_index()\n",
    "df_oldest = df_oldest.sort_values(['Sport', 'Age'])\n",
    "df_oldest.groupby('Sport').nth(-2).head()"
   ]
  },
  {
   "cell_type": "markdown",
   "metadata": {},
   "source": [
    "# Zusatzaufgabe 3\n",
    "Nutze ``.drop_duplicates()``, so dass jeder Athlet in der Teilaufgabe 1 nur ein einziges Mal in die Statistik einfließt."
   ]
  },
  {
   "cell_type": "code",
   "execution_count": null,
   "metadata": {},
   "outputs": [],
   "source": [
    "# Nutze die beiden folgenden bereinigten DataFrames je nach Situation\n",
    "df = df.drop_duplicates(subset=['ID', 'Year' ,'Season'])\n",
    "df = df.drop_duplicates(subset=['ID'])"
   ]
  }
 ],
 "metadata": {
  "kernelspec": {
   "display_name": "Python 3",
   "language": "python",
   "name": "python3"
  },
  "language_info": {
   "codemirror_mode": {
    "name": "ipython",
    "version": 3
   },
   "file_extension": ".py",
   "mimetype": "text/x-python",
   "name": "python",
   "nbconvert_exporter": "python",
   "pygments_lexer": "ipython3",
   "version": "3.6.7"
  }
 },
 "nbformat": 4,
 "nbformat_minor": 4
}
