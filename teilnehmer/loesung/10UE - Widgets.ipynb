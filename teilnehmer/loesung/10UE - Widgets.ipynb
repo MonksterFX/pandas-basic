{
 "cells": [
  {
   "cell_type": "markdown",
   "metadata": {},
   "source": [
    "# Übung 10: Widgets\n",
    "Für die folgenden Aufgaben benötigst du die Datei <font color=orange>bigdata/120-years-of-olympic-history-athletes-and-results/athlete_events.csv</font>. Importiere sie entsprechend."
   ]
  },
  {
   "cell_type": "code",
   "execution_count": 48,
   "metadata": {},
   "outputs": [],
   "source": [
    "import pandas as pd\n",
    "import ipywidgets as widgets\n",
    "from ipywidgets import interact, interact_manual"
   ]
  },
  {
   "cell_type": "code",
   "execution_count": 49,
   "metadata": {},
   "outputs": [
    {
     "data": {
      "text/html": [
       "<div>\n",
       "<style scoped>\n",
       "    .dataframe tbody tr th:only-of-type {\n",
       "        vertical-align: middle;\n",
       "    }\n",
       "\n",
       "    .dataframe tbody tr th {\n",
       "        vertical-align: top;\n",
       "    }\n",
       "\n",
       "    .dataframe thead th {\n",
       "        text-align: right;\n",
       "    }\n",
       "</style>\n",
       "<table border=\"1\" class=\"dataframe\">\n",
       "  <thead>\n",
       "    <tr style=\"text-align: right;\">\n",
       "      <th></th>\n",
       "      <th>ID</th>\n",
       "      <th>Name</th>\n",
       "      <th>Sex</th>\n",
       "      <th>Age</th>\n",
       "      <th>Height</th>\n",
       "      <th>Weight</th>\n",
       "      <th>Team</th>\n",
       "      <th>NOC</th>\n",
       "      <th>Games</th>\n",
       "      <th>Year</th>\n",
       "      <th>Season</th>\n",
       "      <th>City</th>\n",
       "      <th>Sport</th>\n",
       "      <th>Event</th>\n",
       "      <th>Medal</th>\n",
       "    </tr>\n",
       "  </thead>\n",
       "  <tbody>\n",
       "    <tr>\n",
       "      <th>0</th>\n",
       "      <td>1</td>\n",
       "      <td>A Dijiang</td>\n",
       "      <td>M</td>\n",
       "      <td>24.0</td>\n",
       "      <td>180.0</td>\n",
       "      <td>80.0</td>\n",
       "      <td>China</td>\n",
       "      <td>CHN</td>\n",
       "      <td>1992 Summer</td>\n",
       "      <td>1992</td>\n",
       "      <td>Summer</td>\n",
       "      <td>Barcelona</td>\n",
       "      <td>Basketball</td>\n",
       "      <td>Basketball Men's Basketball</td>\n",
       "      <td>NaN</td>\n",
       "    </tr>\n",
       "    <tr>\n",
       "      <th>1</th>\n",
       "      <td>2</td>\n",
       "      <td>A Lamusi</td>\n",
       "      <td>M</td>\n",
       "      <td>23.0</td>\n",
       "      <td>170.0</td>\n",
       "      <td>60.0</td>\n",
       "      <td>China</td>\n",
       "      <td>CHN</td>\n",
       "      <td>2012 Summer</td>\n",
       "      <td>2012</td>\n",
       "      <td>Summer</td>\n",
       "      <td>London</td>\n",
       "      <td>Judo</td>\n",
       "      <td>Judo Men's Extra-Lightweight</td>\n",
       "      <td>NaN</td>\n",
       "    </tr>\n",
       "    <tr>\n",
       "      <th>2</th>\n",
       "      <td>3</td>\n",
       "      <td>Gunnar Nielsen Aaby</td>\n",
       "      <td>M</td>\n",
       "      <td>24.0</td>\n",
       "      <td>NaN</td>\n",
       "      <td>NaN</td>\n",
       "      <td>Denmark</td>\n",
       "      <td>DEN</td>\n",
       "      <td>1920 Summer</td>\n",
       "      <td>1920</td>\n",
       "      <td>Summer</td>\n",
       "      <td>Antwerpen</td>\n",
       "      <td>Football</td>\n",
       "      <td>Football Men's Football</td>\n",
       "      <td>NaN</td>\n",
       "    </tr>\n",
       "    <tr>\n",
       "      <th>3</th>\n",
       "      <td>4</td>\n",
       "      <td>Edgar Lindenau Aabye</td>\n",
       "      <td>M</td>\n",
       "      <td>34.0</td>\n",
       "      <td>NaN</td>\n",
       "      <td>NaN</td>\n",
       "      <td>Denmark/Sweden</td>\n",
       "      <td>DEN</td>\n",
       "      <td>1900 Summer</td>\n",
       "      <td>1900</td>\n",
       "      <td>Summer</td>\n",
       "      <td>Paris</td>\n",
       "      <td>Tug-Of-War</td>\n",
       "      <td>Tug-Of-War Men's Tug-Of-War</td>\n",
       "      <td>Gold</td>\n",
       "    </tr>\n",
       "    <tr>\n",
       "      <th>4</th>\n",
       "      <td>5</td>\n",
       "      <td>Christine Jacoba Aaftink</td>\n",
       "      <td>F</td>\n",
       "      <td>21.0</td>\n",
       "      <td>185.0</td>\n",
       "      <td>82.0</td>\n",
       "      <td>Netherlands</td>\n",
       "      <td>NED</td>\n",
       "      <td>1988 Winter</td>\n",
       "      <td>1988</td>\n",
       "      <td>Winter</td>\n",
       "      <td>Calgary</td>\n",
       "      <td>Speed Skating</td>\n",
       "      <td>Speed Skating Women's 500 metres</td>\n",
       "      <td>NaN</td>\n",
       "    </tr>\n",
       "  </tbody>\n",
       "</table>\n",
       "</div>"
      ],
      "text/plain": [
       "   ID                      Name Sex   Age  Height  Weight            Team  \\\n",
       "0   1                 A Dijiang   M  24.0   180.0    80.0           China   \n",
       "1   2                  A Lamusi   M  23.0   170.0    60.0           China   \n",
       "2   3       Gunnar Nielsen Aaby   M  24.0     NaN     NaN         Denmark   \n",
       "3   4      Edgar Lindenau Aabye   M  34.0     NaN     NaN  Denmark/Sweden   \n",
       "4   5  Christine Jacoba Aaftink   F  21.0   185.0    82.0     Netherlands   \n",
       "\n",
       "   NOC        Games  Year  Season       City          Sport  \\\n",
       "0  CHN  1992 Summer  1992  Summer  Barcelona     Basketball   \n",
       "1  CHN  2012 Summer  2012  Summer     London           Judo   \n",
       "2  DEN  1920 Summer  1920  Summer  Antwerpen       Football   \n",
       "3  DEN  1900 Summer  1900  Summer      Paris     Tug-Of-War   \n",
       "4  NED  1988 Winter  1988  Winter    Calgary  Speed Skating   \n",
       "\n",
       "                              Event Medal  \n",
       "0       Basketball Men's Basketball   NaN  \n",
       "1      Judo Men's Extra-Lightweight   NaN  \n",
       "2           Football Men's Football   NaN  \n",
       "3       Tug-Of-War Men's Tug-Of-War  Gold  \n",
       "4  Speed Skating Women's 500 metres   NaN  "
      ]
     },
     "execution_count": 49,
     "metadata": {},
     "output_type": "execute_result"
    }
   ],
   "source": [
    "df = pd.read_csv('../../src/bigdata/120-years-of-olympic-history-athletes-and-results/athlete_events.csv')\n",
    "df.head()"
   ]
  },
  {
   "cell_type": "markdown",
   "metadata": {},
   "source": [
    "# Teilaufgabe 1\n",
    "Erstelle mithilfe von **interact** eine Funktion, die dir nur die Daten aus einen bestimmten Jahr anzeigt. Das Jahr soll mit einem **Slider** ausgewählt werden können. Damit der DataFrame nicht so groß wird filtere vorher die Daten, sodass Sie nur die Daten deiner Liebelingssportart enthalten (z.B. 'Table Tennis' oder 'Beach Volleyball'). \n",
    "\n",
    "\n",
    "**Verbesserung des Sliders, wenn du mit der obigen Aufgabe fertig bist**:<br>\n",
    "Die olympischen Spiele finden nur alle zwei Jahre statt. Passe den **Slider** zur Auswahl des Jahres so an, das dieser in 4 Jahres Schritten (Sommerspiele) oder in 2 Jahres Schritten (Winterspiele, früher alle 2 Jahre) arbeitet. Außerdem überlege dir eine sinnvolle grobsortierung des Ergebnisses."
   ]
  },
  {
   "cell_type": "code",
   "execution_count": 50,
   "metadata": {},
   "outputs": [
    {
     "data": {
      "text/plain": [
       "array(['Basketball', 'Judo', 'Football', 'Tug-Of-War', 'Speed Skating',\n",
       "       'Cross Country Skiing', 'Athletics', 'Ice Hockey', 'Swimming',\n",
       "       'Badminton', 'Sailing', 'Biathlon', 'Gymnastics',\n",
       "       'Art Competitions', 'Alpine Skiing', 'Handball', 'Weightlifting',\n",
       "       'Wrestling', 'Luge', 'Water Polo', 'Hockey', 'Rowing', 'Bobsleigh',\n",
       "       'Fencing', 'Equestrianism', 'Shooting', 'Boxing', 'Taekwondo',\n",
       "       'Cycling', 'Diving', 'Canoeing', 'Tennis', 'Modern Pentathlon',\n",
       "       'Figure Skating', 'Golf', 'Softball', 'Archery', 'Volleyball',\n",
       "       'Synchronized Swimming', 'Table Tennis', 'Nordic Combined',\n",
       "       'Baseball', 'Rhythmic Gymnastics', 'Freestyle Skiing',\n",
       "       'Rugby Sevens', 'Trampolining', 'Beach Volleyball', 'Triathlon',\n",
       "       'Ski Jumping', 'Curling', 'Snowboarding', 'Rugby',\n",
       "       'Short Track Speed Skating', 'Skeleton', 'Lacrosse', 'Polo',\n",
       "       'Cricket', 'Racquets', 'Motorboating', 'Military Ski Patrol',\n",
       "       'Croquet', 'Jeu De Paume', 'Roque', 'Alpinism', 'Basque Pelota',\n",
       "       'Aeronautics'], dtype=object)"
      ]
     },
     "execution_count": 50,
     "metadata": {},
     "output_type": "execute_result"
    }
   ],
   "source": [
    "# Wähle eine Sportart aus\n",
    "df['Sport'].unique()"
   ]
  },
  {
   "cell_type": "code",
   "execution_count": 51,
   "metadata": {},
   "outputs": [
    {
     "data": {
      "text/html": [
       "<div>\n",
       "<style scoped>\n",
       "    .dataframe tbody tr th:only-of-type {\n",
       "        vertical-align: middle;\n",
       "    }\n",
       "\n",
       "    .dataframe tbody tr th {\n",
       "        vertical-align: top;\n",
       "    }\n",
       "\n",
       "    .dataframe thead th {\n",
       "        text-align: right;\n",
       "    }\n",
       "</style>\n",
       "<table border=\"1\" class=\"dataframe\">\n",
       "  <thead>\n",
       "    <tr style=\"text-align: right;\">\n",
       "      <th></th>\n",
       "      <th>ID</th>\n",
       "      <th>Name</th>\n",
       "      <th>Sex</th>\n",
       "      <th>Age</th>\n",
       "      <th>Height</th>\n",
       "      <th>Weight</th>\n",
       "      <th>Team</th>\n",
       "      <th>NOC</th>\n",
       "      <th>Games</th>\n",
       "      <th>Year</th>\n",
       "      <th>Season</th>\n",
       "      <th>City</th>\n",
       "      <th>Sport</th>\n",
       "      <th>Event</th>\n",
       "      <th>Medal</th>\n",
       "    </tr>\n",
       "  </thead>\n",
       "  <tbody>\n",
       "    <tr>\n",
       "      <th>498</th>\n",
       "      <td>277</td>\n",
       "      <td>Shaimaa Abdul Aziz</td>\n",
       "      <td>F</td>\n",
       "      <td>19.0</td>\n",
       "      <td>160.0</td>\n",
       "      <td>53.0</td>\n",
       "      <td>Egypt</td>\n",
       "      <td>EGY</td>\n",
       "      <td>2000 Summer</td>\n",
       "      <td>2000</td>\n",
       "      <td>Summer</td>\n",
       "      <td>Sydney</td>\n",
       "      <td>Table Tennis</td>\n",
       "      <td>Table Tennis Women's Singles</td>\n",
       "      <td>NaN</td>\n",
       "    </tr>\n",
       "    <tr>\n",
       "      <th>499</th>\n",
       "      <td>277</td>\n",
       "      <td>Shaimaa Abdul Aziz</td>\n",
       "      <td>F</td>\n",
       "      <td>19.0</td>\n",
       "      <td>160.0</td>\n",
       "      <td>53.0</td>\n",
       "      <td>Egypt</td>\n",
       "      <td>EGY</td>\n",
       "      <td>2000 Summer</td>\n",
       "      <td>2000</td>\n",
       "      <td>Summer</td>\n",
       "      <td>Sydney</td>\n",
       "      <td>Table Tennis</td>\n",
       "      <td>Table Tennis Women's Doubles</td>\n",
       "      <td>NaN</td>\n",
       "    </tr>\n",
       "    <tr>\n",
       "      <th>500</th>\n",
       "      <td>277</td>\n",
       "      <td>Shaimaa Abdul Aziz</td>\n",
       "      <td>F</td>\n",
       "      <td>27.0</td>\n",
       "      <td>160.0</td>\n",
       "      <td>53.0</td>\n",
       "      <td>Egypt</td>\n",
       "      <td>EGY</td>\n",
       "      <td>2008 Summer</td>\n",
       "      <td>2008</td>\n",
       "      <td>Summer</td>\n",
       "      <td>Beijing</td>\n",
       "      <td>Table Tennis</td>\n",
       "      <td>Table Tennis Women's Singles</td>\n",
       "      <td>NaN</td>\n",
       "    </tr>\n",
       "    <tr>\n",
       "      <th>775</th>\n",
       "      <td>446</td>\n",
       "      <td>Bode Abiodun</td>\n",
       "      <td>M</td>\n",
       "      <td>35.0</td>\n",
       "      <td>170.0</td>\n",
       "      <td>68.0</td>\n",
       "      <td>Nigeria</td>\n",
       "      <td>NGR</td>\n",
       "      <td>2016 Summer</td>\n",
       "      <td>2016</td>\n",
       "      <td>Summer</td>\n",
       "      <td>Rio de Janeiro</td>\n",
       "      <td>Table Tennis</td>\n",
       "      <td>Table Tennis Men's Team</td>\n",
       "      <td>NaN</td>\n",
       "    </tr>\n",
       "    <tr>\n",
       "      <th>1183</th>\n",
       "      <td>663</td>\n",
       "      <td>Sharath Kamal Achanta</td>\n",
       "      <td>M</td>\n",
       "      <td>22.0</td>\n",
       "      <td>186.0</td>\n",
       "      <td>85.0</td>\n",
       "      <td>India</td>\n",
       "      <td>IND</td>\n",
       "      <td>2004 Summer</td>\n",
       "      <td>2004</td>\n",
       "      <td>Summer</td>\n",
       "      <td>Athina</td>\n",
       "      <td>Table Tennis</td>\n",
       "      <td>Table Tennis Men's Singles</td>\n",
       "      <td>NaN</td>\n",
       "    </tr>\n",
       "  </tbody>\n",
       "</table>\n",
       "</div>"
      ],
      "text/plain": [
       "       ID                   Name Sex   Age  Height  Weight     Team  NOC  \\\n",
       "498   277     Shaimaa Abdul Aziz   F  19.0   160.0    53.0    Egypt  EGY   \n",
       "499   277     Shaimaa Abdul Aziz   F  19.0   160.0    53.0    Egypt  EGY   \n",
       "500   277     Shaimaa Abdul Aziz   F  27.0   160.0    53.0    Egypt  EGY   \n",
       "775   446           Bode Abiodun   M  35.0   170.0    68.0  Nigeria  NGR   \n",
       "1183  663  Sharath Kamal Achanta   M  22.0   186.0    85.0    India  IND   \n",
       "\n",
       "            Games  Year  Season            City         Sport  \\\n",
       "498   2000 Summer  2000  Summer          Sydney  Table Tennis   \n",
       "499   2000 Summer  2000  Summer          Sydney  Table Tennis   \n",
       "500   2008 Summer  2008  Summer         Beijing  Table Tennis   \n",
       "775   2016 Summer  2016  Summer  Rio de Janeiro  Table Tennis   \n",
       "1183  2004 Summer  2004  Summer          Athina  Table Tennis   \n",
       "\n",
       "                             Event Medal  \n",
       "498   Table Tennis Women's Singles   NaN  \n",
       "499   Table Tennis Women's Doubles   NaN  \n",
       "500   Table Tennis Women's Singles   NaN  \n",
       "775        Table Tennis Men's Team   NaN  \n",
       "1183    Table Tennis Men's Singles   NaN  "
      ]
     },
     "execution_count": 51,
     "metadata": {},
     "output_type": "execute_result"
    }
   ],
   "source": [
    "# Filtern der Sportart\n",
    "df_my_sport = df[df['Sport'] == 'Table Tennis']\n",
    "df_my_sport.head()"
   ]
  },
  {
   "cell_type": "code",
   "execution_count": 52,
   "metadata": {},
   "outputs": [
    {
     "name": "stdout",
     "output_type": "stream",
     "text": [
      "Obere und untere Grenze bestimmen\n",
      "1988 2016\n"
     ]
    }
   ],
   "source": [
    "print('Obere und untere Grenze bestimmen')\n",
    "# ----- Lösung -----\n",
    "\n",
    "# Bestimmen der oberen und der unteren Grenze\n",
    "print(df_my_sport['Year'].min(), df_my_sport['Year'].max())"
   ]
  },
  {
   "cell_type": "code",
   "execution_count": 53,
   "metadata": {},
   "outputs": [
    {
     "name": "stdout",
     "output_type": "stream",
     "text": [
      "Automatische Grenzen mit Slider\n"
     ]
    },
    {
     "data": {
      "application/vnd.jupyter.widget-view+json": {
       "model_id": "bcb84d9637b74f448371ee2d3f106972",
       "version_major": 2,
       "version_minor": 0
      },
      "text/plain": [
       "interactive(children=(IntSlider(value=2002, description='year', max=2016, min=1988), Output()), _dom_classes=(…"
      ]
     },
     "metadata": {},
     "output_type": "display_data"
    }
   ],
   "source": [
    "print('Automatische Grenzen mit Slider')\n",
    "# ----- Lösung -----\n",
    "\n",
    "# Die Minimal und Maximal Werte für den Slider können wir uns durch den DataFrame bestimmen lassen\n",
    "@interact\n",
    "def year_single(year=(df_my_sport['Year'].min(), df_my_sport['Year'].max())):\n",
    "    df_filtered = df_my_sport[df_my_sport['Year'] == year]\n",
    "    return df_filtered.sort_values(['Year'])"
   ]
  },
  {
   "cell_type": "code",
   "execution_count": 54,
   "metadata": {},
   "outputs": [
    {
     "name": "stdout",
     "output_type": "stream",
     "text": [
      "Sommerspiele\n"
     ]
    },
    {
     "data": {
      "application/vnd.jupyter.widget-view+json": {
       "model_id": "f104c77846ad400e813a86e3ed1e6604",
       "version_major": 2,
       "version_minor": 0
      },
      "text/plain": [
       "interactive(children=(IntSlider(value=2000, description='year', max=2016, min=1988, step=4), Output()), _dom_c…"
      ]
     },
     "metadata": {},
     "output_type": "display_data"
    }
   ],
   "source": [
    "# Sommerspiele\n",
    "print('Sommerspiele')\n",
    "# ----- Lösung -----\n",
    "\n",
    "@interact\n",
    "def year_single(year=(df_my_sport['Year'].min(), df_my_sport['Year'].max(), 4)):\n",
    "    df_filtered = df_my_sport[df_my_sport['Year'] == year]\n",
    "    return df_filtered.sort_values(['Year'])"
   ]
  },
  {
   "cell_type": "code",
   "execution_count": 55,
   "metadata": {},
   "outputs": [
    {
     "name": "stdout",
     "output_type": "stream",
     "text": [
      "Winterspiele\n"
     ]
    },
    {
     "data": {
      "application/vnd.jupyter.widget-view+json": {
       "model_id": "4d7f8237494d484d8444fc4d3ddd2745",
       "version_major": 2,
       "version_minor": 0
      },
      "text/plain": [
       "interactive(children=(IntSlider(value=1968, description='year', max=2014, min=1924, step=2), Output()), _dom_c…"
      ]
     },
     "metadata": {},
     "output_type": "display_data"
    }
   ],
   "source": [
    "# Winterspiele\n",
    "print('Winterspiele')\n",
    "# ----- Lösung -----\n",
    "\n",
    "df_my_sport = df[df['Sport'] == 'Ski Jumping']\n",
    "@interact\n",
    "def year_single(year=(df_my_sport['Year'].min(), df_my_sport['Year'].max(), 2)):\n",
    "    df_filtered = df_my_sport[df_my_sport['Year'] == year]\n",
    "    return df_filtered.sort_values(['Year'])"
   ]
  },
  {
   "cell_type": "markdown",
   "metadata": {},
   "source": [
    "## Teilaufgabe 2\n",
    "Es soll nun möglich sein nur eine Liste alle Athleten und die Anzahl Ihrer Medalien abhänig von einem durch zwei **DatePicker** gewählte Daten zu betrachten. \n",
    "\n",
    "*Tipp: Für die Verarbeitung der Daten kann die Lösung aus der vorangegangen Gruppierungs Übung benutzt werden.*"
   ]
  },
  {
   "cell_type": "code",
   "execution_count": 56,
   "metadata": {},
   "outputs": [
    {
     "data": {
      "text/html": [
       "<div>\n",
       "<style scoped>\n",
       "    .dataframe tbody tr th:only-of-type {\n",
       "        vertical-align: middle;\n",
       "    }\n",
       "\n",
       "    .dataframe tbody tr th {\n",
       "        vertical-align: top;\n",
       "    }\n",
       "\n",
       "    .dataframe thead th {\n",
       "        text-align: right;\n",
       "    }\n",
       "</style>\n",
       "<table border=\"1\" class=\"dataframe\">\n",
       "  <thead>\n",
       "    <tr style=\"text-align: right;\">\n",
       "      <th>Medal</th>\n",
       "      <th>ID</th>\n",
       "      <th>Name</th>\n",
       "      <th>Year</th>\n",
       "      <th>Bronze</th>\n",
       "      <th>Gold</th>\n",
       "      <th>Silver</th>\n",
       "      <th>Teilnahme</th>\n",
       "    </tr>\n",
       "  </thead>\n",
       "  <tbody>\n",
       "    <tr>\n",
       "      <th>0</th>\n",
       "      <td>1</td>\n",
       "      <td>A Dijiang</td>\n",
       "      <td>1992</td>\n",
       "      <td>0.0</td>\n",
       "      <td>0.0</td>\n",
       "      <td>0.0</td>\n",
       "      <td>1.0</td>\n",
       "    </tr>\n",
       "    <tr>\n",
       "      <th>1</th>\n",
       "      <td>2</td>\n",
       "      <td>A Lamusi</td>\n",
       "      <td>2012</td>\n",
       "      <td>0.0</td>\n",
       "      <td>0.0</td>\n",
       "      <td>0.0</td>\n",
       "      <td>1.0</td>\n",
       "    </tr>\n",
       "    <tr>\n",
       "      <th>2</th>\n",
       "      <td>3</td>\n",
       "      <td>Gunnar Nielsen Aaby</td>\n",
       "      <td>1920</td>\n",
       "      <td>0.0</td>\n",
       "      <td>0.0</td>\n",
       "      <td>0.0</td>\n",
       "      <td>1.0</td>\n",
       "    </tr>\n",
       "    <tr>\n",
       "      <th>3</th>\n",
       "      <td>4</td>\n",
       "      <td>Edgar Lindenau Aabye</td>\n",
       "      <td>1900</td>\n",
       "      <td>0.0</td>\n",
       "      <td>1.0</td>\n",
       "      <td>0.0</td>\n",
       "      <td>0.0</td>\n",
       "    </tr>\n",
       "    <tr>\n",
       "      <th>4</th>\n",
       "      <td>5</td>\n",
       "      <td>Christine Jacoba Aaftink</td>\n",
       "      <td>1988</td>\n",
       "      <td>0.0</td>\n",
       "      <td>0.0</td>\n",
       "      <td>0.0</td>\n",
       "      <td>2.0</td>\n",
       "    </tr>\n",
       "  </tbody>\n",
       "</table>\n",
       "</div>"
      ],
      "text/plain": [
       "Medal  ID                      Name  Year  Bronze  Gold  Silver  Teilnahme\n",
       "0       1                 A Dijiang  1992     0.0   0.0     0.0        1.0\n",
       "1       2                  A Lamusi  2012     0.0   0.0     0.0        1.0\n",
       "2       3       Gunnar Nielsen Aaby  1920     0.0   0.0     0.0        1.0\n",
       "3       4      Edgar Lindenau Aabye  1900     0.0   1.0     0.0        0.0\n",
       "4       5  Christine Jacoba Aaftink  1988     0.0   0.0     0.0        2.0"
      ]
     },
     "execution_count": 56,
     "metadata": {},
     "output_type": "execute_result"
    }
   ],
   "source": [
    "# Keine Medalien ist noch mit NaN ausgedrückt, hier wollen wir einen schöneren Begriff haben.\n",
    "df_medals = df.fillna('Teilnahme')\n",
    "df_medals = df_medals.groupby(['ID', 'Name', 'Year', 'Medal']).size()\n",
    "df_medals = df_medals.unstack()\n",
    "df_medals = df_medals.fillna(0)\n",
    "df_medals = df_medals.reset_index()\n",
    "df_medals.head()"
   ]
  },
  {
   "cell_type": "code",
   "execution_count": 57,
   "metadata": {
    "scrolled": true
   },
   "outputs": [
    {
     "data": {
      "application/vnd.jupyter.widget-view+json": {
       "model_id": "01205d23ead34bdf8a7916193d51698c",
       "version_major": 2,
       "version_minor": 0
      },
      "text/plain": [
       "interactive(children=(DatePicker(value=Timestamp('1896-01-01 00:00:00'), description='start_year'), DatePicker…"
      ]
     },
     "metadata": {},
     "output_type": "display_data"
    }
   ],
   "source": [
    "# Achtung: Year ist eine Zahl und das Ergebnis von pd.to_datetime datetime.\n",
    "dp_start = widgets.DatePicker(value=pd.to_datetime('1896-01-01'))\n",
    "dp_end = widgets.DatePicker(value=pd.to_datetime('2019-01-01'))\n",
    "\n",
    "@interact\n",
    "def start_end(start_year=dp_start, end_year=dp_end):\n",
    "    return df_medals[(df_medals['Year'] >= start_year.year) & (df_medals['Year'] <= end_year.year)].sort_values('Year')"
   ]
  },
  {
   "cell_type": "markdown",
   "metadata": {},
   "source": [
    "## Teilaufgabe 3\n",
    "Schreibe ein interative Funktion mit derer Hilfe du nach ihrem Namen suchen kannst um die ID des Athleten zu erhalten."
   ]
  },
  {
   "cell_type": "code",
   "execution_count": 58,
   "metadata": {
    "scrolled": true
   },
   "outputs": [
    {
     "data": {
      "application/vnd.jupyter.widget-view+json": {
       "model_id": "32d688de42164fc48642b25197ede02b",
       "version_major": 2,
       "version_minor": 0
      },
      "text/plain": [
       "interactive(children=(Text(value='', description='name'), Output()), _dom_classes=('widget-interact',))"
      ]
     },
     "metadata": {},
     "output_type": "display_data"
    }
   ],
   "source": [
    "@interact\n",
    "def search_athlet(name=''):\n",
    "    df_reduced = df[['ID', 'Name']].drop_duplicates() # Wir brauchen jeden Athleten nur ein Mal\n",
    "    return df_reduced[df_reduced['Name'].str.contains(name)]"
   ]
  },
  {
   "cell_type": "markdown",
   "metadata": {},
   "source": [
    "## Teilaufgabe 4\n",
    "Filter den DataFrame nach Datensätzen einer bestimmten Sportart. Lasse dir hierfür ein Dropdown mit allen Sportarten aus der Spalte Sport generieren.\n",
    "\n",
    "<font color=\"red\">**Warnung:** Generiere die Liste aller einzigartigen Sportarten und speichere Sie vorher in einer Liste. Solltes du versuchen die ganze Spalte als dropdown zu übergeben kann es sein, dass dein Notebook abstürzt.</font>"
   ]
  },
  {
   "cell_type": "code",
   "execution_count": 59,
   "metadata": {},
   "outputs": [
    {
     "data": {
      "text/plain": [
       "array(['Aeronautics', 'Alpine Skiing', 'Alpinism', 'Archery',\n",
       "       'Art Competitions', 'Athletics', 'Badminton', 'Baseball',\n",
       "       'Basketball', 'Basque Pelota', 'Beach Volleyball', 'Biathlon',\n",
       "       'Bobsleigh', 'Boxing', 'Canoeing', 'Cricket', 'Croquet',\n",
       "       'Cross Country Skiing', 'Curling', 'Cycling', 'Diving',\n",
       "       'Equestrianism', 'Fencing', 'Figure Skating', 'Football',\n",
       "       'Freestyle Skiing', 'Golf', 'Gymnastics', 'Handball', 'Hockey',\n",
       "       'Ice Hockey', 'Jeu De Paume', 'Judo', 'Lacrosse', 'Luge',\n",
       "       'Military Ski Patrol', 'Modern Pentathlon', 'Motorboating',\n",
       "       'Nordic Combined', 'Polo', 'Racquets', 'Rhythmic Gymnastics',\n",
       "       'Roque', 'Rowing', 'Rugby', 'Rugby Sevens', 'Sailing', 'Shooting',\n",
       "       'Short Track Speed Skating', 'Skeleton', 'Ski Jumping',\n",
       "       'Snowboarding', 'Softball', 'Speed Skating', 'Swimming',\n",
       "       'Synchronized Swimming', 'Table Tennis', 'Taekwondo', 'Tennis',\n",
       "       'Trampolining', 'Triathlon', 'Tug-Of-War', 'Volleyball',\n",
       "       'Water Polo', 'Weightlifting', 'Wrestling'], dtype=object)"
      ]
     },
     "execution_count": 59,
     "metadata": {},
     "output_type": "execute_result"
    }
   ],
   "source": [
    "# Überprüfen der Sportarten\n",
    "stypes=df['Sport'].sort_values().unique()\n",
    "stypes"
   ]
  },
  {
   "cell_type": "code",
   "execution_count": 60,
   "metadata": {},
   "outputs": [
    {
     "data": {
      "application/vnd.jupyter.widget-view+json": {
       "model_id": "e3652ff0851a4192a7ff36ce0f0a0b19",
       "version_major": 2,
       "version_minor": 0
      },
      "text/plain": [
       "interactive(children=(Dropdown(description='stype', options=('Aeronautics', 'Alpine Skiing', 'Alpinism', 'Arch…"
      ]
     },
     "metadata": {},
     "output_type": "display_data"
    }
   ],
   "source": [
    "\n",
    "# type ist ein reserviertes Wort daher können wir hier nur ein anderes Wort benutzen, z.B. stype \n",
    "@interact\n",
    "def sport_type(stype=stypes):\n",
    "    return df[df['Sport'] == stype].sort_values('Year')"
   ]
  },
  {
   "cell_type": "markdown",
   "metadata": {},
   "source": [
    "## Zusatzübung 1:\n",
    "In der Gruppieren Lektion wurde gezeigt, wie man "
   ]
  },
  {
   "cell_type": "code",
   "execution_count": 61,
   "metadata": {},
   "outputs": [
    {
     "data": {
      "text/html": [
       "<div>\n",
       "<style scoped>\n",
       "    .dataframe tbody tr th:only-of-type {\n",
       "        vertical-align: middle;\n",
       "    }\n",
       "\n",
       "    .dataframe tbody tr th {\n",
       "        vertical-align: top;\n",
       "    }\n",
       "\n",
       "    .dataframe thead th {\n",
       "        text-align: right;\n",
       "    }\n",
       "</style>\n",
       "<table border=\"1\" class=\"dataframe\">\n",
       "  <thead>\n",
       "    <tr style=\"text-align: right;\">\n",
       "      <th>Sex</th>\n",
       "      <th>F</th>\n",
       "      <th>M</th>\n",
       "    </tr>\n",
       "    <tr>\n",
       "      <th>Year</th>\n",
       "      <th></th>\n",
       "      <th></th>\n",
       "    </tr>\n",
       "  </thead>\n",
       "  <tbody>\n",
       "    <tr>\n",
       "      <th>1896</th>\n",
       "      <td>NaN</td>\n",
       "      <td>176.0</td>\n",
       "    </tr>\n",
       "    <tr>\n",
       "      <th>1900</th>\n",
       "      <td>23.0</td>\n",
       "      <td>1201.0</td>\n",
       "    </tr>\n",
       "    <tr>\n",
       "      <th>1904</th>\n",
       "      <td>6.0</td>\n",
       "      <td>644.0</td>\n",
       "    </tr>\n",
       "    <tr>\n",
       "      <th>1906</th>\n",
       "      <td>6.0</td>\n",
       "      <td>835.0</td>\n",
       "    </tr>\n",
       "    <tr>\n",
       "      <th>1908</th>\n",
       "      <td>44.0</td>\n",
       "      <td>1980.0</td>\n",
       "    </tr>\n",
       "  </tbody>\n",
       "</table>\n",
       "</div>"
      ],
      "text/plain": [
       "Sex      F       M\n",
       "Year              \n",
       "1896   NaN   176.0\n",
       "1900  23.0  1201.0\n",
       "1904   6.0   644.0\n",
       "1906   6.0   835.0\n",
       "1908  44.0  1980.0"
      ]
     },
     "execution_count": 61,
     "metadata": {},
     "output_type": "execute_result"
    }
   ],
   "source": [
    "df_teilnehmer = df.drop_duplicates(['ID', 'Year'])\n",
    "df_teilnehmer = df_teilnehmer[df_teilnehmer['Season'] == 'Summer']\n",
    "df_teilnehmer_mw = df_teilnehmer.groupby(['Year', 'Sex']).size()\n",
    "df_teilnehmer_mw = df_teilnehmer_mw.unstack()\n",
    "df_teilnehmer_mw.head()"
   ]
  },
  {
   "cell_type": "code",
   "execution_count": 62,
   "metadata": {},
   "outputs": [
    {
     "data": {
      "application/vnd.jupyter.widget-view+json": {
       "model_id": "233a7516a94d4e44bbcd4439876831fc",
       "version_major": 2,
       "version_minor": 0
      },
      "text/plain": [
       "interactive(children=(Dropdown(description='Geschlecht', options=('F', 'M'), value='F'), Output()), _dom_class…"
      ]
     },
     "metadata": {},
     "output_type": "display_data"
    }
   ],
   "source": [
    "@interact\n",
    "def teilnehmer_mw(Geschlecht=['F', 'M']):\n",
    "    return df_teilnehmer_mw[[Geschlecht]].plot()"
   ]
  },
  {
   "cell_type": "markdown",
   "metadata": {},
   "source": [
    "## Zusatzübung 2:\n",
    "Probiere weitere Optionen aus indem du dir die Liste der verfügbaren Widgets anschaust. Löse die folgenden Darstellungen mit einem **einzigen Widget**.\n",
    "\n",
    "Link zu den Widgets: https://ipywidgets.readthedocs.io/en/latest/examples/Widget%20List.html\n",
    "\n",
    "* Lasse dir nur Athleten anzeigen die eine bestimme Anzahl an Goldmedalien in den Jahren 2000-2016 gewonnen haben. Sorge dafür, das sowohl die Ober- als auch die Untergrenze angepasst werden kann und nur Athleten in der Auswahl erscheinen, die eine Anzahl an Goldmedallien innerhalb dieser Grenzen gewonnen haben.\n",
    "\n",
    "*Tipp: Schau dir die Funktion* **.between()** *in der offiziellen Pandas Documentation an*\n",
    "\n"
   ]
  },
  {
   "cell_type": "code",
   "execution_count": 91,
   "metadata": {},
   "outputs": [
    {
     "data": {
      "text/html": [
       "<div>\n",
       "<style scoped>\n",
       "    .dataframe tbody tr th:only-of-type {\n",
       "        vertical-align: middle;\n",
       "    }\n",
       "\n",
       "    .dataframe tbody tr th {\n",
       "        vertical-align: top;\n",
       "    }\n",
       "\n",
       "    .dataframe thead th {\n",
       "        text-align: right;\n",
       "    }\n",
       "</style>\n",
       "<table border=\"1\" class=\"dataframe\">\n",
       "  <thead>\n",
       "    <tr style=\"text-align: right;\">\n",
       "      <th></th>\n",
       "      <th>ID</th>\n",
       "      <th>Name</th>\n",
       "      <th>Count</th>\n",
       "    </tr>\n",
       "  </thead>\n",
       "  <tbody>\n",
       "    <tr>\n",
       "      <th>0</th>\n",
       "      <td>20</td>\n",
       "      <td>Kjetil Andr Aamodt</td>\n",
       "      <td>3</td>\n",
       "    </tr>\n",
       "    <tr>\n",
       "      <th>1</th>\n",
       "      <td>21</td>\n",
       "      <td>Ragnhild Margrethe Aamodt</td>\n",
       "      <td>1</td>\n",
       "    </tr>\n",
       "    <tr>\n",
       "      <th>2</th>\n",
       "      <td>72</td>\n",
       "      <td>Aleksey Aleksandrovich Abalmasov</td>\n",
       "      <td>1</td>\n",
       "    </tr>\n",
       "    <tr>\n",
       "      <th>3</th>\n",
       "      <td>73</td>\n",
       "      <td>Luc Abalo</td>\n",
       "      <td>2</td>\n",
       "    </tr>\n",
       "    <tr>\n",
       "      <th>4</th>\n",
       "      <td>76</td>\n",
       "      <td>Jouan Patrice Abanda Etong</td>\n",
       "      <td>1</td>\n",
       "    </tr>\n",
       "  </tbody>\n",
       "</table>\n",
       "</div>"
      ],
      "text/plain": [
       "   ID                              Name  Count\n",
       "0  20                Kjetil Andr Aamodt      3\n",
       "1  21         Ragnhild Margrethe Aamodt      1\n",
       "2  72  Aleksey Aleksandrovich Abalmasov      1\n",
       "3  73                         Luc Abalo      2\n",
       "4  76        Jouan Patrice Abanda Etong      1"
      ]
     },
     "execution_count": 91,
     "metadata": {},
     "output_type": "execute_result"
    }
   ],
   "source": [
    "# Vorbereitung des DataFrames\n",
    "df_medals = df.dropna(subset=['Medal'])\n",
    "df_medals = df_medals[df_medals['Medal'] == 'Gold']\n",
    "df_medals = df_medals[df_medals['Year'].between(2000, 2016)]\n",
    "df_medals = df_medals.groupby(['ID', 'Name']).size().reset_index()\n",
    "df_medals = df_medals.rename(columns={0:'Count'})\n",
    "df_medals.head()"
   ]
  },
  {
   "cell_type": "code",
   "execution_count": 92,
   "metadata": {},
   "outputs": [
    {
     "data": {
      "application/vnd.jupyter.widget-view+json": {
       "model_id": "4b9ee9b1470b4516bf193dc0a9c194b2",
       "version_major": 2,
       "version_minor": 0
      },
      "text/plain": [
       "IntRangeSlider(value=(6, 17), max=23, min=1)"
      ]
     },
     "metadata": {},
     "output_type": "display_data"
    }
   ],
   "source": [
    "widgets.IntRangeSlider(min=df_medals['Count'].min(), max=df_medals['Count'].max())"
   ]
  },
  {
   "cell_type": "code",
   "execution_count": 90,
   "metadata": {},
   "outputs": [
    {
     "data": {
      "application/vnd.jupyter.widget-view+json": {
       "model_id": "0f2ce3c5b5f5441aaab70ae37f249116",
       "version_major": 2,
       "version_minor": 0
      },
      "text/plain": [
       "interactive(children=(IntRangeSlider(value=(6, 17), description='count', max=23, min=1), Output()), _dom_class…"
      ]
     },
     "metadata": {},
     "output_type": "display_data"
    }
   ],
   "source": [
    "# Grenzen lassen wir uns automatisch berechnen\n",
    "sw = widgets.IntRangeSlider(min=df_medals['Count'].min(), max=df_medals['Count'].max())\n",
    "\n",
    "# Das Ergebnis aus sw ist eine Liste mit zwei Elementen. Das erste Element enthält \n",
    "# die untere Grenze wohingegen das zweite Element die obere Grenze enthält.\n",
    "\n",
    "@interact\n",
    "def medals_count(count=sw):\n",
    "    return df_medals[df_medals['Count'].between(count[0], count[1])].sort_values('Count', ascending=False)"
   ]
  }
 ],
 "metadata": {
  "kernelspec": {
   "display_name": "Python 3",
   "language": "python",
   "name": "python3"
  },
  "language_info": {
   "codemirror_mode": {
    "name": "ipython",
    "version": 3
   },
   "file_extension": ".py",
   "mimetype": "text/x-python",
   "name": "python",
   "nbconvert_exporter": "python",
   "pygments_lexer": "ipython3",
   "version": "3.6.7"
  }
 },
 "nbformat": 4,
 "nbformat_minor": 2
}
