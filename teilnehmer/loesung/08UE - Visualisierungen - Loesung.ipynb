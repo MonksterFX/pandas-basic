{
 "cells": [
  {
   "cell_type": "markdown",
   "metadata": {},
   "source": [
    "# Übung 09: Visualisierungen"
   ]
  },
  {
   "cell_type": "code",
   "execution_count": null,
   "metadata": {
    "practice_cell": true
   },
   "outputs": [],
   "source": [
    "import pandas as pd\n",
    "import matplotlib.pyplot as plt\n",
    "import seaborn as sns"
   ]
  },
  {
   "cell_type": "code",
   "execution_count": null,
   "metadata": {
    "practice_cell": true
   },
   "outputs": [],
   "source": [
    "df = pd.read_csv('../../src/bigdata/120-years-of-olympic-history-athletes-and-results/athlete_events.csv')\n",
    "df.head()"
   ]
  },
  {
   "cell_type": "markdown",
   "metadata": {},
   "source": [
    "## Teilaufgabe 1:\n",
    "\n",
    "Schaue dir in der folgenden Übung das Datenset der olympischen Spiele genauer an:\n",
    "\n",
    "* Plotte die Medaillen Gewinne (Summe aus Gold, Silber und Bronze) des Deutschen Teams bei den Sommerspielen im Verlaufe der Jahre\n",
    "* Unterscheide zwischen Gold, Silber, Bronze Medaillen und plotte alle drei Verläufe in einem Graph\n",
    "* Schau dir die Daten an und finde raus warum der Graph zwischenzeitlich abbricht. Behebe den Fehler\n",
    "\n",
    "\n",
    "> **Hinweis**: Statt ``.dropna()`` kannst du auch den DataFrame mit ``df[~df['Column'].isna()]``\n",
    "filtern, so dass er keine NaN Values mehr enthält. Den gleichen Effekt hat außerdem die folgende Funktion: <br>``df.dropna(subset=['Column1', 'Column2'...]``)"
   ]
  },
  {
   "cell_type": "code",
   "execution_count": null,
   "metadata": {},
   "outputs": [],
   "source": [
    "# Filtern des DataFrames und anschließenden bereinigen der Medal Spalte \n",
    "df_ger_summer = df[(df['Team'] == 'Germany') & (df['Season'] == 'Summer')]\n",
    "df_ger_summer = df_ger_summer.dropna(subset=['Medal'])\n",
    "df_ger_summer.groupby(['Year']).size().plot()"
   ]
  },
  {
   "cell_type": "code",
   "execution_count": null,
   "metadata": {},
   "outputs": [],
   "source": [
    "# Alternativ mit .isna()\n",
    "df_ger_summer = df[(df['Team'] == 'Germany') & (df['Season'] == 'Summer')]\n",
    "df_ger_summer[~df_ger_summer['Medal'].isna()].groupby(['Year']).size().plot()"
   ]
  },
  {
   "cell_type": "code",
   "execution_count": null,
   "metadata": {},
   "outputs": [],
   "source": [
    "# Auswertung\n",
    "df_result = df_ger_summer[~df_ger_summer['Medal'].isna()].groupby(['Year', 'Medal']).size().unstack()\n",
    "df_result.plot()"
   ]
  },
  {
   "cell_type": "code",
   "execution_count": null,
   "metadata": {},
   "outputs": [],
   "source": [
    "# Der Fehler liegt in den durch das Gruppieren produzierte NaN\n",
    "df_result.head()"
   ]
  },
  {
   "cell_type": "code",
   "execution_count": null,
   "metadata": {},
   "outputs": [],
   "source": [
    "# Wir können diese Werte einfach ergänzen\n",
    "df_result.fillna(0).plot()"
   ]
  },
  {
   "cell_type": "markdown",
   "metadata": {},
   "source": [
    "## Teilaufgabe 2:\n",
    "Erstelle zwei nebeneinander angeordnete Plots (sog. Subplots) mit der Anzahl der Teilnehmer an den Olympischen Spielen pro Jahr. Erstelle für jedes Geschlecht einen eigenen Plot. Betrachte nur die Winterspiele! Färbe die beiden Graphen in unterschiedlichen Farben ein."
   ]
  },
  {
   "cell_type": "code",
   "execution_count": null,
   "metadata": {},
   "outputs": [],
   "source": [
    "df_winter = df[df['Season'] == 'Winter']\n",
    "df_winter = df_winter.groupby(['Year', 'Sex']).size().unstack()\n",
    "df_winter.head()"
   ]
  },
  {
   "cell_type": "code",
   "execution_count": null,
   "metadata": {},
   "outputs": [],
   "source": [
    "fig, ax = plt.subplots(1,2, figsize=(10, 6))\n",
    "df_winter['M'].plot(ax=ax[0], color='g')\n",
    "df_winter['F'].plot(ax=ax[1], color='y')"
   ]
  },
  {
   "cell_type": "markdown",
   "metadata": {},
   "source": [
    "## Teilaufgabe 3: \n",
    "Schau dir im Skript an, wie man ein Diagramm from Scratch aufbaut. Vergleiche die Größenverteilung für Männer und Frauen in einem gemeinsamen Boxplot Diagramm."
   ]
  },
  {
   "cell_type": "code",
   "execution_count": null,
   "metadata": {},
   "outputs": [],
   "source": [
    "df.drop_duplicates(subset=['ID']).sort_values('Name')"
   ]
  },
  {
   "cell_type": "code",
   "execution_count": null,
   "metadata": {},
   "outputs": [],
   "source": [
    "df_athlets = df.drop_duplicates(subset=['ID']).sort_values('Name')\n",
    "\n",
    "w = df_athlets[df_athlets['Sex'] == 'F']['Height'].dropna()\n",
    "m = df_athlets[df_athlets['Sex'] == 'M']['Height'].dropna()\n",
    "\n",
    "data=[w, m]\n",
    "\n",
    "fig, ax = plt.subplots(figsize=(5, 10))\n",
    "ax.boxplot(x=data)\n",
    "\n",
    "# Optional: Ändern der Labels von 1,2 -> F,M\n",
    "# ax.set_xticklabels(['F','M'])\n",
    "\n",
    "plt.show()"
   ]
  },
  {
   "cell_type": "markdown",
   "metadata": {},
   "source": [
    "## Zusatzaufgabe 1:\n",
    "Erstelle ein Säulendiagramm mit horizontalen Balken. Inhalt die 20 besten Teams(Länder und ihre Medailliengewinne aufgeschlüsselt in **Gold, Silber und Bronze**.<br>\n",
    "https://pandas.pydata.org/pandas-docs/stable/user_guide/visualization.html\n",
    "\n",
    "Ändere die Farben der Balken entsprechend, der Medaillienfarbe. Hier findest du eine Map von bekannten **Farbnamen**.<br>\n",
    "https://matplotlib.org/gallery/color/named_colors.html"
   ]
  },
  {
   "cell_type": "code",
   "execution_count": null,
   "metadata": {},
   "outputs": [],
   "source": [
    "df_medals = df[~df['Medal'].isna()].groupby(['Team', 'Medal']).size().unstack()\n",
    "df_head = df_medals.sort_values(['Gold', 'Silver', 'Bronze'], ascending=False).head(20)\n",
    "df_head = df_head[['Gold', 'Silver', 'Bronze']]\n",
    "\n",
    "df_head.plot.barh(stacked=True, figsize=(10,10), color=['gold', 'silver', 'brown'])\n",
    "\n",
    "# Optional: Invertierte Y-Achse\n",
    "# ax = df_head.plot.barh(stacked=True, figsize=(10,10), color=['gold', 'silver', 'brown'])\n",
    "# ax.invert_yaxis()"
   ]
  },
  {
   "cell_type": "markdown",
   "metadata": {},
   "source": [
    "## Zusatzaufgabe 2:\n",
    "Schau dir den Unterschied zwischen ein BoxPlot und einem ViolinPlot an.Versuche die Daten aus Teilaufgabe 1 in einem ViolinPlot darzustellen. <br>\n",
    "https://matplotlib.org/gallery/statistics/boxplot_vs_violin.html#sphx-glr-gallery-statistics-boxplot-vs-violin-py\n",
    "\n",
    "**Tipp:** Die beiden Serien müssen bevor Sie im ViolinPlot benutzt werden könnnen in einer Liste umgewandelt werden, den pyplot akzeptiert als Daten keine Serie. Google wie man eine Serie in eine Liste umwandelt."
   ]
  },
  {
   "cell_type": "code",
   "execution_count": null,
   "metadata": {},
   "outputs": [],
   "source": [
    "fig, ax = plt.subplots(figsize=(10, 6))\n",
    "\n",
    "# konvertieren der Serie in listen, da pyplot keine Serien unterstützt\n",
    "w = df_athlets[df_athlets['Sex'] == 'F']['Height'].dropna().tolist()\n",
    "m = df_athlets[df_athlets['Sex'] == 'M']['Height'].dropna().tolist()\n",
    "\n",
    "data=[w, m]\n",
    "\n",
    "ax.violinplot(data)\n",
    "\n",
    "plt.show()"
   ]
  },
  {
   "cell_type": "code",
   "execution_count": null,
   "metadata": {},
   "outputs": [],
   "source": [
    "# Mit mehr Beschriftung\n",
    "\n",
    "fig, ax = plt.subplots(figsize=(10, 6))\n",
    "\n",
    "# Lege Positionen und Labels fest\n",
    "pos   = [1, 2]\n",
    "label = ['Frauen','Männer']\n",
    "\n",
    "ax.violinplot(data, pos)\n",
    "\n",
    "# Schreibe Labels\n",
    "ax.set_xticks(pos)\n",
    "ax.set_xticklabels(label)\n",
    "ax.set_title('Größenverteilung der Athleten - Frauen und Männern', fontsize=15)\n",
    "\n",
    "plt.show()"
   ]
  }
 ],
 "metadata": {
  "kernelspec": {
   "display_name": "Python 3",
   "language": "python",
   "name": "python3"
  },
  "language_info": {
   "codemirror_mode": {
    "name": "ipython",
    "version": 3
   },
   "file_extension": ".py",
   "mimetype": "text/x-python",
   "name": "python",
   "nbconvert_exporter": "python",
   "pygments_lexer": "ipython3",
   "version": "3.6.7"
  }
 },
 "nbformat": 4,
 "nbformat_minor": 4
}
