{
 "cells": [
  {
   "cell_type": "markdown",
   "metadata": {},
   "source": [
    "# Übung 08: Arbeiten mit Datum\n",
    "Für die folgenden Aufgaben benötigst du die Datei <font color=orange>ethereum.csv</font>. Importiere sie entsprechend."
   ]
  },
  {
   "cell_type": "code",
   "execution_count": 106,
   "metadata": {},
   "outputs": [],
   "source": [
    "import pandas as pd\n",
    "import numpy as np\n",
    "from datetime import *"
   ]
  },
  {
   "cell_type": "code",
   "execution_count": 107,
   "metadata": {},
   "outputs": [
    {
     "data": {
      "text/html": [
       "<div>\n",
       "<style scoped>\n",
       "    .dataframe tbody tr th:only-of-type {\n",
       "        vertical-align: middle;\n",
       "    }\n",
       "\n",
       "    .dataframe tbody tr th {\n",
       "        vertical-align: top;\n",
       "    }\n",
       "\n",
       "    .dataframe thead th {\n",
       "        text-align: right;\n",
       "    }\n",
       "</style>\n",
       "<table border=\"1\" class=\"dataframe\">\n",
       "  <thead>\n",
       "    <tr style=\"text-align: right;\">\n",
       "      <th></th>\n",
       "      <th>timestamp</th>\n",
       "      <th>close</th>\n",
       "      <th>high</th>\n",
       "      <th>volume</th>\n",
       "      <th>open</th>\n",
       "      <th>low</th>\n",
       "    </tr>\n",
       "  </thead>\n",
       "  <tbody>\n",
       "    <tr>\n",
       "      <th>0</th>\n",
       "      <td>2019-06-17 00:19:41</td>\n",
       "      <td>241.770004</td>\n",
       "      <td>241.940002</td>\n",
       "      <td>114107.0</td>\n",
       "      <td>241.100006</td>\n",
       "      <td>241.100006</td>\n",
       "    </tr>\n",
       "    <tr>\n",
       "      <th>1</th>\n",
       "      <td>2019-06-17 00:20:42</td>\n",
       "      <td>243.080002</td>\n",
       "      <td>243.690002</td>\n",
       "      <td>309802.0</td>\n",
       "      <td>241.759995</td>\n",
       "      <td>241.679993</td>\n",
       "    </tr>\n",
       "    <tr>\n",
       "      <th>2</th>\n",
       "      <td>2019-06-17 00:47:34</td>\n",
       "      <td>243.160004</td>\n",
       "      <td>243.199997</td>\n",
       "      <td>143161.0</td>\n",
       "      <td>243.080002</td>\n",
       "      <td>242.500000</td>\n",
       "    </tr>\n",
       "    <tr>\n",
       "      <th>3</th>\n",
       "      <td>2019-06-17 01:07:57</td>\n",
       "      <td>243.440002</td>\n",
       "      <td>243.589996</td>\n",
       "      <td>90154.0</td>\n",
       "      <td>243.210007</td>\n",
       "      <td>243.210007</td>\n",
       "    </tr>\n",
       "    <tr>\n",
       "      <th>4</th>\n",
       "      <td>2019-06-17 01:21:35</td>\n",
       "      <td>242.539993</td>\n",
       "      <td>243.669998</td>\n",
       "      <td>30257.0</td>\n",
       "      <td>243.440002</td>\n",
       "      <td>242.539993</td>\n",
       "    </tr>\n",
       "  </tbody>\n",
       "</table>\n",
       "</div>"
      ],
      "text/plain": [
       "             timestamp       close        high    volume        open  \\\n",
       "0  2019-06-17 00:19:41  241.770004  241.940002  114107.0  241.100006   \n",
       "1  2019-06-17 00:20:42  243.080002  243.690002  309802.0  241.759995   \n",
       "2  2019-06-17 00:47:34  243.160004  243.199997  143161.0  243.080002   \n",
       "3  2019-06-17 01:07:57  243.440002  243.589996   90154.0  243.210007   \n",
       "4  2019-06-17 01:21:35  242.539993  243.669998   30257.0  243.440002   \n",
       "\n",
       "          low  \n",
       "0  241.100006  \n",
       "1  241.679993  \n",
       "2  242.500000  \n",
       "3  243.210007  \n",
       "4  242.539993  "
      ]
     },
     "execution_count": 107,
     "metadata": {},
     "output_type": "execute_result"
    }
   ],
   "source": [
    "df = pd.read_csv('../../src/ethereum.csv')\n",
    "df.head()"
   ]
  },
  {
   "cell_type": "markdown",
   "metadata": {},
   "source": [
    "## Teilaufgabe 1:\n",
    "Prüfe ob die Spalte 'timestamp' korrekt als Datentyp **datetime** importiert wurde. Wenn nicht konvertiere sie entsprechend."
   ]
  },
  {
   "cell_type": "code",
   "execution_count": 108,
   "metadata": {},
   "outputs": [
    {
     "name": "stdout",
     "output_type": "stream",
     "text": [
      "<class 'pandas.core.frame.DataFrame'>\n",
      "RangeIndex: 1325 entries, 0 to 1324\n",
      "Data columns (total 6 columns):\n",
      "timestamp    1325 non-null object\n",
      "close        1325 non-null float64\n",
      "high         1325 non-null float64\n",
      "volume       1325 non-null float64\n",
      "open         1325 non-null float64\n",
      "low          1325 non-null float64\n",
      "dtypes: float64(5), object(1)\n",
      "memory usage: 62.2+ KB\n"
     ]
    }
   ],
   "source": [
    "# Mit df.info() erhalten wir sofort den Überblick, die Spalte scheint nicht als Datetime vorzuliegen\n",
    "df.info()"
   ]
  },
  {
   "cell_type": "code",
   "execution_count": 109,
   "metadata": {},
   "outputs": [
    {
     "name": "stdout",
     "output_type": "stream",
     "text": [
      "<class 'pandas.core.frame.DataFrame'>\n",
      "RangeIndex: 1325 entries, 0 to 1324\n",
      "Data columns (total 6 columns):\n",
      "timestamp    1325 non-null datetime64[ns]\n",
      "close        1325 non-null float64\n",
      "high         1325 non-null float64\n",
      "volume       1325 non-null float64\n",
      "open         1325 non-null float64\n",
      "low          1325 non-null float64\n",
      "dtypes: datetime64[ns](1), float64(5)\n",
      "memory usage: 62.2 KB\n"
     ]
    }
   ],
   "source": [
    "# Wir konvertieren die Spalte also\n",
    "df['timestamp'] = pd.to_datetime(df['timestamp'])\n",
    "df.info()"
   ]
  },
  {
   "cell_type": "markdown",
   "metadata": {},
   "source": [
    "## Teilaufgabe 2:\n",
    "Wir möchten jetzt die Spalte Datum, Stunde und Minute aus dem Timestamp extrahieren und im DataFrame abspeichern."
   ]
  },
  {
   "cell_type": "code",
   "execution_count": 110,
   "metadata": {},
   "outputs": [],
   "source": [
    "df['date'] = df['timestamp'].dt.date\n",
    "df['hour'] = df['timestamp'].dt.hour\n",
    "df['minute'] = df['timestamp'].dt.minute"
   ]
  },
  {
   "cell_type": "code",
   "execution_count": 111,
   "metadata": {},
   "outputs": [
    {
     "data": {
      "text/html": [
       "<div>\n",
       "<style scoped>\n",
       "    .dataframe tbody tr th:only-of-type {\n",
       "        vertical-align: middle;\n",
       "    }\n",
       "\n",
       "    .dataframe tbody tr th {\n",
       "        vertical-align: top;\n",
       "    }\n",
       "\n",
       "    .dataframe thead th {\n",
       "        text-align: right;\n",
       "    }\n",
       "</style>\n",
       "<table border=\"1\" class=\"dataframe\">\n",
       "  <thead>\n",
       "    <tr style=\"text-align: right;\">\n",
       "      <th></th>\n",
       "      <th>timestamp</th>\n",
       "      <th>close</th>\n",
       "      <th>high</th>\n",
       "      <th>volume</th>\n",
       "      <th>open</th>\n",
       "      <th>low</th>\n",
       "      <th>date</th>\n",
       "      <th>hour</th>\n",
       "      <th>minute</th>\n",
       "    </tr>\n",
       "  </thead>\n",
       "  <tbody>\n",
       "    <tr>\n",
       "      <th>0</th>\n",
       "      <td>2019-06-17 00:19:41</td>\n",
       "      <td>241.770004</td>\n",
       "      <td>241.940002</td>\n",
       "      <td>114107.0</td>\n",
       "      <td>241.100006</td>\n",
       "      <td>241.100006</td>\n",
       "      <td>2019-06-17</td>\n",
       "      <td>0</td>\n",
       "      <td>19</td>\n",
       "    </tr>\n",
       "    <tr>\n",
       "      <th>1</th>\n",
       "      <td>2019-06-17 00:20:42</td>\n",
       "      <td>243.080002</td>\n",
       "      <td>243.690002</td>\n",
       "      <td>309802.0</td>\n",
       "      <td>241.759995</td>\n",
       "      <td>241.679993</td>\n",
       "      <td>2019-06-17</td>\n",
       "      <td>0</td>\n",
       "      <td>20</td>\n",
       "    </tr>\n",
       "    <tr>\n",
       "      <th>2</th>\n",
       "      <td>2019-06-17 00:47:34</td>\n",
       "      <td>243.160004</td>\n",
       "      <td>243.199997</td>\n",
       "      <td>143161.0</td>\n",
       "      <td>243.080002</td>\n",
       "      <td>242.500000</td>\n",
       "      <td>2019-06-17</td>\n",
       "      <td>0</td>\n",
       "      <td>47</td>\n",
       "    </tr>\n",
       "    <tr>\n",
       "      <th>3</th>\n",
       "      <td>2019-06-17 01:07:57</td>\n",
       "      <td>243.440002</td>\n",
       "      <td>243.589996</td>\n",
       "      <td>90154.0</td>\n",
       "      <td>243.210007</td>\n",
       "      <td>243.210007</td>\n",
       "      <td>2019-06-17</td>\n",
       "      <td>1</td>\n",
       "      <td>7</td>\n",
       "    </tr>\n",
       "    <tr>\n",
       "      <th>4</th>\n",
       "      <td>2019-06-17 01:21:35</td>\n",
       "      <td>242.539993</td>\n",
       "      <td>243.669998</td>\n",
       "      <td>30257.0</td>\n",
       "      <td>243.440002</td>\n",
       "      <td>242.539993</td>\n",
       "      <td>2019-06-17</td>\n",
       "      <td>1</td>\n",
       "      <td>21</td>\n",
       "    </tr>\n",
       "  </tbody>\n",
       "</table>\n",
       "</div>"
      ],
      "text/plain": [
       "            timestamp       close        high    volume        open  \\\n",
       "0 2019-06-17 00:19:41  241.770004  241.940002  114107.0  241.100006   \n",
       "1 2019-06-17 00:20:42  243.080002  243.690002  309802.0  241.759995   \n",
       "2 2019-06-17 00:47:34  243.160004  243.199997  143161.0  243.080002   \n",
       "3 2019-06-17 01:07:57  243.440002  243.589996   90154.0  243.210007   \n",
       "4 2019-06-17 01:21:35  242.539993  243.669998   30257.0  243.440002   \n",
       "\n",
       "          low        date  hour  minute  \n",
       "0  241.100006  2019-06-17     0      19  \n",
       "1  241.679993  2019-06-17     0      20  \n",
       "2  242.500000  2019-06-17     0      47  \n",
       "3  243.210007  2019-06-17     1       7  \n",
       "4  242.539993  2019-06-17     1      21  "
      ]
     },
     "execution_count": 111,
     "metadata": {},
     "output_type": "execute_result"
    }
   ],
   "source": [
    "df.head()"
   ]
  },
  {
   "cell_type": "markdown",
   "metadata": {},
   "source": [
    "## Teilaufgabe 3:\n",
    "Wir möchten jetzt einige Graphen plotten. Bevor wir dies tun können müssen wir allerdings die Spalte timestamp als Index setzen. \n",
    "\n",
    "\n",
    "* Plotten Sie den Verlauf des Preises (Close) in einem Linien Diagramm. \n",
    "* Ermitteln Sie das Tageshoch und das Tagestief für jeden Tag und plotten Sie die beiden Kurven in ein Diagram. Erstellen sie dazu einen neuen leeren DataFrame ``pd.DataFrame()`` in dem du die Ergebnisse deiner Berechnungen speichern kannst.\n",
    "\n"
   ]
  },
  {
   "cell_type": "code",
   "execution_count": 112,
   "metadata": {},
   "outputs": [],
   "source": [
    "# timestamp als Index setzen\n",
    "df = df.set_index('timestamp')"
   ]
  },
  {
   "cell_type": "markdown",
   "metadata": {},
   "source": [
    "**Einfacher Plot**"
   ]
  },
  {
   "cell_type": "code",
   "execution_count": 113,
   "metadata": {},
   "outputs": [
    {
     "data": {
      "text/plain": [
       "<matplotlib.axes._subplots.AxesSubplot at 0x13a5e3277f0>"
      ]
     },
     "execution_count": 113,
     "metadata": {},
     "output_type": "execute_result"
    },
    {
     "data": {
      "image/png": "[encoded data removed]",
      "text/plain": [
       "<Figure size 432x288 with 1 Axes>"
      ]
     },
     "metadata": {
      "needs_background": "light"
     },
     "output_type": "display_data"
    }
   ],
   "source": [
    "df[['close']].plot()"
   ]
  },
  {
   "cell_type": "markdown",
   "metadata": {},
   "source": [
    "**High/Low Plot**"
   ]
  },
  {
   "cell_type": "code",
   "execution_count": 114,
   "metadata": {},
   "outputs": [
    {
     "data": {
      "text/plain": [
       "<matplotlib.axes._subplots.AxesSubplot at 0x13a5e3fd710>"
      ]
     },
     "execution_count": 114,
     "metadata": {},
     "output_type": "execute_result"
    },
    {
     "data": {
      "image/png": "[encoded data removed]",
      "text/plain": [
       "<Figure size 432x288 with 1 Axes>"
      ]
     },
     "metadata": {
      "needs_background": "light"
     },
     "output_type": "display_data"
    }
   ],
   "source": [
    "df_high_low = pd.DataFrame()\n",
    "df_high_low['high'] = df[['date', 'high']].groupby('date').max()['high']\n",
    "df_high_low['low'] = df[['date', 'low']].groupby('date').min()['low']\n",
    "df_high_low.plot()"
   ]
  },
  {
   "cell_type": "markdown",
   "metadata": {},
   "source": [
    "## Teilaufgabe 4:\n",
    "In der nächsten Aufgaben wollen wir uns damit beschäftigen wie wir Zeitstempel weiterverarbeiten können.\n",
    "\n",
    "\n",
    "* Die Auflösung des ersten Plots mit 15min ist uns zu genau. Fasse die Werte zu einem Wert alle 12 Stunden zusammen. Plotte anschließend wieder die Werte der Spalte close \n",
    "* Für Finanzanalysen ist der gleitende Durchschnitt wichtig. Wir wollen daher in einem neuen DataFrame die Werte der gleitenden Durschnitte mit den folgenden Parameter speichern und anschließend in einem Graphen plotten:\n",
    "\n",
    " <font color=\"blue\">\n",
    "    * 6 Stunden\n",
    "    * 24 Stunden\n",
    "    * 3 Tag\n",
    " </font>"
   ]
  },
  {
   "cell_type": "markdown",
   "metadata": {},
   "source": [
    "**12 Stunden Resampling**"
   ]
  },
  {
   "cell_type": "code",
   "execution_count": 115,
   "metadata": {},
   "outputs": [
    {
     "data": {
      "text/plain": [
       "<matplotlib.axes._subplots.AxesSubplot at 0x13a5e46dd68>"
      ]
     },
     "execution_count": 115,
     "metadata": {},
     "output_type": "execute_result"
    },
    {
     "data": {
      "image/png": "[encoded data removed]",
      "text/plain": [
       "<Figure size 432x288 with 1 Axes>"
      ]
     },
     "metadata": {
      "needs_background": "light"
     },
     "output_type": "display_data"
    }
   ],
   "source": [
    "df['close'].resample('12H').mean().plot()"
   ]
  },
  {
   "cell_type": "markdown",
   "metadata": {},
   "source": [
    "**Rolling mit 6 Stunden, 24 Stunden 3 Tagen**"
   ]
  },
  {
   "cell_type": "code",
   "execution_count": 116,
   "metadata": {},
   "outputs": [
    {
     "data": {
      "text/plain": [
       "<matplotlib.axes._subplots.AxesSubplot at 0x13a5e414ac8>"
      ]
     },
     "execution_count": 116,
     "metadata": {},
     "output_type": "execute_result"
    },
    {
     "data": {
      "image/png": "[encoded data removed]",
      "text/plain": [
       "<Figure size 432x288 with 1 Axes>"
      ]
     },
     "metadata": {
      "needs_background": "light"
     },
     "output_type": "display_data"
    }
   ],
   "source": [
    "df_rolling = pd.DataFrame()\n",
    "df_rolling['6H'] = df['close'].rolling(window='6H').mean()\n",
    "df_rolling['24H'] = df['close'].rolling(window='24H').mean()\n",
    "df_rolling['3D'] = df['close'].rolling(window='3D').mean()\n",
    "df_rolling.plot()"
   ]
  },
  {
   "cell_type": "markdown",
   "metadata": {},
   "source": [
    "## Zusatzaufgabe 1:\n",
    "Finde eine Möglichkeit dir den ausgeschriebenen Namen eines Tages aus einem Timestamp zu generieren.\n",
    "Erstelle eine neue Spalte und speichere diesen für jeden Wert in deinem DataFrame."
   ]
  },
  {
   "cell_type": "code",
   "execution_count": 117,
   "metadata": {},
   "outputs": [
    {
     "data": {
      "text/html": [
       "<div>\n",
       "<style scoped>\n",
       "    .dataframe tbody tr th:only-of-type {\n",
       "        vertical-align: middle;\n",
       "    }\n",
       "\n",
       "    .dataframe tbody tr th {\n",
       "        vertical-align: top;\n",
       "    }\n",
       "\n",
       "    .dataframe thead th {\n",
       "        text-align: right;\n",
       "    }\n",
       "</style>\n",
       "<table border=\"1\" class=\"dataframe\">\n",
       "  <thead>\n",
       "    <tr style=\"text-align: right;\">\n",
       "      <th></th>\n",
       "      <th>close</th>\n",
       "      <th>high</th>\n",
       "      <th>volume</th>\n",
       "      <th>open</th>\n",
       "      <th>low</th>\n",
       "      <th>date</th>\n",
       "      <th>hour</th>\n",
       "      <th>minute</th>\n",
       "      <th>weekday</th>\n",
       "    </tr>\n",
       "    <tr>\n",
       "      <th>timestamp</th>\n",
       "      <th></th>\n",
       "      <th></th>\n",
       "      <th></th>\n",
       "      <th></th>\n",
       "      <th></th>\n",
       "      <th></th>\n",
       "      <th></th>\n",
       "      <th></th>\n",
       "      <th></th>\n",
       "    </tr>\n",
       "  </thead>\n",
       "  <tbody>\n",
       "    <tr>\n",
       "      <th>2019-06-21 21:25:26</th>\n",
       "      <td>256.880005</td>\n",
       "      <td>257.600006</td>\n",
       "      <td>167102.0</td>\n",
       "      <td>257.600006</td>\n",
       "      <td>256.779999</td>\n",
       "      <td>2019-06-21</td>\n",
       "      <td>21</td>\n",
       "      <td>25</td>\n",
       "      <td>Friday</td>\n",
       "    </tr>\n",
       "    <tr>\n",
       "      <th>2019-06-24 19:25:29</th>\n",
       "      <td>270.000000</td>\n",
       "      <td>270.239990</td>\n",
       "      <td>140638.0</td>\n",
       "      <td>269.470001</td>\n",
       "      <td>269.410004</td>\n",
       "      <td>2019-06-24</td>\n",
       "      <td>19</td>\n",
       "      <td>25</td>\n",
       "      <td>Monday</td>\n",
       "    </tr>\n",
       "    <tr>\n",
       "      <th>2019-06-21 13:50:27</th>\n",
       "      <td>252.289993</td>\n",
       "      <td>252.449997</td>\n",
       "      <td>252938.0</td>\n",
       "      <td>251.940002</td>\n",
       "      <td>251.339996</td>\n",
       "      <td>2019-06-21</td>\n",
       "      <td>13</td>\n",
       "      <td>50</td>\n",
       "      <td>Friday</td>\n",
       "    </tr>\n",
       "    <tr>\n",
       "      <th>2019-06-17 04:18:13</th>\n",
       "      <td>240.320007</td>\n",
       "      <td>240.360001</td>\n",
       "      <td>61217.0</td>\n",
       "      <td>240.149994</td>\n",
       "      <td>239.949997</td>\n",
       "      <td>2019-06-17</td>\n",
       "      <td>4</td>\n",
       "      <td>18</td>\n",
       "      <td>Monday</td>\n",
       "    </tr>\n",
       "    <tr>\n",
       "      <th>2019-06-22 23:42:19</th>\n",
       "      <td>269.769989</td>\n",
       "      <td>271.000000</td>\n",
       "      <td>127924.0</td>\n",
       "      <td>270.880005</td>\n",
       "      <td>269.480011</td>\n",
       "      <td>2019-06-22</td>\n",
       "      <td>23</td>\n",
       "      <td>42</td>\n",
       "      <td>Saturday</td>\n",
       "    </tr>\n",
       "    <tr>\n",
       "      <th>2019-06-28 20:09:49</th>\n",
       "      <td>269.950012</td>\n",
       "      <td>273.079987</td>\n",
       "      <td>463426.0</td>\n",
       "      <td>273.079987</td>\n",
       "      <td>269.950012</td>\n",
       "      <td>2019-06-28</td>\n",
       "      <td>20</td>\n",
       "      <td>9</td>\n",
       "      <td>Friday</td>\n",
       "    </tr>\n",
       "    <tr>\n",
       "      <th>2019-06-27 01:47:59</th>\n",
       "      <td>286.869995</td>\n",
       "      <td>286.869995</td>\n",
       "      <td>509056.0</td>\n",
       "      <td>284.750000</td>\n",
       "      <td>282.320007</td>\n",
       "      <td>2019-06-27</td>\n",
       "      <td>1</td>\n",
       "      <td>47</td>\n",
       "      <td>Thursday</td>\n",
       "    </tr>\n",
       "    <tr>\n",
       "      <th>2019-06-18 07:49:44</th>\n",
       "      <td>239.509995</td>\n",
       "      <td>239.649994</td>\n",
       "      <td>238563.0</td>\n",
       "      <td>238.350006</td>\n",
       "      <td>238.199997</td>\n",
       "      <td>2019-06-18</td>\n",
       "      <td>7</td>\n",
       "      <td>49</td>\n",
       "      <td>Tuesday</td>\n",
       "    </tr>\n",
       "    <tr>\n",
       "      <th>2019-06-18 08:51:18</th>\n",
       "      <td>241.440002</td>\n",
       "      <td>241.720001</td>\n",
       "      <td>196044.0</td>\n",
       "      <td>241.380005</td>\n",
       "      <td>241.110001</td>\n",
       "      <td>2019-06-18</td>\n",
       "      <td>8</td>\n",
       "      <td>51</td>\n",
       "      <td>Tuesday</td>\n",
       "    </tr>\n",
       "    <tr>\n",
       "      <th>2019-06-20 00:05:20</th>\n",
       "      <td>239.470001</td>\n",
       "      <td>239.669998</td>\n",
       "      <td>43917.0</td>\n",
       "      <td>239.360001</td>\n",
       "      <td>239.360001</td>\n",
       "      <td>2019-06-20</td>\n",
       "      <td>0</td>\n",
       "      <td>5</td>\n",
       "      <td>Thursday</td>\n",
       "    </tr>\n",
       "  </tbody>\n",
       "</table>\n",
       "</div>"
      ],
      "text/plain": [
       "                          close        high    volume        open         low  \\\n",
       "timestamp                                                                       \n",
       "2019-06-21 21:25:26  256.880005  257.600006  167102.0  257.600006  256.779999   \n",
       "2019-06-24 19:25:29  270.000000  270.239990  140638.0  269.470001  269.410004   \n",
       "2019-06-21 13:50:27  252.289993  252.449997  252938.0  251.940002  251.339996   \n",
       "2019-06-17 04:18:13  240.320007  240.360001   61217.0  240.149994  239.949997   \n",
       "2019-06-22 23:42:19  269.769989  271.000000  127924.0  270.880005  269.480011   \n",
       "2019-06-28 20:09:49  269.950012  273.079987  463426.0  273.079987  269.950012   \n",
       "2019-06-27 01:47:59  286.869995  286.869995  509056.0  284.750000  282.320007   \n",
       "2019-06-18 07:49:44  239.509995  239.649994  238563.0  238.350006  238.199997   \n",
       "2019-06-18 08:51:18  241.440002  241.720001  196044.0  241.380005  241.110001   \n",
       "2019-06-20 00:05:20  239.470001  239.669998   43917.0  239.360001  239.360001   \n",
       "\n",
       "                           date  hour  minute   weekday  \n",
       "timestamp                                                \n",
       "2019-06-21 21:25:26  2019-06-21    21      25    Friday  \n",
       "2019-06-24 19:25:29  2019-06-24    19      25    Monday  \n",
       "2019-06-21 13:50:27  2019-06-21    13      50    Friday  \n",
       "2019-06-17 04:18:13  2019-06-17     4      18    Monday  \n",
       "2019-06-22 23:42:19  2019-06-22    23      42  Saturday  \n",
       "2019-06-28 20:09:49  2019-06-28    20       9    Friday  \n",
       "2019-06-27 01:47:59  2019-06-27     1      47  Thursday  \n",
       "2019-06-18 07:49:44  2019-06-18     7      49   Tuesday  \n",
       "2019-06-18 08:51:18  2019-06-18     8      51   Tuesday  \n",
       "2019-06-20 00:05:20  2019-06-20     0       5  Thursday  "
      ]
     },
     "execution_count": 117,
     "metadata": {},
     "output_type": "execute_result"
    }
   ],
   "source": [
    "# Lösung\n",
    "df['weekday'] = df.index.weekday_name\n",
    "df.sample(10)"
   ]
  },
  {
   "cell_type": "code",
   "execution_count": 118,
   "metadata": {},
   "outputs": [
    {
     "data": {
      "text/html": [
       "<div>\n",
       "<style scoped>\n",
       "    .dataframe tbody tr th:only-of-type {\n",
       "        vertical-align: middle;\n",
       "    }\n",
       "\n",
       "    .dataframe tbody tr th {\n",
       "        vertical-align: top;\n",
       "    }\n",
       "\n",
       "    .dataframe thead th {\n",
       "        text-align: right;\n",
       "    }\n",
       "</style>\n",
       "<table border=\"1\" class=\"dataframe\">\n",
       "  <thead>\n",
       "    <tr style=\"text-align: right;\">\n",
       "      <th></th>\n",
       "      <th>timestamp</th>\n",
       "      <th>close</th>\n",
       "      <th>high</th>\n",
       "      <th>volume</th>\n",
       "      <th>open</th>\n",
       "      <th>low</th>\n",
       "      <th>date</th>\n",
       "      <th>hour</th>\n",
       "      <th>minute</th>\n",
       "      <th>weekday</th>\n",
       "    </tr>\n",
       "  </thead>\n",
       "  <tbody>\n",
       "    <tr>\n",
       "      <th>1172</th>\n",
       "      <td>2019-06-29 09:48:36</td>\n",
       "      <td>263.059998</td>\n",
       "      <td>263.089996</td>\n",
       "      <td>513724.0</td>\n",
       "      <td>261.160004</td>\n",
       "      <td>260.429993</td>\n",
       "      <td>2019-06-29</td>\n",
       "      <td>9</td>\n",
       "      <td>48</td>\n",
       "      <td>Saturday</td>\n",
       "    </tr>\n",
       "    <tr>\n",
       "      <th>622</th>\n",
       "      <td>2019-06-23 16:03:51</td>\n",
       "      <td>271.540009</td>\n",
       "      <td>273.589996</td>\n",
       "      <td>320177.0</td>\n",
       "      <td>272.470001</td>\n",
       "      <td>270.720001</td>\n",
       "      <td>2019-06-23</td>\n",
       "      <td>16</td>\n",
       "      <td>3</td>\n",
       "      <td>Sunday</td>\n",
       "    </tr>\n",
       "    <tr>\n",
       "      <th>24</th>\n",
       "      <td>2019-06-17 06:18:13</td>\n",
       "      <td>239.490005</td>\n",
       "      <td>239.660004</td>\n",
       "      <td>50788.0</td>\n",
       "      <td>239.300003</td>\n",
       "      <td>239.089996</td>\n",
       "      <td>2019-06-17</td>\n",
       "      <td>6</td>\n",
       "      <td>18</td>\n",
       "      <td>Monday</td>\n",
       "    </tr>\n",
       "    <tr>\n",
       "      <th>393</th>\n",
       "      <td>2019-06-21 05:00:25</td>\n",
       "      <td>248.949997</td>\n",
       "      <td>248.970001</td>\n",
       "      <td>127015.0</td>\n",
       "      <td>248.309998</td>\n",
       "      <td>248.160004</td>\n",
       "      <td>2019-06-21</td>\n",
       "      <td>5</td>\n",
       "      <td>0</td>\n",
       "      <td>Friday</td>\n",
       "    </tr>\n",
       "    <tr>\n",
       "      <th>333</th>\n",
       "      <td>2019-06-20 11:36:48</td>\n",
       "      <td>237.199997</td>\n",
       "      <td>237.250000</td>\n",
       "      <td>103422.0</td>\n",
       "      <td>236.610001</td>\n",
       "      <td>236.610001</td>\n",
       "      <td>2019-06-20</td>\n",
       "      <td>11</td>\n",
       "      <td>36</td>\n",
       "      <td>Thursday</td>\n",
       "    </tr>\n",
       "    <tr>\n",
       "      <th>706</th>\n",
       "      <td>2019-06-24 13:07:19</td>\n",
       "      <td>271.109985</td>\n",
       "      <td>272.489990</td>\n",
       "      <td>167937.0</td>\n",
       "      <td>272.339996</td>\n",
       "      <td>271.109985</td>\n",
       "      <td>2019-06-24</td>\n",
       "      <td>13</td>\n",
       "      <td>7</td>\n",
       "      <td>Monday</td>\n",
       "    </tr>\n",
       "    <tr>\n",
       "      <th>171</th>\n",
       "      <td>2019-06-18 19:06:28</td>\n",
       "      <td>237.539993</td>\n",
       "      <td>237.589996</td>\n",
       "      <td>150898.0</td>\n",
       "      <td>236.690002</td>\n",
       "      <td>236.600006</td>\n",
       "      <td>2019-06-18</td>\n",
       "      <td>19</td>\n",
       "      <td>6</td>\n",
       "      <td>Tuesday</td>\n",
       "    </tr>\n",
       "    <tr>\n",
       "      <th>602</th>\n",
       "      <td>2019-06-23 11:16:36</td>\n",
       "      <td>270.809998</td>\n",
       "      <td>270.980011</td>\n",
       "      <td>115300.0</td>\n",
       "      <td>269.970001</td>\n",
       "      <td>269.809998</td>\n",
       "      <td>2019-06-23</td>\n",
       "      <td>11</td>\n",
       "      <td>16</td>\n",
       "      <td>Sunday</td>\n",
       "    </tr>\n",
       "    <tr>\n",
       "      <th>908</th>\n",
       "      <td>2019-06-26 15:51:33</td>\n",
       "      <td>302.480011</td>\n",
       "      <td>303.929993</td>\n",
       "      <td>709392.0</td>\n",
       "      <td>303.450012</td>\n",
       "      <td>300.779999</td>\n",
       "      <td>2019-06-26</td>\n",
       "      <td>15</td>\n",
       "      <td>51</td>\n",
       "      <td>Wednesday</td>\n",
       "    </tr>\n",
       "    <tr>\n",
       "      <th>22</th>\n",
       "      <td>2019-06-17 05:44:47</td>\n",
       "      <td>239.130005</td>\n",
       "      <td>239.300003</td>\n",
       "      <td>21862.0</td>\n",
       "      <td>239.250000</td>\n",
       "      <td>239.029999</td>\n",
       "      <td>2019-06-17</td>\n",
       "      <td>5</td>\n",
       "      <td>44</td>\n",
       "      <td>Monday</td>\n",
       "    </tr>\n",
       "  </tbody>\n",
       "</table>\n",
       "</div>"
      ],
      "text/plain": [
       "               timestamp       close        high    volume        open  \\\n",
       "1172 2019-06-29 09:48:36  263.059998  263.089996  513724.0  261.160004   \n",
       "622  2019-06-23 16:03:51  271.540009  273.589996  320177.0  272.470001   \n",
       "24   2019-06-17 06:18:13  239.490005  239.660004   50788.0  239.300003   \n",
       "393  2019-06-21 05:00:25  248.949997  248.970001  127015.0  248.309998   \n",
       "333  2019-06-20 11:36:48  237.199997  237.250000  103422.0  236.610001   \n",
       "706  2019-06-24 13:07:19  271.109985  272.489990  167937.0  272.339996   \n",
       "171  2019-06-18 19:06:28  237.539993  237.589996  150898.0  236.690002   \n",
       "602  2019-06-23 11:16:36  270.809998  270.980011  115300.0  269.970001   \n",
       "908  2019-06-26 15:51:33  302.480011  303.929993  709392.0  303.450012   \n",
       "22   2019-06-17 05:44:47  239.130005  239.300003   21862.0  239.250000   \n",
       "\n",
       "             low        date  hour  minute    weekday  \n",
       "1172  260.429993  2019-06-29     9      48   Saturday  \n",
       "622   270.720001  2019-06-23    16       3     Sunday  \n",
       "24    239.089996  2019-06-17     6      18     Monday  \n",
       "393   248.160004  2019-06-21     5       0     Friday  \n",
       "333   236.610001  2019-06-20    11      36   Thursday  \n",
       "706   271.109985  2019-06-24    13       7     Monday  \n",
       "171   236.600006  2019-06-18    19       6    Tuesday  \n",
       "602   269.809998  2019-06-23    11      16     Sunday  \n",
       "908   300.779999  2019-06-26    15      51  Wednesday  \n",
       "22    239.029999  2019-06-17     5      44     Monday  "
      ]
     },
     "execution_count": 118,
     "metadata": {},
     "output_type": "execute_result"
    }
   ],
   "source": [
    "# Alternative Lösung\n",
    "df = df.reset_index()\n",
    "df['weekday'] = df['timestamp'].dt.weekday_name\n",
    "df.sample(10)"
   ]
  },
  {
   "cell_type": "markdown",
   "metadata": {},
   "source": [
    "## Zusatzaufgabe 2:\n",
    "Beim Erstellen des DataFrames ist ein Fehler unterlaufen. Die timestamps sind alle um 1 Tag verschoben. Ändere den Timestamp durch Addition so, das alle Timestamps um +24H Stunden verschoben werden und speichere diesen in einer neuen Spalte mit dem Namen 'timestamp_new'"
   ]
  },
  {
   "cell_type": "code",
   "execution_count": 120,
   "metadata": {},
   "outputs": [
    {
     "data": {
      "text/html": [
       "<div>\n",
       "<style scoped>\n",
       "    .dataframe tbody tr th:only-of-type {\n",
       "        vertical-align: middle;\n",
       "    }\n",
       "\n",
       "    .dataframe tbody tr th {\n",
       "        vertical-align: top;\n",
       "    }\n",
       "\n",
       "    .dataframe thead th {\n",
       "        text-align: right;\n",
       "    }\n",
       "</style>\n",
       "<table border=\"1\" class=\"dataframe\">\n",
       "  <thead>\n",
       "    <tr style=\"text-align: right;\">\n",
       "      <th></th>\n",
       "      <th>timestamp</th>\n",
       "      <th>close</th>\n",
       "      <th>high</th>\n",
       "      <th>volume</th>\n",
       "      <th>open</th>\n",
       "      <th>low</th>\n",
       "      <th>date</th>\n",
       "      <th>hour</th>\n",
       "      <th>minute</th>\n",
       "      <th>weekday</th>\n",
       "    </tr>\n",
       "  </thead>\n",
       "  <tbody>\n",
       "    <tr>\n",
       "      <th>0</th>\n",
       "      <td>2019-06-19 00:19:41</td>\n",
       "      <td>241.770004</td>\n",
       "      <td>241.940002</td>\n",
       "      <td>114107.0</td>\n",
       "      <td>241.100006</td>\n",
       "      <td>241.100006</td>\n",
       "      <td>2019-06-17</td>\n",
       "      <td>0</td>\n",
       "      <td>19</td>\n",
       "      <td>Monday</td>\n",
       "    </tr>\n",
       "    <tr>\n",
       "      <th>1</th>\n",
       "      <td>2019-06-19 00:20:42</td>\n",
       "      <td>243.080002</td>\n",
       "      <td>243.690002</td>\n",
       "      <td>309802.0</td>\n",
       "      <td>241.759995</td>\n",
       "      <td>241.679993</td>\n",
       "      <td>2019-06-17</td>\n",
       "      <td>0</td>\n",
       "      <td>20</td>\n",
       "      <td>Monday</td>\n",
       "    </tr>\n",
       "    <tr>\n",
       "      <th>2</th>\n",
       "      <td>2019-06-19 00:47:34</td>\n",
       "      <td>243.160004</td>\n",
       "      <td>243.199997</td>\n",
       "      <td>143161.0</td>\n",
       "      <td>243.080002</td>\n",
       "      <td>242.500000</td>\n",
       "      <td>2019-06-17</td>\n",
       "      <td>0</td>\n",
       "      <td>47</td>\n",
       "      <td>Monday</td>\n",
       "    </tr>\n",
       "    <tr>\n",
       "      <th>3</th>\n",
       "      <td>2019-06-19 01:07:57</td>\n",
       "      <td>243.440002</td>\n",
       "      <td>243.589996</td>\n",
       "      <td>90154.0</td>\n",
       "      <td>243.210007</td>\n",
       "      <td>243.210007</td>\n",
       "      <td>2019-06-17</td>\n",
       "      <td>1</td>\n",
       "      <td>7</td>\n",
       "      <td>Monday</td>\n",
       "    </tr>\n",
       "    <tr>\n",
       "      <th>4</th>\n",
       "      <td>2019-06-19 01:21:35</td>\n",
       "      <td>242.539993</td>\n",
       "      <td>243.669998</td>\n",
       "      <td>30257.0</td>\n",
       "      <td>243.440002</td>\n",
       "      <td>242.539993</td>\n",
       "      <td>2019-06-17</td>\n",
       "      <td>1</td>\n",
       "      <td>21</td>\n",
       "      <td>Monday</td>\n",
       "    </tr>\n",
       "  </tbody>\n",
       "</table>\n",
       "</div>"
      ],
      "text/plain": [
       "            timestamp       close        high    volume        open  \\\n",
       "0 2019-06-19 00:19:41  241.770004  241.940002  114107.0  241.100006   \n",
       "1 2019-06-19 00:20:42  243.080002  243.690002  309802.0  241.759995   \n",
       "2 2019-06-19 00:47:34  243.160004  243.199997  143161.0  243.080002   \n",
       "3 2019-06-19 01:07:57  243.440002  243.589996   90154.0  243.210007   \n",
       "4 2019-06-19 01:21:35  242.539993  243.669998   30257.0  243.440002   \n",
       "\n",
       "          low        date  hour  minute weekday  \n",
       "0  241.100006  2019-06-17     0      19  Monday  \n",
       "1  241.679993  2019-06-17     0      20  Monday  \n",
       "2  242.500000  2019-06-17     0      47  Monday  \n",
       "3  243.210007  2019-06-17     1       7  Monday  \n",
       "4  242.539993  2019-06-17     1      21  Monday  "
      ]
     },
     "execution_count": 120,
     "metadata": {},
     "output_type": "execute_result"
    }
   ],
   "source": [
    "df['timestamp_new'] = df['timestamp'] + pd.DateOffset(days=1)\n",
    "df.head()"
   ]
  }
 ],
 "metadata": {
  "kernelspec": {
   "display_name": "Python 3",
   "language": "python",
   "name": "python3"
  },
  "language_info": {
   "codemirror_mode": {
    "name": "ipython",
    "version": 3
   },
   "file_extension": ".py",
   "mimetype": "text/x-python",
   "name": "python",
   "nbconvert_exporter": "python",
   "pygments_lexer": "ipython3",
   "version": "3.6.7"
  }
 },
 "nbformat": 4,
 "nbformat_minor": 4
}
