{
 "cells": [
  {
   "cell_type": "markdown",
   "metadata": {},
   "source": [
    "# Übung 08: Arbeiten mit Datum\n",
    "Für die folgenden Aufgaben benötigst du die Datei <font color=orange>ethereum.csv</font>. Importiere sie entsprechend."
   ]
  },
  {
   "cell_type": "code",
   "execution_count": null,
   "metadata": {},
   "outputs": [],
   "source": [
    "import pandas as pd\n",
    "import numpy as np\n",
    "from datetime import *"
   ]
  },
  {
   "cell_type": "code",
   "execution_count": null,
   "metadata": {},
   "outputs": [],
   "source": [
    "df = pd.read_csv('../../src/ethereum.csv')\n",
    "df.head()"
   ]
  },
  {
   "cell_type": "markdown",
   "metadata": {},
   "source": [
    "## Teilaufgabe 1:\n",
    "Prüfe ob die Spalte **'timestamp'** korrekt als Datentyp **datetime64[ns]** importiert wurde. Wenn nicht konvertiere sie entsprechend."
   ]
  },
  {
   "cell_type": "code",
   "execution_count": null,
   "metadata": {},
   "outputs": [],
   "source": [
    "# Mit df.info() erhalten wir sofort den Überblick, die Spalte scheint nicht als Datetime vorzuliegen\n",
    "df.info()"
   ]
  },
  {
   "cell_type": "code",
   "execution_count": null,
   "metadata": {},
   "outputs": [],
   "source": [
    "# Wir konvertieren die Spalte also\n",
    "df['timestamp'] = pd.to_datetime(df['timestamp'])\n",
    "df.info()"
   ]
  },
  {
   "cell_type": "markdown",
   "metadata": {},
   "source": [
    "## Teilaufgabe 2:\n",
    "Speichere in drei neuen Spalten das Datum, die Stunde und die Minute jedes Timestamps indem die Werte aus diesem mit dem ``.dt``-Accesor extrahieren werden."
   ]
  },
  {
   "cell_type": "code",
   "execution_count": null,
   "metadata": {},
   "outputs": [],
   "source": [
    "df['date'] = df['timestamp'].dt.date\n",
    "df['hour'] = df['timestamp'].dt.hour\n",
    "df['minute'] = df['timestamp'].dt.minute"
   ]
  },
  {
   "cell_type": "code",
   "execution_count": null,
   "metadata": {},
   "outputs": [],
   "source": [
    "df.head()"
   ]
  },
  {
   "cell_type": "markdown",
   "metadata": {},
   "source": [
    "## Teilaufgabe 3:\n",
    "Wir möchten jetzt einige Graphen plotten. Bevor wir dies tun können müssen wir allerdings die Spalte timestamp als Index setzen. \n",
    "\n",
    "\n",
    "* Plotten Sie den Verlauf des Preises (Close) in einem Linien Diagramm. \n",
    "* Ermitteln Sie das Tageshoch und das Tagestief für jeden Tag und plotten Sie die beiden Kurven in ein Diagram. Erstellen sie dazu einen neuen leeren DataFrame ``pd.DataFrame()`` in dem du die Ergebnisse deiner Berechnungen speichern kannst.\n",
    "\n"
   ]
  },
  {
   "cell_type": "code",
   "execution_count": null,
   "metadata": {},
   "outputs": [],
   "source": [
    "# timestamp als Index setzen\n",
    "df = df.set_index('timestamp')"
   ]
  },
  {
   "cell_type": "markdown",
   "metadata": {},
   "source": [
    "**Einfacher Plot**"
   ]
  },
  {
   "cell_type": "code",
   "execution_count": null,
   "metadata": {},
   "outputs": [],
   "source": [
    "df[['close']].plot()"
   ]
  },
  {
   "cell_type": "markdown",
   "metadata": {},
   "source": [
    "**High/Low Plot**"
   ]
  },
  {
   "cell_type": "code",
   "execution_count": null,
   "metadata": {},
   "outputs": [],
   "source": [
    "df_high_low = pd.DataFrame()\n",
    "df_high_low['high'] = df[['date', 'high']].groupby('date').max()['high']\n",
    "df_high_low['low'] = df[['date', 'low']].groupby('date').min()['low']\n",
    "df_high_low.plot()"
   ]
  },
  {
   "cell_type": "markdown",
   "metadata": {},
   "source": [
    "## Teilaufgabe 4:\n",
    "In der nächsten Aufgaben wollen wir uns damit beschäftigen wie wir Zeitstempel weiterverarbeiten können.\n",
    "\n",
    "\n",
    "* Die Auflösung des ersten Plots mit 15min ist uns zu genau. Fasse die Werte zu einem Wert alle 12 Stunden zusammen. Plotte anschließend wieder die Werte der Spalte close \n",
    "* Für Finanzanalysen ist der gleitende Durchschnitt wichtig. Wir wollen daher in einem neuen DataFrame die Werte der gleitenden Durschnitte mit den folgenden Parameter speichern und anschließend in einem Graphen plotten:\n",
    "\n",
    " <font color=\"blue\">\n",
    "    * 6 Stunden\n",
    "    * 24 Stunden\n",
    "    * 3 Tag\n",
    " </font>"
   ]
  },
  {
   "cell_type": "markdown",
   "metadata": {},
   "source": [
    "**12 Stunden Resampling**"
   ]
  },
  {
   "cell_type": "code",
   "execution_count": null,
   "metadata": {},
   "outputs": [],
   "source": [
    "df['close'].resample('12H').mean().plot()"
   ]
  },
  {
   "cell_type": "markdown",
   "metadata": {},
   "source": [
    "**Rolling mit 6 Stunden, 24 Stunden 3 Tagen**"
   ]
  },
  {
   "cell_type": "code",
   "execution_count": null,
   "metadata": {},
   "outputs": [],
   "source": [
    "df_rolling = pd.DataFrame()\n",
    "df_rolling['6H'] = df['close'].rolling(window='6H').mean()\n",
    "df_rolling['24H'] = df['close'].rolling(window='24H').mean()\n",
    "df_rolling['3D'] = df['close'].rolling(window='3D').mean()\n",
    "df_rolling.plot()"
   ]
  },
  {
   "cell_type": "markdown",
   "metadata": {},
   "source": [
    "## Zusatzaufgabe 1:\n",
    "Finde eine Möglichkeit dir den ausgeschriebenen Namen eines Tages aus einem Timestamp zu generieren.\n",
    "Erstelle eine neue Spalte und speichere diesen für jeden Wert in deinem DataFrame."
   ]
  },
  {
   "cell_type": "code",
   "execution_count": null,
   "metadata": {},
   "outputs": [],
   "source": [
    "# Lösung\n",
    "df['weekday'] = df.index.weekday_name\n",
    "df.sample(10)"
   ]
  },
  {
   "cell_type": "code",
   "execution_count": null,
   "metadata": {},
   "outputs": [],
   "source": [
    "# Alternative Lösung\n",
    "df = df.reset_index()\n",
    "df['weekday'] = df['timestamp'].dt.weekday_name\n",
    "df.sample(10)"
   ]
  },
  {
   "cell_type": "markdown",
   "metadata": {},
   "source": [
    "## Zusatzaufgabe 2:\n",
    "Beim Erstellen des DataFrames ist ein Fehler unterlaufen. Die timestamps sind alle um 1 Tag verschoben. Ändere den Timestamp durch Addition so, das alle Timestamps um +24H Stunden verschoben werden und speichere diesen in einer neuen Spalte mit dem Namen 'timestamp_new'"
   ]
  },
  {
   "cell_type": "code",
   "execution_count": null,
   "metadata": {},
   "outputs": [],
   "source": [
    "df['timestamp_new'] = df['timestamp'] + pd.DateOffset(days=1)\n",
    "df.head()"
   ]
  }
 ],
 "metadata": {
  "kernelspec": {
   "display_name": "Python 3",
   "language": "python",
   "name": "python3"
  },
  "language_info": {
   "codemirror_mode": {
    "name": "ipython",
    "version": 3
   },
   "file_extension": ".py",
   "mimetype": "text/x-python",
   "name": "python",
   "nbconvert_exporter": "python",
   "pygments_lexer": "ipython3",
   "version": "3.6.7"
  }
 },
 "nbformat": 4,
 "nbformat_minor": 4
}
